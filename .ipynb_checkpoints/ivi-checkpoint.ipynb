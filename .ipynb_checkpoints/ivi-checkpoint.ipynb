{
 "cells": [
  {
   "cell_type": "code",
   "execution_count": 4,
   "id": "d10b8dcf",
   "metadata": {},
   "outputs": [
    {
     "name": "stdout",
     "output_type": "stream",
     "text": [
      "Path to dataset files: /Users/flavio/.cache/kagglehub/datasets/imdevskp/world-population-19602018/versions/6\n"
     ]
    }
   ],
   "source": [
    "import kagglehub\n",
    "\n",
    "# Download latest version\n",
    "path = kagglehub.dataset_download(\"imdevskp/world-population-19602018\")\n",
    "\n",
    "print(\"Path to dataset files:\", path)"
   ]
  },
  {
   "cell_type": "markdown",
   "id": "15ea51e9-29d5-4290-a041-f5a7ac3c587e",
   "metadata": {},
   "source": [
    "# LE 1 Performacne"
   ]
  },
  {
   "cell_type": "code",
   "execution_count": 5,
   "id": "49949783",
   "metadata": {},
   "outputs": [
    {
     "data": {
      "application/vnd.plotly.v1+json": {
       "config": {
        "plotlyServerURL": "https://plot.ly"
       },
       "data": [
        {
         "hovertemplate": "Country Name=Aruba<br>Year=%{x}<br>Count=%{y}<extra></extra>",
         "legendgroup": "Aruba",
         "line": {
          "color": "#636efa",
          "dash": "solid"
         },
         "marker": {
          "symbol": "circle"
         },
         "mode": "lines",
         "name": "Aruba",
         "showlegend": true,
         "type": "scattergl",
         "x": {
          "bdata": "qAepB6oHqwesB60HrgevB7AHsQeyB7MHtAe1B7YHtwe4B7kHuge7B7wHvQe+B78HwAfBB8IHwwfEB8UHxgfHB8gHyQfKB8sHzAfNB84HzwfQB9EH0gfTB9QH1QfWB9cH2AfZB9oH2wfcB90H3gffB+AH4Qc=",
          "dtype": "i2"
         },
         "xaxis": "x",
         "y": {
          "bdata": "w9MAAI7YAACh2wAAd90AAMjeAAAQ4AAAc+EAAMfiAAAS5AAAZuUAALfmAAAw6AAAwOkAAFPrAABw7AAA8ewAAKrsAADO6wAAx+oAAEzqAADA6gAAl+wAAKHvAAD58gAAdPUAADL2AAC09AAAifEAAJfuAABo7gAAxfIAAG78AACLCgEAOBsBAJwrAQDEOQEAAEUBAMtNAQDtVAEArVsBAOViAQDiagEAEHMBAPl6AQCxgQEAv4YBAOKJAQBmiwEA7osBAE+MAQAljQEAno4BAKCQAQD3kgEAXpUBAJWXAQComQEAlpsBAA==",
          "dtype": "i4"
         },
         "yaxis": "y"
        },
        {
         "hovertemplate": "Country Name=Afghanistan<br>Year=%{x}<br>Count=%{y}<extra></extra>",
         "legendgroup": "Afghanistan",
         "line": {
          "color": "#EF553B",
          "dash": "solid"
         },
         "marker": {
          "symbol": "circle"
         },
         "mode": "lines",
         "name": "Afghanistan",
         "showlegend": true,
         "type": "scattergl",
         "x": {
          "bdata": "qAepB6oHqwesB60HrgevB7AHsQeyB7MHtAe1B7YHtwe4B7kHuge7B7wHvQe+B78HwAfBB8IHwwfEB8UHxgfHB8gHyQfKB8sHzAfNB84HzwfQB9EH0gfTB9QH1QfWB9cH2AfZB9oH2wfcB90H3gffB+AH4Qc=",
          "dtype": "i2"
         },
         "xaxis": "x",
         "y": {
          "bdata": "bUiJAALqiwARsY4AJZ6RAI2xlADg65cAdEGbALawngAHT6IA0DmmAAp/qgD1Ga8Ab+uzAKPEuAAWaL0ACJ/BAPV+xQBq+sgADpLLAPCizADfzcsA2fvIAGCSxACCT78ABDm6AKAptgBzFLMANhKxANVGsQDNGrUAlGW9AEntygAqCN0Am1fxAA+OBAHBWBQBPa4fAcZdJwGlLC0BXMgzAbETPQFMskkBQtxYAWdXaQGcTHkBBXSHARlWkwF4hZ0BJAKnAT1FsQHjVb0BJY7LASB82wEVZewBqjL9ASMcDQJY5xsC0NYpAg==",
          "dtype": "i4"
         },
         "yaxis": "y"
        },
        {
         "hovertemplate": "Country Name=Angola<br>Year=%{x}<br>Count=%{y}<extra></extra>",
         "legendgroup": "Angola",
         "line": {
          "color": "#00cc96",
          "dash": "solid"
         },
         "marker": {
          "symbol": "circle"
         },
         "mode": "lines",
         "name": "Angola",
         "showlegend": true,
         "type": "scattergl",
         "x": {
          "bdata": "qAepB6oHqwesB60HrgevB7AHsQeyB7MHtAe1B7YHtwe4B7kHuge7B7wHvQe+B78HwAfBB8IHwwfEB8UHxgfHB8gHyQfKB8sHzAfNB84HzwfQB9EH0gfTB9QH1QfWB9cH2AfZB9oH2wfcB90H3gffB+AH4Qc=",
          "dtype": "i2"
         },
         "xaxis": "x",
         "y": {
          "bdata": "VTxTAFBnVABblFUAYqlWAISCVwBKDVgA3jZYAKMbWACEEVgA9oxYAD3hWQDJLFwAaFhfAMIiYwCkK2cAgC1rAJUTbwCn9HIAc+B2ANP0egApR38AvteDAHaciACQko0AorWSAA0CmADveJ0A4hqjAJLiqAA5ya4Awsq0AEXnugDWIsEAaYLHAAMNzgB2ydQAz7zbABLs4gBxXuoA9RvyANEs+gBZkgIBOVMLAQeDFAEBOh4BgogoAY12MwGT/T4BkgxLAWmKVwFWY2QB9ZNxAdsdfwEk+IwBUxmbAV17qQH0GbgBrPfGAQ==",
          "dtype": "i4"
         },
         "yaxis": "y"
        },
        {
         "hovertemplate": "Country Name=Albania<br>Year=%{x}<br>Count=%{y}<extra></extra>",
         "legendgroup": "Albania",
         "line": {
          "color": "#ab63fa",
          "dash": "solid"
         },
         "marker": {
          "symbol": "circle"
         },
         "mode": "lines",
         "name": "Albania",
         "showlegend": true,
         "type": "scattergl",
         "x": {
          "bdata": "qAepB6oHqwesB60HrgevB7AHsQeyB7MHtAe1B7YHtwe4B7kHuge7B7wHvQe+B78HwAfBB8IHwwfEB8UHxgfHB8gHyQfKB8sHzAfNB84HzwfQB9EH0gfTB9QH1QfWB9cH2AfZB9oH2wfcB90H3gffB+AH4Qc=",
          "dtype": "i2"
         },
         "xaxis": "x",
         "y": {
          "bdata": "YIwYAJhTGQDXHBoAPeUaAHeuGwBXdBwAzTYdAB7+HQCA2x4An8MfALeVIABNYiEANjoiALALIwAs3CMA37EkAJ6DJQCKWiYAeignAOjxJwB9xSgAqJgpABZ8KgA4ZSsAbVEsABo9LQArHy4AVQ0vAMDyLwAnQTEADiYyAObYMQC/izEAlz4xAHDxMABIpDAAIVcwAPkJMADSvC8Aqm8vAIMiLwDNsS4AAo4uAIBhLgD7Ly4An/MtAKOpLQChUS0A8vgsAJ+rLAD9ciwAa1QsALFBLAD0LCwAkBUsAL/0KwDF4isAcdgrAA==",
          "dtype": "i4"
         },
         "yaxis": "y"
        },
        {
         "hovertemplate": "Country Name=Andorra<br>Year=%{x}<br>Count=%{y}<extra></extra>",
         "legendgroup": "Andorra",
         "line": {
          "color": "#FFA15A",
          "dash": "solid"
         },
         "marker": {
          "symbol": "circle"
         },
         "mode": "lines",
         "name": "Andorra",
         "showlegend": true,
         "type": "scattergl",
         "x": {
          "bdata": "qAepB6oHqwesB60HrgevB7AHsQeyB7MHtAe1B7YHtwe4B7kHuge7B7wHvQe+B78HwAfBB8IHwwfEB8UHxgfHB8gHyQfKB8sHzAfNB84HzwfQB9EH0gfTB9QH1QfWB9cH2AfZB9oH2wfcB90H3gffB+AH4Qc=",
          "dtype": "i2"
         },
         "xaxis": "x",
         "y": {
          "bdata": "YzQAACc4AAAKPAAAHEAAAD1EAAB1SAAAv0wAABZRAACCVQAAEloAANReAADXYwAADGkAAEhuAABQcwAA8XcAACF8AAADgAAAyYMAAAKIAADjjAAAfJIAAMqYAACjnwAA0qYAADiuAAC1tQAAR70AAALFAADgzAAA7dQAAF/dAAAI5gAAK+4AANX0AABq+QAAaPsAAEf7AACO+gAAcvsAAG7/AAANBwEAoREBAN4dAQDUKQEAEzQBAGE8AQD8QgEAlkcBAO9JAQDhSQEAI0cBAPtBAQCGOwEAbTUBALswAQDxLQEAySwBAA==",
          "dtype": "i4"
         },
         "yaxis": "y"
        },
        {
         "hovertemplate": "Country Name=United Arab Emirates<br>Year=%{x}<br>Count=%{y}<extra></extra>",
         "legendgroup": "United Arab Emirates",
         "line": {
          "color": "#19d3f3",
          "dash": "solid"
         },
         "marker": {
          "symbol": "circle"
         },
         "mode": "lines",
         "name": "United Arab Emirates",
         "showlegend": true,
         "type": "scattergl",
         "x": {
          "bdata": "qAepB6oHqwesB60HrgevB7AHsQeyB7MHtAe1B7YHtwe4B7kHuge7B7wHvQe+B78HwAfBB8IHwwfEB8UHxgfHB8gHyQfKB8sHzAfNB84HzwfQB9EH0gfTB9QH1QfWB9cH2AfZB9oH2wfcB90H3gffB+AH4Qc=",
          "dtype": "i2"
         },
         "xaxis": "x",
         "y": {
          "bdata": "AmkBALyJAQD2tQEAyugBADcbAgBhSQIA6HACACuXAgBjyQIAYhkDABKUAwDfOwQA3gwFAIAFBgD7IQcAzV0IAOK7CQBwOAsAtL8MAKU3DgB1jg8AorsQAAbGEQCrvhIAk74TAJTYFADsERYAYGYXALrTGADxVBoAUOYbAAGPHQAbUx8A0yghAHECIwDy2SQAdr4mAALDKAAe7SoAEkItAG7SLwA/ZTIA+RQ1ALyjOADaFD4AwQJGAM7fUAAGIV4ATy1sADzPeABkdoIAWYSIAFx9iwBWWYwA35iMADRXjQBU1o4AY8OQAA==",
          "dtype": "i4"
         },
         "yaxis": "y"
        },
        {
         "hovertemplate": "Country Name=Argentina<br>Year=%{x}<br>Count=%{y}<extra></extra>",
         "legendgroup": "Argentina",
         "line": {
          "color": "#FF6692",
          "dash": "solid"
         },
         "marker": {
          "symbol": "circle"
         },
         "mode": "lines",
         "name": "Argentina",
         "showlegend": true,
         "type": "scattergl",
         "x": {
          "bdata": "qAepB6oHqwesB60HrgevB7AHsQeyB7MHtAe1B7YHtwe4B7kHuge7B7wHvQe+B78HwAfBB8IHwwfEB8UHxgfHB8gHyQfKB8sHzAfNB84HzwfQB9EH0gfTB9QH1QfWB9cH2AfZB9oH2wfcB90H3gffB+AH4Qc=",
          "dtype": "i2"
         },
         "xaxis": "x",
         "y": {
          "bdata": "84Y4AXKlPQEcxUIBEOVHAakDTQEiIVIBUztXAUVXXAELhWEBq9lmAXFjbAHpK3IBdy14Ad5UfgEehoQBMK6KAWnEkAEW0pYBN+ucAbwsowHQqqkBU2mwAbRetwHfgL4BhcDFAVcQzQHUbdQBH9bbAdU64wGmiuoBm7jxAdi++AHunf8Bv1cGAnDxDAKKbxMCJtEZAtUWIALjSCYCEnIsAoOaMgIEyDgCVfo+ArwsRQJEV0sCg3VRAhaEVwLHiF0CIJNjAuS3aQLlYW4Cspl1ApfMfAI394MCvBWLAj4kkgLgIpkCCxKgAg==",
          "dtype": "i4"
         },
         "yaxis": "y"
        },
        {
         "hovertemplate": "Country Name=Armenia<br>Year=%{x}<br>Count=%{y}<extra></extra>",
         "legendgroup": "Armenia",
         "line": {
          "color": "#B6E880",
          "dash": "solid"
         },
         "marker": {
          "symbol": "circle"
         },
         "mode": "lines",
         "name": "Armenia",
         "showlegend": true,
         "type": "scattergl",
         "x": {
          "bdata": "qAepB6oHqwesB60HrgevB7AHsQeyB7MHtAe1B7YHtwe4B7kHuge7B7wHvQe+B78HwAfBB8IHwwfEB8UHxgfHB8gHyQfKB8sHzAfNB84HzwfQB9EH0gfTB9QH1QfWB9cH2AfZB9oH2wfcB90H3gffB+AH4Qc=",
          "dtype": "i2"
         },
         "xaxis": "x",
         "y": {
          "bdata": "yZgcAPSfHQC2qR4AirMfAOm6IAD3vSEAwroiADexIwB3oyQA0JQlAIyHJgA8fCcAdnEoANJkKQD0UioAdzkrAGsXLAB/7SwAqbwtAJWGLgBqTC8AQAkwAFm7MADDajEAXyIyAATnMgAIwzMAK6w0ABN6NQBa9jUA+/w1AGp8NQCBiDQAJFEzANMaMgDEFzEA3VcwAKHOLwBPby8AfiIvAJfWLgC/jC4AeksuAMwMLgCQyS0AlX0tAOMjLQCKvywA4l0sAJwRLACH5ysAeuQrAIUCLACwNiwAk3AsAPGjLABSzSwAKe8sAA==",
          "dtype": "i4"
         },
         "yaxis": "y"
        },
        {
         "hovertemplate": "Country Name=American Samoa<br>Year=%{x}<br>Count=%{y}<extra></extra>",
         "legendgroup": "American Samoa",
         "line": {
          "color": "#FF97FF",
          "dash": "solid"
         },
         "marker": {
          "symbol": "circle"
         },
         "mode": "lines",
         "name": "American Samoa",
         "showlegend": true,
         "type": "scattergl",
         "x": {
          "bdata": "qAepB6oHqwesB60HrgevB7AHsQeyB7MHtAe1B7YHtwe4B7kHuge7B7wHvQe+B78HwAfBB8IHwwfEB8UHxgfHB8gHyQfKB8sHzAfNB84HzwfQB9EH0gfTB9QH1QfWB9cH2AfZB9oH2wfcB90H3gffB+AH4Qc=",
          "dtype": "i2"
         },
         "xaxis": "x",
         "y": {
          "bdata": "m04AAHpQAAAFUwAAElYAAEZZAAB4XAAAjl8AAKBiAACFZQAAT2gAAONqAABQbQAAl28AAKxxAACccwAAZHUAAPh2AAB2eAAAJXoAAGV8AACGfwAApYMAAJiIAAA8jgAAOpQAAF+aAACfoAAA9KYAADetAABGswAA87gAAC2+AADowgAATMcAAH/LAACpzwAAw9MAALXXAABr2wAA3d4AAN3hAAB+5AAAyOYAAHDoAAAh6QAAqugAAOPmAAD94wAAlOAAAGvdAAAP2wAAz9kAAHPZAACh2QAA79kAAATaAAC92QAARNkAAA==",
          "dtype": "i4"
         },
         "yaxis": "y"
        },
        {
         "hovertemplate": "Country Name=Antigua and Barbuda<br>Year=%{x}<br>Count=%{y}<extra></extra>",
         "legendgroup": "Antigua and Barbuda",
         "line": {
          "color": "#FECB52",
          "dash": "solid"
         },
         "marker": {
          "symbol": "circle"
         },
         "mode": "lines",
         "name": "Antigua and Barbuda",
         "showlegend": true,
         "type": "scattergl",
         "x": {
          "bdata": "qAepB6oHqwesB60HrgevB7AHsQeyB7MHtAe1B7YHtwe4B7kHuge7B7wHvQe+B78HwAfBB8IHwwfEB8UHxgfHB8gHyQfKB8sHzAfNB84HzwfQB9EH0gfTB9QH1QfWB9cH2AfZB9oH2wfcB90H3gffB+AH4Qc=",
          "dtype": "i2"
         },
         "xaxis": "x",
         "y": {
          "bdata": "c9MAANnWAAAh2gAAft0AACnhAABK5QAAC+oAADnvAAA59AAAPvgAALH6AABl+wAAhfoAAKL4AACQ9gAA0/QAAJ/zAADP8gAAVPIAAADyAACp8QAAaPEAAFPxAABb8QAAWvEAAFrxAAA68QAAFfEAAEvxAAA48gAAQPQAAIf3AADX+wAA8QABAIQGAQA+DAEAHRIBABgYAQAIHgEAsiMBAPAoAQCcLQEA1zEBAMQ1AQDQOQEAOT4BABBDAQA6SAEAlU0BANpSAQDcVwEApVwBAClhAQB8ZQEAkmkBAH5tAQA/cQEAwnQBAA==",
          "dtype": "i4"
         },
         "yaxis": "y"
        },
        {
         "hovertemplate": "Country Name=Australia<br>Year=%{x}<br>Count=%{y}<extra></extra>",
         "legendgroup": "Australia",
         "line": {
          "color": "#636efa",
          "dash": "solid"
         },
         "marker": {
          "symbol": "circle"
         },
         "mode": "lines",
         "name": "Australia",
         "showlegend": true,
         "type": "scattergl",
         "x": {
          "bdata": "qAepB6oHqwesB60HrgevB7AHsQeyB7MHtAe1B7YHtwe4B7kHuge7B7wHvQe+B78HwAfBB8IHwwfEB8UHxgfHB8gHyQfKB8sHzAfNB84HzwfQB9EH0gfTB9QH1QfWB9cH2AfZB9oH2wfcB90H3gffB+AH4Qc=",
          "dtype": "i2"
         },
         "xaxis": "x",
         "y": {
          "bdata": "fc6cADj1nwDw6KMAcBWnABhlqgBgxK0AuMexANgJtAAoPrcAWB67AHjXvgAoZ8UAqBDJAKApzAB4ZdEAiP3TAGgg1gCAjdgA8BXbAFB33QCgLuAAmMTjABCZ5wAog+oAwC7tALBy8ADga/QA3Cr4AOhC/ABAkQABjGQEAaC7BwHY8woBuJMNARhyEAHAwRMBWGcXAQiMGgHYgR0BsMkgAWhAJAEIOCgBSNsrAWiULwGoHjMBMDM3ASzTOwHQzT0BsDxEATT9SgGGLVABuOFUAZniWgFB6GAB5jVmATtnawG7H3EBBGV3AQ==",
          "dtype": "i4"
         },
         "yaxis": "y"
        },
        {
         "hovertemplate": "Country Name=Austria<br>Year=%{x}<br>Count=%{y}<extra></extra>",
         "legendgroup": "Austria",
         "line": {
          "color": "#EF553B",
          "dash": "solid"
         },
         "marker": {
          "symbol": "circle"
         },
         "mode": "lines",
         "name": "Austria",
         "showlegend": true,
         "type": "scattergl",
         "x": {
          "bdata": "qAepB6oHqwesB60HrgevB7AHsQeyB7MHtAe1B7YHtwe4B7kHuge7B7wHvQe+B78HwAfBB8IHwwfEB8UHxgfHB8gHyQfKB8sHzAfNB84HzwfQB9EH0gfTB9QH1QfWB9cH2AfZB9oH2wfcB90H3gffB+AH4Qc=",
          "dtype": "i2"
         },
         "xaxis": "x",
         "y": {
          "bdata": "c4lrANsgbAAIy2wAg35tAPk5bgDp8W4A0rlvAGaQcABrJnEAn4pxAE7wcQDCcnIAiR1zAEPBcwC+83MAF6VzANVwcwAufHMAQWRzAPExcwD5MXMARn1zAHyScwC2YnMA2mBzALlucwCCgXMAOpRzACW+cwDvQ3QAmid1AItUdgDFo3cAYaF4AHYYeQD2R3kA6XF5ACmVeQBVt3kABPR5AC4/egA1t3oAJVJ7AE/sewC+sXwA9Yt9AGErfgA/lH4A2Pl+ABtPfwCMnX8A2wuAAKehgABPZIEANGiCAIvggwCcT4UAfj2GAA==",
          "dtype": "i4"
         },
         "yaxis": "y"
        },
        {
         "hovertemplate": "Country Name=Azerbaijan<br>Year=%{x}<br>Count=%{y}<extra></extra>",
         "legendgroup": "Azerbaijan",
         "line": {
          "color": "#00cc96",
          "dash": "solid"
         },
         "marker": {
          "symbol": "circle"
         },
         "mode": "lines",
         "name": "Azerbaijan",
         "showlegend": true,
         "type": "scattergl",
         "x": {
          "bdata": "qAepB6oHqwesB60HrgevB7AHsQeyB7MHtAe1B7YHtwe4B7kHuge7B7wHvQe+B78HwAfBB8IHwwfEB8UHxgfHB8gHyQfKB8sHzAfNB84HzwfQB9EH0gfTB9QH1QfWB9cH2AfZB9oH2wfcB90H3gffB+AH4Qc=",
          "dtype": "i2"
         },
         "xaxis": "x",
         "y": {
          "bdata": "ZXA7AHJ/PQCipj8A99dBAO8ARADhE0YAcwtIAFzpSQDor0sAN2RNAHcKTwCzolAALyxSAEqqUwBAIVUAlZRWABEGWADcdlkAJelaAAhfXABN2l0AYltfAPHiYABlc2IAjQ9kAM+4ZQAAb2cAsS9pAOv2agBhv2wA2DxtAFjybgDwo3AAWF1yAMjrcwCIQ3UAOHR2ACqadwAovngAns55ANjPegBgxHsArrF8AHSkfQBEv34AqgyAAMZ2gQC08IIACLiFACuGiAB8KIoAWviLAKjXjQBhsI8AZ36RAL08kwB05JQAUVyWAA==",
          "dtype": "i4"
         },
         "yaxis": "y"
        },
        {
         "hovertemplate": "Country Name=Burundi<br>Year=%{x}<br>Count=%{y}<extra></extra>",
         "legendgroup": "Burundi",
         "line": {
          "color": "#ab63fa",
          "dash": "solid"
         },
         "marker": {
          "symbol": "circle"
         },
         "mode": "lines",
         "name": "Burundi",
         "showlegend": true,
         "type": "scattergl",
         "x": {
          "bdata": "qAepB6oHqwesB60HrgevB7AHsQeyB7MHtAe1B7YHtwe4B7kHuge7B7wHvQe+B78HwAfBB8IHwwfEB8UHxgfHB8gHyQfKB8sHzAfNB84HzwfQB9EH0gfTB9QH1QfWB9cH2AfZB9oH2wfcB90H3gffB+AH4Qc=",
          "dtype": "i2"
         },
         "xaxis": "x",
         "y": {
          "bdata": "bLEqAFaGKwC5XCwAyzstAHItLgBrNy8AumAwAOKjMQDf6jIAkBc0ACIWNQAN3TUAAng2AIYCNwDfozcAkHg4APeJOQBt0DoA0kI8ACLRPQBybz8AGBpBAEzUQgB9oEQAL4NGAPV9SADXkEoAQrVMADreTgC9+lAA7f1SAP7pVAA9wVYApXhYANcCWgDjWlsAT3hcAJJqXQBaYl4A9KBfAHdVYQBpkmMA8UtmAOJsaQAt0mwA/mBwACkWdADG93cAlv57AGQjgAASYYQAxrGIACQVjQDBkpEASTaWAJ4HmwC+CKAAEDWlAA==",
          "dtype": "i4"
         },
         "yaxis": "y"
        },
        {
         "hovertemplate": "Country Name=Belgium<br>Year=%{x}<br>Count=%{y}<extra></extra>",
         "legendgroup": "Belgium",
         "line": {
          "color": "#FFA15A",
          "dash": "solid"
         },
         "marker": {
          "symbol": "circle"
         },
         "mode": "lines",
         "name": "Belgium",
         "showlegend": true,
         "type": "scattergl",
         "x": {
          "bdata": "qAepB6oHqwesB60HrgevB7AHsQeyB7MHtAe1B7YHtwe4B7kHuge7B7wHvQe+B78HwAfBB8IHwwfEB8UHxgfHB8gHyQfKB8sHzAfNB84HzwfQB9EH0gfTB9QH1QfWB9cH2AfZB9oH2wfcB90H3gffB+AH4Qc=",
          "dtype": "i2"
         },
         "xaxis": "x",
         "y": {
          "bdata": "0auLAMwijADisYwAKsCNAEEZjwBzZ5AA/2GRAL8xkgBExZIA0C+TAP1UkwDKmZMACy6UAJillACDHZUA/IuVAHPQlQDW/5UAriOWAD5GlgCqcJYApm+WAC9llgAgYpYAjGGWAARtlgC/epYAmpuWAGAWlwAho5cAExeYAAaomADmRpkAe+CZABNamgDrrJoAXfqaAH1amwCAr5sA8wqcAPJrnADq9ZwAcaqdAMVTngCRA58AGeSfAPbyoACkIqIA1WujAM29pADiQKYAOG6oAHR6qQBvR6oAYQmrANQHrABe56wANpKtAA==",
          "dtype": "i4"
         },
         "yaxis": "y"
        },
        {
         "hovertemplate": "Country Name=Benin<br>Year=%{x}<br>Count=%{y}<extra></extra>",
         "legendgroup": "Benin",
         "line": {
          "color": "#19d3f3",
          "dash": "solid"
         },
         "marker": {
          "symbol": "circle"
         },
         "mode": "lines",
         "name": "Benin",
         "showlegend": true,
         "type": "scattergl",
         "x": {
          "bdata": "qAepB6oHqwesB60HrgevB7AHsQeyB7MHtAe1B7YHtwe4B7kHuge7B7wHvQe+B78HwAfBB8IHwwfEB8UHxgfHB8gHyQfKB8sHzAfNB84HzwfQB9EH0gfTB9QH1QfWB9cH2AfZB9oH2wfcB90H3gffB+AH4Qc=",
          "dtype": "i2"
         },
         "xaxis": "x",
         "y": {
          "bdata": "hholAEugJQDwMCYAC80mAG11JwCkKigAL+0oAMu8KQCmmCoAZX8rAFRwLAA8ay0A73AuAMuCLwDUojAAjdIxAOUSMwDfYzQAYsU1AN42NwAtuDgAYEo6AKLuOwANpT0Ak20/AOVIQQAaNUMA3zNFAFRNRwAwjEkAQPdLADuTTgBbW1EAY0FUACwxVwCWHFoAs/1cAKfZXwB5umIAoq9lAB/EaAB9+2sAolFvACvBcgB0QXYAkcx5AEFhfQCJAoEAWbSEAER8iACbXowAXlyQAOB0lABsqJgA+vacAFBgoQAD5aUAJIWqAA==",
          "dtype": "i4"
         },
         "yaxis": "y"
        },
        {
         "hovertemplate": "Country Name=Burkina Faso<br>Year=%{x}<br>Count=%{y}<extra></extra>",
         "legendgroup": "Burkina Faso",
         "line": {
          "color": "#FF6692",
          "dash": "solid"
         },
         "marker": {
          "symbol": "circle"
         },
         "mode": "lines",
         "name": "Burkina Faso",
         "showlegend": true,
         "type": "scattergl",
         "x": {
          "bdata": "qAepB6oHqwesB60HrgevB7AHsQeyB7MHtAe1B7YHtwe4B7kHuge7B7wHvQe+B78HwAfBB8IHwwfEB8UHxgfHB8gHyQfKB8sHzAfNB84HzwfQB9EH0gfTB9QH1QfWB9cH2AfZB9oH2wfcB90H3gffB+AH4Qc=",
          "dtype": "i2"
         },
         "xaxis": "x",
         "y": {
          "bdata": "aLBJAHSvSgBGsEsA7bdMAIrNTQBW9k4AqzRQACuHUQC56lIAblpUABjTVQD1VFcAleJYAPN9WgDpKVwAMeldAPW7XwDXo2EAA6djACjNZQC7G2gAyJVqAO85bQBpA3AA6upyACPrdQBGA3kAKTV8ANGBfwDv6oIAGnKGAOQXigDZ3I0AXMKRAAzKlQCW9ZkAiUaeAEq+ogCUXqcADSmsAIYfsQCLQrYA7JO7AB0YwQCp1MYAas3MADgE0wD1d9kAvSXgAOoI5wDhHe4A92P1AG7b/ACHggQBYVcMAaBYFAFqhRwBxN0kAQ==",
          "dtype": "i4"
         },
         "yaxis": "y"
        },
        {
         "hovertemplate": "Country Name=Bangladesh<br>Year=%{x}<br>Count=%{y}<extra></extra>",
         "legendgroup": "Bangladesh",
         "line": {
          "color": "#B6E880",
          "dash": "solid"
         },
         "marker": {
          "symbol": "circle"
         },
         "mode": "lines",
         "name": "Bangladesh",
         "showlegend": true,
         "type": "scattergl",
         "x": {
          "bdata": "qAepB6oHqwesB60HrgevB7AHsQeyB7MHtAe1B7YHtwe4B7kHuge7B7wHvQe+B78HwAfBB8IHwwfEB8UHxgfHB8gHyQfKB8sHzAfNB84HzwfQB9EH0gfTB9QH1QfWB9cH2AfZB9oH2wfcB90H3gffB+AH4Qc=",
          "dtype": "i2"
         },
         "xaxis": "x",
         "y": {
          "bdata": "wKDcAps38QKdagYDF4ocA5QINAMYHE0DFihoA4nKhAO2iqED1Wq8AyIc1APx7ucDqaD4AxoRCARZ7BgEfSAtBB1URQQg92AEsEZ/BNX/ngTDM78EW6zfBN+zAAUfbiIFCSFFBZfzaAUT7o0Fe9OzBW402gXJfQAGdEcmBpdQSwZYs28GL9GTBpM9uAaKWt0GDDIDBzSBKQe//U8HEz52B37nmwf+/sAHhnTlB7PBCAhAPyoIcYNJCE9JZggY04AIJ+iZCL2isgiG0ssIsrzlCD8yAAkEARsJZ8o1CRRIUAmYcWoJQWGECQ==",
          "dtype": "i4"
         },
         "yaxis": "y"
        },
        {
         "hovertemplate": "Country Name=Bulgaria<br>Year=%{x}<br>Count=%{y}<extra></extra>",
         "legendgroup": "Bulgaria",
         "line": {
          "color": "#FF97FF",
          "dash": "solid"
         },
         "marker": {
          "symbol": "circle"
         },
         "mode": "lines",
         "name": "Bulgaria",
         "showlegend": true,
         "type": "scattergl",
         "x": {
          "bdata": "qAepB6oHqwesB60HrgevB7AHsQeyB7MHtAe1B7YHtwe4B7kHuge7B7wHvQe+B78HwAfBB8IHwwfEB8UHxgfHB8gHyQfKB8sHzAfNB84HzwfQB9EH0gfTB9QH1QfWB9cH2AfZB9oH2wfcB90H3gffB+AH4Qc=",
          "dtype": "i2"
         },
         "xaxis": "x",
         "y": {
          "bdata": "7gt4AM4zeQCSRHoAQUN7ANRFfACIL30ACQJ+ANLNfgDDtX8A/LGAAGaKgQBLQYIAyNyCAKeLgwBZbYQAZhGFAEelhQBXV4YA0H2GAFSshgBfN4cA7aqHANERiADaaIgAp7qIACO6iADbsIgAX+SIAMYLiQCsc4cA0QeFAC+4gwAEUIIA+UaBAMfWgAAzRIAASpt/AATVfgAS/X0AwEh9ALyqfAC2NXoA6ZV3AF+kdgD8v3UA3N10AH77cwD6IXMA0VNyANuXcQAP2XAAaCBwAKB6bwBb224AgjpuAAeHbQAOw2wAa/hrAA==",
          "dtype": "i4"
         },
         "yaxis": "y"
        },
        {
         "hovertemplate": "Country Name=Bahrain<br>Year=%{x}<br>Count=%{y}<extra></extra>",
         "legendgroup": "Bahrain",
         "line": {
          "color": "#FECB52",
          "dash": "solid"
         },
         "marker": {
          "symbol": "circle"
         },
         "mode": "lines",
         "name": "Bahrain",
         "showlegend": true,
         "type": "scattergl",
         "x": {
          "bdata": "qAepB6oHqwesB60HrgevB7AHsQeyB7MHtAe1B7YHtwe4B7kHuge7B7wHvQe+B78HwAfBB8IHwwfEB8UHxgfHB8gHyQfKB8sHzAfNB84HzwfQB9EH0gfTB9QH1QfWB9cH2AfZB9oH2wfcB90H3gffB+AH4Qc=",
          "dtype": "i2"
         },
         "xaxis": "x",
         "y": {
          "bdata": "e3oCANaPAgBYpAIA3LcCAGfKAgAn3AIAJO0CAN/9AgDNDwMA2yQDAH0+AwCYXAMAI38DAKenAwAH2AMALxEEAGhUBABHoAQAke8EAA87BQDQfQUAaLUFAJ7jBQCmDAYAuTYGAGRmBgBInQYAy9kGAC4ZBwA/VwcAO5EHAEDHBwBO+wcAki4IAM9iCADxmQgAatQIAPMTCQBEXQkAfbYJACMkCgDJpAoAqjcLANThCwCUqQwATJENANKfDgCPzg8AEQIRADQVEgAc7xIAx4ATAOfVEwDVEBQAC2MUAMvuFAB/wRUAOswWAA==",
          "dtype": "i4"
         },
         "yaxis": "y"
        },
        {
         "hovertemplate": "Country Name=Bahamas, The<br>Year=%{x}<br>Count=%{y}<extra></extra>",
         "legendgroup": "Bahamas, The",
         "line": {
          "color": "#636efa",
          "dash": "solid"
         },
         "marker": {
          "symbol": "circle"
         },
         "mode": "lines",
         "name": "Bahamas, The",
         "showlegend": true,
         "type": "scattergl",
         "x": {
          "bdata": "qAepB6oHqwesB60HrgevB7AHsQeyB7MHtAe1B7YHtwe4B7kHuge7B7wHvQe+B78HwAfBB8IHwwfEB8UHxgfHB8gHyQfKB8sHzAfNB84HzwfQB9EH0gfTB9QH1QfWB9cH2AfZB9oH2wfcB90H3gffB+AH4Qc=",
          "dtype": "i2"
         },
         "xaxis": "x",
         "y": {
          "bdata": "3qsBALHBAQAD2QEAa/EBAE0KAgAbIwIAzjsCACxUAgC4awIArIECAKGVAgBBpwIAyrYCAA3FAgAg0wIA4OECAI3xAgDtAQMABhMDAKAkAwCfNgMAHkkDABhcAwA8bwMAI4IDAFKUAwCppQMAR7YDAJvGAwBV1wMA3+gDAJD7AwAtDwQA3SIEAIY1BAB4RgQASlUEAH5iBAAlbwQArnwEAEOMBAAangQAzLEEACnHBACu3QQA+/QEABkNBQDtJQUAgT4FAKRVBQB+agUAmXwFAECMBQBAmgUAyacFAL61BQBLxAUAQdMFAA==",
          "dtype": "i4"
         },
         "yaxis": "y"
        },
        {
         "hovertemplate": "Country Name=Bosnia and Herzegovina<br>Year=%{x}<br>Count=%{y}<extra></extra>",
         "legendgroup": "Bosnia and Herzegovina",
         "line": {
          "color": "#EF553B",
          "dash": "solid"
         },
         "marker": {
          "symbol": "circle"
         },
         "mode": "lines",
         "name": "Bosnia and Herzegovina",
         "showlegend": true,
         "type": "scattergl",
         "x": {
          "bdata": "qAepB6oHqwesB60HrgevB7AHsQeyB7MHtAe1B7YHtwe4B7kHuge7B7wHvQe+B78HwAfBB8IHwwfEB8UHxgfHB8gHyQfKB8sHzAfNB84HzwfQB9EH0gfTB9QH1QfWB9cH2AfZB9oH2wfcB90H3gffB+AH4Qc=",
          "dtype": "i2"
         },
         "xaxis": "x",
         "y": {
          "bdata": "RDgxABsuMgCKKjMA5iU0ANUVNQAb8zUATLo2ACBuNwA+FTgAXLk4AJFhOQBnEDoAkcM6AKh3OwBRJzwA0c48ALJrPQDZ/z0A/ZA+AEMnPwCPxz8AB25AAOEUQQDBu0EAcWJCAMMEQwDNr0MAH1pEABXPRACwyEQAPxtEAKerQgDMmUAAWT0+AAwRPAA6bToAyXA5AAYCOQBB+zgAeh45AAg9OQD4TTkAG105AP1nOQDibzkAU3Q5ALB0OQBiajkAH0k5AIIBOQCAijgAd903AOwBNwBNDjYA+CE1APFTNACbqzMA5yMzAA==",
          "dtype": "i4"
         },
         "yaxis": "y"
        },
        {
         "hovertemplate": "Country Name=Belarus<br>Year=%{x}<br>Count=%{y}<extra></extra>",
         "legendgroup": "Belarus",
         "line": {
          "color": "#00cc96",
          "dash": "solid"
         },
         "marker": {
          "symbol": "circle"
         },
         "mode": "lines",
         "name": "Belarus",
         "showlegend": true,
         "type": "scattergl",
         "x": {
          "bdata": "qAepB6oHqwesB60HrgevB7AHsQeyB7MHtAe1B7YHtwe4B7kHuge7B7wHvQe+B78HwAfBB8IHwwfEB8UHxgfHB8gHyQfKB8sHzAfNB84HzwfQB9EH0gfTB9QH1QfWB9cH2AfZB9oH2wfcB90H3gffB+AH4Qc=",
          "dtype": "i2"
         },
         "xaxis": "x",
         "y": {
          "bdata": "cBd9AHA1fgC4cH8A8L2AAMARggDQYIMAsLKEAPAOhgA4aocAMLmIAIDwiQC4F4sAaDaMADhBjQDQLI4A2O2OALiZjwDYZJAACFeRAIA9kgD4I5MAsCmUAIArlQA4MZYA8DaXANg0mAB4PpkAGEiaAGC5mgCQLpsAyHibAFCMmwBA4psAGDycADgNnABQjJsAgAebAIhfmgAIpJkA8v6YANpGmABlf5cATImWAI18lQBieJQAq3WTADyPkgB545EAsWKRAM0PkQCX0JAAlIyQAK9qkACNcJAAz5GQANDMkABe+5AAmO6QAA==",
          "dtype": "i4"
         },
         "yaxis": "y"
        },
        {
         "hovertemplate": "Country Name=Belize<br>Year=%{x}<br>Count=%{y}<extra></extra>",
         "legendgroup": "Belize",
         "line": {
          "color": "#ab63fa",
          "dash": "solid"
         },
         "marker": {
          "symbol": "circle"
         },
         "mode": "lines",
         "name": "Belize",
         "showlegend": true,
         "type": "scattergl",
         "x": {
          "bdata": "qAepB6oHqwesB60HrgevB7AHsQeyB7MHtAe1B7YHtwe4B7kHuge7B7wHvQe+B78HwAfBB8IHwwfEB8UHxgfHB8gHyQfKB8sHzAfNB84HzwfQB9EH0gfTB9QH1QfWB9cH2AfZB9oH2wfcB90H3gffB+AH4Qc=",
          "dtype": "i2"
         },
         "xaxis": "x",
         "y": {
          "bdata": "oGcBAO9xAQBofAEARIcBAJ2SAQCHngEAI6sBADS4AQBdxQEA3dEBAEbdAQB55wEArvABAA75AQDrAAIAjAgCAOsPAgAdFwIA1R4CAPknAgAbMwIAbkACAMxPAgCuYAIAW3ICADmEAgBglgIA8KgCAFS7AgCtzAIAoNwCAJjqAgAU9wIA9gMDANATAwBzKAMAoEIDAIxhAwBkgwMAjKUDABPGAwBX5AMA6gAEAHEcBAAYOAQAmFQEAAFyBAARkAQAh64EAB/NBACg6wQA/QkFAFAoBQBzRgUAVmQFAOWBBQAQnwUA2bsFAA==",
          "dtype": "i4"
         },
         "yaxis": "y"
        },
        {
         "hovertemplate": "Country Name=Bermuda<br>Year=%{x}<br>Count=%{y}<extra></extra>",
         "legendgroup": "Bermuda",
         "line": {
          "color": "#FFA15A",
          "dash": "solid"
         },
         "marker": {
          "symbol": "circle"
         },
         "mode": "lines",
         "name": "Bermuda",
         "showlegend": true,
         "type": "scattergl",
         "x": {
          "bdata": "qAepB6oHqwesB60HrgevB7AHsQeyB7MHtAe1B7YHtwe4B7kHuge7B7wHvQe+B78HwAfBB8IHwwfEB8UHxgfHB8gHyQfKB8sHzAfNB84HzwfQB9EH0gfTB9QH1QfWB9cH2AfZB9oH2wfcB90H3gffB+AH4Qc=",
          "dtype": "i2"
         },
         "xaxis": "x",
         "y": {
          "bdata": "cK0AALyxAAAItgAAVLoAAAS/AAC0wwAAOMcAACDLAAAIzwAA8NIAANjWAABI1QAAuNMAACjSAACY0AAACM8AANDPAACY0AAAYNEAACjSAACO1QAACtcAAJnYAAB62gAAZ9wAAELeAAAm4AAA+eEAAOvjAADZ5QAAvucAAI3mAADj5AAAHuYAALjnAABi6QAA4eoAAFHsAAAP7gAAZe8AAInxAAAo9AAAwPUAAF33AAD8+AAAmvoAAAv8AAB4/QAA+f4AAGQAAQBk/gAANPwAAB79AADp/QAAc/4AANf+AAAr/AAAgvkAAA==",
          "dtype": "i4"
         },
         "yaxis": "y"
        },
        {
         "hovertemplate": "Country Name=Bolivia<br>Year=%{x}<br>Count=%{y}<extra></extra>",
         "legendgroup": "Bolivia",
         "line": {
          "color": "#19d3f3",
          "dash": "solid"
         },
         "marker": {
          "symbol": "circle"
         },
         "mode": "lines",
         "name": "Bolivia",
         "showlegend": true,
         "type": "scattergl",
         "x": {
          "bdata": "qAepB6oHqwesB60HrgevB7AHsQeyB7MHtAe1B7YHtwe4B7kHuge7B7wHvQe+B78HwAfBB8IHwwfEB8UHxgfHB8gHyQfKB8sHzAfNB84HzwfQB9EH0gfTB9QH1QfWB9cH2AfZB9oH2wfcB90H3gffB+AH4Qc=",
          "dtype": "i2"
         },
         "xaxis": "x",
         "y": {
          "bdata": "+8w3AETmOABuBzoAGDE7AP1jPADYoD0Alec+ACQ4QAAtk0EAfvlCAKRrRABs6UUAlnJHAAMHSQCFpkoAy1BMAHAGTgDcxk8Aq45RAJNZUwCfJFUASO5WAEm4WAAKh1oA62BcAIRKXgAKRWAAT09iAFhoZABbjmYAyr9oAH38agBYRG0A0pVvACnvcQDCTnQAw7N2ALIdeQD5i3sAKv59ANhzgACL7IIAnmeFAF/khwDvYYoAst+MAPZcjwCn2ZEAblaUAG3UlgBOVJkAWtabAMxZngAo3aAAVV6jAOLbpQAFVagAFsqqAA==",
          "dtype": "i4"
         },
         "yaxis": "y"
        },
        {
         "hovertemplate": "Country Name=Brazil<br>Year=%{x}<br>Count=%{y}<extra></extra>",
         "legendgroup": "Brazil",
         "line": {
          "color": "#FF6692",
          "dash": "solid"
         },
         "marker": {
          "symbol": "circle"
         },
         "mode": "lines",
         "name": "Brazil",
         "showlegend": true,
         "type": "scattergl",
         "x": {
          "bdata": "qAepB6oHqwesB60HrgevB7AHsQeyB7MHtAe1B7YHtwe4B7kHuge7B7wHvQe+B78HwAfBB8IHwwfEB8UHxgfHB8gHyQfKB8sHzAfNB84HzwfQB9EH0gfTB9QH1QfWB9cH2AfZB9oH2wfcB90H3gffB+AH4Qc=",
          "dtype": "i2"
         },
         "xaxis": "x",
         "y": {
          "bdata": "Gl5NBK/mbQQYhI8EsfmxBHvy1ATaLfgE+Z8bBeZRPwWHMmMFdjOHBTFQqwWoeM8Ft7vzBSlbGAaWsD0GTf1jBtpGiwawebMGAZzcBouuBgf5pDEHl4hdBwo2igdzO7cHUAPkB2AeEAjwXzsI0tVlCO+UjwjwyrgI15vhCAv3CQm0zzEJtlNZCQzAgAk4OqgJINLPCVBo9wmitx4K019FCsQWawoWzI8KcIazCl4w1gpRt/cK/xIYC7w0NwsLKVULmiZyCyx5jgtjWqoLJtXFCwDi4At/kPsL1+0VDNn9LwxyzEkM50pjDA==",
          "dtype": "i4"
         },
         "yaxis": "y"
        },
        {
         "hovertemplate": "Country Name=Barbados<br>Year=%{x}<br>Count=%{y}<extra></extra>",
         "legendgroup": "Barbados",
         "line": {
          "color": "#B6E880",
          "dash": "solid"
         },
         "marker": {
          "symbol": "circle"
         },
         "mode": "lines",
         "name": "Barbados",
         "showlegend": true,
         "type": "scattergl",
         "x": {
          "bdata": "qAepB6oHqwesB60HrgevB7AHsQeyB7MHtAe1B7YHtwe4B7kHuge7B7wHvQe+B78HwAfBB8IHwwfEB8UHxgfHB8gHyQfKB8sHzAfNB84HzwfQB9EH0gfTB9QH1QfWB9cH2AfZB9oH2wfcB90H3gffB+AH4Qc=",
          "dtype": "i2"
         },
         "xaxis": "x",
         "y": {
          "bdata": "RIYDACaJAwC5jAMAnpADAFqUAwCVlwMAOJoDAHOcAwC5ngMAg6EDADClAwDeqQMAa68DAH21AwCkuwMAisEDAB/HAwBpzAMAW9EDANfVAwDq2QMAct0DAILgAwBE4wMACeYDAAfpAwBT7AMA4+8DAKHzAwB19wMASPsDABH/AwDmAgQAwgYEAL0KBADjDgQAKRMEAJsXBAAYHAQAcyAEAJskBAB0KAQAESwEAJkvBABUMwQAYzcEAOU7BACsQAQAikUEABBKBAATTgQAa1EEADRUBACIVgQAmVgEAIxaBABkXAQAGV4EAA==",
          "dtype": "i4"
         },
         "yaxis": "y"
        },
        {
         "hovertemplate": "Country Name=Brunei Darussalam<br>Year=%{x}<br>Count=%{y}<extra></extra>",
         "legendgroup": "Brunei Darussalam",
         "line": {
          "color": "#FF97FF",
          "dash": "solid"
         },
         "marker": {
          "symbol": "circle"
         },
         "mode": "lines",
         "name": "Brunei Darussalam",
         "showlegend": true,
         "type": "scattergl",
         "x": {
          "bdata": "qAepB6oHqwesB60HrgevB7AHsQeyB7MHtAe1B7YHtwe4B7kHuge7B7wHvQe+B78HwAfBB8IHwwfEB8UHxgfHB8gHyQfKB8sHzAfNB84HzwfQB9EH0gfTB9QH1QfWB9cH2AfZB9oH2wfcB90H3gffB+AH4Qc=",
          "dtype": "i2"
         },
         "xaxis": "x",
         "y": {
          "bdata": "Jj8BADpOAQCJXQEAZG0BABR+AQDyjwEACqMBAEC3AQCKzAEA0OIBAPn5AQD3EQIAxioCACBEAgDAXQIAWncCAPWQAgB6qgIA1cMCANTcAgBX9QIAVQ0DAPEkAwBsPAMAP1QDAMFsAwADhgMA+58DALS6AwBC1gMAofIDAOIPBADkLQQAUUwEAK5qBACaiAQA7qUEAJbCBACo3gQAQvoEAG0VBQBCMAUAnkoFAA1kBQAJfAUAOpIFAFemBQC1uAUAHcoFAKLbBQAm7gUA2AEGAI0WBgDFKwYAqUAGALtUBgDYZwYAGXoGAA==",
          "dtype": "i4"
         },
         "yaxis": "y"
        },
        {
         "hovertemplate": "Country Name=Bhutan<br>Year=%{x}<br>Count=%{y}<extra></extra>",
         "legendgroup": "Bhutan",
         "line": {
          "color": "#FECB52",
          "dash": "solid"
         },
         "marker": {
          "symbol": "circle"
         },
         "mode": "lines",
         "name": "Bhutan",
         "showlegend": true,
         "type": "scattergl",
         "x": {
          "bdata": "qAepB6oHqwesB60HrgevB7AHsQeyB7MHtAe1B7YHtwe4B7kHuge7B7wHvQe+B78HwAfBB8IHwwfEB8UHxgfHB8gHyQfKB8sHzAfNB84HzwfQB9EH0gfTB9QH1QfWB9cH2AfZB9oH2wfcB90H3gffB+AH4Qc=",
          "dtype": "i2"
         },
         "xaxis": "x",
         "y": {
          "bdata": "OGgDAPN9AwA6lAMAi6sDALTEAwAq4AMAJP4DAHseBADOQAQAk2QEAGSJBAALrwQAnNUEAEb9BABNJgUA7FAFAC19BQDkqgUAXtkFALsHBgBbNQYAP2EGAIaLBgAOtgYAlOMGAIoVBwDkTQcA6IoHAGTGBwDD9wcAdBkIAGgoCAD0JwgAdCAIALkdCABcKAgAGUMIAB1rCACZnAgAWdEIAK0ECQD4NQkAUmYJAH+UCQBfvwkAI+YJAAIICgAsJQoAfT8KALNZCgC/dQoAMpQKAI+0CgBe1goA0PgKAEQbCwDFPQsAYGALAA==",
          "dtype": "i4"
         },
         "yaxis": "y"
        },
        {
         "hovertemplate": "Country Name=Botswana<br>Year=%{x}<br>Count=%{y}<extra></extra>",
         "legendgroup": "Botswana",
         "line": {
          "color": "#636efa",
          "dash": "solid"
         },
         "marker": {
          "symbol": "circle"
         },
         "mode": "lines",
         "name": "Botswana",
         "showlegend": true,
         "type": "scattergl",
         "x": {
          "bdata": "qAepB6oHqwesB60HrgevB7AHsQeyB7MHtAe1B7YHtwe4B7kHuge7B7wHvQe+B78HwAfBB8IHwwfEB8UHxgfHB8gHyQfKB8sHzAfNB84HzwfQB9EH0gfTB9QH1QfWB9cH2AfZB9oH2wfcB90H3gffB+AH4Qc=",
          "dtype": "i2"
         },
         "xaxis": "x",
         "y": {
          "bdata": "2asHAK3SBwAC/gcAhSwIACFcCAB6iwgAPLoIAJzpCADTGwkA5FMJAAOUCQDL3AkA1C0KAPiGCgDY5woA608LALu/CwARNwwA07MMADMzDQBMsw0AaDIOADuxDgAiMw8AD70PAA5SEACf8xAAWp8RAMNPEgBE/RIAZKITAPI8FABizhQARlkVAMvhFQD2ahYA2vUWAEmBFwCQCxgAGJIYAEYTGQC2jRkAwgIaAP52GgCX8BoApnMbAIQDHAADnhwA9zodANrOHQAhUh4AqsAeAP8eHwDIeB8Apt4fAAxcIABI9SAAyKUhAA==",
          "dtype": "i4"
         },
         "yaxis": "y"
        },
        {
         "hovertemplate": "Country Name=Central African Republic<br>Year=%{x}<br>Count=%{y}<extra></extra>",
         "legendgroup": "Central African Republic",
         "line": {
          "color": "#EF553B",
          "dash": "solid"
         },
         "marker": {
          "symbol": "circle"
         },
         "mode": "lines",
         "name": "Central African Republic",
         "showlegend": true,
         "type": "scattergl",
         "x": {
          "bdata": "qAepB6oHqwesB60HrgevB7AHsQeyB7MHtAe1B7YHtwe4B7kHuge7B7wHvQe+B78HwAfBB8IHwwfEB8UHxgfHB8gHyQfKB8sHzAfNB84HzwfQB9EH0gfTB9QH1QfWB9cH2AfZB9oH2wfcB90H3gffB+AH4Qc=",
          "dtype": "i2"
         },
         "xaxis": "x",
         "y": {
          "bdata": "5OkWADJJFwAmrhcAahkYAKiLGAAaBRkAO4cZAA4RGgBCnRoArSQbAMiiGwCGFRwABoAcAMXpHAAkXR0A3+EdANZ4HgBvIB8A79ofAGmqIAA8jyEAeo0iAGWiIwB9vyQALtElAFnKJgCBoycAOGMoAFUbKQCG5SkAztMqAC3sKwCEJy0ABXsuACfWLwCALDEAyXoyALTDMwAkCDUAfko2AGuMNwAiyzgAEAQ6AN04OwBDbDwA7p49ADXWPgB6DkAA1jRBANkvQgDQ70IATGxDAL+xQwDG3kMALx5EAHKPRABXPUUAPCFGAA==",
          "dtype": "i4"
         },
         "yaxis": "y"
        },
        {
         "hovertemplate": "Country Name=Canada<br>Year=%{x}<br>Count=%{y}<extra></extra>",
         "legendgroup": "Canada",
         "line": {
          "color": "#00cc96",
          "dash": "solid"
         },
         "marker": {
          "symbol": "circle"
         },
         "mode": "lines",
         "name": "Canada",
         "showlegend": true,
         "type": "scattergl",
         "x": {
          "bdata": "qAepB6oHqwesB60HrgevB7AHsQeyB7MHtAe1B7YHtwe4B7kHuge7B7wHvQe+B78HwAfBB8IHwwfEB8UHxgfHB8gHyQfKB8sHzAfNB84HzwfQB9EH0gfTB9QH1QfWB9cH2AfZB9oH2wfcB90H3gffB+AH4Qc=",
          "dtype": "i2"
         },
         "xaxis": "x",
         "y": {
          "bdata": "EUURARjLFgHwBhwBIF4hAUjgJgEwQywBgOgxAWB2NwFAhzwBoNxAAeBgRQEwHU8B3wZTAYEyVwGhBVwBayNhAdDQZQETB2oBQ6ZtAUhJcQFTFHYBy7h6AQ5BfwGzD4MBjbuGAcRRigE2Qo4BCYuTAUPPmAHtNaABgoimASzRqwFA6bAB3LG1AdeDugEnHr8B6tDDARxUyAGlIcwBBuPPASI61AFmV9kBT4TeAXzZ4gEvYOcBKQDsASb/8AHB2PUBjk/7Ad8iAQKZ3wYCAPoLAm6yEQLKUhcCe7scAnzIIAKv/CYCbI8tAg==",
          "dtype": "i4"
         },
         "yaxis": "y"
        },
        {
         "hovertemplate": "Country Name=Switzerland<br>Year=%{x}<br>Count=%{y}<extra></extra>",
         "legendgroup": "Switzerland",
         "line": {
          "color": "#ab63fa",
          "dash": "solid"
         },
         "marker": {
          "symbol": "circle"
         },
         "mode": "lines",
         "name": "Switzerland",
         "showlegend": true,
         "type": "scattergl",
         "x": {
          "bdata": "qAepB6oHqwesB60HrgevB7AHsQeyB7MHtAe1B7YHtwe4B7kHuge7B7wHvQe+B78HwAfBB8IHwwfEB8UHxgfHB8gHyQfKB8sHzAfNB84HzwfQB9EH0gfTB9QH1QfWB9cH2AfZB9oH2wfcB90H3gffB+AH4Qc=",
          "dtype": "i2"
         },
         "xaxis": "x",
         "y": {
          "bdata": "00tRALbrUgC3DFUAJ+NWACxWWADYXFkAMk1aAGltWwACllwAQ6JdAA1QXgAXz14A3IhfABM+YAAdw2AASLhgACgrYADW118ACtpfAF0LYAAwbWAAmvRgAA2GYQBV8WEAiUtiAN26YgC8PmMA0t5jAGqbZACAbGUAf3hmAGrCZwDk6GgAmd5pAIO3agCvbmsAauhrAAorbABxfWwANwJtAHqfbQCeUW4AEShvAPn7bwC5wXAAO3txAB4ycgCNOHMAu7F0AFcpdgANZncAzrt4AL0FegACb3sA6fJ8ABxhfgBaxH8AAPeAAA==",
          "dtype": "i4"
         },
         "yaxis": "y"
        },
        {
         "hovertemplate": "Country Name=Channel Islands<br>Year=%{x}<br>Count=%{y}<extra></extra>",
         "legendgroup": "Channel Islands",
         "line": {
          "color": "#FFA15A",
          "dash": "solid"
         },
         "marker": {
          "symbol": "circle"
         },
         "mode": "lines",
         "name": "Channel Islands",
         "showlegend": true,
         "type": "scattergl",
         "x": {
          "bdata": "qAepB6oHqwesB60HrgevB7AHsQeyB7MHtAe1B7YHtwe4B7kHuge7B7wHvQe+B78HwAfBB8IHwwfEB8UHxgfHB8gHyQfKB8sHzAfNB84HzwfQB9EH0gfTB9QH1QfWB9cH2AfZB9oH2wfcB90H3gffB+AH4Qc=",
          "dtype": "i2"
         },
         "xaxis": "x",
         "y": {
          "bdata": "bKsBAD+vAQBhswEA07cBAG28AQAzwQEAA8YBAOLKAQDGzwEApNQBAG3ZAQAt3gEA3uIBADXnAQDy6gEAz+0BALbvAQDP8AEAnvEBAMzyAQDU9AEA1vcBALv7AQBNAAIAXgUCALAKAgBREAIAOhYCAAUcAgA1IQIAfyUCAJsoAgC2KgIATywCAA8uAgB8MAIAzzMCAN03AgBCPAIAY0ACANtDAgBpRgIAXEgCADRKAgC8TAIAflACALBVAgAMXAIAEWMCAOJpAgD2bwIA5nQCAAh5AgDefAIABIECAAmGAgALjAIA2ZICAA==",
          "dtype": "i4"
         },
         "yaxis": "y"
        },
        {
         "hovertemplate": "Country Name=Chile<br>Year=%{x}<br>Count=%{y}<extra></extra>",
         "legendgroup": "Chile",
         "line": {
          "color": "#19d3f3",
          "dash": "solid"
         },
         "marker": {
          "symbol": "circle"
         },
         "mode": "lines",
         "name": "Chile",
         "showlegend": true,
         "type": "scattergl",
         "x": {
          "bdata": "qAepB6oHqwesB60HrgevB7AHsQeyB7MHtAe1B7YHtwe4B7kHuge7B7wHvQe+B78HwAfBB8IHwwfEB8UHxgfHB8gHyQfKB8sHzAfNB84HzwfQB9EH0gfTB9QH1QfWB9cH2AfZB9oH2wfcB90H3gffB+AH4Qc=",
          "dtype": "i2"
         },
         "xaxis": "x",
         "y": {
          "bdata": "fhl8AMO0fgDhWIEAk/6DAGKchgC1K4kATKmLAF8XjgCte5AA4N6SAF5HlQDHtpcAeiuaAOWknAB+IZ8AM6ChAA4jpAAbq6YADTWpAF28qwDUPq4APrqwAKcyswB4s7UAN0y4ANQHuwB/6L0AbOrAAFwKxADGQscA/43KANrrzQALWdEAacjUAEQp2ABCb9sA6pXeAKye4QDFiuQAsF3nABEb6gDRwewAOVPvALTY8QB7XvQAwe32AMiM+QATO/wAovL+AKqpAQGIWgQBqPYGARuCCQGzHgwB7/oOAckwEgEs2RUBJ9YZAQ==",
          "dtype": "i4"
         },
         "yaxis": "y"
        },
        {
         "hovertemplate": "Country Name=China<br>Year=%{x}<br>Count=%{y}<extra></extra>",
         "legendgroup": "China",
         "line": {
          "color": "#FF6692",
          "dash": "solid"
         },
         "marker": {
          "symbol": "circle"
         },
         "mode": "lines",
         "name": "China",
         "showlegend": true,
         "type": "scattergl",
         "x": {
          "bdata": "qAepB6oHqwesB60HrgevB7AHsQeyB7MHtAe1B7YHtwe4B7kHuge7B7wHvQe+B78HwAfBB8IHwwfEB8UHxgfHB8gHyQfKB8sHzAfNB84HzwfQB9EH0gfTB9QH1QfWB9cH2AfZB9oH2wfcB90H3gffB+AH4Qc=",
          "dtype": "i2"
         },
         "xaxis": "x",
         "y": {
          "bdata": "MK7CJxDWWycQ2K4nGJurKDgNoClo26AqQFDVK/CE+SywFSouqGByL/h+xjBoPiIysIhhMyBWkTQwQKo1+BOfNkggeTcY+zs4iOv9OMjXwTk4dXw6SHs9O/B4HjyweP48qLHMPQCZpT5w7JU/uA+dQDCKqUGQPq1CaIypQ2CCl0QQCHBFQJE9Rnj1CUfYoNBHsFaSSHh0UUmYbAZKGDirSghvQksQ5M5LgFpRTIBsy0z4iEBNQDC1TeCTJE5IVI1OmKH0TmBqWU8owrtP0MsdUFj4gVCg+edQsBtRUSAou1EowixSeLWiUg==",
          "dtype": "i4"
         },
         "yaxis": "y"
        },
        {
         "hovertemplate": "Country Name=Cote d'Ivoire<br>Year=%{x}<br>Count=%{y}<extra></extra>",
         "legendgroup": "Cote d'Ivoire",
         "line": {
          "color": "#B6E880",
          "dash": "solid"
         },
         "marker": {
          "symbol": "circle"
         },
         "mode": "lines",
         "name": "Cote d'Ivoire",
         "showlegend": true,
         "type": "scattergl",
         "x": {
          "bdata": "qAepB6oHqwesB60HrgevB7AHsQeyB7MHtAe1B7YHtwe4B7kHuge7B7wHvQe+B78HwAfBB8IHwwfEB8UHxgfHB8gHyQfKB8sHzAfNB84HzwfQB9EH0gfTB9QH1QfWB9cH2AfZB9oH2wfcB90H3gffB+AH4Qc=",
          "dtype": "i2"
         },
         "xaxis": "x",
         "y": {
          "bdata": "wXU1AMFpNwCOiTkAJMs7APMfPgAcf0AA8ONCAKRWRQCv6kcAwLpKAPDZTQBoT1EAZhVVAGIiWQBFZ10Ac9hhAF5yZgBAN2sA/idwAB5HdQBylXoA2xOAAD2+hQBjiosA+2qRAPRWlwDRRp0A0j2jANxKqQBxg68AjfW1AKeivACFgMMAW4LKAAmW0QDSq9gAp8XfACfg5gAm4O0APaP0AAwU+wAiKAEBs+4GAXqMDAE+NRIBUhEYAWQtHgGlhyQBQSgrAQsUMgHWTjkBL99AAbTISAFRB1EBg5NZAR9nYgF6gWsB3eJ0AQ==",
          "dtype": "i4"
         },
         "yaxis": "y"
        },
        {
         "hovertemplate": "Country Name=Cameroon<br>Year=%{x}<br>Count=%{y}<extra></extra>",
         "legendgroup": "Cameroon",
         "line": {
          "color": "#FF97FF",
          "dash": "solid"
         },
         "marker": {
          "symbol": "circle"
         },
         "mode": "lines",
         "name": "Cameroon",
         "showlegend": true,
         "type": "scattergl",
         "x": {
          "bdata": "qAepB6oHqwesB60HrgevB7AHsQeyB7MHtAe1B7YHtwe4B7kHuge7B7wHvQe+B78HwAfBB8IHwwfEB8UHxgfHB8gHyQfKB8sHzAfNB84HzwfQB9EH0gfTB9QH1QfWB9cH2AfZB9oH2wfcB90H3gffB+AH4Qc=",
          "dtype": "i2"
         },
         "xaxis": "x",
         "y": {
          "bdata": "Vv5OAJmkUADJYFIAGDNUABwbVgDnGFgAei1aAERaXABFoF4AZABhANJ7YwB+E2YA6shoADGeawC3lW4ArrFxABbzdADIWngA/Op7AP+lfwBejYMA16CHAODfiwBuS5AAkeSUABarmQBYn54AOL6jAF7/qAAIWK4A+L+zALg1uQArur4AWkrEAIjjyQD0hM8AfS3VAAHh2gC4quAAkJnmAFm57ABODvMA4pj5AGFcAAE6WwcBIpcOAToSFgEqzR0BusUlAV/4LQH5YTYBlAE/AdLWRwFy31ABAhlaAUCBYwELF20BHdl2AQ==",
          "dtype": "i4"
         },
         "yaxis": "y"
        },
        {
         "hovertemplate": "Country Name=Congo, Dem. Rep.<br>Year=%{x}<br>Count=%{y}<extra></extra>",
         "legendgroup": "Congo, Dem. Rep.",
         "line": {
          "color": "#FECB52",
          "dash": "solid"
         },
         "marker": {
          "symbol": "circle"
         },
         "mode": "lines",
         "name": "Congo, Dem. Rep.",
         "showlegend": true,
         "type": "scattergl",
         "x": {
          "bdata": "qAepB6oHqwesB60HrgevB7AHsQeyB7MHtAe1B7YHtwe4B7kHuge7B7wHvQe+B78HwAfBB8IHwwfEB8UHxgfHB8gHyQfKB8sHzAfNB84HzwfQB9EH0gfTB9QH1QfWB9cH2AfZB9oH2wfcB90H3gffB+AH4Qc=",
          "dtype": "i2"
         },
         "xaxis": "x",
         "y": {
          "bdata": "e6voAMOc7gDmxPQABjD7AJfuAQEbCwkBoY0QAYFvGAFWmiAB6O4oARxYMQFjyDkBU0lCAUv4SgGY/1MBHXtdARCBZwEqA3IB4c18AWiYhwF8NJIBQpqcAavupgGLaLEBuVS8AY3zxwHdMtQBBBfhAYUN7wG9of4BNyMQApTqIwKaqzkCWkhQAi82ZgIqZ3oCe2yMAuy/nAIvW6wCfa28AiLHzgIB9uICMvv4AiyxEANQxCkDb/dDA/VPXwOz7nsDO82ZA77juAOOKtkDUZr6A0ssHQRX2UAEF5plBEBmiwQHOrIE7AvaBA==",
          "dtype": "i4"
         },
         "yaxis": "y"
        },
        {
         "hovertemplate": "Country Name=Congo, Rep.<br>Year=%{x}<br>Count=%{y}<extra></extra>",
         "legendgroup": "Congo, Rep.",
         "line": {
          "color": "#636efa",
          "dash": "solid"
         },
         "marker": {
          "symbol": "circle"
         },
         "mode": "lines",
         "name": "Congo, Rep.",
         "showlegend": true,
         "type": "scattergl",
         "x": {
          "bdata": "qAepB6oHqwesB60HrgevB7AHsQeyB7MHtAe1B7YHtwe4B7kHuge7B7wHvQe+B78HwAfBB8IHwwfEB8UHxgfHB8gHyQfKB8sHzAfNB84HzwfQB9EH0gfTB9QH1QfWB9cH2AfZB9oH2wfcB90H3gffB+AH4Qc=",
          "dtype": "i2"
         },
         "xaxis": "x",
         "y": {
          "bdata": "jYkPAKzqDwC2UBAAvrsQAOgrEQBAoREA4RsSANWbEgCAIRMAMq0TACU/FACL1xQAOnYVAL0aFgBXxBYAjnIXABYlGAAZ3BgAFJgZAJJZGgAOIRsA6O4bAMvCHADbmx0Aw3geAKhYHwBpOyAAuSEhAKkMIgCu/SIAAfYjACH2JABg/iUAgQ8nAJkqKABRUCkAEoIqAFDAKwDfCS0A4VwuAHO4LwANGjEAM4MyAEr8MwDEkDUAd0c3AHUlOQAXJTsA3jU9AO9APwBDNkEAXA9DAPbRRACpiUYAzkdIAB8ZSgAHAUwArvtNAA==",
          "dtype": "i4"
         },
         "yaxis": "y"
        },
        {
         "hovertemplate": "Country Name=Colombia<br>Year=%{x}<br>Count=%{y}<extra></extra>",
         "legendgroup": "Colombia",
         "line": {
          "color": "#EF553B",
          "dash": "solid"
         },
         "marker": {
          "symbol": "circle"
         },
         "mode": "lines",
         "name": "Colombia",
         "showlegend": true,
         "type": "scattergl",
         "x": {
          "bdata": "qAepB6oHqwesB60HrgevB7AHsQeyB7MHtAe1B7YHtwe4B7kHuge7B7wHvQe+B78HwAfBB8IHwwfEB8UHxgfHB8gHyQfKB8sHzAfNB84HzwfQB9EH0gfTB9QH1QfWB9cH2AfZB9oH2wfcB90H3gffB+AH4Qc=",
          "dtype": "i2"
         },
         "xaxis": "x",
         "y": {
          "bdata": "fAX1AAPO/AA20QQBGwMNAdFUFQF9uR0BfC8mAUayLgHjLjcBeI4/AYHCRwEMwU8ByZJXAYVTXwHSKmcB4zVvAXF9dwEB+38BKaqIASKBkQEaeJoBqZCjAbvMrAHOJLYBJo+/AeEEyQG+f9IBFQHcAb2S5QEbQ+8B7xr5AYEcAwIpPw0CS3MXAoOjIQI+vysCo701ApiePwKVZEkCrxVTApC0XALfQWYCYLVvAl3+eAIzB4ICq8CKAoExkwKsYZsC/0ajAubUqgIsC7ICe8O4ArATvwLzfcUCebHMApsb1QKACd8CyivqAg==",
          "dtype": "i4"
         },
         "yaxis": "y"
        },
        {
         "hovertemplate": "Country Name=Comoros<br>Year=%{x}<br>Count=%{y}<extra></extra>",
         "legendgroup": "Comoros",
         "line": {
          "color": "#00cc96",
          "dash": "solid"
         },
         "marker": {
          "symbol": "circle"
         },
         "mode": "lines",
         "name": "Comoros",
         "showlegend": true,
         "type": "scattergl",
         "x": {
          "bdata": "qAepB6oHqwesB60HrgevB7AHsQeyB7MHtAe1B7YHtwe4B7kHuge7B7wHvQe+B78HwAfBB8IHwwfEB8UHxgfHB8gHyQfKB8sHzAfNB84HzwfQB9EH0gfTB9QH1QfWB9cH2AfZB9oH2wfcB90H3gffB+AH4Qc=",
          "dtype": "i2"
         },
         "xaxis": "x",
         "y": {
          "bdata": "keoCAFv2AgBOAgMAtA4DAOkbAwBAKgMAFjoDAFlLAwCfXQMALXADAKaCAwCUlAMAg6YDAPC5AwD40AMACu0DAOEOBAC8NQQAql8EAOeJBAB1sgQAptgEACL9BADgIAUAekUFAAlsBQDAlAUATr8FAHvrBQAQGQYAykcGAMB3BgDgqAYA+toGAMUNBwACQQcAs3QHAMGoBwA53QcA0BEIAJVGCABwewgAh7AIACvmCADsHAkAK1UJAPmOCQBUygkATQcKAORFCgAchgoACcgKAJ8LCwCBUAsAXpYLANDcCwDIIwwARGsMAA==",
          "dtype": "i4"
         },
         "yaxis": "y"
        },
        {
         "hovertemplate": "Country Name=Cabo Verde<br>Year=%{x}<br>Count=%{y}<extra></extra>",
         "legendgroup": "Cabo Verde",
         "line": {
          "color": "#ab63fa",
          "dash": "solid"
         },
         "marker": {
          "symbol": "circle"
         },
         "mode": "lines",
         "name": "Cabo Verde",
         "showlegend": true,
         "type": "scattergl",
         "x": {
          "bdata": "qAepB6oHqwesB60HrgevB7AHsQeyB7MHtAe1B7YHtwe4B7kHuge7B7wHvQe+B78HwAfBB8IHwwfEB8UHxgfHB8gHyQfKB8sHzAfNB84HzwfQB9EH0gfTB9QH1QfWB9cH2AfZB9oH2wfcB90H3gffB+AH4Qc=",
          "dtype": "i2"
         },
         "xaxis": "x",
         "y": {
          "bdata": "JRQDAA8iAwDeNAMAIEwDAORmAwAShAMAP6QDAOfGAwCw6AMAHQUEAFMZBADNIwQA4yUEANwiBACWHwQApx8EAO4jBAC3KwQAzjYEALJEBADHVAQApWcEAG59BADGlAQA2KsEAH7BBADI1AQAb+YEAHL4BACrDQUAHigFAHZIBQCtbQUA5ZUFAFe+BQDs5AUADQkGACMrBgBiSwYAZGoGAJyIBgD9pQYAR8IGAIrdBgCp9wYAuBAHALIoBwC0PwcASlYHAA9tBwBuhAcAqJwHAJO1BwAEzwcAfegHAMcBCADKGggAmTMIAA==",
          "dtype": "i4"
         },
         "yaxis": "y"
        },
        {
         "hovertemplate": "Country Name=Costa Rica<br>Year=%{x}<br>Count=%{y}<extra></extra>",
         "legendgroup": "Costa Rica",
         "line": {
          "color": "#FFA15A",
          "dash": "solid"
         },
         "marker": {
          "symbol": "circle"
         },
         "mode": "lines",
         "name": "Costa Rica",
         "showlegend": true,
         "type": "scattergl",
         "x": {
          "bdata": "qAepB6oHqwesB60HrgevB7AHsQeyB7MHtAe1B7YHtwe4B7kHuge7B7wHvQe+B78HwAfBB8IHwwfEB8UHxgfHB8gHyQfKB8sHzAfNB84HzwfQB9EH0gfTB9QH1QfWB9cH2AfZB9oH2wfcB90H3gffB+AH4Qc=",
          "dtype": "i2"
         },
         "xaxis": "x",
         "y": {
          "bdata": "Xk4UAD8TFQD33hUA2a4WAGV/FwAJThgAGxoZANzjGQDuqhoABW8bAGIwHACN7hwAaaodAEJnHgCBKR8AbPQfAEXJIACvpyEAco8iAMB/IwDZdyQAJHglANqAJgD8kCcAH6coAEjCKQCC4SoA8wQsACEuLQAlXy4ASZkvACXcMAD4JTIACnUzABLHNAC+GTYA6mw3ACW/OADvCjoAdkk7AAR2PAAajj0APZM+ANWJPwCDeEAAPmRBAEROQgCUNUMAFRpEACT7RABi2EUA/rFGAICIRwDbW0gABCxJALz4SQARwkoAwodLAA==",
          "dtype": "i4"
         },
         "yaxis": "y"
        },
        {
         "hovertemplate": "Country Name=Caribbean small states<br>Year=%{x}<br>Count=%{y}<extra></extra>",
         "legendgroup": "Caribbean small states",
         "line": {
          "color": "#19d3f3",
          "dash": "solid"
         },
         "marker": {
          "symbol": "circle"
         },
         "mode": "lines",
         "name": "Caribbean small states",
         "showlegend": true,
         "type": "scattergl",
         "x": {
          "bdata": "qAepB6oHqwesB60HrgevB7AHsQeyB7MHtAe1B7YHtwe4B7kHuge7B7wHvQe+B78HwAfBB8IHwwfEB8UHxgfHB8gHyQfKB8sHzAfNB84HzwfQB9EH0gfTB9QH1QfWB9cH2AfZB9oH2wfcB90H3gffB+AH4Qc=",
          "dtype": "i2"
         },
         "xaxis": "x",
         "y": {
          "bdata": "lgFAAIw3QQBcbkIAWaFDACbKRAAW5EUAr+1GAE7oRwAO2EgAMsJJAA6rSgD/k0sAhHxMAFJkTQBRSk4AIS5PAGMOUAAL7FAAsctRAGyzUgDeplMA4KlUAN24VQA0x1YA98JXADOgWADTWFkAq/JZAMN8WgCqDFsAo7FbAERxXAAvRl0A7yZeAIcFXwDm118AkJtgADhUYQATBWIAfLNiAE1jYwB4FWQApchkAFt8ZQD5L2YAveJmABuUZwDxRGgAAvdoAIysaQAWZ2oAMydrAJnrawCEsWwAO3VtAMQzbgAK7G4ALp5vAA==",
          "dtype": "i4"
         },
         "yaxis": "y"
        },
        {
         "hovertemplate": "Country Name=Cuba<br>Year=%{x}<br>Count=%{y}<extra></extra>",
         "legendgroup": "Cuba",
         "line": {
          "color": "#FF6692",
          "dash": "solid"
         },
         "marker": {
          "symbol": "circle"
         },
         "mode": "lines",
         "name": "Cuba",
         "showlegend": true,
         "type": "scattergl",
         "x": {
          "bdata": "qAepB6oHqwesB60HrgevB7AHsQeyB7MHtAe1B7YHtwe4B7kHuge7B7wHvQe+B78HwAfBB8IHwwfEB8UHxgfHB8gHyQfKB8sHzAfNB84HzwfQB9EH0gfTB9QH1QfWB9cH2AfZB9oH2wfcB90H3gffB+AH4Qc=",
          "dtype": "i2"
         },
         "xaxis": "x",
         "y": {
          "bdata": "gvdsAEBBbwBku3EAflJ0AG7qdgCZbnkAH9V7AIwifgBwYYAA6KKCAF3xhADzUIcAQbeJALQOjADxOY4AKiSQAAzJkQA+MJMAjGCUAINllQBzSpYAiQuXAF2tlwB4TZgAIRKZAPcUmgDbZJsAM/acAEenngAkR6AAe7KhAIbdogAD06MAuqGkAL5hpQA8JKYAneumAKSwpwDkb6gAfiOpAJ7GqQD7W6oAo+SqAP9XqwC9qqsAjtarAEDVqwCyrasAa3arAFVOqwDoSqsAPnWrAA3FqwAgKawAloesAG3NrADF9awA+wWtAA==",
          "dtype": "i4"
         },
         "yaxis": "y"
        },
        {
         "hovertemplate": "Country Name=Curacao<br>Year=%{x}<br>Count=%{y}<extra></extra>",
         "legendgroup": "Curacao",
         "line": {
          "color": "#B6E880",
          "dash": "solid"
         },
         "marker": {
          "symbol": "circle"
         },
         "mode": "lines",
         "name": "Curacao",
         "showlegend": true,
         "type": "scattergl",
         "x": {
          "bdata": "qAepB6oHqwesB60HrgevB7AHsQeyB7MHtAe1B7YHtwe4B7kHuge7B7wHvQe+B78HwAfBB8IHwwfEB8UHxgfHB8gHyQfKB8sHzAfNB84HzwfQB9EH0gfTB9QH1QfWB9cH2AfZB9oH2wfcB90H3gffB+AH4Qc=",
          "dtype": "i2"
         },
         "xaxis": "x",
         "y": {
          "bdata": "mucBAK3sAQCe9QEALP8BABwIAgBiEAIA6hUCAJwbAgAKJAIA9SwCAGM1AgC9PwIA/kACAOA9AgB/QwIAiUYCAJdHAgDTRwIAdUMCAItBAgBJQgIAlUQCAFVKAgB3TgIAhFECAIdUAgBWVAIAoE8CAAZHAgD5PQIA+DcCABM0AgAoMgIAqzMCAPY0AgDzNgIAgjsCAAw+AgBYNAIApCACAOQKAgAX+AEAtfgBADkDAgAwDAIAuhkCALcnAgC4MgIA2DkCAJE9AgDfRAIAL00CABhSAgDeWAIABWECABxpAgCwbwIAr3ECAA==",
          "dtype": "i4"
         },
         "yaxis": "y"
        },
        {
         "hovertemplate": "Country Name=Cayman Islands<br>Year=%{x}<br>Count=%{y}<extra></extra>",
         "legendgroup": "Cayman Islands",
         "line": {
          "color": "#FF97FF",
          "dash": "solid"
         },
         "marker": {
          "symbol": "circle"
         },
         "mode": "lines",
         "name": "Cayman Islands",
         "showlegend": true,
         "type": "scattergl",
         "x": {
          "bdata": "qAepB6oHqwesB60HrgevB7AHsQeyB7MHtAe1B7YHtwe4B7kHuge7B7wHvQe+B78HwAfBB8IHwwfEB8UHxgfHB8gHyQfKB8sHzAfNB84HzwfQB9EH0gfTB9QH1QfWB9cH2AfZB9oH2wfcB90H3gffB+AH4Qc=",
          "dtype": "i2"
         },
         "xaxis": "x",
         "y": {
          "bdata": "uR4AAFofAADSHwAAIyAAAGogAACxIAAA+SAAAEohAAC3IQAAeyIAALgjAABsJQAAlScAAB4qAADjLAAA1C8AAOEyAAAdNgAAWzkAAHg8AABUPwAA3EEAAB9EAABbRgAA7kgAAAtMAADOTwAAKFQAAOlYAADnXQAA4GIAALBnAACEbAAAjXEAADJ3AACmfQAAEYUAADyNAAC5lQAA5J0AAD+lAACfqwAAJ7EAACi2AAAeuwAAbcAAADTGAAA4zAAATNIAABrYAABg3QAAFuIAAE7mAAAc6gAAsO0AABzxAABp9AAAlvcAAA==",
          "dtype": "i4"
         },
         "yaxis": "y"
        },
        {
         "hovertemplate": "Country Name=Cyprus<br>Year=%{x}<br>Count=%{y}<extra></extra>",
         "legendgroup": "Cyprus",
         "line": {
          "color": "#FECB52",
          "dash": "solid"
         },
         "marker": {
          "symbol": "circle"
         },
         "mode": "lines",
         "name": "Cyprus",
         "showlegend": true,
         "type": "scattergl",
         "x": {
          "bdata": "qAepB6oHqwesB60HrgevB7AHsQeyB7MHtAe1B7YHtwe4B7kHuge7B7wHvQe+B78HwAfBB8IHwwfEB8UHxgfHB8gHyQfKB8sHzAfNB84HzwfQB9EH0gfTB9QH1QfWB9cH2AfZB9oH2wfcB90H3gffB+AH4Qc=",
          "dtype": "i2"
         },
         "xaxis": "x",
         "y": {
          "bdata": "Ar4IAIvLCACb0AgAedEIAEHUCABm3QgAXe4IAMwFCQDfIQkApD8JAPJcCQA7eQkAHpUJAOOwCQAczQkAF+oJAHcICgC1JwoA30UKAEVgCgBddQoAFYQKAPaNCgA9lwoAcqUKAMW8CgCU3goAsAkLANo8CwDHdQsAl7ILABTzCwBjNwwAOn4MAPbFDABXDQ0Az1MNADaZDQCe3Q0AXiEOALpkDgAUpw4AROgOABspDwDoag8ATq4PAAP0DwAhOxAA24AQAGPBEAAk+hAA4SkRAMZREQA6dBEAHZURABm3EQAL2xEAIAASAA==",
          "dtype": "i4"
         },
         "yaxis": "y"
        },
        {
         "hovertemplate": "Country Name=Czech Republic<br>Year=%{x}<br>Count=%{y}<extra></extra>",
         "legendgroup": "Czech Republic",
         "line": {
          "color": "#636efa",
          "dash": "solid"
         },
         "marker": {
          "symbol": "circle"
         },
         "mode": "lines",
         "name": "Czech Republic",
         "showlegend": true,
         "type": "scattergl",
         "x": {
          "bdata": "qAepB6oHqwesB60HrgevB7AHsQeyB7MHtAe1B7YHtwe4B7kHuge7B7wHvQe+B78HwAfBB8IHwwfEB8UHxgfHB8gHyQfKB8sHzAfNB84HzwfQB9EH0gfTB9QH1QfWB9cH2AfZB9oH2wfcB90H3gffB+AH4Qc=",
          "dtype": "i2"
         },
         "xaxis": "x",
         "y": {
          "bdata": "1oOSANtHkgBU3JIAHZCTADxvlACeOJUAcNuVAONXlgB6s5YAhAKXABdslgD/8ZUAcJGWANpmlwBraZgAfHuZAHOCmgADcJsAMkicAHUMnQDBOp0AryydAEpknQCQh50AZaCdAF67nQBTz50ANuOdAEwCngDsGJ4Aq6ydAOJLnQATdZ0A/56dAJOtnQDVlJ0A6WWdAIM6nQBlFJ0AVOucANd6nACd5JsAtJebAE6MmwBtmJsAkM+bALk7nADMJZ0A23SeAKBcnwCq058AWCigAMFhoABgb6AAo5qgAIvroAC8OqEAhqihAA==",
          "dtype": "i4"
         },
         "yaxis": "y"
        },
        {
         "hovertemplate": "Country Name=Germany<br>Year=%{x}<br>Count=%{y}<extra></extra>",
         "legendgroup": "Germany",
         "line": {
          "color": "#EF553B",
          "dash": "solid"
         },
         "marker": {
          "symbol": "circle"
         },
         "mode": "lines",
         "name": "Germany",
         "showlegend": true,
         "type": "scattergl",
         "x": {
          "bdata": "qAepB6oHqwesB60HrgevB7AHsQeyB7MHtAe1B7YHtwe4B7kHuge7B7wHvQe+B78HwAfBB8IHwwfEB8UHxgfHB8gHyQfKB8sHzAfNB84HzwfQB9EH0gfTB9QH1QfWB9cH2AfZB9oH2wfcB90H3gffB+AH4Qc=",
          "dtype": "i2"
         },
         "xaxis": "x",
         "y": {
          "bdata": "NBFXBGCnXwQ4i2kE8Qx0BEFEfQQvHYcE99OQBCgvlgTqapsEss6kBMnEqASK9aoExLCwBFp6tASJ8rQEknawBLZTqwTGn6gELJanBA4dqATAlqoE42isBLZFqwSaJKgEfQekBIlgoQR066EEML6jBGtkqAQzprEERQ28BEjqxATWO84EC1nWBIym2gTjTt4Ez+vhBFPA4wTb8OMEE8DkBLRy5gRlj+gEr6zqBCBf6wQkGesELmLqBAP36AQESecEkebkBOO64QQi0d8EJ+bIBF8zywTljc4E5LHTBFNw3gR9iugE6j7tBA==",
          "dtype": "i4"
         },
         "yaxis": "y"
        },
        {
         "hovertemplate": "Country Name=Djibouti<br>Year=%{x}<br>Count=%{y}<extra></extra>",
         "legendgroup": "Djibouti",
         "line": {
          "color": "#00cc96",
          "dash": "solid"
         },
         "marker": {
          "symbol": "circle"
         },
         "mode": "lines",
         "name": "Djibouti",
         "showlegend": true,
         "type": "scattergl",
         "x": {
          "bdata": "qAepB6oHqwesB60HrgevB7AHsQeyB7MHtAe1B7YHtwe4B7kHuge7B7wHvQe+B78HwAfBB8IHwwfEB8UHxgfHB8gHyQfKB8sHzAfNB84HzwfQB9EH0gfTB9QH1QfWB9cH2AfZB9oH2wfcB90H3gffB+AH4Qc=",
          "dtype": "i2"
         },
         "xaxis": "x",
         "y": {
          "bdata": "tEYBALJZAQD8bwEAFIkBAD+kAQATwQEA8t8BAEUBAgCuJAIAf0kCAKtvAgCclQIAGLwCAGjoAgB9IQMAt2sDAOzKAwDnOwQAKLMEANUgBQAwegUAmbgFAPfgBQBKAgYAATIGAI1+BgDZ7gYAWnsHAGcSCACYmggAPgIJAHxCCQCOYgkA/28JAB5/CQB0ngkARtIJAH8VCgAPYgoAR64KABDzCgBXLwsAvmULAFmXCwATxgsAlvMLAMMfDABLSgwA5nQMAK+hDAAG0gwAqgYNACg/DQBdeg0AiLYNAEnyDQBYLQ4A4WcOAA==",
          "dtype": "i4"
         },
         "yaxis": "y"
        },
        {
         "hovertemplate": "Country Name=Dominica<br>Year=%{x}<br>Count=%{y}<extra></extra>",
         "legendgroup": "Dominica",
         "line": {
          "color": "#ab63fa",
          "dash": "solid"
         },
         "marker": {
          "symbol": "circle"
         },
         "mode": "lines",
         "name": "Dominica",
         "showlegend": true,
         "type": "scattergl",
         "x": {
          "bdata": "qAepB6oHqwesB60HrgevB7AHsQeyB7MHtAe1B7YHtwe4B7kHuge7B7wHvQe+B78HwAfBB8IHwwfEB8UHxgfHB8gHyQfKB8sHzAfNB84HzwfQB9EH0gfTB9QH1QfWB9cH2AfZB9oH2wfcB90H3gffB+AH4Qc=",
          "dtype": "i2"
         },
         "xaxis": "x",
         "y": {
          "bdata": "a+oAAGjuAAAe8gAAxvUAALb5AAAO/gAABwMBAGYIAQCwDQEARRIBAKEVAQCQFwEAMxgBADoYAQB6GAEAnhkBAM4bAQDgHgEALCIBAMskAQAyJgEALSYBAPskAQDzIgEAeyABAPEdAQBVGwEAohgBACgWAQBDFAEAExMBAOYSAQCQEwEArxQBAIMVAQC6FQEAGBUBAMcTAQApEgEAyxABABIQAQAdEAEAzRABANQRAQDuEgEAvRMBAD4UAQCLFAEAqxQBAMMUAQDeFAEABBUBADUVAQBoFQEArRUBAA8WAQCLFgEAIhcBAA==",
          "dtype": "i4"
         },
         "yaxis": "y"
        },
        {
         "hovertemplate": "Country Name=Denmark<br>Year=%{x}<br>Count=%{y}<extra></extra>",
         "legendgroup": "Denmark",
         "line": {
          "color": "#FFA15A",
          "dash": "solid"
         },
         "marker": {
          "symbol": "circle"
         },
         "mode": "lines",
         "name": "Denmark",
         "showlegend": true,
         "type": "scattergl",
         "x": {
          "bdata": "qAepB6oHqwesB60HrgevB7AHsQeyB7MHtAe1B7YHtwe4B7kHuge7B7wHvQe+B78HwAfBB8IHwwfEB8UHxgfHB8gHyQfKB8sHzAfNB84HzwfQB9EH0gfTB9QH1QfWB9cH2AfZB9oH2wfcB90H3gffB+AH4Qc=",
          "dtype": "i2"
         },
         "xaxis": "x",
         "y": {
          "bdata": "E+FFAGdeRgAv60YAw3pHAJgNSADknUgAxTNJABrISQBzO0oA1KRKAPU0SwA2u0sAbCpMAKWgTAAx/EwAFjVNANRmTQCjpE0AeOJNAIETTgDTK04AJCZOAHIXTgC5CU4AQ/9NAFsHTgAWIk4AcDtOACxFTgAyUU4Ay3FOAPqlTgCq6E4AFCxPAKRwTwDd2k8A4k5QAH+kUACb71AARzRRAOB5UQC/xFEAuwdSAO5AUgBrd1IAqLFSAFj3UgC+VVMAddNTAJdGVACjplQADABVABRSVQBUrVUA0xxWABu5VgAKZ1cAdPdXAA==",
          "dtype": "i4"
         },
         "yaxis": "y"
        },
        {
         "hovertemplate": "Country Name=Dominican Republic<br>Year=%{x}<br>Count=%{y}<extra></extra>",
         "legendgroup": "Dominican Republic",
         "line": {
          "color": "#19d3f3",
          "dash": "solid"
         },
         "marker": {
          "symbol": "circle"
         },
         "mode": "lines",
         "name": "Dominican Republic",
         "showlegend": true,
         "type": "scattergl",
         "x": {
          "bdata": "qAepB6oHqwesB60HrgevB7AHsQeyB7MHtAe1B7YHtwe4B7kHuge7B7wHvQe+B78HwAfBB8IHwwfEB8UHxgfHB8gHyQfKB8sHzAfNB84HzwfQB9EH0gfTB9QH1QfWB9cH2AfZB9oH2wfcB90H3gffB+AH4Qc=",
          "dtype": "i2"
         },
         "xaxis": "x",
         "y": {
          "bdata": "EEQyAMj5MwD6uTUAXYM3AExUOQCFKzsANAg9ANTpPgAG0EAAhLpCAAipRAAKm0YAA5BIAO2HSgCtgkwAPYBOAHqAUAAMg1IABodUAHWLVgCXj1gAJZNaADqWXABtmV4AdJ1gAOWiYgBiqWQAzbBmAFG6aACAx2oANtlsAAnwbgDWCnEAXyZzAHs+dQDvT3cAe1l5ALdbewCaV30A805/ABlDgQBJNIMA7yGFAI0LhwBs8IgAKdCKAH6qjADtf44Am1GQACEhkgCR75MA2ryVAJ+IlwDgUpkAuhubANDinAAvqJ4A62qgAA==",
          "dtype": "i4"
         },
         "yaxis": "y"
        },
        {
         "hovertemplate": "Country Name=Algeria<br>Year=%{x}<br>Count=%{y}<extra></extra>",
         "legendgroup": "Algeria",
         "line": {
          "color": "#FF6692",
          "dash": "solid"
         },
         "marker": {
          "symbol": "circle"
         },
         "mode": "lines",
         "name": "Algeria",
         "showlegend": true,
         "type": "scattergl",
         "x": {
          "bdata": "qAepB6oHqwesB60HrgevB7AHsQeyB7MHtAe1B7YHtwe4B7kHuge7B7wHvQe+B78HwAfBB8IHwwfEB8UHxgfHB8gHyQfKB8sHzAfNB84HzwfQB9EH0gfTB9QH1QfWB9cH2AfZB9oH2wfcB90H3gffB+AH4Qc=",
          "dtype": "i2"
         },
         "xaxis": "x",
         "y": {
          "bdata": "x7qoAJP6rAD0TbEAY8a1AOt8ugDlgr8A4+DEAJKPygBffdAAmpDWANm33AC67uIA5j7pAIG27wAhavYA22n9AGm1BAE4SwwB+jcUAQeLHAGhTCUBrX4uASYWOAEz/UEB9xVMAQ5HVgG1g2ABTMRqAUv6dAEOF38BlQyJAd/WkgFma5wBO6+lAQ6CrgEZz7YB5ZG+AYPXxQFytMwBrkbTAbuq2QF66d8BBRLmAd1P7AHD1/IBHNP5ASpSAQK8WAkCcPIRAvkmGwLv+CQCxGgvAs9uOgLk+EUCp+1RApkzXgLsw2oCjox3Ag==",
          "dtype": "i4"
         },
         "yaxis": "y"
        },
        {
         "hovertemplate": "Country Name=Ecuador<br>Year=%{x}<br>Count=%{y}<extra></extra>",
         "legendgroup": "Ecuador",
         "line": {
          "color": "#B6E880",
          "dash": "solid"
         },
         "marker": {
          "symbol": "circle"
         },
         "mode": "lines",
         "name": "Ecuador",
         "showlegend": true,
         "type": "scattergl",
         "x": {
          "bdata": "qAepB6oHqwesB60HrgevB7AHsQeyB7MHtAe1B7YHtwe4B7kHuge7B7wHvQe+B78HwAfBB8IHwwfEB8UHxgfHB8gHyQfKB8sHzAfNB84HzwfQB9EH0gfTB9QH1QfWB9cH2AfZB9oH2wfcB90H3gffB+AH4Qc=",
          "dtype": "i2"
         },
         "xaxis": "x",
         "y": {
          "bdata": "slRFAHxSRwDxYUkA+oNLAN65TQBJBFAAfmNSAMzWVAATXVcAx/RZAICcXAD6U18AwxpiADvvZABQz2cAnrlqAEutbQCsqnAAkbJzAIjGdgDC53kAFBZ9ADVRgADSmYMAxvCGAH1WigC6yo0AuEyRALvblAC+dpgAlhycABvMnwDhg6MAOkKnAEEFqwDkyq4AhpOyAFxdtgAxIroAA9q9AKN/wQDrD8UAqY3IAE4BzADkds8AN/fSAHiH1gDtJdoAO8zdAJhw4QAtDeUAa5roALYd7ABSre8A3mfzADRg9wBrovsA0R8AAQ==",
          "dtype": "i4"
         },
         "yaxis": "y"
        },
        {
         "hovertemplate": "Country Name=Egypt, Arab Rep.<br>Year=%{x}<br>Count=%{y}<extra></extra>",
         "legendgroup": "Egypt, Arab Rep.",
         "line": {
          "color": "#FF97FF",
          "dash": "solid"
         },
         "marker": {
          "symbol": "circle"
         },
         "mode": "lines",
         "name": "Egypt, Arab Rep.",
         "showlegend": true,
         "type": "scattergl",
         "x": {
          "bdata": "qAepB6oHqwesB60HrgevB7AHsQeyB7MHtAe1B7YHtwe4B7kHuge7B7wHvQe+B78HwAfBB8IHwwfEB8UHxgfHB8gHyQfKB8sHzAfNB84HzwfQB9EH0gfTB9QH1QfWB9cH2AfZB9oH2wfcB90H3gffB+AH4Qc=",
          "dtype": "i2"
         },
         "xaxis": "x",
         "y": {
          "bdata": "vmKWAV2ToQGA9awB14q4AUtYxAH+XtAB4KXcAb4k6QG4vPUB40QCArqjDgIm0RoCA+ImAir/MgJyYT8CljZMAgqLWQJ1YWcCWNF1AivzhAIH2JQC8X2lAuDftgJeBMkCgvHbAuyg7wJyIQQDlFQZA87OLgNNAkQDS4tYA6U6bAM+L38D0rSRA3w/pANSJLcD3XvKA24t3gPNIvIDxzQGBElJGgTVcS4Ec8ZCBPE8VwSpxmsE8WWABL//lAQ+uqkEbya/BM4E1gQT1u4EYtAJBeCyJgWg8kQFTsVjBbOPggXgJaEF4Zi/BQ==",
          "dtype": "i4"
         },
         "yaxis": "y"
        },
        {
         "hovertemplate": "Country Name=Eritrea<br>Year=%{x}<br>Count=%{y}<extra></extra>",
         "legendgroup": "Eritrea",
         "line": {
          "color": "#FECB52",
          "dash": "solid"
         },
         "marker": {
          "symbol": "circle"
         },
         "mode": "lines",
         "name": "Eritrea",
         "showlegend": true,
         "type": "scattergl",
         "x": {
          "bdata": "qAepB6oHqwesB60HrgevB7AHsQeyB7MHtAe1B7YHtwe4B7kHuge7B7wHvQe+B78HwAfBB8IHwwfEB8UHxgfHB8gHyQfKB8sHzAfNB84HzwfQB9EH0gfTB9QH1QfWB9cH2AfZB9oH2wc=",
          "dtype": "i2"
         },
         "xaxis": "x",
         "y": {
          "bdata": "5l8PAHDEDwCGLhAAVp0QAM8PEQAdhREA+/wRAL53EgAL9hIA23gTAOEAFABojhQAXSEVAJG5FQCvVhYAn/gWAMeeFwBESRgAofkYAOOxGQAocxoA8TobABcHHAD+2BwAwbIdAOGTHgCagR8APnYgAIVZIQBlCyIA3XYiAPaUIgC8ciIAoigiAL7ZIQA+oiEA8IMhAOt+IQDgqiEA3SMiAMD6IgBCPCQAotslAA2wJwA7gCkAoyErAD2HLAA4uS0A+7suADCbLwCDYDAAlAoxAA==",
          "dtype": "i4"
         },
         "yaxis": "y"
        },
        {
         "hovertemplate": "Country Name=Spain<br>Year=%{x}<br>Count=%{y}<extra></extra>",
         "legendgroup": "Spain",
         "line": {
          "color": "#636efa",
          "dash": "solid"
         },
         "marker": {
          "symbol": "circle"
         },
         "mode": "lines",
         "name": "Spain",
         "showlegend": true,
         "type": "scattergl",
         "x": {
          "bdata": "qAepB6oHqwesB60HrgevB7AHsQeyB7MHtAe1B7YHtwe4B7kHuge7B7wHvQe+B78HwAfBB8IHwwfEB8UHxgfHB8gHyQfKB8sHzAfNB84HzwfQB9EH0gfTB9QH1QfWB9cH2AfZB9oH2wfcB90H3gffB+AH4Qc=",
          "dtype": "i2"
         },
         "xaxis": "x",
         "y": {
          "bdata": "2LTQATIL1QEGYdkBi4zdAWtR4gF0lecBOprsAcOz8gEuRPkBHkX+AQP4AwJqOQoCtQUQApPjFQIXwRsCTJ8hAlRrJwKWHy0CgoMyAqJ+NwLdETwCpyZAAtyeQwKFc0YC/N9IAoj/SgIwwUwCj0hOAluJTwL0dlACehFRAmiUUgK1f1UC7ppYArR4WwISJF4CvKtgAi06YwIVw2UCO0FoAjgEawLsU28CBjJ4An27gwKn744CIxiaAgdzpQIzG7ICOjS9AkJxwwIBtcYCqTzJAj+zyQKNXccC8j3FAiCxxAJxSMUC1PTGAg==",
          "dtype": "i4"
         },
         "yaxis": "y"
        },
        {
         "hovertemplate": "Country Name=Estonia<br>Year=%{x}<br>Count=%{y}<extra></extra>",
         "legendgroup": "Estonia",
         "line": {
          "color": "#EF553B",
          "dash": "solid"
         },
         "marker": {
          "symbol": "circle"
         },
         "mode": "lines",
         "name": "Estonia",
         "showlegend": true,
         "type": "scattergl",
         "x": {
          "bdata": "qAepB6oHqwesB60HrgevB7AHsQeyB7MHtAe1B7YHtwe4B7kHuge7B7wHvQe+B78HwAfBB8IHwwfEB8UHxgfHB8gHyQfKB8sHzAfNB84HzwfQB9EH0gfTB9QH1QfWB9cH2AfZB9oH2wfcB90H3gffB+AH4Qc=",
          "dtype": "i2"
         },
         "xaxis": "x",
         "y": {
          "bdata": "kXwSAHWxEgAX8hIAaTUTAJ58EwDmwBMAtfcTACIgFAAOUBQA4YYUAMzAFAC7AhUAhj8VAP9zFQC5oxUAaM8VAFj3FQDjIBYA3EcWAK1nFgBjihYAMrMWAC7dFgCJBRcAGSwXAM1TFwBegBcAXa8XACzVFwCD7RcAlvEXAOLSFwCjZBcAcMwWAPJQFgDa6xUAqpkVAO9aFQCsJhUApDYVAPlQFQBTLhUAFgwVAGDqFAB2yhQAF6wUAPqMFAAIdRQAAmcUAPNcFAATURQAT0EUAMguFABtHBQA8Q4UAE8SFADOExQACBoUAA==",
          "dtype": "i4"
         },
         "yaxis": "y"
        },
        {
         "hovertemplate": "Country Name=Ethiopia<br>Year=%{x}<br>Count=%{y}<extra></extra>",
         "legendgroup": "Ethiopia",
         "line": {
          "color": "#00cc96",
          "dash": "solid"
         },
         "marker": {
          "symbol": "circle"
         },
         "mode": "lines",
         "name": "Ethiopia",
         "showlegend": true,
         "type": "scattergl",
         "x": {
          "bdata": "qAepB6oHqwesB60HrgevB7AHsQeyB7MHtAe1B7YHtwe4B7kHuge7B7wHvQe+B78HwAfBB8IHwwfEB8UHxgfHB8gHyQfKB8sHzAfNB84HzwfQB9EH0gfTB9QH1QfWB9cH2AfZB9oH2wfcB90H3gffB+AH4Qc=",
          "dtype": "i2"
         },
         "xaxis": "x",
         "y": {
          "bdata": "bgBSAVfvWQGNVGIBniJrAd5EdAF6rX0BVECHAcQAkQGGI5sBZfKlAWWUsQGDTL4BhOnLAfaU2QFoKuYBRu7wAdV++QEaWQACVbIGAvc9DgJQOBgCkBQlArCANALSAkYCDM5YAm1NbAJ9WIACzyaVAtPwqgIrD8IC+bXaAvH89AJhqRADzjktA8b+SQNke2YDyn2CA2MrngPMyrkD5cvVA6SC8gO/BxAEi0guBFg8TQQRzmwEx/OMBHamrQQs/s4EizPxBPmQFAWcRzkFF21fBbvmhgW5eK8FrczYBYKgAgYt3SwGGIlXBg==",
          "dtype": "i4"
         },
         "yaxis": "y"
        },
        {
         "hovertemplate": "Country Name=Finland<br>Year=%{x}<br>Count=%{y}<extra></extra>",
         "legendgroup": "Finland",
         "line": {
          "color": "#ab63fa",
          "dash": "solid"
         },
         "marker": {
          "symbol": "circle"
         },
         "mode": "lines",
         "name": "Finland",
         "showlegend": true,
         "type": "scattergl",
         "x": {
          "bdata": "qAepB6oHqwesB60HrgevB7AHsQeyB7MHtAe1B7YHtwe4B7kHuge7B7wHvQe+B78HwAfBB8IHwwfEB8UHxgfHB8gHyQfKB8sHzAfNB84HzwfQB9EH0gfTB9QH1QfWB9cH2AfZB9oH2wfcB90H3gffB+AH4Qc=",
          "dtype": "i2"
         },
         "xaxis": "x",
         "y": {
          "bdata": "QpdDAM0RRACziEQALQVFAL9nRQAUo0UABeZFADBHRgAlmEYAqY1GAGNJRgAcYEYAqctGAOEyRwCOkkcAEORHAKAbSABWT0gAkIRIABK0SAAP7kgA3D1JADWnSQDrF0oAi31KAD7NSgCKC0sAG0JLADF6SwATwEsAPxZMAOyATABI70wAz05NAE2kTQBO8E0A3TFOAHttTgDaok4AotFOAJH7TgCoKU8A1lpPAFaLTwCMxk8AkAxQAFxbUAAQs1AAdxNRAPd2UQCY1lEA8DdSAFOcUgD8/VIACFZTAGucUwAH2lMAdgxUAA==",
          "dtype": "i4"
         },
         "yaxis": "y"
        },
        {
         "hovertemplate": "Country Name=Fiji<br>Year=%{x}<br>Count=%{y}<extra></extra>",
         "legendgroup": "Fiji",
         "line": {
          "color": "#FFA15A",
          "dash": "solid"
         },
         "marker": {
          "symbol": "circle"
         },
         "mode": "lines",
         "name": "Fiji",
         "showlegend": true,
         "type": "scattergl",
         "x": {
          "bdata": "qAepB6oHqwesB60HrgevB7AHsQeyB7MHtAe1B7YHtwe4B7kHuge7B7wHvQe+B78HwAfBB8IHwwfEB8UHxgfHB8gHyQfKB8sHzAfNB84HzwfQB9EH0gfTB9QH1QfWB9cH2AfZB9oH2wfcB90H3gffB+AH4Qc=",
          "dtype": "i2"
         },
         "xaxis": "x",
         "y": {
          "bdata": "CQEGANE2BgAhbwYARagGAO7fBgBgFAcA9EQHAC1yBwD8nAcACMcHAHLxBwCzHAgAfEgIAJp0CACnoAgAcswIACX3CAAYIQkAZ0wJABF8CQCrsQkADe8JAHgyCgC5dQoAQ7AKAF/cCgAv9woAdwMLAPIHCwByDgsA/R0LAKk4CwAVXAsAE4ULAKmuCwAB1QsAAvgLAKAYDACdNQwAn00MAP5fDABlawwAmXAMAMxzDADEegwAZIkMAN6hDABewgwAMeYMAIUGDQCqHg0A2SwNAC0zDQBINQ0AlTgNABNBDQDPTw0Ak2MNAA==",
          "dtype": "i4"
         },
         "yaxis": "y"
        },
        {
         "hovertemplate": "Country Name=France<br>Year=%{x}<br>Count=%{y}<extra></extra>",
         "legendgroup": "France",
         "line": {
          "color": "#19d3f3",
          "dash": "solid"
         },
         "marker": {
          "symbol": "circle"
         },
         "mode": "lines",
         "name": "France",
         "showlegend": true,
         "type": "scattergl",
         "x": {
          "bdata": "qAepB6oHqwesB60HrgevB7AHsQeyB7MHtAe1B7YHtwe4B7kHuge7B7wHvQe+B78HwAfBB8IHwwfEB8UHxgfHB8gHyQfKB8sHzAfNB84HzwfQB9EH0gfTB9QH1QfWB9cH2AfZB9oH2wfcB90H3gffB+AH4Qc=",
          "dtype": "i2"
         },
         "xaxis": "x",
         "y": {
          "bdata": "5WPHAl/V0AJt+NoC00/lAgMz7wKsKfgClvr/AvLGBgNU4AwDbMUSA+rPGAOOHx8DMo8lA7biKwOpwDEDfu02A/ZUOwN2HD8DC4hCA/73RQO3skkDmMxNAxU0UgPa2lYDAqVbA2h7YAP7YmUDh15qA+FRbwP0GHQDMZt4A0+LfQOR/4ED0OWFA9hCiQOLiYwDjMKPA7P9kgOwXpYDThubA3RzoQN2PagD0xKvAxbItQP/zLwDVwrEAwXJygNhz9ADyEjWA+BZ2wOzPeADPA3lA6Hj6QNfD+8DROfzA1Yi+AP4MvwD+Ef8Aw==",
          "dtype": "i4"
         },
         "yaxis": "y"
        },
        {
         "hovertemplate": "Country Name=Faroe Islands<br>Year=%{x}<br>Count=%{y}<extra></extra>",
         "legendgroup": "Faroe Islands",
         "line": {
          "color": "#FF6692",
          "dash": "solid"
         },
         "marker": {
          "symbol": "circle"
         },
         "mode": "lines",
         "name": "Faroe Islands",
         "showlegend": true,
         "type": "scattergl",
         "x": {
          "bdata": "qAepB6oHqwesB60HrgevB7AHsQeyB7MHtAe1B7YHtwe4B7kHuge7B7wHvQe+B78HwAfBB8IHwwfEB8UHxgfHB8gHyQfKB8sHzAfNB84HzwfQB9EH0gfTB9QH1QfWB9cH2AfZB9oH2wfcB90H3gffB+AH4Qc=",
          "dtype": "i2"
         },
         "xaxis": "x",
         "y": {
          "bdata": "N4cAAASJAADEigAAgYwAADaOAADvjwAAnpEAAEmTAADslAAAqpYAAGGYAAAimgAA9ZsAAMOdAACSnwAAU6EAAPqiAACWpAAAKqYAALinAABJqQAAzaoAAEysAADIrQAAW68AABKxAAD6sgAADbUAAO62AAA+uAAAqrgAABC4AACTtgAAurQAACCzAAA5sgAAL7IAAOSyAAAQtAAAZLUAAI+2AACVtwAAgbgAAEi5AADwuQAAaroAALC6AADRugAAzLoAAMC6AADGugAAz7oAAOO6AAAUuwAAWLsAALO7AAAtvAAAy7wAAA==",
          "dtype": "i4"
         },
         "yaxis": "y"
        },
        {
         "hovertemplate": "Country Name=Micronesia, Fed. Sts.<br>Year=%{x}<br>Count=%{y}<extra></extra>",
         "legendgroup": "Micronesia, Fed. Sts.",
         "line": {
          "color": "#B6E880",
          "dash": "solid"
         },
         "marker": {
          "symbol": "circle"
         },
         "mode": "lines",
         "name": "Micronesia, Fed. Sts.",
         "showlegend": true,
         "type": "scattergl",
         "x": {
          "bdata": "qAepB6oHqwesB60HrgevB7AHsQeyB7MHtAe1B7YHtwe4B7kHuge7B7wHvQe+B78HwAfBB8IHwwfEB8UHxgfHB8gHyQfKB8sHzAfNB84HzwfQB9EH0gfTB9QH1QfWB9cH2AfZB9oH2wfcB90H3gffB+AH4Qc=",
          "dtype": "i2"
         },
         "xaxis": "x",
         "y": {
          "bdata": "4q0AAGyzAAAHuQAA174AACTFAAADzAAAsNMAAPPbAAAU5AAA8eoAAOnvAACC8gAAR/MAAD7zAAD38wAAmPYAAGn7AAAiAgEAYgoBAHUTAQDiHAEAnyYBALwwAQD1OgEA+0QBAIhOAQBhVwEAe18BAFFnAQBpbwEALXgBANKBAQANjAEA65UBAC6eAQAJpAEAIacBAMCnAQCwpgEABaUBAIqjAQClogEAFqIBAJWhAQCBoAEAkZ4BAJubAQD8lwEAd5QBAD+SAQD/kQEAGpQBADqYAQDGnQEAtqMBAF+pAQCHrgEAY7MBAA==",
          "dtype": "i4"
         },
         "yaxis": "y"
        },
        {
         "hovertemplate": "Country Name=Gabon<br>Year=%{x}<br>Count=%{y}<extra></extra>",
         "legendgroup": "Gabon",
         "line": {
          "color": "#FF97FF",
          "dash": "solid"
         },
         "marker": {
          "symbol": "circle"
         },
         "mode": "lines",
         "name": "Gabon",
         "showlegend": true,
         "type": "scattergl",
         "x": {
          "bdata": "qAepB6oHqwesB60HrgevB7AHsQeyB7MHtAe1B7YHtwe4B7kHuge7B7wHvQe+B78HwAfBB8IHwwfEB8UHxgfHB8gHyQfKB8sHzAfNB84HzwfQB9EH0gfTB9QH1QfWB9cH2AfZB9oH2wfcB90H3gffB+AH4Qc=",
          "dtype": "i2"
         },
         "xaxis": "x",
         "y": {
          "bdata": "wKQHAMe3BwA3zQcAzOUHAF8CCABxIwgAiEkIAEt0CAAGoggAbtAIAAL+CAAlKgkAeFUJAEiBCQB2rwkAcOEJAJoXCgCfUQoAbY8KALTQCgA4FQsA+FwLABqoCwC99gsA+0gMAOSeDACA+AwAi1UNAKW1DQA/GA4A8HwOAKfjDgBTTA8AkrYPAOchEAASjhAAe/sQAFpqEQCN2hEAzEsSAEi+EgATMhMAe6gTABEkFABDqBQA1TcVAIjSFQA/eBYAzCsXAKDwFwBMyBgAm7QZALKyGgDvuRsAmL4cACa4HQBBox4At4EfAA==",
          "dtype": "i4"
         },
         "yaxis": "y"
        },
        {
         "hovertemplate": "Country Name=United Kingdom<br>Year=%{x}<br>Count=%{y}<extra></extra>",
         "legendgroup": "United Kingdom",
         "line": {
          "color": "#FECB52",
          "dash": "solid"
         },
         "marker": {
          "symbol": "circle"
         },
         "mode": "lines",
         "name": "United Kingdom",
         "showlegend": true,
         "type": "scattergl",
         "x": {
          "bdata": "qAepB6oHqwesB60HrgevB7AHsQeyB7MHtAe1B7YHtwe4B7kHuge7B7wHvQe+B78HwAfBB8IHwwfEB8UHxgfHB8gHyQfKB8sHzAfNB84HzwfQB9EH0gfTB9QH1QfWB9cH2AfZB9oH2wfcB90H3gffB+AH4Qc=",
          "dtype": "i2"
         },
         "xaxis": "x",
         "y": {
          "bdata": "gI8fAwCqJQPQhywDUKIyA4D5NwMSST0DtN5BA3BfRgO0dkoDVvlNA5JaUQOf6FQDMc5XA991WQNWAFoDCPBZAwC6WQPUcVkDmH1ZA6dCWgNoSVsDBZZbAylHWwMwklsDuO5cA3zjXgO042ADArtiA0eoZAPn62YDYodpAwE8bANym24DVrdwAxH2cgPWTHUDpo53A5rYeQNlcXwDYmx/A+KgggM5GIYD7+uJA1kmjgPBV5MDNqaZA+RyoAPftKcDkxmvA65CtgMdvb0DJkHFA0z9ywPihNIDKOvZA53J4QOt6OgDa/rvAw==",
          "dtype": "i4"
         },
         "yaxis": "y"
        },
        {
         "hovertemplate": "Country Name=Georgia<br>Year=%{x}<br>Count=%{y}<extra></extra>",
         "legendgroup": "Georgia",
         "line": {
          "color": "#636efa",
          "dash": "solid"
         },
         "marker": {
          "symbol": "circle"
         },
         "mode": "lines",
         "name": "Georgia",
         "showlegend": true,
         "type": "scattergl",
         "x": {
          "bdata": "qAepB6oHqwesB60HrgevB7AHsQeyB7MHtAe1B7YHtwe4B7kHuge7B7wHvQe+B78HwAfBB8IHwwfEB8UHxgfHB8gHyQfKB8sHzAfNB84HzwfQB9EH0gfTB9QH1QfWB9cH2AfZB9oH2wfcB90H3gffB+AH4Qc=",
          "dtype": "i2"
         },
         "xaxis": "x",
         "y": {
          "bdata": "oKA3ADCDOACsYDkApDo6AFwOOwDA1jsA7IY8AKgfPQA8rj0ArEI+AFzdPgC4hT8A9CpAAES8QADMTEEAoMhBAIBCQgCEtkIAhBpDAHiZQwD0K0QAtLtEAFBRRQD07UUAeIdGAHQmRwD0yEcATGFIAKwZSQDkSkkA0EVJADzKSQAcXUoA/O9KAOzKSQA6EkcAs4lEANlfQgCXwEAACG8/AEs2PgAlQT0AE7U8AHhMPAAs7TsABYw7AJs1OwC+5joAAbk6ABM0OgDHxzkAmVE5AOrlOAAkujgA9sA4ANzXOACR4DgAhOI4AA==",
          "dtype": "i4"
         },
         "yaxis": "y"
        },
        {
         "hovertemplate": "Country Name=Ghana<br>Year=%{x}<br>Count=%{y}<extra></extra>",
         "legendgroup": "Ghana",
         "line": {
          "color": "#EF553B",
          "dash": "solid"
         },
         "marker": {
          "symbol": "circle"
         },
         "mode": "lines",
         "name": "Ghana",
         "showlegend": true,
         "type": "scattergl",
         "x": {
          "bdata": "qAepB6oHqwesB60HrgevB7AHsQeyB7MHtAe1B7YHtwe4B7kHuge7B7wHvQe+B78HwAfBB8IHwwfEB8UHxgfHB8gHyQfKB8sHzAfNB84HzwfQB9EH0gfTB9QH1QfWB9cH2AfZB9oH2wfcB90H3gffB+AH4Qc=",
          "dtype": "i2"
         },
         "xaxis": "x",
         "y": {
          "bdata": "3j5lACd/aADj6GsAFGRvAHjQcgBRGHYAJC15AMMYfADq+n4ATwGCAAdLhQC864gAP9WMADTckABwwpQAml+YAH2gmwA8n54ANZihAELgpAD0s6gAQSmtAJcssgAnnrcAnEu9AP0PwwAl4cgAlcnOAKLQ1AACBNsAHWzhAMcL6ADY2e4ADcX1AAq2/AApnQMB4HQKAflEEQGkGxgBxw0fAQgsJgGAdy0Bbe80AdufPAEDl0QBct1MAS96VQHqZl4BMY5nAbzRcAFjG3oBvmKDAaGsjAEaAJYBmGmfAfXxqAGambIBv1u8AQ==",
          "dtype": "i4"
         },
         "yaxis": "y"
        },
        {
         "hovertemplate": "Country Name=Gibraltar<br>Year=%{x}<br>Count=%{y}<extra></extra>",
         "legendgroup": "Gibraltar",
         "line": {
          "color": "#00cc96",
          "dash": "solid"
         },
         "marker": {
          "symbol": "circle"
         },
         "mode": "lines",
         "name": "Gibraltar",
         "showlegend": true,
         "type": "scattergl",
         "x": {
          "bdata": "qAepB6oHqwesB60HrgevB7AHsQeyB7MHtAe1B7YHtwe4B7kHuge7B7wHvQe+B78HwAfBB8IHwwfEB8UHxgfHB8gHyQfKB8sHzAfNB84HzwfQB9EH0gfTB9QH1QfWB9cH2AfZB9oH2wfcB90H3gffB+AH4Qc=",
          "dtype": "i2"
         },
         "xaxis": "x",
         "y": {
          "bdata": "fFsAAAVdAAD5XgAAOWEAAIdjAADZZQAACWgAACVqAAAlbAAABm4AAL5vAABOcQAArnIAANJzAAC+dAAAc3UAAOR1AAAadgAAGHYAANl1AABxdQAAznQAAPtzAAAqcwAAY3IAAOJxAACmcQAAu3EAAOdxAAADcgAA23EAAF5xAACocAAAA3AAALpvAAAUcAAAK3EAAOByAAD7dAAAQXcAAGV5AAByewAAZn0AACt/AACggAAAw4EAAImCAADtggAAF4MAAB2DAAAxgwAATIMAAG6DAACcgwAAvYMAAMiDAADJgwAAwIMAAA==",
          "dtype": "i4"
         },
         "yaxis": "y"
        },
        {
         "hovertemplate": "Country Name=Guinea<br>Year=%{x}<br>Count=%{y}<extra></extra>",
         "legendgroup": "Guinea",
         "line": {
          "color": "#ab63fa",
          "dash": "solid"
         },
         "marker": {
          "symbol": "circle"
         },
         "mode": "lines",
         "name": "Guinea",
         "showlegend": true,
         "type": "scattergl",
         "x": {
          "bdata": "qAepB6oHqwesB60HrgevB7AHsQeyB7MHtAe1B7YHtwe4B7kHuge7B7wHvQe+B78HwAfBB8IHwwfEB8UHxgfHB8gHyQfKB8sHzAfNB84HzwfQB9EH0gfTB9QH1QfWB9cH2AfZB9oH2wfcB90H3gffB+AH4Qc=",
          "dtype": "i2"
         },
         "xaxis": "x",
         "y": {
          "bdata": "ElE1AEEzNgAlGzcA7Ak4AGwBOQBpAjoA+w07AL0iPAD/Oz0AeFM+AO1kPwBLcEAA5ndBAO18QgBegUMA8IdEAIqRRQCNoUYAqMBHAJ/5SAALVUoAeNRLAFp4TQC1Rk8AGkZRAO55UwDq5VUAboVYABZJWwCzG14Am+1gABu3YwCGemYADj5pAJwMbAD57G4AZuNxAPvpdAAt8ncA1+d6AFq+fQA5b4AAWgODAMWPhQAvMogATQCLACEFjgBSPJEAKJqUALULmAAwhZsA9wCfAH2JogAKNqYAgSaqAJhwrgBJHbMA0yK4AA==",
          "dtype": "i4"
         },
         "yaxis": "y"
        },
        {
         "hovertemplate": "Country Name=Gambia, The<br>Year=%{x}<br>Count=%{y}<extra></extra>",
         "legendgroup": "Gambia, The",
         "line": {
          "color": "#FFA15A",
          "dash": "solid"
         },
         "marker": {
          "symbol": "circle"
         },
         "mode": "lines",
         "name": "Gambia, The",
         "showlegend": true,
         "type": "scattergl",
         "x": {
          "bdata": "qAepB6oHqwesB60HrgevB7AHsQeyB7MHtAe1B7YHtwe4B7kHuge7B7wHvQe+B78HwAfBB8IHwwfEB8UHxgfHB8gHyQfKB8sHzAfNB84HzwfQB9EH0gfTB9QH1QfWB9cH2AfZB9oH2wfcB90H3gffB+AH4Qc=",
          "dtype": "i2"
         },
         "xaxis": "x",
         "y": {
          "bdata": "95EFAN2uBQD2ywUAOeoFAOsKBgALLwYA9lYGAIWCBgBLsQYAnOIGABoWBwCkSwcAioMHACi+BwDz+wcASz0IAO2CCAD1zAgAOBoJAEBpCQA+uQkAqwgKAOFYCgAnrwoAvhILAEuICwBrEgwAL64MAORTDQCz+A0AyZQOAKElDwCTrQ8A/i8QAESyEAB/OBEAO8MRAI5REgBt5BIAzXwTAEcbFADKwBQAZW0VAMUfFgDP1RYAPY4XAJVIGACoBRkAxcYZAPeNGgCsXBsAUzMcAHMRHQC/9h0AauIeAOTTHwATyyAABsghAA==",
          "dtype": "i4"
         },
         "yaxis": "y"
        },
        {
         "hovertemplate": "Country Name=Guinea-Bissau<br>Year=%{x}<br>Count=%{y}<extra></extra>",
         "legendgroup": "Guinea-Bissau",
         "line": {
          "color": "#19d3f3",
          "dash": "solid"
         },
         "marker": {
          "symbol": "circle"
         },
         "mode": "lines",
         "name": "Guinea-Bissau",
         "showlegend": true,
         "type": "scattergl",
         "x": {
          "bdata": "qAepB6oHqwesB60HrgevB7AHsQeyB7MHtAe1B7YHtwe4B7kHuge7B7wHvQe+B78HwAfBB8IHwwfEB8UHxgfHB8gHyQfKB8sHzAfNB84HzwfQB9EH0gfTB9QH1QfWB9cH2AfZB9oH2wfcB90H3gffB+AH4Qc=",
          "dtype": "i2"
         },
         "xaxis": "x",
         "y": {
          "bdata": "yGYJAKmACQCTmAkAg7AJABTLCQA+6gkAMg4KADU2CgDwYQoAt5AKAKvBCgAc9goAay0LAL1iCwCqjwsAJbALAHXBCwCZxgsALsgLAEbSCwBt7QsAzhwMAKVdDAD/qgwATP0MAONODQBqng0Acu0NALU8DgC+jQ4AneEOAJI4DwC+kQ8A3+sPAGpFEABWnRAAMfMQAN5HEQBDnREAK/YRAJVUEgBiuRIANSQTAOmUEwDUChQAooUUAC0FFQDXiRUAGBQWAJGkFgCnOxcAbdkXAHN9GACBJhkAF9MZAPKBGgClMhsAMuUbAA==",
          "dtype": "i4"
         },
         "yaxis": "y"
        },
        {
         "hovertemplate": "Country Name=Equatorial Guinea<br>Year=%{x}<br>Count=%{y}<extra></extra>",
         "legendgroup": "Equatorial Guinea",
         "line": {
          "color": "#FF6692",
          "dash": "solid"
         },
         "marker": {
          "symbol": "circle"
         },
         "mode": "lines",
         "name": "Equatorial Guinea",
         "showlegend": true,
         "type": "scattergl",
         "x": {
          "bdata": "qAepB6oHqwesB60HrgevB7AHsQeyB7MHtAe1B7YHtwe4B7kHuge7B7wHvQe+B78HwAfBB8IHwwfEB8UHxgfHB8gHyQfKB8sHzAfNB84HzwfQB9EH0gfTB9QH1QfWB9cH2AfZB9oH2wfcB90H3gffB+AH4Qc=",
          "dtype": "i2"
         },
         "xaxis": "x",
         "y": {
          "bdata": "ZeUDAOfyAwBLAAQAEA8EABohBABMNwQAclMEAM5zBACVkQQAgKMEAG6jBABejwQA3WoEAI48BAArDgQAOOcDAJrIAwDssQMAPqgDADyxAwBJ0AMAtggEANZXBADuswQAIA8FAHZfBQB/oQUABdgFANEGBgBcNAYAdGUGANWaBgAi0wYALQ8HAHpPBwCAlAcADd8HAIwvCACchQgAiuAIAOU/CQByowkA0AsKAEh6CgCV8AoA328LAHD4CwC3iQwAqCINAN/BDQAXZg4A5Q4PABe8DwC9bBAA5B8RALjUEQDLihIAsUETAA==",
          "dtype": "i4"
         },
         "yaxis": "y"
        },
        {
         "hovertemplate": "Country Name=Greece<br>Year=%{x}<br>Count=%{y}<extra></extra>",
         "legendgroup": "Greece",
         "line": {
          "color": "#B6E880",
          "dash": "solid"
         },
         "marker": {
          "symbol": "circle"
         },
         "mode": "lines",
         "name": "Greece",
         "showlegend": true,
         "type": "scattergl",
         "x": {
          "bdata": "qAepB6oHqwesB60HrgevB7AHsQeyB7MHtAe1B7YHtwe4B7kHuge7B7wHvQe+B78HwAfBB8IHwwfEB8UHxgfHB8gHyQfKB8sHzAfNB84HzwfQB9EH0gfTB9QH1QfWB9cH2AfZB9oH2wfcB90H3gffB+AH4Qc=",
          "dtype": "i2"
         },
         "xaxis": "x",
         "y": {
          "bdata": "zSF/AOIkgADp6IAAiWOBAN3bgQC9d4IAE2+DADiChACdX4UAnNyFAOYqhgA8wIYANKGHAD4/iADmv4gADQqKADYzjAA/CY4Ax+OPAOKxkQAJIpMARnWUAElglQBjP5YAef+WANyVlwBtFpgA05iYAPcmmQAa9JkAOJebADd4nQBVrZ4A/5yfABpqoABpKqEAoOChAIutogD9lKMA4jWkADDipAA0vqUABlqmAMa/pgCFKacAMqenAEooqAAZlqgA0QipAMl6qQC9sqkAg3KpAJOIqADbUKcAfTSmABMdpQCjbaQAdxqkAA==",
          "dtype": "i4"
         },
         "yaxis": "y"
        },
        {
         "hovertemplate": "Country Name=Grenada<br>Year=%{x}<br>Count=%{y}<extra></extra>",
         "legendgroup": "Grenada",
         "line": {
          "color": "#FF97FF",
          "dash": "solid"
         },
         "marker": {
          "symbol": "circle"
         },
         "mode": "lines",
         "name": "Grenada",
         "showlegend": true,
         "type": "scattergl",
         "x": {
          "bdata": "qAepB6oHqwesB60HrgevB7AHsQeyB7MHtAe1B7YHtwe4B7kHuge7B7wHvQe+B78HwAfBB8IHwwfEB8UHxgfHB8gHyQfKB8sHzAfNB84HzwfQB9EH0gfTB9QH1QfWB9cH2AfZB9oH2wfcB90H3gffB+AH4Qc=",
          "dtype": "i2"
         },
         "xaxis": "x",
         "y": {
          "bdata": "TF8BAL9kAQBEaQEA5WwBAKtvAQCscQEA1nIBACxzAQDPcgEACHIBAAtxAQANcAEAH28BAOVtAQAHbAEATmkBAFNlAQBzYAEADVwBABhaAQDIWwEA72EBAMJrAQATdwEArYABAGqGAQBfhwEAbIQBAEh/AQCcegEAS3gBAMx4AQCNewEAtn8BABiEAQDAhwEAiYoBAL+MAQCFjgEAIJABALGRAQBRkwEA0pQBAEWWAQCblwEA1ZgBAOWZAQDmmgEA8JsBAD2dAQD5ngEALKEBALajAQCKpgEAZqkBAB+sAQC1rgEAGrEBAA==",
          "dtype": "i4"
         },
         "yaxis": "y"
        },
        {
         "hovertemplate": "Country Name=Greenland<br>Year=%{x}<br>Count=%{y}<extra></extra>",
         "legendgroup": "Greenland",
         "line": {
          "color": "#FECB52",
          "dash": "solid"
         },
         "marker": {
          "symbol": "circle"
         },
         "mode": "lines",
         "name": "Greenland",
         "showlegend": true,
         "type": "scattergl",
         "x": {
          "bdata": "qAepB6oHqwesB60HrgevB7AHsQeyB7MHtAe1B7YHtwe4B7kHuge7B7wHvQe+B78HwAfBB8IHwwfEB8UHxgfHB8gHyQfKB8sHzAfNB84HzwfQB9EH0gfTB9QH1QfWB9cH2AfZB9oH2wfcB90H3gffB+AH4Qc=",
          "dtype": "i2"
         },
         "xaxis": "x",
         "y": {
          "bdata": "9H4AAKSDAAC4iAAAMI4AAOCSAAAgmQAANJ4AAKyjAACIqQAAZK8AAEC1AABguAAArLwAAGi/AABcwQAAwMEAACTCAAD4wAAAMMAAAMDBAAAYxAAAOMcAACzJAACEywAA3M0AANDPAAD80AAAVNMAABDWAAAE2AAAMNkAAMzYAAAE2AAAoNcAAMzYAAD42QAAXNoAAMDaAAAk2wAAJNsAAIjbAAAe3AAAId0AAL3dAABP3gAAZ94AAMbdAADr3AAACNwAAAPcAABJ3gAAOt4AAOrdAACj3AAA59sAADLbAAB62wAAa9sAAA==",
          "dtype": "i4"
         },
         "yaxis": "y"
        },
        {
         "hovertemplate": "Country Name=Guatemala<br>Year=%{x}<br>Count=%{y}<extra></extra>",
         "legendgroup": "Guatemala",
         "line": {
          "color": "#636efa",
          "dash": "solid"
         },
         "marker": {
          "symbol": "circle"
         },
         "mode": "lines",
         "name": "Guatemala",
         "showlegend": true,
         "type": "scattergl",
         "x": {
          "bdata": "qAepB6oHqwesB60HrgevB7AHsQeyB7MHtAe1B7YHtwe4B7kHuge7B7wHvQe+B78HwAfBB8IHwwfEB8UHxgfHB8gHyQfKB8sHzAfNB84HzwfQB9EH0gfTB9QH1QfWB9cH2AfZB9oH2wfcB90H3gffB+AH4Qc=",
          "dtype": "i2"
         },
         "xaxis": "x",
         "y": {
          "bdata": "O0BAAA8qQgB5HkQANh9GAKwuSABUTkoAoX5MAKG+TgB/DFEAqGVTACDIVQAANFgAP6laANIlXQAjp18AwCtiAC6yZADMO2cAks1pAGFubAADI28A+O1xAKPNdAAwvncAkbl6ALy7fQBMw4AAhNKDAE/thgBhGYoAxVqNAAa0kAAAJJQABKeXAIk3mwAp0p4AknSiANIhpgA94qkAQ8GtALfGsQDS9bUA0Eq6AP69vgD9Q8MAXNTHAB1szADnDNEAnLjVAOdy2gARPt8AwxnkAHoD6QAt+e0AK/jyAA3+9wCUCf0A+BkCAQ==",
          "dtype": "i4"
         },
         "yaxis": "y"
        },
        {
         "hovertemplate": "Country Name=Guam<br>Year=%{x}<br>Count=%{y}<extra></extra>",
         "legendgroup": "Guam",
         "line": {
          "color": "#EF553B",
          "dash": "solid"
         },
         "marker": {
          "symbol": "circle"
         },
         "mode": "lines",
         "name": "Guam",
         "showlegend": true,
         "type": "scattergl",
         "x": {
          "bdata": "qAepB6oHqwesB60HrgevB7AHsQeyB7MHtAe1B7YHtwe4B7kHuge7B7wHvQe+B78HwAfBB8IHwwfEB8UHxgfHB8gHyQfKB8sHzAfNB84HzwfQB9EH0gfTB9QH1QfWB9cH2AfZB9oH2wfcB90H3gffB+AH4Qc=",
          "dtype": "i2"
         },
         "xaxis": "x",
         "y": {
          "bdata": "tgQBAOgJAQDkDwEAdhYBAFsdAQBOJAEAPysBAEQyAQBZOQEAeEABAKVHAQDeTgEAI1YBAHhdAQDxZAEAqGwBAJl0AQDFfAEALoUBANSNAQDFlgEA9Z8BAGqpAQAqswEAKb0BAFzHAQDA0QEAP9wBAAHnAQAi8gEAsv0BALYJAgD0FQIAKiICANItAgCZOAIAXEICAB9LAgDVUgIAYVkCAMFeAgDxYgIA+GUCABVoAgCVaQIAwmoCALhrAgB/bAIAPG0CAPptAgDUbgIAzG8CAPxwAgCXcgIA+HQCAD14AgCHfAIAuYECAA==",
          "dtype": "i4"
         },
         "yaxis": "y"
        },
        {
         "hovertemplate": "Country Name=Guyana<br>Year=%{x}<br>Count=%{y}<extra></extra>",
         "legendgroup": "Guyana",
         "line": {
          "color": "#00cc96",
          "dash": "solid"
         },
         "marker": {
          "symbol": "circle"
         },
         "mode": "lines",
         "name": "Guyana",
         "showlegend": true,
         "type": "scattergl",
         "x": {
          "bdata": "qAepB6oHqwesB60HrgevB7AHsQeyB7MHtAe1B7YHtwe4B7kHuge7B7wHvQe+B78HwAfBB8IHwwfEB8UHxgfHB8gHyQfKB8sHzAfNB84HzwfQB9EH0gfTB9QH1QfWB9cH2AfZB9oH2wfcB90H3gffB+AH4Qc=",
          "dtype": "i2"
         },
         "xaxis": "x",
         "y": {
          "bdata": "q7kIANr9CABNQAkA738JAJW7CQBc8gkAySMKAB9QCgBCeAoAwZ0KAKbBCgDU4woAHAQLADwjCwA3QgsAcWELALWBCwA4ogsATcALAD7YCwB55wsApO0LAL7rCwDE4gsAM9QLAIPBCwAeqgsAyI4LAC90CwBxYAsAjVcLABpcCwA6bAsA4IELAHCUCwDLnQsA25sLANKQCwBygAsAanALANtkCwD2XgsAVV0LALdeCwAJYQsAs2ILAGdjCwDqYwsAQWULAMZoCwB8bwsAnHkLAMeGCwD1lQsA9KULAMi1CwAmxQsANdQLAA==",
          "dtype": "i4"
         },
         "yaxis": "y"
        },
        {
         "hovertemplate": "Country Name=Hong Kong SAR, China<br>Year=%{x}<br>Count=%{y}<extra></extra>",
         "legendgroup": "Hong Kong SAR, China",
         "line": {
          "color": "#ab63fa",
          "dash": "solid"
         },
         "marker": {
          "symbol": "circle"
         },
         "mode": "lines",
         "name": "Hong Kong SAR, China",
         "showlegend": true,
         "type": "scattergl",
         "x": {
          "bdata": "qAepB6oHqwesB60HrgevB7AHsQeyB7MHtAe1B7YHtwe4B7kHuge7B7wHvQe+B78HwAfBB8IHwwfEB8UHxgfHB8gHyQfKB8sHzAfNB84HzwfQB9EH0gfTB9QH1QfWB9cH2AfZB9oH2wfcB90H3gffB+AH4Qc=",
          "dtype": "i2"
         },
         "xaxis": "x",
         "y": {
          "bdata": "Fe4uAGRXMADwbjIA5DI0ANh5NQBM5jYATGM3ADDOOABMBjoAXPU6ANhoPAD0uT0A0Os+AMC4QADIzEIAIBREAHDwRAAU8UUAbDhHAKQ4SwC8QU0AqBdPAHRUUABMj1EAjF1SAEhBUwB4TFQA1CZVANDeVQC4w1YANAtXAMDEVwA0glgAyApaAMgXXABE710ArDJiANQEYwBU2WMApM5kACizZQC8c2YAJOhmADC0ZgAMgmcAEPZnAIyhaADMiGkA6CpqAIBlagBILmsAcOdrABQabQCUim0APFBuAKRBbwCY8m8A1MlwAA==",
          "dtype": "i4"
         },
         "yaxis": "y"
        },
        {
         "hovertemplate": "Country Name=Honduras<br>Year=%{x}<br>Count=%{y}<extra></extra>",
         "legendgroup": "Honduras",
         "line": {
          "color": "#FFA15A",
          "dash": "solid"
         },
         "marker": {
          "symbol": "circle"
         },
         "mode": "lines",
         "name": "Honduras",
         "showlegend": true,
         "type": "scattergl",
         "x": {
          "bdata": "qAepB6oHqwesB60HrgevB7AHsQeyB7MHtAe1B7YHtwe4B7kHuge7B7wHvQe+B78HwAfBB8IHwwfEB8UHxgfHB8gHyQfKB8sHzAfNB84HzwfQB9EH0gfTB9QH1QfWB9cH2AfZB9oH2wfcB90H3gffB+AH4Qc=",
          "dtype": "i2"
         },
         "xaxis": "x",
         "y": {
          "bdata": "aBsfABn9HwB/5CAAANMhAHDKIgAfzCMA09gkAI/wJQDXEicAyT4oAO5zKQArsioAQforAJ1NLQAnri4AZR0wAMmbMQD5KDMAL8Q0AD5sNgBHIDgAF+A5APCrOwBdgz0A7GU/AElTQQCdS0MABk9FAKBdRwBud0kAp5xLAF/MTQAGB1AA7E9SAKCrVADWHFcAeaRZAANAXAB26l4A35xhAK1RZACoBmcAcbtpAA9vbAAJIW8AqdBxAHp9dAAGJncAm8d5APdefAAe6n4An2eBALPYgwA5QYYAxaaIAFQNiwALdo0AFeCPAA==",
          "dtype": "i4"
         },
         "yaxis": "y"
        },
        {
         "hovertemplate": "Country Name=Croatia<br>Year=%{x}<br>Count=%{y}<extra></extra>",
         "legendgroup": "Croatia",
         "line": {
          "color": "#19d3f3",
          "dash": "solid"
         },
         "marker": {
          "symbol": "circle"
         },
         "mode": "lines",
         "name": "Croatia",
         "showlegend": true,
         "type": "scattergl",
         "x": {
          "bdata": "qAepB6oHqwesB60HrgevB7AHsQeyB7MHtAe1B7YHtwe4B7kHuge7B7wHvQe+B78HwAfBB8IHwwfEB8UHxgfHB8gHyQfKB8sHzAfNB84HzwfQB9EH0gfTB9QH1QfWB9cH2AfZB9oH2wfcB90H3gffB+AH4Qc=",
          "dtype": "i2"
         },
         "xaxis": "x",
         "y": {
          "bdata": "lSw/AHyWPwBoCUAAi3pAAMzkQABbUkEArcZBAPszQgA8nUIAQgJDAFxTQwCrnUMABOlDAJE1RACkhUQAUtlEAH42RQDTkkUA3eZFAFocRgDmL0YAtV1GAHq2RgBOFEcAXWpHAOm8RwAmC0gAoVJIAAePSAAcvkgAmOVIAH6MRwBK0kUAjzJGAPj7RgD+fkYAKYlFAIgyRQCnJ0UAVdtEAE4uRAB6m0EAXqVBACeqQQDYrkEAgcRBAHfIQQDJxEEAycJBAB2xQQADi0EALlFBACYeQQDJ70AANaxAAFQkQAANsj8Ac+8+AA==",
          "dtype": "i4"
         },
         "yaxis": "y"
        },
        {
         "hovertemplate": "Country Name=Haiti<br>Year=%{x}<br>Count=%{y}<extra></extra>",
         "legendgroup": "Haiti",
         "line": {
          "color": "#FF6692",
          "dash": "solid"
         },
         "marker": {
          "symbol": "circle"
         },
         "mode": "lines",
         "name": "Haiti",
         "showlegend": true,
         "type": "scattergl",
         "x": {
          "bdata": "qAepB6oHqwesB60HrgevB7AHsQeyB7MHtAe1B7YHtwe4B7kHuge7B7wHvQe+B78HwAfBB8IHwwfEB8UHxgfHB8gHyQfKB8sHzAfNB84HzwfQB9EH0gfTB9QH1QfWB9cH2AfZB9oH2wfcB90H3gffB+AH4Qc=",
          "dtype": "i2"
         },
         "xaxis": "x",
         "y": {
          "bdata": "L/46ADgmPADlUz0A24Y+AOW+PwCs+0AARj5CAFeGQwB10EQABRhGAIZaRwC+lkgA1M9JAGENSwC+WUwAsbxNANA3TwAbylAAc3VSADs7VAClG1YANhhYANMuWgAmV1wA/4VeAPmyYADN2mIAeP5kAE8fZwBbQGkA3WNrAG+JbQDFr28AUddxAJAAdAD3K3YAyFl4AAaKegBYvHwAUfB+AL4lgQAzXIMA5pOFAAjOhwAlDIoAGE+MABGXjgAg45AA9DGTAJ6BlQCK0JcAYB6aALJqnAChs54AEPegAHYzowCiZ6UA3pOnAA==",
          "dtype": "i4"
         },
         "yaxis": "y"
        },
        {
         "hovertemplate": "Country Name=Hungary<br>Year=%{x}<br>Count=%{y}<extra></extra>",
         "legendgroup": "Hungary",
         "line": {
          "color": "#B6E880",
          "dash": "solid"
         },
         "marker": {
          "symbol": "circle"
         },
         "mode": "lines",
         "name": "Hungary",
         "showlegend": true,
         "type": "scattergl",
         "x": {
          "bdata": "qAepB6oHqwesB60HrgevB7AHsQeyB7MHtAe1B7YHtwe4B7kHuge7B7wHvQe+B78HwAfBB8IHwwfEB8UHxgfHB8gHyQfKB8sHzAfNB84HzwfQB9EH0gfTB9QH1QfWB9cH2AfZB9oH2wfcB90H3gffB+AH4Qc=",
          "dtype": "i2"
         },
         "xaxis": "x",
         "y": {
          "bdata": "31eYAAkJmQCmh5kAC+6ZAJtqmgBf2JoAXVCbAJzkmwDHfZwAYyWdAHa+nQAxMp4AGaueADcunwCA5J8A7dWgABW5oQDfeaIAlgmjABhVowBScKMAKHOjAH9aowC3G6MAP8iiAIl8ogCkNaIABfChAIewoQA38J8AZEueABhJngA9OZ4AEwueALvTnQCFm50ARladADYFnQDKp5wAWjacAJvOmwA4c5sAEAKbAJCQmgAKOZoAmeqZAEqtmQBkcJkArCuZAPrumACXlpgADyiYAGpflwDa9JYA5IyWAFQxlgAHwJUAPlqVAA==",
          "dtype": "i4"
         },
         "yaxis": "y"
        },
        {
         "hovertemplate": "Country Name=Indonesia<br>Year=%{x}<br>Count=%{y}<extra></extra>",
         "legendgroup": "Indonesia",
         "line": {
          "color": "#FF97FF",
          "dash": "solid"
         },
         "marker": {
          "symbol": "circle"
         },
         "mode": "lines",
         "name": "Indonesia",
         "showlegend": true,
         "type": "scattergl",
         "x": {
          "bdata": "qAepB6oHqwesB60HrgevB7AHsQeyB7MHtAe1B7YHtwe4B7kHuge7B7wHvQe+B78HwAfBB8IHwwfEB8UHxgfHB8gHyQfKB8sHzAfNB84HzwfQB9EH0gfTB9QH1QfWB9cH2AfZB9oH2wfcB90H3gffB+AH4Qc=",
          "dtype": "i2"
         },
         "xaxis": "x",
         "y": {
          "bdata": "nPk6BdrKXgXpt4MFgdGpBT010QU29PkFEgskBmNhTwaU2XsG40ypBtqa1wZQtQYH4pM2BwcjZwcDT5gHlwfKB10s/Adqsi4IordhCHVqlQgc4MkIeCL/CIX/NAmeB2sJk6agCbNu1QkPMAkK6/k7CtLrbQp+QZ8KGibQCh+mAAuKrjALZyhgCxbyjgt0+rwLLEDqC87iFgywG0MMATdvDN9xmwwZ58cM4Z30DN2nIQ2sEU8NPud8DXYeqw3lv9kNwvsIDpMPOQ7nGGoOLi2cDj0Vzw7CQgIPrPU0D5idZg8yAJcP/izGDw==",
          "dtype": "i4"
         },
         "yaxis": "y"
        },
        {
         "hovertemplate": "Country Name=Isle of Man<br>Year=%{x}<br>Count=%{y}<extra></extra>",
         "legendgroup": "Isle of Man",
         "line": {
          "color": "#FECB52",
          "dash": "solid"
         },
         "marker": {
          "symbol": "circle"
         },
         "mode": "lines",
         "name": "Isle of Man",
         "showlegend": true,
         "type": "scattergl",
         "x": {
          "bdata": "qAepB6oHqwesB60HrgevB7AHsQeyB7MHtAe1B7YHtwe4B7kHuge7B7wHvQe+B78HwAfBB8IHwwfEB8UHxgfHB8gHyQfKB8sHzAfNB84HzwfQB9EH0gfTB9QH1QfWB9cH2AfZB9oH2wfcB90H3gffB+AH4Qc=",
          "dtype": "i2"
         },
         "xaxis": "x",
         "y": {
          "bdata": "Or0AAJm8AAAivQAAoL4AAO/AAADdwwAAaccAAJbLAAAG0AAAaNQAAIHYAAAn3AAATt8AAD/iAAA15QAAVugAANzrAACY7wAANvMAADX2AAA/+AAAIPkAABz5AADP+AAAP/kAABb7AACu/gAApwMBAFYJAQCTDgEAmhIBABQVAQBWFgEABBcBAO0XAQDDGQEArhwBAHogAQC/JAEA4SgBAI0sAQCHLwEA7jEBACQ0AQCgNgEAsTkBAIU9AQDoQQEANEYBAJhJAQB5SwEAlksBADVKAQAISAEAIEYBACJFAQBXRQEAjkYBAA==",
          "dtype": "i4"
         },
         "yaxis": "y"
        },
        {
         "hovertemplate": "Country Name=India<br>Year=%{x}<br>Count=%{y}<extra></extra>",
         "legendgroup": "India",
         "line": {
          "color": "#636efa",
          "dash": "solid"
         },
         "marker": {
          "symbol": "circle"
         },
         "mode": "lines",
         "name": "India",
         "showlegend": true,
         "type": "scattergl",
         "x": {
          "bdata": "qAepB6oHqwesB60HrgevB7AHsQeyB7MHtAe1B7YHtwe4B7kHuge7B7wHvQe+B78HwAfBB8IHwwfEB8UHxgfHB8gHyQfKB8sHzAfNB84HzwfQB9EH0gfTB9QH1QfWB9cH2AfZB9oH2wfcB90H3gffB+AH4Qc=",
          "dtype": "i2"
         },
         "xaxis": "x",
         "y": {
          "bdata": "38/aGjWVZRvGjPUbiEyKHAc7Ix18BMAdDFxgHsCuBB/gQa4fMM9eICCGFyFy+tghGLCiItZ4cyMol0kkscsjJYd2ASbI9+ImHj3JJ5qutSiMLKkpoeijKpAWpSveYKssAvO0LUhiwC7MK80vNlvbMALD6jEWX/syZikNNPm/HzWI7DI2VA9HNye9XDicSnQ5O7SNOr6FqDu9FcQ8rILfPT0Q+j4VMxNARbIqQUh/QEKgr1RDRyNnRNPod0UAWIZGRcSQRwcHlUjSopFJWeSFSgZQcksxKVhM2Fk5TdNWF06VafJOE1DKTw==",
          "dtype": "i4"
         },
         "yaxis": "y"
        },
        {
         "hovertemplate": "Country Name=Ireland<br>Year=%{x}<br>Count=%{y}<extra></extra>",
         "legendgroup": "Ireland",
         "line": {
          "color": "#EF553B",
          "dash": "solid"
         },
         "marker": {
          "symbol": "circle"
         },
         "mode": "lines",
         "name": "Ireland",
         "showlegend": true,
         "type": "scattergl",
         "x": {
          "bdata": "qAepB6oHqwesB60HrgevB7AHsQeyB7MHtAe1B7YHtwe4B7kHuge7B7wHvQe+B78HwAfBB8IHwwfEB8UHxgfHB8gHyQfKB8sHzAfNB84HzwfQB9EH0gfTB9QH1QfWB9cH2AfZB9oH2wfcB90H3gffB+AH4Qc=",
          "dtype": "i2"
         },
         "xaxis": "x",
         "y": {
          "bdata": "OCkrANAYKwBSRisAKocrAHa9KwB05ysAYBQsALJJLADefCwAqr8sAMIfLQCypy0AslYuAH4WLwDc3y8ALqswAKJoMQAYFTIATMwyALZ6MwBAEzQASLA0AGgwNQBIkTUAh+Y1AKL8NQDqAjYAWQQ2AFXJNQDhkjUAdp41AJvtNQAeTDYAxZE2APLINgAJETcABoE3ADsQOAC4pjgAIks5APYPOgCD/joAK/87AGn7PAB2Gz4Aqnk/ALc1QQBeH0MASIFEAE80RQAblUUA9OJFAO0uRgDIjUYATBJHAAW/RwCHj0gA3FpJAA==",
          "dtype": "i4"
         },
         "yaxis": "y"
        },
        {
         "hovertemplate": "Country Name=Iran, Islamic Rep.<br>Year=%{x}<br>Count=%{y}<extra></extra>",
         "legendgroup": "Iran, Islamic Rep.",
         "line": {
          "color": "#00cc96",
          "dash": "solid"
         },
         "marker": {
          "symbol": "circle"
         },
         "mode": "lines",
         "name": "Iran, Islamic Rep.",
         "showlegend": true,
         "type": "scattergl",
         "x": {
          "bdata": "qAepB6oHqwesB60HrgevB7AHsQeyB7MHtAe1B7YHtwe4B7kHuge7B7wHvQe+B78HwAfBB8IHwwfEB8UHxgfHB8gHyQfKB8sHzAfNB84HzwfQB9EH0gfTB9QH1QfWB9cH2AfZB9oH2wfcB90H3gffB+AH4Qc=",
          "dtype": "i2"
         },
         "xaxis": "x",
         "y": {
          "bdata": "4kVOAfQFVwFTCmABAlVpAZTocgH5x3wBNf+GAdeTkQH7e5wBvKinAUoWswE3zb4BoenKAWuV1wHnBeUBrGrzAUm9AgJlDRMC5bckApExOAKGwU0C4mZlArTffgJl2JkCF9y1AvJ10gLfpu8CticNA0HlKQNzhEQDiRRcA7occAPS6oAD9E+PAxaKnANoiqkDiIu2AzhiwwP8IdADcMjcA21V6QPY7vUDPK8CBDp5DwTxHBwEK30oBIiUNAQbgkAEHHlMBKW+WATXhmUEzNZyBJalgASXBY8EmQieBDeyrQTwDL4En/zOBA==",
          "dtype": "i4"
         },
         "yaxis": "y"
        },
        {
         "hovertemplate": "Country Name=Iraq<br>Year=%{x}<br>Count=%{y}<extra></extra>",
         "legendgroup": "Iraq",
         "line": {
          "color": "#ab63fa",
          "dash": "solid"
         },
         "marker": {
          "symbol": "circle"
         },
         "mode": "lines",
         "name": "Iraq",
         "showlegend": true,
         "type": "scattergl",
         "x": {
          "bdata": "qAepB6oHqwesB60HrgevB7AHsQeyB7MHtAe1B7YHtwe4B7kHuge7B7wHvQe+B78HwAfBB8IHwwfEB8UHxgfHB8gHyQfKB8sHzAfNB84HzwfQB9EH0gfTB9QH1QfWB9cH2AfZB9oH2wfcB90H3gffB+AH4Qc=",
          "dtype": "i2"
         },
         "xaxis": "x",
         "y": {
          "bdata": "oDtvAJYQcgBsGXUAEWB4AFXvewDuzX8AmgGEAMyGiACKTo0AqEOSAB9WlwDqfZwA9LyhAOgYpwC+m6wA7kqyAEQnuAD2J74ACD3EAGlRygBqVdAA1UvWANQ43ACoEeIAecnnANhc7QCCw/IALhD4AOJ7/QCEUgMBacsJAbP4EAGuzRgBTTshAYwlKgFadDMB4R89AVYkRwEUcFEBkO5bAXGLZgE0Y3EBT258AdNNhwFuhJEBLM2aATzTogFQ5KkB0iGxAWoYugGY08UBtNTUAVua5gG67/kBrxUNAiXKHgJIoi4CjQI9Ag==",
          "dtype": "i4"
         },
         "yaxis": "y"
        },
        {
         "hovertemplate": "Country Name=Iceland<br>Year=%{x}<br>Count=%{y}<extra></extra>",
         "legendgroup": "Iceland",
         "line": {
          "color": "#FFA15A",
          "dash": "solid"
         },
         "marker": {
          "symbol": "circle"
         },
         "mode": "lines",
         "name": "Iceland",
         "showlegend": true,
         "type": "scattergl",
         "x": {
          "bdata": "qAepB6oHqwesB60HrgevB7AHsQeyB7MHtAe1B7YHtwe4B7kHuge7B7wHvQe+B78HwAfBB8IHwwfEB8UHxgfHB8gHyQfKB8sHzAfNB84HzwfQB9EH0gfTB9QH1QfWB9cH2AfZB9oH2wfcB90H3gffB+AH4Qc=",
          "dtype": "i2"
         },
         "xaxis": "x",
         "y": {
          "bdata": "1q0CAFW7AgBqyAIANdUCADfiAgAe7wIA8vsCAF8IAwAQEwMAaRoDAJYeAwASJQMA8TADAF09AwCpSAMAe1MDAPpbAwBnYgMAMWkDAMdxAwAqewMAY4UDAISRAwCxnQMAl6cDAP2uAwDstQMAY8ADAIzPAwC02wMAauMDAAXvAwDB+wMALQYEACUPBADMFAQAdBoEABgjBAB/LgQAhTsEAHVKBAAoWQQAI2MEAPFqBADqdAQAHocEAKaiBAAOwQQA5tcEACPcBABZ2gQAJt4EAMzkBAC08AQA2v4EAD8MBQBPHgUAaD0FAA==",
          "dtype": "i4"
         },
         "yaxis": "y"
        },
        {
         "hovertemplate": "Country Name=Israel<br>Year=%{x}<br>Count=%{y}<extra></extra>",
         "legendgroup": "Israel",
         "line": {
          "color": "#19d3f3",
          "dash": "solid"
         },
         "marker": {
          "symbol": "circle"
         },
         "mode": "lines",
         "name": "Israel",
         "showlegend": true,
         "type": "scattergl",
         "x": {
          "bdata": "qAepB6oHqwesB60HrgevB7AHsQeyB7MHtAe1B7YHtwe4B7kHuge7B7wHvQe+B78HwAfBB8IHwwfEB8UHxgfHB8gHyQfKB8sHzAfNB84HzwfQB9EH0gfTB9QH1QfWB9cH2AfZB9oH2wfcB90H3gffB+AH4Qc=",
          "dtype": "i2"
         },
         "xaxis": "x",
         "y": {
          "bdata": "5EEgAChXIQAI/SIA+EwkAPjDJQC4GycAiB0oAKjiKQA4xSoASOYrADBhLQBI1C4A4AgwALAEMgBohzMAGLg0AMjoNQBIITcAEE44ABDFOQBwLDsAIF08ABiCPQAooz4AGHY/ACiXQAD4mEEAaKpCAJDHQwBw8EQAIBtHAAiESwC4K04AyEZQANhhUgAonFQAYNpWAOAMWQA4HFsAyHVdAGj2XwBYQGIAEEBkAKQTZgCo5WcAtL5pAIShawBEj20AAIZvAKA4cgCwU3QAKH92AGS0eABs+noAlFx9AMTefwDQZoIAVPSEAA==",
          "dtype": "i4"
         },
         "yaxis": "y"
        },
        {
         "hovertemplate": "Country Name=Italy<br>Year=%{x}<br>Count=%{y}<extra></extra>",
         "legendgroup": "Italy",
         "line": {
          "color": "#FF6692",
          "dash": "solid"
         },
         "marker": {
          "symbol": "circle"
         },
         "mode": "lines",
         "name": "Italy",
         "showlegend": true,
         "type": "scattergl",
         "x": {
          "bdata": "qAepB6oHqwesB60HrgevB7AHsQeyB7MHtAe1B7YHtwe4B7kHuge7B7wHvQe+B78HwAfBB8IHwwfEB8UHxgfHB8gHyQfKB8sHzAfNB84HzwfQB9EH0gfTB9QH1QfWB9cH2AfZB9oH2wfcB90H3gffB+AH4Qc=",
          "dtype": "i2"
         },
         "xaxis": "x",
         "y": {
          "bdata": "lPz9Ap4fAwPaWwgDIAsOA9aAFAPeKxsDWGAhA5QyJwMmUCwDnuwwA5pBNQOSGDkDIcs9A65wQwPU7EgDafZNA3QxUgPTz1UDB9xYAzVXWwPbHF0DqyVeAzzJXgNqGV8DzkpfA6+KXwO7ll8DS61fAygYYAMlvmADiHdhA/kQYgOfp2IDTS9jA4hcYwMPYGMDeZ5jAwQUZAP4U2QDXXlkAxzeZAMUW2UDv6ZmA7OHagNPNXADTIt0A+s0dwOmsnsD65+BA0W5hQNpgIgD+Q6KAwWBjAPcGJcDlJGfA9asngMqGp0DhbebAw==",
          "dtype": "i4"
         },
         "yaxis": "y"
        },
        {
         "hovertemplate": "Country Name=Jamaica<br>Year=%{x}<br>Count=%{y}<extra></extra>",
         "legendgroup": "Jamaica",
         "line": {
          "color": "#B6E880",
          "dash": "solid"
         },
         "marker": {
          "symbol": "circle"
         },
         "mode": "lines",
         "name": "Jamaica",
         "showlegend": true,
         "type": "scattergl",
         "x": {
          "bdata": "qAepB6oHqwesB60HrgevB7AHsQeyB7MHtAe1B7YHtwe4B7kHuge7B7wHvQe+B78HwAfBB8IHwwfEB8UHxgfHB8gHyQfKB8sHzAfNB84HzwfQB9EH0gfTB9QH1QfWB9cH2AfZB9oH2wfcB90H3gffB+AH4Qc=",
          "dtype": "i2"
         },
         "xaxis": "x",
         "y": {
          "bdata": "aNkYAIExGQDVlBkA4/4ZALJoGgBfzRoAJisbADeEGwBX3BsAPjkcALqeHACUDh0A/IYdAH4DHgDlfR4A8PEeAMVcHwA/wB8AMyIgADGLIACeACEAuYUhAMkWIgD4qSIAPjEjABajIwCR+yMA4T4kAKN1JACIrCQAwuwkAKY4JQB5jSUAZeklAPNIJgBPqSYArQonAGxtJwDpzicA4ysoAO2BKAAO0CgA7RYpAL1XKQCXlCkAI88pAGcHKgBjPSoAtHIqAD2pKgBc4ioAyR4rABReKwDVnisAAN8rAA0dLAB+WCwAlZEsAA==",
          "dtype": "i4"
         },
         "yaxis": "y"
        },
        {
         "hovertemplate": "Country Name=Jordan<br>Year=%{x}<br>Count=%{y}<extra></extra>",
         "legendgroup": "Jordan",
         "line": {
          "color": "#FF97FF",
          "dash": "solid"
         },
         "marker": {
          "symbol": "circle"
         },
         "mode": "lines",
         "name": "Jordan",
         "showlegend": true,
         "type": "scattergl",
         "x": {
          "bdata": "qAepB6oHqwesB60HrgevB7AHsQeyB7MHtAe1B7YHtwe4B7kHuge7B7wHvQe+B78HwAfBB8IHwwfEB8UHxgfHB8gHyQfKB8sHzAfNB84HzwfQB9EH0gfTB9QH1QfWB9cH2AfZB9oH2wfcB90H3gffB+AH4Qc=",
          "dtype": "i2"
         },
         "xaxis": "x",
         "y": {
          "bdata": "7jwOAKTcDgDiaw8AZQYQAD/SEABm6BEAdlUTALYKFQAD5BYAFK4YAOtDGgAemxsAH78cABq7HQC3oh4A+YUfAKxlIAAjQSEA9yUiAJIkIwALSSQAY5wlAM4dJwA1wygAz3wqAFFALACDAi4AlMkvAO6wMQCi3jMAQmk2AHBhOQDIsTwAUxxAAPdLQwArBUYAtjdIAJ37SQBncEsAUsdMAL0pTgA4nE8AgiNRAK7qUgDUJVUAA/pXAHRsWwCwcl8APgtkAMwuaQBjzW4AG+50APh0ewDkAoIA8RuIAI9ljQBrvpEA5TeVAA==",
          "dtype": "i4"
         },
         "yaxis": "y"
        },
        {
         "hovertemplate": "Country Name=Japan<br>Year=%{x}<br>Count=%{y}<extra></extra>",
         "legendgroup": "Japan",
         "line": {
          "color": "#FECB52",
          "dash": "solid"
         },
         "marker": {
          "symbol": "circle"
         },
         "mode": "lines",
         "name": "Japan",
         "showlegend": true,
         "type": "scattergl",
         "x": {
          "bdata": "qAepB6oHqwesB60HrgevB7AHsQeyB7MHtAe1B7YHtwe4B7kHuge7B7wHvQe+B78HwAfBB8IHwwfEB8UHxgfHB8gHyQfKB8sHzAfNB84HzwfQB9EH0gfTB9QH1QfWB9cH2AfZB9oH2wfcB90H3gffB+AH4Qc=",
          "dtype": "i2"
         },
         "xaxis": "x",
         "y": {
          "bdata": "XHKDBRi3qAXAR7YF4DvFBdC01AW41eQFsKzyBQjxAAaIEQYGoEcmBqgtOAbozkwGII9jBpgncQZQ8JAGoBGsBri/uAZYackGUDTZBjAJ6Aaw8/UGgCoDB2hjDwd4vxsHUFQnB1CPMgcg0j0H+PVGBwjtTgfgmVYHaAZdB2jiYgeIlWcHwERsB+jAcgcYDHoHSOZ+Byh6gwcAtogHWDyMB3h4jwfII5QHCKiYB3DSnAdoep0HSKmdB7DlngfoI6EHGBaiB5jXoQdwMaIHqJOeB8h2mwcIqJgH4BOWB4gElAdPyJEHBZmOBw==",
          "dtype": "i4"
         },
         "yaxis": "y"
        },
        {
         "hovertemplate": "Country Name=Kazakhstan<br>Year=%{x}<br>Count=%{y}<extra></extra>",
         "legendgroup": "Kazakhstan",
         "line": {
          "color": "#636efa",
          "dash": "solid"
         },
         "marker": {
          "symbol": "circle"
         },
         "mode": "lines",
         "name": "Kazakhstan",
         "showlegend": true,
         "type": "scattergl",
         "x": {
          "bdata": "qAepB6oHqwesB60HrgevB7AHsQeyB7MHtAe1B7YHtwe4B7kHuge7B7wHvQe+B78HwAfBB8IHwwfEB8UHxgfHB8gHyQfKB8sHzAfNB84HzwfQB9EH0gfTB9QH1QfWB9cH2AfZB9oH2wfcB90H3gffB+AH4Qc=",
          "dtype": "i2"
         },
         "xaxis": "x",
         "y": {
          "bdata": "45aXAGbrnQBAI6QAUxqqACeorwCAsbQAzyC5AK79vABib8AAHrDDAGvqxgClLsoAsXHNAC+i0ACXo9MAsmPWADHc2ABIHNsAcEDdAL1v3wCOxeEAPEHkABfW5gCNgukAG0LsALsJ7wDt4/EAU730ALJI9wCc8vcAYHP5AMQD+wA31/oAsy75AN+X9QDKU/EAJrPtAEf56QBE+OUAKsrjACob4wBfuOIAxLriAFp+4wB5FOUAFSDnADSV6QAgRewAkCrvAJaO9QBQDfkAkaT8ABk6AAEe8QMBXcwHAZauCwEHhA8BEDwTAQ==",
          "dtype": "i4"
         },
         "yaxis": "y"
        },
        {
         "hovertemplate": "Country Name=Kenya<br>Year=%{x}<br>Count=%{y}<extra></extra>",
         "legendgroup": "Kenya",
         "line": {
          "color": "#EF553B",
          "dash": "solid"
         },
         "marker": {
          "symbol": "circle"
         },
         "mode": "lines",
         "name": "Kenya",
         "showlegend": true,
         "type": "scattergl",
         "x": {
          "bdata": "qAepB6oHqwesB60HrgevB7AHsQeyB7MHtAe1B7YHtwe4B7kHuge7B7wHvQe+B78HwAfBB8IHwwfEB8UHxgfHB8gHyQfKB8sHzAfNB84HzwfQB9EH0gfTB9QH1QfWB9cH2AfZB9oH2wfcB90H3gffB+AH4Qc=",
          "dtype": "i2"
         },
         "xaxis": "x",
         "y": {
          "bdata": "EOd7AGDVfwBj8YMA/zyIACS6jAA9a5EANFKWANZymwB206AA03umABJyrAAYurIAlFW5AN1FwABdi8cA4ybPAIcX1wAqX98A/gPoABAO8QCtgfoAxF8EAYaiDgERPxkBoCYkAdtMLwHgrDoB4ENGAcwJUgE09l0BIwJqAecrdgH+cYIBmM6OAXE7mwHotacBiz20AevYwAH4lc0BhYfaAY295wG0OvUBuwIDAvsnEQJHwB8C/9kuAol6PgIMm04CbS1fAqAccAJUVoECEdmSAnKgpAIRlLYCzZXIAsCQ2gImeOwCoVH+Ag==",
          "dtype": "i4"
         },
         "yaxis": "y"
        },
        {
         "hovertemplate": "Country Name=Kyrgyz Republic<br>Year=%{x}<br>Count=%{y}<extra></extra>",
         "legendgroup": "Kyrgyz Republic",
         "line": {
          "color": "#00cc96",
          "dash": "solid"
         },
         "marker": {
          "symbol": "circle"
         },
         "mode": "lines",
         "name": "Kyrgyz Republic",
         "showlegend": true,
         "type": "scattergl",
         "x": {
          "bdata": "qAepB6oHqwesB60HrgevB7AHsQeyB7MHtAe1B7YHtwe4B7kHuge7B7wHvQe+B78HwAfBB8IHwwfEB8UHxgfHB8gHyQfKB8sHzAfNB84HzwfQB9EH0gfTB9QH1QfWB9cH2AfZB9oH2wfcB90H3gffB+AH4Qc=",
          "dtype": "i2"
         },
         "xaxis": "x",
         "y": {
          "bdata": "jCUhABxsIgDYmiMAhNQkAEQTJgD0QycARIQoAHTBKQD8ACsA0CssABwqLQDcHS4ASB8vAIgfMABcMTEA8DwyAOw/MwCcPjQAfDU1AAAzNgB4MjcAqD04AMRcOQBckToAcMI7ABzjPADEDD4A2D0/ACBeQAAsukEAIAFDAPAbRABI5kQAXOtEABzlRAAQlkUAsJ9GAFCpRwDoxEgA0NtJAGC+SgDMdEsA7CZMAGT0TAA85E0AaMZOAGCgTwCwY1AALChRAIQkUgDcIFMAaCVUACCPVQAwRlcA7ApZACTlWgAMxFwAuJNeAA==",
          "dtype": "i4"
         },
         "yaxis": "y"
        },
        {
         "hovertemplate": "Country Name=Cambodia<br>Year=%{x}<br>Count=%{y}<extra></extra>",
         "legendgroup": "Cambodia",
         "line": {
          "color": "#ab63fa",
          "dash": "solid"
         },
         "marker": {
          "symbol": "circle"
         },
         "mode": "lines",
         "name": "Cambodia",
         "showlegend": true,
         "type": "scattergl",
         "x": {
          "bdata": "qAepB6oHqwesB60HrgevB7AHsQeyB7MHtAe1B7YHtwe4B7kHuge7B7wHvQe+B78HwAfBB8IHwwfEB8UHxgfHB8gHyQfKB8sHzAfNB84HzwfQB9EH0gfTB9QH1QfWB9cH2AfZB9oH2wfcB90H3gffB+AH4Qc=",
          "dtype": "i2"
         },
         "xaxis": "x",
         "y": {
          "bdata": "AlFXAEadWQCP/FsAoFpeADmcYAB9rmIAy3pkAAgFZgCLc2cAb/1oAGDCagA/8WwA32tvAJaqcQAY83IAX9ByAIz8cACKzW0A0ShqANxOZwCEI2YAl/5mAHmWaQDNZ20ALaVxAEC4dQB1eXkAwhd9AMi4gACGnoQA7fSIAFO+jQBR2ZIALSSYAEtwnQCKmaIABZanAChnrAB8ArEAel+1AGd5uQCgSr0AH9bAAGMrxADlYMcAConKAE2nzQBavdAAutnTACQN1wAUY9oAb+LdACaI4QCcSOUABxLpAJzW7AAVk/AAxkj0AA==",
          "dtype": "i4"
         },
         "yaxis": "y"
        },
        {
         "hovertemplate": "Country Name=Kiribati<br>Year=%{x}<br>Count=%{y}<extra></extra>",
         "legendgroup": "Kiribati",
         "line": {
          "color": "#FFA15A",
          "dash": "solid"
         },
         "marker": {
          "symbol": "circle"
         },
         "mode": "lines",
         "name": "Kiribati",
         "showlegend": true,
         "type": "scattergl",
         "x": {
          "bdata": "qAepB6oHqwesB60HrgevB7AHsQeyB7MHtAe1B7YHtwe4B7kHuge7B7wHvQe+B78HwAfBB8IHwwfEB8UHxgfHB8gHyQfKB8sHzAfNB84HzwfQB9EH0gfTB9QH1QfWB9cH2AfZB9oH2wfcB90H3gffB+AH4Qc=",
          "dtype": "i2"
         },
         "xaxis": "x",
         "y": {
          "bdata": "8qAAAPWkAAARqQAAMq0AAFexAABdtQAASrkAACG9AADTwAAAW8QAAM/HAAAMywAALM4AADHRAAA91AAAStcAAHTaAAC83QAAEuEAAF3kAACl5wAAyOoAANftAAAl8QAAGPUAAPL5AADh/wAAsAYBAOENAQDFFAEA0BoBANwfAQAOJAEAxCcBAH4rAQCbLwEANzQBADs5AQCUPgEAHEQBAKxJAQBZTwEACVUBAANbAQCDYQEApWgBAIdwAQAPeQEAyYEBAEKKAQAPkgEAGJkBAIKfAQBypQEAT6sBAFKxAQCMtwEA7r0BAA==",
          "dtype": "i4"
         },
         "yaxis": "y"
        },
        {
         "hovertemplate": "Country Name=St. Kitts and Nevis<br>Year=%{x}<br>Count=%{y}<extra></extra>",
         "legendgroup": "St. Kitts and Nevis",
         "line": {
          "color": "#19d3f3",
          "dash": "solid"
         },
         "marker": {
          "symbol": "circle"
         },
         "mode": "lines",
         "name": "St. Kitts and Nevis",
         "showlegend": true,
         "type": "scattergl",
         "x": {
          "bdata": "qAepB6oHqwesB60HrgevB7AHsQeyB7MHtAe1B7YHtwe4B7kHuge7B7wHvQe+B78HwAfBB8IHwwfEB8UHxgfHB8gHyQfKB8sHzAfNB84HzwfQB9EH0gfTB9QH1QfWB9cH2AfZB9oH2wfcB90H3gffB+AH4Qc=",
          "dtype": "i2"
         },
         "xaxis": "x",
         "y": {
          "bdata": "+8cAAPjHAAATxwAAXcUAAAvDAAA+wAAA5rwAABW5AAA9tQAA3rEAAFOvAADKrQAAIK0AABetAAAorQAA8KwAAG+sAACmqwAAvKoAAL+pAADFqAAA0KcAAOimAADypQAA16QAAIqjAAAHogAAUaAAAMGeAACinQAAQ50AALudAAD5ngAAr6AAAJGiAABapAAA66UAAGanAADVqAAAXqoAACqsAAA3rgAAbbAAALKyAAD0tAAACbcAAOu4AACiugAAObwAANe9AAB4vwAAJ8EAAN/CAACbxAAAVsYAAAPIAACpyQAATcsAAA==",
          "dtype": "i4"
         },
         "yaxis": "y"
        },
        {
         "hovertemplate": "Country Name=Korea, Rep.<br>Year=%{x}<br>Count=%{y}<extra></extra>",
         "legendgroup": "Korea, Rep.",
         "line": {
          "color": "#FF6692",
          "dash": "solid"
         },
         "marker": {
          "symbol": "circle"
         },
         "mode": "lines",
         "name": "Korea, Rep.",
         "showlegend": true,
         "type": "scattergl",
         "x": {
          "bdata": "qAepB6oHqwesB60HrgevB7AHsQeyB7MHtAe1B7YHtwe4B7kHuge7B7wHvQe+B78HwAfBB8IHwwfEB8UHxgfHB8gHyQfKB8sHzAfNB84HzwfQB9EH0gfTB9QH1QfWB9cH2AfZB9oH2wfcB90H3gffB+AH4Qc=",
          "dtype": "i2"
         },
         "xaxis": "x",
         "y": {
          "bdata": "lqh9ASkniQGGjpQBM/ufARsBqwGi/7UBsybBASfDywEejtYBylPhAbv06wEQwPUBfkD/AW1fCAKqXBECVVcaAksBIwKTmSsC4Ro0Ahy6PAL/uEUCsN5OApASWAID/GACxItoAnClbgLq3nQCuhh7Ao9YgQKOuIcCIyKOAtijlAJ6ipsCRFuiAgQtqQJ/ELACyaa2AiwyvQKnRsICZVDHAm9JzQK0z9ICQADXAmrH2gJXrt0C8TzfAhQc4wJ22uYC9IPsArtg8ALAIvQC/vj5Ai39/QLdewEDI1UGAyNtCgOL8g0D2U8RAw==",
          "dtype": "i4"
         },
         "yaxis": "y"
        },
        {
         "hovertemplate": "Country Name=Kuwait<br>Year=%{x}<br>Count=%{y}<extra></extra>",
         "legendgroup": "Kuwait",
         "line": {
          "color": "#B6E880",
          "dash": "solid"
         },
         "marker": {
          "symbol": "circle"
         },
         "mode": "lines",
         "name": "Kuwait",
         "showlegend": true,
         "type": "scattergl",
         "x": {
          "bdata": "qAepB6oHqwesB60HrgevB7AHsQeyB7MHtAe1B7YHtwe4B7kHuge7B7wHvQe+B78HwAfBB8IHwwfEB8UHxgfHB8sHzAfNB84HzwfQB9EH0gfTB9QH1QfWB9cH2AfZB9oH2wfcB90H3gffB+AH4Qc=",
          "dtype": "i2"
         },
         "xaxis": "x",
         "y": {
          "bdata": "5RoEACCWBADEJQUAescFANp3BgDlMwcAnvsHAIzOCABDqAkAU4MKAAJcCwCyLwwAzP8MAKPRDQDqrA4AGJcPAKWREAAvmhEAg60SANHGEwBl4hQAY/YVAD0BFwAIEBgAtjUZAGp6GgB29RsA3ZUdAKkMHwDp7h8A8PgfAMD+HgANgRgA6dIYALAYGgDP8BsAlMcdAMM0HwDyFyAApZsgANr7IACskyEA9qMiACg4JABTNSYACYcoALULKwAMpy0APFcwAHUZMwDqzjUAvlE4AMeGOgCJYDwAIeQ9AA==",
          "dtype": "i4"
         },
         "yaxis": "y"
        },
        {
         "hovertemplate": "Country Name=Lao PDR<br>Year=%{x}<br>Count=%{y}<extra></extra>",
         "legendgroup": "Lao PDR",
         "line": {
          "color": "#FF97FF",
          "dash": "solid"
         },
         "marker": {
          "symbol": "circle"
         },
         "mode": "lines",
         "name": "Lao PDR",
         "showlegend": true,
         "type": "scattergl",
         "x": {
          "bdata": "qAepB6oHqwesB60HrgevB7AHsQeyB7MHtAe1B7YHtwe4B7kHuge7B7wHvQe+B78HwAfBB8IHwwfEB8UHxgfHB8gHyQfKB8sHzAfNB84HzwfQB9EH0gfTB9QH1QfWB9cH2AfZB9oH2wfcB90H3gffB+AH4Qc=",
          "dtype": "i2"
         },
         "xaxis": "x",
         "y": {
          "bdata": "wlwgAOgdIQBF5CEAR7AiAGGCIwACWyQAHDglAJgZJgC0AycAEvwnAKwFKQAZJioACVkrAHeLLAB1oy0AOZAuAF1JLwBi2S8AS1owAKDwMAAgtzEA5rUyAOflMwBvQDUADLk2ANpFOAAW5TkA+pc7AEtaPQBdJz8AqPpAAGTSQgB/q0QAqH5GAGVDSACT80kAm4xLAMsPTQAagE4AkuJPALQ7UQAui1IA/tFTAMAXVQAAZlYAfMNXADo0WQB0tloAnENcAA/SXQDNWl8AL9tgAPJVYgD4z2MAjFBlAKzcZgCWdWgASxhqAA==",
          "dtype": "i4"
         },
         "yaxis": "y"
        },
        {
         "hovertemplate": "Country Name=Lebanon<br>Year=%{x}<br>Count=%{y}<extra></extra>",
         "legendgroup": "Lebanon",
         "line": {
          "color": "#FECB52",
          "dash": "solid"
         },
         "marker": {
          "symbol": "circle"
         },
         "mode": "lines",
         "name": "Lebanon",
         "showlegend": true,
         "type": "scattergl",
         "x": {
          "bdata": "qAepB6oHqwesB60HrgevB7AHsQeyB7MHtAe1B7YHtwe4B7kHuge7B7wHvQe+B78HwAfBB8IHwwfEB8UHxgfHB8gHyQfKB8sHzAfNB84HzwfQB9EH0gfTB9QH1QfWB9cH2AfZB9oH2wfcB90H3gffB+AH4Qc=",
          "dtype": "i2"
         },
         "xaxis": "x",
         "y": {
          "bdata": "jYobAKtzHACxYB0A6UkeAI0lHwBX7R8AKZogABIvIQDUuyEAz1YiAFoOIwB/6yMArOQkABffJQBKtSYAhU0nADaeJwAMsycAVaEnALaIJwABgScA/pUnADvEJwB4AigA5kAoAFt3KAAImigAuLUoAAP3KAAomikAZMUqAOqULAAk8C4ALogxAF3uMwC81jUAKRg3ALjSNwDQWzgAti85ANqiOgDZ5TwAvdA/ABf2QgAiuUUAi7JHAMmgSABwvkgARbRIAOJwSQDlk0sAp2FPAEqDVAD9P1oAio5fAEauYwBRZ2YA4fBnAA==",
          "dtype": "i4"
         },
         "yaxis": "y"
        },
        {
         "hovertemplate": "Country Name=Liberia<br>Year=%{x}<br>Count=%{y}<extra></extra>",
         "legendgroup": "Liberia",
         "line": {
          "color": "#636efa",
          "dash": "solid"
         },
         "marker": {
          "symbol": "circle"
         },
         "mode": "lines",
         "name": "Liberia",
         "showlegend": true,
         "type": "scattergl",
         "x": {
          "bdata": "qAepB6oHqwesB60HrgevB7AHsQeyB7MHtAe1B7YHtwe4B7kHuge7B7wHvQe+B78HwAfBB8IHwwfEB8UHxgfHB8gHyQfKB8sHzAfNB84HzwfQB9EH0gfTB9QH1QfWB9cH2AfZB9oH2wfcB90H3gffB+AH4Qc=",
          "dtype": "i2"
         },
         "xaxis": "x",
         "y": {
          "bdata": "wRERAB5uEQA4zREAei8SAG2VEgCu/xIAeG4TAPvhEwDaWhQA5tkUAJpfFQBC7BUAB4AWAH4bFwBCvxcAxGsYAAwdGQDs0RkAcpAaAMhgGwBJRhwAakcdAGtbHgALZB8AtzggANq9IABd7yAAZNsgAFGQIAA/JCAACK0fAEshHwDYih4AeykeAL1PHgD1Mh8AXvcgALp+IwDpaSYAwDEpAMh2KwDHEi0AWScuAMLzLgCj2C8AxBoxALvMMgAX0zQANA03AJVIOQCcYDsAI009AOsaPwAO00AAUYVCAKY9RAAk/UUAFMBHAA==",
          "dtype": "i4"
         },
         "yaxis": "y"
        },
        {
         "hovertemplate": "Country Name=Libya<br>Year=%{x}<br>Count=%{y}<extra></extra>",
         "legendgroup": "Libya",
         "line": {
          "color": "#EF553B",
          "dash": "solid"
         },
         "marker": {
          "symbol": "circle"
         },
         "mode": "lines",
         "name": "Libya",
         "showlegend": true,
         "type": "scattergl",
         "x": {
          "bdata": "qAepB6oHqwesB60HrgevB7AHsQeyB7MHtAe1B7YHtwe4B7kHuge7B7wHvQe+B78HwAfBB8IHwwfEB8UHxgfHB8gHyQfKB8sHzAfNB84HzwfQB9EH0gfTB9QH1QfWB9cH2AfZB9oH2wfcB90H3gffB+AH4Qc=",
          "dtype": "i2"
         },
         "xaxis": "x",
         "y": {
          "bdata": "4RkWANfbFgDdqRcAA4YYAPFyGQC6choAo4UbAF2rHAAC5B0Aqi8fABaOIACy/yEAwoMjACMXJQC4tSYAk1woAIgIKgDluSsAFXUtAJlALwAKIDEARRUzAIYbNQDhJzcAmys5APUbOwDl8zwAnbU+ACJmQADrDUIAtbJDAPJWRQCF90YAvY5IAFsUSgA+g0sAi9hMADcYTgDsS08AFoFQAEPBUQCwDlMA0WVUAEPDVQBKIVcA1npYAJjTWQADK1sA/HJcAOCYXQCfkV4AD1RfALbpXwDncGAAtRNhAIvvYQAEEGMA9GlkAA==",
          "dtype": "i4"
         },
         "yaxis": "y"
        },
        {
         "hovertemplate": "Country Name=St. Lucia<br>Year=%{x}<br>Count=%{y}<extra></extra>",
         "legendgroup": "St. Lucia",
         "line": {
          "color": "#00cc96",
          "dash": "solid"
         },
         "marker": {
          "symbol": "circle"
         },
         "mode": "lines",
         "name": "St. Lucia",
         "showlegend": true,
         "type": "scattergl",
         "x": {
          "bdata": "qAepB6oHqwesB60HrgevB7AHsQeyB7MHtAe1B7YHtwe4B7kHuge7B7wHvQe+B78HwAfBB8IHwwfEB8UHxgfHB8gHyQfKB8sHzAfNB84HzwfQB9EH0gfTB9QH1QfWB9cH2AfZB9oH2wfcB90H3gffB+AH4Qc=",
          "dtype": "i2"
         },
         "xaxis": "x",
         "y": {
          "bdata": "YV4BAFxiAQDzZgEAG2wBAKxxAQCGdwEAs30BACWEAQCrigEAxZABAE+WAQAfmwEARp8BADijAQBnpwEAO6wBANuxAQAtuAEA4L4BAKjFAQA+zAEAhtIBAJzYAQDE3gEAhOUBACTtAQDB9QEAKP8BAPcIAgBsEgIAJBsCANsiAgDAKQIAMTACALs2AgC2PQIAYkUCAIFNAgC9VQIAc10CADlkAgDjaQIAoG4CABJzAgAYeAIAWX4CAAWGAgDXjgIAG5gCAL2gAgAFqAIAuK0CAAayAgBptQIAeLgCALa7AgA4vwIA28ICAA==",
          "dtype": "i4"
         },
         "yaxis": "y"
        },
        {
         "hovertemplate": "Country Name=Liechtenstein<br>Year=%{x}<br>Count=%{y}<extra></extra>",
         "legendgroup": "Liechtenstein",
         "line": {
          "color": "#ab63fa",
          "dash": "solid"
         },
         "marker": {
          "symbol": "circle"
         },
         "mode": "lines",
         "name": "Liechtenstein",
         "showlegend": true,
         "type": "scattergl",
         "x": {
          "bdata": "qAepB6oHqwesB60HrgevB7AHsQeyB7MHtAe1B7YHtwe4B7kHuge7B7wHvQe+B78HwAfBB8IHwwfEB8UHxgfHB8gHyQfKB8sHzAfNB84HzwfQB9EH0gfTB9QH1QfWB9cH2AfZB9oH2wfcB90H3gffB+AH4Qc=",
          "dtype": "i2"
         },
         "xaxis": "x",
         "y": {
          "bdata": "bUAAAP1BAACJQwAAN0UAAPhGAADZSAAA0EoAAOtMAAALTwAAHlEAABJTAADgVAAAh1YAACNYAADHWQAAjlsAAHtdAACAXwAAj2EAAHNjAAAXZQAAfmYAAKhnAAClaAAAnGkAAJhqAACnawAAvWwAAOFtAAAhbwAAdXAAAOdxAABxcwAAF3UAANp2AACgeAAAdHoAAFZ8AAA3fgAAAYAAAKCBAAAQgwAAV4QAAH+FAACUhgAAmYcAAJqIAACRiQAAj4oAAI+LAACajAAAxY0AAAePAABGkAAAZ5EAAF6SAAAakwAAqJMAAA==",
          "dtype": "i4"
         },
         "yaxis": "y"
        },
        {
         "hovertemplate": "Country Name=Sri Lanka<br>Year=%{x}<br>Count=%{y}<extra></extra>",
         "legendgroup": "Sri Lanka",
         "line": {
          "color": "#FFA15A",
          "dash": "solid"
         },
         "marker": {
          "symbol": "circle"
         },
         "mode": "lines",
         "name": "Sri Lanka",
         "showlegend": true,
         "type": "scattergl",
         "x": {
          "bdata": "qAepB6oHqwesB60HrgevB7AHsQeyB7MHtAe1B7YHtwe4B7kHuge7B7wHvQe+B78HwAfBB8IHwwfEB8UHxgfHB8gHyQfKB8sHzAfNB84HzwfQB9EH0gfTB9QH1QfWB9cH2AfZB9oH2wfcB90H3gffB+AH4Qc=",
          "dtype": "i2"
         },
         "xaxis": "x",
         "y": {
          "bdata": "LKyWAJVKmgAz9p0Ah7ShALeOpQCkiakAvqetALLhsQBAJ7YArGK6AGyEvgAthMIA92XGAMQ1ygDvBc4ACuPRAOPR1QDXy9kAOsTdAP6o4QC6beUAfwvpAJeH7ABr8O8Ax1rzAJjU9gAbYfoAcPf9AG2KAQFBBwUBzV4IAfGSCwF1pA4B14IRAY0ZFAFgXRYBOEMYAfTXGQH3RRsBdMccAQGGHgHykSAB0t4iAeVVJQER0ycBnDsqAWSJLAH8wy4BcO4wAXQPMwFpKzUBTkI3ASipNwEoGjoBEAw9ARD6PwE4iEMBoDVHAQ==",
          "dtype": "i4"
         },
         "yaxis": "y"
        },
        {
         "hovertemplate": "Country Name=Lesotho<br>Year=%{x}<br>Count=%{y}<extra></extra>",
         "legendgroup": "Lesotho",
         "line": {
          "color": "#19d3f3",
          "dash": "solid"
         },
         "marker": {
          "symbol": "circle"
         },
         "mode": "lines",
         "name": "Lesotho",
         "showlegend": true,
         "type": "scattergl",
         "x": {
          "bdata": "qAepB6oHqwesB60HrgevB7AHsQeyB7MHtAe1B7YHtwe4B7kHuge7B7wHvQe+B78HwAfBB8IHwwfEB8UHxgfHB8gHyQfKB8sHzAfNB84HzwfQB9EH0gfTB9QH1QfWB9cH2AfZB9oH2wfcB90H3gffB+AH4Qc=",
          "dtype": "i2"
         },
         "xaxis": "x",
         "y": {
          "bdata": "lsYMAJoDDQAQQw0AKYUNAFPKDQDCEg4A4l4OAOGuDgCFAg8AVVkPAD6zDwDGDxAAZ28QAB7UEACLQBEAWLYRADE2EgD4vhIAMk4TAIvgEwBfcxQABwYVAMeYFQC4KhYAG7sWAHNJFwBc1BcA6lsYABTjGAADbhkAQ/8ZAMuWGgANMhsAHM4bAMxmHABm+BwA04MdAKwHHgDMeh4Ak9EeAKQEHwAcEB8ABfkeACzMHgC0mx4AUnUeADNdHgBqUR4AOVIeAPNdHgA9cx4AS5MeAA6/HgDn8x4ALS4fAA1rHwB5qR8AlOkfAA==",
          "dtype": "i4"
         },
         "yaxis": "y"
        },
        {
         "hovertemplate": "Country Name=Lithuania<br>Year=%{x}<br>Count=%{y}<extra></extra>",
         "legendgroup": "Lithuania",
         "line": {
          "color": "#FF6692",
          "dash": "solid"
         },
         "marker": {
          "symbol": "circle"
         },
         "mode": "lines",
         "name": "Lithuania",
         "showlegend": true,
         "type": "scattergl",
         "x": {
          "bdata": "qAepB6oHqwesB60HrgevB7AHsQeyB7MHtAe1B7YHtwe4B7kHuge7B7wHvQe+B78HwAfBB8IHwwfEB8UHxgfHB8gHyQfKB8sHzAfNB84HzwfQB9EH0gfTB9QH1QfWB9cH2AfZB9oH2wfcB90H3gffB+AH4Qc=",
          "dtype": "i2"
         },
         "xaxis": "x",
         "y": {
          "bdata": "tmUqAH4VKwD2sCsABjwsAKDJLAA6Vy0AMuYtADB0LgDC+i4A+WkvAGnoLwAhgjAANgkxAJaBMQCm9DEAFGEyAJjKMgCcMTMAOpEzANLYMwDSFDQA82E0AJvANAAILjUAXZ81AN8VNgAinDYAby43AInFNwCfNzgArmw4AEaFOACSdTgANTE4ALjNNwAuYDcAzfQ2AGGNNgCTKDYAjsY1ABBmNQDi9TQAe4k0AK0cNACzhzMAoLIyABXlMQA+TjEAF80wACRDMADCQi8AkzQuAP2WLQB5IS0Aj74sAE5TLAAHxCsAcygrAA==",
          "dtype": "i4"
         },
         "yaxis": "y"
        },
        {
         "hovertemplate": "Country Name=Luxembourg<br>Year=%{x}<br>Count=%{y}<extra></extra>",
         "legendgroup": "Luxembourg",
         "line": {
          "color": "#B6E880",
          "dash": "solid"
         },
         "marker": {
          "symbol": "circle"
         },
         "mode": "lines",
         "name": "Luxembourg",
         "showlegend": true,
         "type": "scattergl",
         "x": {
          "bdata": "qAepB6oHqwesB60HrgevB7AHsQeyB7MHtAe1B7YHtwe4B7kHuge7B7wHvQe+B78HwAfBB8IHwwfEB8UHxgfHB8gHyQfKB8sHzAfNB84HzwfQB9EH0gfTB9QH1QfWB9cH2AfZB9oH2wfcB90H3gffB+AH4Qc=",
          "dtype": "i2"
         },
         "xaxis": "x",
         "y": {
          "bdata": "csoEAK3VBADu5AQABPIEAEYABQDsDgUARxgFAJMcBQDqHwUAXCYFAOMsBQCVOQUA6EkFAPJYBQDqagUAJnoFABuBBQCOgwUAF4YFAGiJBQB2jgUAqZIFANWTBQA2lAUArpUFAHKYBQDjngUAPqgFAMqyBQAMwQUAmtMFALjnBQDv+wUAoxAGAO0lBgAxPAYAEVIGAHpmBgD8egYAi5EGAEyoBgC1vAYA384GAC7kBgBv/QYABhkHAD02BwD5UgcAynQHAHeYBwBJvAcAy+gHAAIaCACASggAH30IAASxCAB+4QgAcBkJAA==",
          "dtype": "i4"
         },
         "yaxis": "y"
        },
        {
         "hovertemplate": "Country Name=Latvia<br>Year=%{x}<br>Count=%{y}<extra></extra>",
         "legendgroup": "Latvia",
         "line": {
          "color": "#FF97FF",
          "dash": "solid"
         },
         "marker": {
          "symbol": "circle"
         },
         "mode": "lines",
         "name": "Latvia",
         "showlegend": true,
         "type": "scattergl",
         "x": {
          "bdata": "qAepB6oHqwesB60HrgevB7AHsQeyB7MHtAe1B7YHtwe4B7kHuge7B7wHvQe+B78HwAfBB8IHwwfEB8UHxgfHB8gHyQfKB8sHzAfNB84HzwfQB9EH0gfTB9QH1QfWB9cH2AfZB9oH2wfcB90H3gffB+AH4Qc=",
          "dtype": "i2"
         },
         "xaxis": "x",
         "y": {
          "bdata": "E10gAOnYIADSSSEAZ7whAG8wIgA/kyIA0dYiACQdIwCjdCMABcEjAHz/IwDFQiQAGo4kAMvcJABCMCUAQnolAE20JQBR6yUAgR0mAOE8JgBVUyYAfXEmAAifJgBb2SYA/xcnALlZJwDUqycAFxQoAPp8KADLsSgA76IoANVxKABC5CcA2hwnAKZ2JgBA6yUAhn4lAFMfJQAjxiQA0nkkAD4gJACSqSMAHUAjAFPpIgBSiCIATykiAHXZIQAFkyEAKjkhAOWtIACTASAAvW0fAI8KHwDntR4ANmweALcsHgBx5h0A6KIdAA==",
          "dtype": "i4"
         },
         "yaxis": "y"
        },
        {
         "hovertemplate": "Country Name=Macao SAR, China<br>Year=%{x}<br>Count=%{y}<extra></extra>",
         "legendgroup": "Macao SAR, China",
         "line": {
          "color": "#FECB52",
          "dash": "solid"
         },
         "marker": {
          "symbol": "circle"
         },
         "mode": "lines",
         "name": "Macao SAR, China",
         "showlegend": true,
         "type": "scattergl",
         "x": {
          "bdata": "qAepB6oHqwesB60HrgevB7AHsQeyB7MHtAe1B7YHtwe4B7kHuge7B7wHvQe+B78HwAfBB8IHwwfEB8UHxgfHB8gHyQfKB8sHzAfNB84HzwfQB9EH0gfTB9QH1QfWB9cH2AfZB9oH2wfcB90H3gffB+AH4Qc=",
          "dtype": "i2"
         },
         "xaxis": "x",
         "y": {
          "bdata": "b48CAN6ZAgA3sAIAtc8CABn0AgDcGQMAyEADALpoAwAojgMAx6wDALLBAwCiywMAv8sDAKPEAwA9ugMA3K8DAOOlAwCGnAMAo5YDALCXAwD3oQMArbYDABbVAwBD+wMALiYEAG9TBACnggQA1LMEAAXlBADvEwUAAD8FAFplBQBHhwUAF6YFAMbDBQDp4QUAnQAGAMgfBgAQQAYAT2IGAAaHBgCyrgYANdkGAIUFBwAtMgcAKl4HAOeIBwC/sgcAp9wHAEAICABrNggAsGcIAEebCABczwgAgAEJAOUvCQDkWQkA+X8JAA==",
          "dtype": "i4"
         },
         "yaxis": "y"
        },
        {
         "hovertemplate": "Country Name=St. Martin (French part)<br>Year=%{x}<br>Count=%{y}<extra></extra>",
         "legendgroup": "St. Martin (French part)",
         "line": {
          "color": "#636efa",
          "dash": "solid"
         },
         "marker": {
          "symbol": "circle"
         },
         "mode": "lines",
         "name": "St. Martin (French part)",
         "showlegend": true,
         "type": "scattergl",
         "x": {
          "bdata": "qAepB6oHqwesB60HrgevB7AHsQeyB7MHtAe1B7YHtwe4B7kHuge7B7wHvQe+B78HwAfBB8IHwwfEB8UHxgfHB8gHyQfKB8sHzAfNB84HzwfQB9EH0gfTB9QH1QfWB9cH2AfZB9oH2wfcB90H3gffB+AH4Qc=",
          "dtype": "i2"
         },
         "xaxis": "x",
         "y": {
          "bdata": "NQ8AAJUPAADsDwAAVxAAANQQAAB0EQAATRIAADgTAABJFAAAUxUAAFAWAAA4FwAADBgAAOAYAADPGQAA4RoAAE4cAAAmHgAA/h8AAG0hAABDIgAA5iEAALEgAABmIAAAZSMAADUrAADfOAAAS0sAADpfAAAycAAAIHsAAMF+AABDfAAA+HUAAERvAAC5agAA4WgAAB1pAAAAawAA1G0AAAdxAACddAAAvngAADV9AACigQAAyIUAAKWJAAApjQAAFZAAAAGSAADOkgAARpIAAJGQAABljgAAr4wAABKMAADhjAAA0I4AAA==",
          "dtype": "i4"
         },
         "yaxis": "y"
        },
        {
         "hovertemplate": "Country Name=Morocco<br>Year=%{x}<br>Count=%{y}<extra></extra>",
         "legendgroup": "Morocco",
         "line": {
          "color": "#EF553B",
          "dash": "solid"
         },
         "marker": {
          "symbol": "circle"
         },
         "mode": "lines",
         "name": "Morocco",
         "showlegend": true,
         "type": "scattergl",
         "x": {
          "bdata": "qAepB6oHqwesB60HrgevB7AHsQeyB7MHtAe1B7YHtwe4B7kHuge7B7wHvQe+B78HwAfBB8IHwwfEB8UHxgfHB8gHyQfKB8sHzAfNB84HzwfQB9EH0gfTB9QH1QfWB9cH2AfZB9oH2wfcB90H3gffB+AH4Qc=",
          "dtype": "i2"
         },
         "xaxis": "x",
         "y": {
          "bdata": "VB68ALXywQDoz8cAF6rNAHFz0wCTItkAFrXeAC8u5AAJkukAi+fuAHs29AChfvkAO8b+AMYjBAEYtAkBRIwPATyxFQG9HhwBOtQiAQ7OKQH8BTEB4344AckwQAEu/UcB07tPASZPVwHvpl4B1MZlAWi9bAEjo3MBJoh6AXRxgQEuU4gBwxiPAZ6llQFK5psBsdahAUuApwFr7qwBVTKyAU9btwG6brwBsHHBAWRzxgGOhcsBCbfQAcsK1gEZhdsBqzbhAf8y5wFdhe0BGjb0ASo7+wHtdQIC27sJArPsEAIY/BcCbu0eAg==",
          "dtype": "i4"
         },
         "yaxis": "y"
        },
        {
         "hovertemplate": "Country Name=Monaco<br>Year=%{x}<br>Count=%{y}<extra></extra>",
         "legendgroup": "Monaco",
         "line": {
          "color": "#00cc96",
          "dash": "solid"
         },
         "marker": {
          "symbol": "circle"
         },
         "mode": "lines",
         "name": "Monaco",
         "showlegend": true,
         "type": "scattergl",
         "x": {
          "bdata": "qAepB6oHqwesB60HrgevB7AHsQeyB7MHtAe1B7YHtwe4B7kHuge7B7wHvQe+B78HwAfBB8IHwwfEB8UHxgfHB8gHyQfKB8sHzAfNB84HzwfQB9EH0gfTB9QH1QfWB9cH2AfZB9oH2wfcB90H3gffB+AH4Qc=",
          "dtype": "i2"
         },
         "xaxis": "x",
         "y": {
          "bdata": "tFcAABhZAAD/WQAAgFoAAMRaAADyWgAACVsAAPxaAAAIWwAAMlsAALxbAACpXAAA810AAHdfAAAEYQAAbmIAALRjAADRZAAA52UAABpnAAB5aAAAGmoAAOtrAADBbQAAXm8AAKBwAABxcQAA8HEAAC1yAAB5cgAA/nIAALZzAACpdAAAwnUAAON2AAD8dwAAE3kAADB6AABEewAAZHwAAJN9AADWfgAAJoAAAIGBAADcggAAM4QAAI6FAADdhgAAOIgAAJqJAAAciwAAuIwAAGyOAAAlkAAAypEAAFaTAAC2lAAA+JUAAA==",
          "dtype": "i4"
         },
         "yaxis": "y"
        },
        {
         "hovertemplate": "Country Name=Moldova<br>Year=%{x}<br>Count=%{y}<extra></extra>",
         "legendgroup": "Moldova",
         "line": {
          "color": "#ab63fa",
          "dash": "solid"
         },
         "marker": {
          "symbol": "circle"
         },
         "mode": "lines",
         "name": "Moldova",
         "showlegend": true,
         "type": "scattergl",
         "x": {
          "bdata": "qAepB6oHqwesB60HrgevB7AHsQeyB7MHtAe1B7YHtwe4B7kHuge7B7wHvQe+B78HwAfBB8IHwwfEB8UHxgfHB8gHyQfKB8sHzAfNB84HzwfQB9EH0gfTB9QH1QfWB9cH2AfZB9oH2wfcB90H3gffB+AH4Qc=",
          "dtype": "i2"
         },
         "xaxis": "x",
         "y": {
          "bdata": "gNEmAMi/JwBApigAAIEpAPBTKgAoGysAqNYrAHCGLACAKi0AkM4tAKByLgCYGi8AeMYvAHBuMACYDjEAOJsxACAcMgCAiTIA+PIyAHBcMwCg0TMAiFI0AEDbNADgZzUAgPQ1AFB5NgBQ9jYAaG83AODYNwDoKjgAgGU4AMCEOACQjDgACHk4ABBOOADbEzgAJPc3AEDCNwB8vDcAGaY3ACiJNwBmaTcAlkg3AMogNwDp/TYAs9s2ALm0NgBOlDYAvHk2ACRoNgA9WjYAMlI2AF9QNgCmTDYALUQ2ADw7NgDSMjYADCg2AA==",
          "dtype": "i4"
         },
         "yaxis": "y"
        },
        {
         "hovertemplate": "Country Name=Madagascar<br>Year=%{x}<br>Count=%{y}<extra></extra>",
         "legendgroup": "Madagascar",
         "line": {
          "color": "#FFA15A",
          "dash": "solid"
         },
         "marker": {
          "symbol": "circle"
         },
         "mode": "lines",
         "name": "Madagascar",
         "showlegend": true,
         "type": "scattergl",
         "x": {
          "bdata": "qAepB6oHqwesB60HrgevB7AHsQeyB7MHtAe1B7YHtwe4B7kHuge7B7wHvQe+B78HwAfBB8IHwwfEB8UHxgfHB8gHyQfKB8sHzAfNB84HzwfQB9EH0gfTB9QH1QfWB9cH2AfZB9oH2wfcB90H3gffB+AH4Qc=",
          "dtype": "i2"
         },
         "xaxis": "x",
         "y": {
          "bdata": "bc9NAJC0TwA3rFEA77ZTAEzVVQACCFgAg09aALasXABhIV8Aga9hALFYZADaHWcAPP9pAOP8bAB0FnAAuktzAAmddgDUCnoASpV9AKg8gQAJAYUAUeSIANHmjAAZBpEAiD6VAIeOmQD49Z0AyniiAMsepwAy8qsAKfuwAKM7tgAYtLsAhGnBAC9hxwBIns0AYCPUAE7u2gDX9uEAWTHpABaV8ABEH/gAvdD/AKWoBwH1pg8B1MsXAQ0XIAE6iCgBOR8xAR3cOQGYv0IBX8lLAZH7VAFlXF4B//NnAWjIcQGs23sB7CyGAQ==",
          "dtype": "i4"
         },
         "yaxis": "y"
        },
        {
         "hovertemplate": "Country Name=Maldives<br>Year=%{x}<br>Count=%{y}<extra></extra>",
         "legendgroup": "Maldives",
         "line": {
          "color": "#19d3f3",
          "dash": "solid"
         },
         "marker": {
          "symbol": "circle"
         },
         "mode": "lines",
         "name": "Maldives",
         "showlegend": true,
         "type": "scattergl",
         "x": {
          "bdata": "qAepB6oHqwesB60HrgevB7AHsQeyB7MHtAe1B7YHtwe4B7kHuge7B7wHvQe+B78HwAfBB8IHwwfEB8UHxgfHB8gHyQfKB8sHzAfNB84HzwfQB9EH0gfTB9QH1QfWB9cH2AfZB9oH2wfcB90H3gffB+AH4Qc=",
          "dtype": "i2"
         },
         "xaxis": "x",
         "y": {
          "bdata": "B18BAKVoAQC5cgEAD30BAEuHAQA+kQEAsJoBANajAQBDrQEAxrcBAOvDAQAG0gEA2uEBANXyAQAIBAIA4RQCABMlAgD3NAIALEUCALxWAgBAagIA8H8CAHuXAgB0sAIAQsoCAGHkAgCo/gIAFBkDAHkzAwC+TQMAtmcDAHeBAwDpmgMArbMDAAzLAwC74AMAb/QDAKIGBACnGAQAdywEAGZDBABiXgQAKn0EAFueBADhvwQAeOAEAD//BABBHQUAnD0FAHZkBQCmlAUAT84FALUPBgBpVwYAR6MGAAPxBgB5QQcAEpMHAA==",
          "dtype": "i4"
         },
         "yaxis": "y"
        },
        {
         "hovertemplate": "Country Name=Mexico<br>Year=%{x}<br>Count=%{y}<extra></extra>",
         "legendgroup": "Mexico",
         "line": {
          "color": "#FF6692",
          "dash": "solid"
         },
         "marker": {
          "symbol": "circle"
         },
         "mode": "lines",
         "name": "Mexico",
         "showlegend": true,
         "type": "scattergl",
         "x": {
          "bdata": "qAepB6oHqwesB60HrgevB7AHsQeyB7MHtAe1B7YHtwe4B7kHuge7B7wHvQe+B78HwAfBB8IHwwfEB8UHxgfHB8gHyQfKB8sHzAfNB84HzwfQB9EH0gfTB9QH1QfWB9cH2AfZB9oH2wfcB90H3gffB+AH4Qc=",
          "dtype": "i2"
         },
         "xaxis": "x",
         "y": {
          "bdata": "U1pAAiiTUgL3VGUCYap4AoeijALNRqECeZO2ArB+zAJkA+MCvxr6Ar26EQOV4SkDl4BCA89wWwPUgHQDkYuNA057pgOPUb8DFR3YA3n48APc9AkEiBMjBN5EPASzdFUE94duBH1qhwR6EaAEUX+4BPG80ASj2egE3N4ABa/RGAVCqTAFIFFIBXCtXwW1q3YFpE+NBTqmowUBtLkFIIDPBYUX5QWpbfoFFpYPBjzkJAZ0xToG04JRBtk8aQZGz4EGJ+iaBg8QtAaj68wGcV/lBit2/QaZKBUHOHksB9JoQwcA61kHbPNvBw==",
          "dtype": "i4"
         },
         "yaxis": "y"
        },
        {
         "hovertemplate": "Country Name=Marshall Islands<br>Year=%{x}<br>Count=%{y}<extra></extra>",
         "legendgroup": "Marshall Islands",
         "line": {
          "color": "#B6E880",
          "dash": "solid"
         },
         "marker": {
          "symbol": "circle"
         },
         "mode": "lines",
         "name": "Marshall Islands",
         "showlegend": true,
         "type": "scattergl",
         "x": {
          "bdata": "qAepB6oHqwesB60HrgevB7AHsQeyB7MHtAe1B7YHtwe4B7kHuge7B7wHvQe+B78HwAfBB8IHwwfEB8UHxgfHB8gHyQfKB8sHzAfNB84HzwfQB9EH0gfTB9QH1QfWB9cH2AfZB9oH2wfcB90H3gffB+AH4Qc=",
          "dtype": "i2"
         },
         "xaxis": "x",
         "y": {
          "bdata": "RjkAAMs6AAC7PAAA8j4AAEZBAACEQwAAskUAANRHAAARSgAApkwAAKtPAABBUwAARVcAAI9bAADTXwAA6GMAALhnAABOawAA9m4AAOhyAABwdwAAlXwAADCCAABJiAAAzY4AAL2VAAATnQAAvaQAADOsAAD8sgAAp7gAABS9AABdwAAAp8IAACfEAAAZxQAAZcUAABLFAAC0xAAA98QAAEHGAADeyAAAkswAANDQAADM1AAA2tcAANfZAADz2gAAbtsAALrbAAAu3AAA09wAAI3dAABq3gAAW98AAF/gAACH4QAAyuIAAA==",
          "dtype": "i4"
         },
         "yaxis": "y"
        },
        {
         "hovertemplate": "Country Name=North Macedonia<br>Year=%{x}<br>Count=%{y}<extra></extra>",
         "legendgroup": "North Macedonia",
         "line": {
          "color": "#FF97FF",
          "dash": "solid"
         },
         "marker": {
          "symbol": "circle"
         },
         "mode": "lines",
         "name": "North Macedonia",
         "showlegend": true,
         "type": "scattergl",
         "x": {
          "bdata": "qAepB6oHqwesB60HrgevB7AHsQeyB7MHtAe1B7YHtwe4B7kHuge7B7wHvQe+B78HwAfBB8IHwwfEB8UHxgfHB8gHyQfKB8sHzAfNB84HzwfQB9EH0gfTB9QH1QfWB9cH2AfZB9oH2wfcB90H3gffB+AH4Qc=",
          "dtype": "i2"
         },
         "xaxis": "x",
         "y": {
          "bdata": "G7cWAEYBFwBHTRcAupwXAHbxFwBxTBgAg68YAI8ZGQDPhBkAYOkZAOBBGgABixoATMcaAB/+GgBOOhsAAoMbABDbGwC9PhwAuKYcAH8IHQBlXB0AGqAdAKvVHQBH/x0AjyAeAF48HgDSUx4AUmYeAPlyHgBGeB4AxHUeAFZqHgAzWB4AHEYeAAc9HgAUQx4AQ1seAO6CHgCZsx4AyuMeAIMMHwDaKx8AoEMfADJVHwBYYx8A8W8fABt7HwAShB8AcYsfAC+SHwDVmB8Ap58fAKamHwCjrR8AT7QfAGC6HwDpvx8AzMQfAA==",
          "dtype": "i4"
         },
         "yaxis": "y"
        },
        {
         "hovertemplate": "Country Name=Mali<br>Year=%{x}<br>Count=%{y}<extra></extra>",
         "legendgroup": "Mali",
         "line": {
          "color": "#FECB52",
          "dash": "solid"
         },
         "marker": {
          "symbol": "circle"
         },
         "mode": "lines",
         "name": "Mali",
         "showlegend": true,
         "type": "scattergl",
         "x": {
          "bdata": "qAepB6oHqwesB60HrgevB7AHsQeyB7MHtAe1B7YHtwe4B7kHuge7B7wHvQe+B78HwAfBB8IHwwfEB8UHxgfHB8gHyQfKB8sHzAfNB84HzwfQB9EH0gfTB9QH1QfWB9cH2AfZB9oH2wfcB90H3gffB+AH4Qc=",
          "dtype": "i2"
         },
         "xaxis": "x",
         "y": {
          "bdata": "dVFQABo2UQD4HFIATQhTAAj7UwDk91QAE/9VANcRVwBjNVgAJHBZAHXGWgByO1wAgs1dADt2XwBcLGEAZuliAHioZADLa2YA7TtoAHIlagDOL2wAqGRuAPy9cABOIXMAB2p1AFGBdwDhWXkACwV7AAKwfADTmX4Aee+AAIfEgwCeC4cAyKiKAGBwjgD1Q5IAAxyWACAHmgDxFp4A+GWiAI0HpwCw/asAd0KxAGfXtgCuvLwAXPDCALJ3yQAITtAAKVvXALV+3gCJouUA37vsAOvT8wBIAfsATGUCAToYCgF1IRIBCnoaAQ==",
          "dtype": "i4"
         },
         "yaxis": "y"
        },
        {
         "hovertemplate": "Country Name=Malta<br>Year=%{x}<br>Count=%{y}<extra></extra>",
         "legendgroup": "Malta",
         "line": {
          "color": "#636efa",
          "dash": "solid"
         },
         "marker": {
          "symbol": "circle"
         },
         "mode": "lines",
         "name": "Malta",
         "showlegend": true,
         "type": "scattergl",
         "x": {
          "bdata": "qAepB6oHqwesB60HrgevB7AHsQeyB7MHtAe1B7YHtwe4B7kHuge7B7wHvQe+B78HwAfBB8IHwwfEB8UHxgfHB8gHyQfKB8sHzAfNB84HzwfQB9EH0gfTB9QH1QfWB9cH2AfZB9oH2wfcB90H3gffB+AH4Qc=",
          "dtype": "i2"
         },
         "xaxis": "x",
         "y": {
          "bdata": "lvsEAIL2BAA88QQA9usEAOLmBABQ3QQAQM8EAP7ABAC8sgQArKQEADqeBABsngQAcp0EAHicBACsmwQAXqQEAG6qBAAarwQAprsEAP7HBADl1AQABt4EAAr5BAAcCwUAYQsFAEQiBQBpOAUApUEFAL1MBQACWgUAemcFAEWNBQACnAUAbKoFAA24BQBLwgUAAcwFAEfXBQAH4QUA+ukFAMfzBQBE/wUAwQoGAPYUBgB0HwYAeikGADwvBgDENAYAIz8GAD1LBgAsUwYADFoGALxoBgDvfwYAfqEGAH3KBgC88gYAHyQHAA==",
          "dtype": "i4"
         },
         "yaxis": "y"
        },
        {
         "hovertemplate": "Country Name=Myanmar<br>Year=%{x}<br>Count=%{y}<extra></extra>",
         "legendgroup": "Myanmar",
         "line": {
          "color": "#EF553B",
          "dash": "solid"
         },
         "marker": {
          "symbol": "circle"
         },
         "mode": "lines",
         "name": "Myanmar",
         "showlegend": true,
         "type": "scattergl",
         "x": {
          "bdata": "qAepB6oHqwesB60HrgevB7AHsQeyB7MHtAe1B7YHtwe4B7kHuge7B7wHvQe+B78HwAfBB8IHwwfEB8UHxgfHB8gHyQfKB8sHzAfNB84HzwfQB9EH0gfTB9QH1QfWB9cH2AfZB9oH2wfcB90H3gffB+AH4Qc=",
          "dtype": "i2"
         },
         "xaxis": "x",
         "y": {
          "bdata": "7q1LASjsUgHDVloBIfphAZznaQEfK3IBhMh6AQy6gwEQ9owBSW6WAc0XoAEW7qkB8fGzAZgjvgH9hMgBlxbTAaXR3QF2sOgB8LTzAbTi/gG5OAoCzrIVAgBDIQIY0iwCt0I4Av57QwLyfU4CL0NZApOoYwIig20Cn7l2ApUxfwKU/4YCEnOOAoT6lQKe4p0CbkmmAqEPrwLU+LcC1arAAtXiyAIgmdACm+DXAqax3gIECeUCpOrqAjpG8ALjKfUCqt35An/C/gJyGwQDFw4KA8KCEAOjNBcD570dAxbYIwPqZykDtY0uAw==",
          "dtype": "i4"
         },
         "yaxis": "y"
        },
        {
         "hovertemplate": "Country Name=Montenegro<br>Year=%{x}<br>Count=%{y}<extra></extra>",
         "legendgroup": "Montenegro",
         "line": {
          "color": "#00cc96",
          "dash": "solid"
         },
         "marker": {
          "symbol": "circle"
         },
         "mode": "lines",
         "name": "Montenegro",
         "showlegend": true,
         "type": "scattergl",
         "x": {
          "bdata": "qAepB6oHqwesB60HrgevB7AHsQeyB7MHtAe1B7YHtwe4B7kHuge7B7wHvQe+B78HwAfBB8IHwwfEB8UHxgfHB8gHyQfKB8sHzAfNB84HzwfQB9EH0gfTB9QH1QfWB9cH2AfZB9oH2wfcB90H3gffB+AH4Qc=",
          "dtype": "i2"
         },
         "xaxis": "x",
         "y": {
          "bdata": "Q1UHAIR+BwAeqwcAgdUHABn2BwD3BwgAUwgIACz6BwBp5QcAPNUHAJfRBwB53QcAOfYHACwXCAAWOQgAt1YIAHJuCAAIgggAkZMIAGimCADAvAgAddcIAPn0CABKEgkANCsJANY8CQDfRQkAkEcJALVECQBrQQkApEAJAIFDCQAESQkAek8JAD1UCQCAVQkAu1IJAPBMCQCuRQkAMT8JABY7CQCdRAkAJE4JAKtXCQDpWwkAdV8JAHFiCQDDZQkACWoJADZvCQCkcwkAL3YJADl4CQCXegkA8nwJAE9+CQDffgkAJX8JAA==",
          "dtype": "i4"
         },
         "yaxis": "y"
        },
        {
         "hovertemplate": "Country Name=Mongolia<br>Year=%{x}<br>Count=%{y}<extra></extra>",
         "legendgroup": "Mongolia",
         "line": {
          "color": "#ab63fa",
          "dash": "solid"
         },
         "marker": {
          "symbol": "circle"
         },
         "mode": "lines",
         "name": "Mongolia",
         "showlegend": true,
         "type": "scattergl",
         "x": {
          "bdata": "qAepB6oHqwesB60HrgevB7AHsQeyB7MHtAe1B7YHtwe4B7kHuge7B7wHvQe+B78HwAfBB8IHwwfEB8UHxgfHB8gHyQfKB8sHzAfNB84HzwfQB9EH0gfTB9QH1QfWB9cH2AfZB9oH2wfcB90H3gffB+AH4Qc=",
          "dtype": "i2"
         },
         "xaxis": "x",
         "y": {
          "bdata": "cZQOAKL8DgB8bg8Az+cPAFJlEAC05BAA+WQRAMfmEQBAaxIAZvQSAGmDEwC6GBQAfrMUADhSFQDZ8hUA45MWAOE0FwBh1hcAQnkYANMeGQAWyBkAY3MaAD8gGwDw0RsA8owcAFlTHQD2Jx4AwAYfAPPiHwBTqyAA0VMhAL3XIQCnOyIAkogiAB/MIgCkECMAGFkjAPajIwDQ8SMAIUIkAOqUJACE6yQAB0glAJqrJQCHFyYA2IwmAIgLJwAclCcA2igoAITMKACYgCkAukUqAPsZKwAA+SsAzNwsAKfALQDnoi4AM4MvAA==",
          "dtype": "i4"
         },
         "yaxis": "y"
        },
        {
         "hovertemplate": "Country Name=Northern Mariana Islands<br>Year=%{x}<br>Count=%{y}<extra></extra>",
         "legendgroup": "Northern Mariana Islands",
         "line": {
          "color": "#FFA15A",
          "dash": "solid"
         },
         "marker": {
          "symbol": "circle"
         },
         "mode": "lines",
         "name": "Northern Mariana Islands",
         "showlegend": true,
         "type": "scattergl",
         "x": {
          "bdata": "qAepB6oHqwesB60HrgevB7AHsQeyB7MHtAe1B7YHtwe4B7kHuge7B7wHvQe+B78HwAfBB8IHwwfEB8UHxgfHB8gHyQfKB8sHzAfNB84HzwfQB9EH0gfTB9QH1QfWB9cH2AfZB9oH2wfcB90H3gffB+AH4Qc=",
          "dtype": "i2"
         },
         "xaxis": "x",
         "y": {
          "bdata": "+yYAAAUoAADEKAAAXikAAB8qAAAOKwAAUCwAAMktAABsLwAAHjEAAMIyAAB1NAAAOjYAAPU3AABVOQAATDoAALI6AADIOgAAQjsAABY9AAD5QAAA7kYAAMdOAABeWAAAnGMAADBwAAByfgAAGY4AAGCdAAAUqgAAuLIAAEq2AACMtQAAvrIAADSxAAAuswAAobkAAIjDAAAFzwAAVNkAAG3gAADR4wAANOQAAFviAACe3wAA3twAAEraAACz1wAAYdUAALHTAADT0gAA/NIAACfUAAAA1gAACdgAAOTZAAB82wAA8twAAA==",
          "dtype": "i4"
         },
         "yaxis": "y"
        },
        {
         "hovertemplate": "Country Name=Mozambique<br>Year=%{x}<br>Count=%{y}<extra></extra>",
         "legendgroup": "Mozambique",
         "line": {
          "color": "#19d3f3",
          "dash": "solid"
         },
         "marker": {
          "symbol": "circle"
         },
         "mode": "lines",
         "name": "Mozambique",
         "showlegend": true,
         "type": "scattergl",
         "x": {
          "bdata": "qAepB6oHqwesB60HrgevB7AHsQeyB7MHtAe1B7YHtwe4B7kHuge7B7wHvQe+B78HwAfBB8IHwwfEB8UHxgfHB8gHyQfKB8sHzAfNB84HzwfQB9EH0gfTB9QH1QfWB9cH2AfZB9oH2wfcB90H3gffB+AH4Qc=",
          "dtype": "i2"
         },
         "xaxis": "x",
         "y": {
          "bdata": "5aFtAB8IcABnjXIA4i11ANDjdwAvq3oAgYR9AKZxgAAvcoMAuYWGABWtiQAP4YwAYCOQADGIkwAVK5cA3xubALFcnwBl26MAtHmoAFoOrQBydrEAgMe1AIAAugDS0L0A1M/AAOPEwgBuccMArRrDAPirwgA6Z8MAnCvGAKBeywCxqdIAgkjbANAW5ACWQewAeonzAH8z+gB9jwABHCAHATdDDgFACxYBe1EeARz4JgGYzy8BZbY4AS6oQQFktUoB9OlTAXZYXQE2EGcBXxJxAbhfewGVBoYBUxiRAdKgnAG2pqgBLya1AQ==",
          "dtype": "i4"
         },
         "yaxis": "y"
        },
        {
         "hovertemplate": "Country Name=Mauritania<br>Year=%{x}<br>Count=%{y}<extra></extra>",
         "legendgroup": "Mauritania",
         "line": {
          "color": "#FF6692",
          "dash": "solid"
         },
         "marker": {
          "symbol": "circle"
         },
         "mode": "lines",
         "name": "Mauritania",
         "showlegend": true,
         "type": "scattergl",
         "x": {
          "bdata": "qAepB6oHqwesB60HrgevB7AHsQeyB7MHtAe1B7YHtwe4B7kHuge7B7wHvQe+B78HwAfBB8IHwwfEB8UHxgfHB8gHyQfKB8sHzAfNB84HzwfQB9EH0gfTB9QH1QfWB9cH2AfZB9oH2wfcB90H3gffB+AH4Qc=",
          "dtype": "i2"
         },
         "xaxis": "x",
         "y": {
          "bdata": "0PkMAD1cDQA2wg0A3isOAH+ZDgA2Cw8AJIEPADD7DwAceRAAqfoQAJx/EQDqBxIAppMSAA0jEwBPthMApk0UAPXoFABEiBUA6CsWAHnUFgAgghcAPTUYAHTtGADHqRkAsmgaAD4pGwAr6xsA064cAMF0HQDLPR4AqgofAOjbHwC1sSAABIwhAJxqIgCeTSMAJTUkABsiJQDYFiYAMRYnAEsiKABAPCkA82MqALyYKwBv2SwAQiUuAOJ7LwDV3TAA7ksyAIHHMwAzUTUAOOk2ALqOOAAWQDoAEPs7AN29PQDOhz8AzlhBAA==",
          "dtype": "i4"
         },
         "yaxis": "y"
        },
        {
         "hovertemplate": "Country Name=Mauritius<br>Year=%{x}<br>Count=%{y}<extra></extra>",
         "legendgroup": "Mauritius",
         "line": {
          "color": "#B6E880",
          "dash": "solid"
         },
         "marker": {
          "symbol": "circle"
         },
         "mode": "lines",
         "name": "Mauritius",
         "showlegend": true,
         "type": "scattergl",
         "x": {
          "bdata": "qAepB6oHqwesB60HrgevB7AHsQeyB7MHtAe1B7YHtwe4B7kHuge7B7wHvQe+B78HwAfBB8IHwwfEB8UHxgfHB8gHyQfKB8sHzAfNB84HzwfQB9EH0gfTB9QH1QfWB9cH2AfZB9oH2wfcB90H3gffB+AH4Qc=",
          "dtype": "i2"
         },
         "xaxis": "x",
         "y": {
          "bdata": "lw8KADVjCgC9rwoADfgKAH08CwBofQsALbsLAC32CwDNLgwAdWUMAJCaDAA+zgwAVQANADMyDQDaZQ0AYJwNAAvVDQAjDw4Aez4OAIB+DgCXvQ4A7vUOAAklDwDbSA8A/XEPAHCSDwAIsQ8AMs8PACfrDwB8ChAA1ycQALpUEAAZjBAAnr4QAA77EACZIBEArE0RAHyFEQDltBEA4+4RADkcEgD/QBIAjWESALqDEgCLoRIA3r0SAEzUEgBO6hIA2fsSAMUIEwBgFBMANBwTAMopEwCdNBMAhj0TAA1EEwBxRxMA5UsTAA==",
          "dtype": "i4"
         },
         "yaxis": "y"
        },
        {
         "hovertemplate": "Country Name=Malawi<br>Year=%{x}<br>Count=%{y}<extra></extra>",
         "legendgroup": "Malawi",
         "line": {
          "color": "#FF97FF",
          "dash": "solid"
         },
         "marker": {
          "symbol": "circle"
         },
         "mode": "lines",
         "name": "Malawi",
         "showlegend": true,
         "type": "scattergl",
         "x": {
          "bdata": "qAepB6oHqwesB60HrgevB7AHsQeyB7MHtAe1B7YHtwe4B7kHuge7B7wHvQe+B78HwAfBB8IHwwfEB8UHxgfHB8gHyQfKB8sHzAfNB84HzwfQB9EH0gfTB9QH1QfWB9cH2AfZB9oH2wfcB90H3gffB+AH4Qc=",
          "dtype": "i2"
         },
         "xaxis": "x",
         "y": {
          "bdata": "0Ng3AKkvOQBDlDoA1AY8AHOHPQA8Fj8ALbRAAPRhQgAnH0QANutFACbGRwCir0kAValLAPO3TQCB4U8AWypSALOeVADBP1cAofpZAGe0XADIX18AYNhhAGEwZAAE0GYAf0VqAKvnbgDX+nQAWjl8ABLJgwB0e4oAVICPAGN9kgDVy5MA+yqUABq1lAC/NpYAhe+YAEqhnAASBKEAsp+lANYdqgBAcK4AgLyyALUbtwAOtrsAIKjAAIP2xQBulMsAknjRABuU1wBc290AwE3kAKXs6gAlsPEABI/4AFeD/wApiAYBdKANAQ==",
          "dtype": "i4"
         },
         "yaxis": "y"
        },
        {
         "hovertemplate": "Country Name=Malaysia<br>Year=%{x}<br>Count=%{y}<extra></extra>",
         "legendgroup": "Malaysia",
         "line": {
          "color": "#FECB52",
          "dash": "solid"
         },
         "marker": {
          "symbol": "circle"
         },
         "mode": "lines",
         "name": "Malaysia",
         "showlegend": true,
         "type": "scattergl",
         "x": {
          "bdata": "qAepB6oHqwesB60HrgevB7AHsQeyB7MHtAe1B7YHtwe4B7kHuge7B7wHvQe+B78HwAfBB8IHwwfEB8UHxgfHB8gHyQfKB8sHzAfNB84HzwfQB9EH0gfTB9QH1QfWB9cH2AfZB9oH2wfcB90H3gffB+AH4Qc=",
          "dtype": "i2"
         },
         "xaxis": "x",
         "y": {
          "bdata": "u3R8ACBygAB2ooQA3O2IANIzjQAeXZEAhGKVAHVLmQB/Ip0Al/igAKPbpAChzKgAdcusAL7jsACAI7UAi5S5ANFBvgAoKsMAFz3IAD9izQDFitIAKqvXACvQ3ABgIOIA6tDnAE8F7gDTzvQAEBv8AAG+AwGBeAsBAB0TAYGXGgEg9SEB4lApARzVMAG3nTgBDbRAAakFSQFecVEBsshZAZHqYQG/xWkBB2RxAcPfeAH8YIAB8wGIAWnPjwFyuJcBppafAQA0pwGja64Byy21AX+LuwHIqMEBP7rHAfLlzQGENtQBBKDaAQ==",
          "dtype": "i4"
         },
         "yaxis": "y"
        },
        {
         "hovertemplate": "Country Name=Namibia<br>Year=%{x}<br>Count=%{y}<extra></extra>",
         "legendgroup": "Namibia",
         "line": {
          "color": "#636efa",
          "dash": "solid"
         },
         "marker": {
          "symbol": "circle"
         },
         "mode": "lines",
         "name": "Namibia",
         "showlegend": true,
         "type": "scattergl",
         "x": {
          "bdata": "qAepB6oHqwesB60HrgevB7AHsQeyB7MHtAe1B7YHtwe4B7kHuge7B7wHvQe+B78HwAfBB8IHwwfEB8UHxgfHB8gHyQfKB8sHzAfNB84HzwfQB9EH0gfTB9QH1QfWB9cH2AfZB9oH2wfcB90H3gffB+AH4Qc=",
          "dtype": "i2"
         },
         "xaxis": "x",
         "y": {
          "bdata": "Hq0JAD/oCQAbJgoApWYKAKypCgAo7woAkzYLABiACwAuzQsA3B8MAD15DABy2gwAXkINAAqtDQAXFQ4A0XYOAHHRDgC8Jg8AKXkPAHXMDwC/IxAAbX4QANDcEABwRBEAJ7wRAERIEgB46xIAjaITANhkFAAaJhUASd0VACSHFgCeJRcAnboXAA5KGADZ1hgAkmEZAPDoGQA3bBoAE+oaAAtiGwC40xsAg0AcAE2sHAAhHB0AkJMdAHUUHgDynR4AAi4fABTBHwDaVCAAneggAGB9IQCmFCIAlrAiAJhSIwAZ+yMAK6kkAA==",
          "dtype": "i4"
         },
         "yaxis": "y"
        },
        {
         "hovertemplate": "Country Name=New Caledonia<br>Year=%{x}<br>Count=%{y}<extra></extra>",
         "legendgroup": "New Caledonia",
         "line": {
          "color": "#EF553B",
          "dash": "solid"
         },
         "marker": {
          "symbol": "circle"
         },
         "mode": "lines",
         "name": "New Caledonia",
         "showlegend": true,
         "type": "scattergl",
         "x": {
          "bdata": "qAepB6oHqwesB60HrgevB7AHsQeyB7MHtAe1B7YHtwe4B7kHuge7B7wHvQe+B78HwAfBB8IHwwfEB8UHxgfHB8gHyQfKB8sHzAfNB84HzwfQB9EH0gfTB9QH1QfWB9cH2AfZB9oH2wfcB90H3gffB+AH4Qc=",
          "dtype": "i2"
         },
         "xaxis": "x",
         "y": {
          "bdata": "mDQBADA9AQDIRQEAxE4BACRYAQCEYQEAPG0BAPR4AQCshAEAQJYBAIC1AQDA1AEAPOoBAPT1AQC4/wEAlAUCAHALAgBAEwIAHBkCAAQdAgASIwIAOi0CACQ5AgDcRAIAYlACAFJbAgCmZgIA9HICAEJ/AgDyiwIAk5sCAAKtAgBXvgIAsNACACrkAgAY9QIAvAMDAMoSAwDfIQMAPjEDAO5AAwDsUAMAMmEDABBwAwCOfQMAOosDAOaYAwCSpgMAPrQDAL7AAwCWzwMAjuEDALjzAwDiBQQAEhcEABAoBABGOAQAHkcEAA==",
          "dtype": "i4"
         },
         "yaxis": "y"
        },
        {
         "hovertemplate": "Country Name=Niger<br>Year=%{x}<br>Count=%{y}<extra></extra>",
         "legendgroup": "Niger",
         "line": {
          "color": "#00cc96",
          "dash": "solid"
         },
         "marker": {
          "symbol": "circle"
         },
         "mode": "lines",
         "name": "Niger",
         "showlegend": true,
         "type": "scattergl",
         "x": {
          "bdata": "qAepB6oHqwesB60HrgevB7AHsQeyB7MHtAe1B7YHtwe4B7kHuge7B7wHvQe+B78HwAfBB8IHwwfEB8UHxgfHB8gHyQfKB8sHzAfNB84HzwfQB9EH0gfTB9QH1QfWB9cH2AfZB9oH2wfcB90H3gffB+AH4Qc=",
          "dtype": "i2"
         },
         "xaxis": "x",
         "y": {
          "bdata": "XLUzAHYyNQCEwDYAnF04ALMGOgCFuTsAO3Y9ANA9PwD3D0EAh+xCALTTRAAkxUYA48FIAAfNSgCe6kwArR1PAC1oUQDRyVMArEBWAIvJWACMYlsA+QxeAGPLYACBnmMATYdmAJ2HaQAjoGwAr9RvABEucwCVt3YA33l6AN95fgDyt4IAfzKHALjliwBwz5AAJvGVAJlOmwA06qAA/samAOXnrADFT7MAHwG6ADD+wAAcScgAk+TPAOPR1wDXFOAA3LXoAD2/8QCZOPsAiSYFAXeIDwE/WhoB3ZQlAX8zMQFmNj0BqKBJAQ==",
          "dtype": "i4"
         },
         "yaxis": "y"
        },
        {
         "hovertemplate": "Country Name=Nigeria<br>Year=%{x}<br>Count=%{y}<extra></extra>",
         "legendgroup": "Nigeria",
         "line": {
          "color": "#ab63fa",
          "dash": "solid"
         },
         "marker": {
          "symbol": "circle"
         },
         "mode": "lines",
         "name": "Nigeria",
         "showlegend": true,
         "type": "scattergl",
         "x": {
          "bdata": "qAepB6oHqwesB60HrgevB7AHsQeyB7MHtAe1B7YHtwe4B7kHuge7B7wHvQe+B78HwAfBB8IHwwfEB8UHxgfHB8gHyQfKB8sHzAfNB84HzwfQB9EH0gfTB9QH1QfWB9cH2AfZB9oH2wfcB90H3gffB+AH4Qc=",
          "dtype": "i2"
         },
         "xaxis": "x",
         "y": {
          "bdata": "GsKwAsvfvgI+ns0CpuzcAgiz7AIx5PwCNYYNA9mtHgOUcDADb+pCA0A4VgNXSGoDUCt/A8FGlQN5Hq0D2gPHAwIz4wM4cAEEbQEhBGviQAQRW2AEdiF/BFpznQQ4xrsEM8/aBCER+wT/sBwFoIE/BYdSYwU71YcFotOsBTBK0gWuWPgF0RYfBoSnRgYvKW8G+quYBv85wwYP5u4Gn8MbB0rnSQd+XHkHbDiqB9ek3Adm0xAIeOlGCET2fgiJ+LgIt+70CMXPMgkdkXIJTzW0CV+19wkJ8DwKprmDCijwywphhxUL335gCw==",
          "dtype": "i4"
         },
         "yaxis": "y"
        },
        {
         "hovertemplate": "Country Name=Nicaragua<br>Year=%{x}<br>Count=%{y}<extra></extra>",
         "legendgroup": "Nicaragua",
         "line": {
          "color": "#FFA15A",
          "dash": "solid"
         },
         "marker": {
          "symbol": "circle"
         },
         "mode": "lines",
         "name": "Nicaragua",
         "showlegend": true,
         "type": "scattergl",
         "x": {
          "bdata": "qAepB6oHqwesB60HrgevB7AHsQeyB7MHtAe1B7YHtwe4B7kHuge7B7wHvQe+B78HwAfBB8IHwwfEB8UHxgfHB8gHyQfKB8sHzAfNB84HzwfQB9EH0gfTB9QH1QfWB9cH2AfZB9oH2wfcB90H3gffB+AH4Qc=",
          "dtype": "i2"
         },
         "xaxis": "x",
         "y": {
          "bdata": "SQ4bAJLrGwDBzBwAerIdANGdHgCdjx8ACIggADKHIQAvjiIAR54jAHG4JAC93CUA6wonAGtDKACHhikASdQqAHwsLAARji0A6vYuAFBkMADv0zEAjEUzAJO4NAAPKjYAYJY3AEX7OAAaVjoAJ6g7AI33PAAOTT4Aeq4/ADAeQQDgmEIAoRdEAJ6QRQCZ/EYAyllIAA2qSQA37koAQChMAPZZTQAWg04AAKRPAFbAUADH3FEA4vxSACMiVAAnTFUAaHpWAHarVwBB3lgAvxJaAD5JWwB2gVwADbtdAIj1XgDmMGAA12xhAA==",
          "dtype": "i4"
         },
         "yaxis": "y"
        },
        {
         "hovertemplate": "Country Name=Netherlands<br>Year=%{x}<br>Count=%{y}<extra></extra>",
         "legendgroup": "Netherlands",
         "line": {
          "color": "#19d3f3",
          "dash": "solid"
         },
         "marker": {
          "symbol": "circle"
         },
         "mode": "lines",
         "name": "Netherlands",
         "showlegend": true,
         "type": "scattergl",
         "x": {
          "bdata": "qAepB6oHqwesB60HrgevB7AHsQeyB7MHtAe1B7YHtwe4B7kHuge7B7wHvQe+B78HwAfBB8IHwwfEB8UHxgfHB8gHyQfKB8sHzAfNB84HzwfQB9EH0gfTB9QH1QfWB9cH2AfZB9oH2wfcB90H3gffB+AH4Qc=",
          "dtype": "i2"
         },
         "xaxis": "x",
         "y": {
          "bdata": "p0WvALiXsQD5I7QADpa2AJALuQBMmrsAOxG+ALk7wAB5PcIAoIDEAL7zxgABVckA0WDLAFoRzQBgrs4AH4jQANUs0gC5bdMAxLvUAP401gCo6NcAKGXZAPJk2gBeOdsAkxjcAPAf3QD2Wt4ATcXfAJ444QCLk+IAViTkAGby5QAmsecAAFDpADa56gC+4usAAvrsABoz7gBJrO8A+EXxAAkB8wBk2PQAwWn2ABaU9wCzcPgAfAX5APVr+QAA9/kAmfD6ANQ7/ADih/0AUrf+ABKp/wBQagAB8FYBAZN7AgGq3AMBIGcFAQ==",
          "dtype": "i4"
         },
         "yaxis": "y"
        },
        {
         "hovertemplate": "Country Name=Norway<br>Year=%{x}<br>Count=%{y}<extra></extra>",
         "legendgroup": "Norway",
         "line": {
          "color": "#FF6692",
          "dash": "solid"
         },
         "marker": {
          "symbol": "circle"
         },
         "mode": "lines",
         "name": "Norway",
         "showlegend": true,
         "type": "scattergl",
         "x": {
          "bdata": "qAepB6oHqwesB60HrgevB7AHsQeyB7MHtAe1B7YHtwe4B7kHuge7B7wHvQe+B78HwAfBB8IHwwfEB8UHxgfHB8gHyQfKB8sHzAfNB84HzwfQB9EH0gfTB9QH1QfWB9cH2AfZB9oH2wfcB90H3gffB+AH4Qc=",
          "dtype": "i2"
         },
         "xaxis": "x",
         "y": {
          "bdata": "N6U2AMgUNwCGhjcAafI3AANfOACgzzgANEQ5AFu/OQAmPDoAG7Y6ALMjOwA/jjsATAM8ACRvPABqzzwAkSU9AChvPQDFsT0AL+49AEUkPgB0Vz4Ado4+AGPJPgCw/j4AQyw/AMRcPwC6lj8AGeM/AFA7QABVf0AAQbhAAGQHQQDBZ0EAt8tBAOUrQgAQhEIAmNpCAKU3QwBonkMAWRVEANeGRADX30QALz9FAHenRQAmEUYAu4tGAMUdRwAh20cA1MFIADauSQCkmkoAAJRLAM2TTABHgk0AUGNOAP8rTwBX308AKIVQAA==",
          "dtype": "i4"
         },
         "yaxis": "y"
        },
        {
         "hovertemplate": "Country Name=Nepal<br>Year=%{x}<br>Count=%{y}<extra></extra>",
         "legendgroup": "Nepal",
         "line": {
          "color": "#B6E880",
          "dash": "solid"
         },
         "marker": {
          "symbol": "circle"
         },
         "mode": "lines",
         "name": "Nepal",
         "showlegend": true,
         "type": "scattergl",
         "x": {
          "bdata": "qAepB6oHqwesB60HrgevB7AHsQeyB7MHtAe1B7YHtwe4B7kHuge7B7wHvQe+B78HwAfBB8IHwwfEB8UHxgfHB8gHyQfKB8sHzAfNB84HzwfQB9EH0gfTB9QH1QfWB9cH2AfZB9oH2wfcB90H3gffB+AH4Qc=",
          "dtype": "i2"
         },
         "xaxis": "x",
         "y": {
          "bdata": "2jCaAICqnAB5Mp8ATdChAN+MpADwbqcAsXqqALewrQDYD7EAHpW0AII+uACODLwA5ADAAO4bxAD8XcgAUcfMAK9X0QD4DtYAee3aAMHz3wDSIeUAPnzqABcD8AAJrfUAIW37AMY8AQF5DgcBjeoMAZH5EgHkchkBhnkgAcAaKAEQPDAB96Y4AQgPQQGHOUkBcBJRAcedWAHb1V8BzLtmAfZPbQHigXMBe0h5ASi0fgFQ3oMBdNSIAQW/jQH1kJIBUOaWAc81mgFcMJwBnZ6cASbVmwESvJoBLpGaAXc3nAHL+J8BdI6lAQ==",
          "dtype": "i4"
         },
         "yaxis": "y"
        },
        {
         "hovertemplate": "Country Name=Nauru<br>Year=%{x}<br>Count=%{y}<extra></extra>",
         "legendgroup": "Nauru",
         "line": {
          "color": "#FF97FF",
          "dash": "solid"
         },
         "marker": {
          "symbol": "circle"
         },
         "mode": "lines",
         "name": "Nauru",
         "showlegend": true,
         "type": "scattergl",
         "x": {
          "bdata": "qAepB6oHqwesB60HrgevB7AHsQeyB7MHtAe1B7YHtwe4B7kHuge7B7wHvQe+B78HwAfBB8IHwwfEB8UHxgfHB8gHyQfKB8sHzAfNB84HzwfQB9EH0gfTB9QH1QfWB9cH2AfZB9oH2wfcB90H3gffB+AH4Qc=",
          "dtype": "i2"
         },
         "xaxis": "x",
         "y": {
          "bdata": "FxEYElATmxTYFeAWsxdPGMEYKRmYGRYakxoQG5IbBxx2HOccTx3AHT0ewx5SH+sfiCA1IeshoSJmIz4kISUkJi4nLygCKYQpsCmXKUUp0ShhKOcndicKJ64meSZkJnImoybTJhUnSScnKEUqTS67MPkyTDI=",
          "dtype": "i2"
         },
         "yaxis": "y"
        },
        {
         "hovertemplate": "Country Name=New Zealand<br>Year=%{x}<br>Count=%{y}<extra></extra>",
         "legendgroup": "New Zealand",
         "line": {
          "color": "#FECB52",
          "dash": "solid"
         },
         "marker": {
          "symbol": "circle"
         },
         "mode": "lines",
         "name": "New Zealand",
         "showlegend": true,
         "type": "scattergl",
         "x": {
          "bdata": "qAepB6oHqwesB60HrgevB7AHsQeyB7MHtAe1B7YHtwe4B7kHuge7B7wHvQe+B78HwAfBB8IHwwfEB8UHxgfHB8gHyQfKB8sHzAfNB84HzwfQB9EH0gfTB9QH1QfWB9cH2AfZB9oH2wfcB90H3gffB+AH4Qc=",
          "dtype": "i2"
         },
         "xaxis": "x",
         "y": {
          "bdata": "2DAkAPTrJABQ3yUA2KEmADhzJwAwGygAvNQoAASRKQDE7ikAQE8qAEzjKgCIiCsAXE8sAJQvLQBUIy4AXAsvAGR2LwBInC8AMKAvAIhwLwDEfy8ApK4vAIQoMABE0TAA3D0xAPyLMQDciDEAoPYxAMgZMgCAVzIACM8yALxUNQC04zUA6IE2AKA8NwA4DTgAIPI4ALSyOQBYNjoA3IQ6ACTdOgA0NjsA1D88AEBzPQDMXj4ADBQ/ABjaPwA4c0AA2P9AAAinQQDsYkIAAOVCACRDQwD0x0MABNBEAPQfRgDQnEcALCZJAA==",
          "dtype": "i4"
         },
         "yaxis": "y"
        },
        {
         "hovertemplate": "Country Name=Oman<br>Year=%{x}<br>Count=%{y}<extra></extra>",
         "legendgroup": "Oman",
         "line": {
          "color": "#636efa",
          "dash": "solid"
         },
         "marker": {
          "symbol": "circle"
         },
         "mode": "lines",
         "name": "Oman",
         "showlegend": true,
         "type": "scattergl",
         "x": {
          "bdata": "qAepB6oHqwesB60HrgevB7AHsQeyB7MHtAe1B7YHtwe4B7kHuge7B7wHvQe+B78HwAfBB8IHwwfEB8UHxgfHB8gHyQfKB8sHzAfNB84HzwfQB9EH0gfTB9QH1QfWB9cH2AfZB9oH2wfcB90H3gffB+AH4Qc=",
          "dtype": "i2"
         },
         "xaxis": "x",
         "y": {
          "bdata": "PGsIAJ2eCAAH1QgAYA4JAHlKCQBxiQkA0csJAJISCgCrXgoAObEKAIsLCwCobQsAvNgLAEpQDADe2AwAf3UNAMwmDgCM6w4AX8IPAAypEABJnREA6Z8SAH+vEwC/xBQAHtYVADLdFgBh0hcAl7cYAB6bGQBkkRoAwaYbAIjlHAArQx4AKJ4fAEPIIAB1oiEA7iAiACJUIgBYXCIAOGgiAEWbIgCyBCMAiqAjAPZoJADNUCUAk1EmABZhJwCGiygA8/kpABrjKwCaaC4ApJsxAC1gNQBFcjkAfHM9AFQdQQDzWEQATzJHAA==",
          "dtype": "i4"
         },
         "yaxis": "y"
        },
        {
         "hovertemplate": "Country Name=Pakistan<br>Year=%{x}<br>Count=%{y}<extra></extra>",
         "legendgroup": "Pakistan",
         "line": {
          "color": "#EF553B",
          "dash": "solid"
         },
         "marker": {
          "symbol": "circle"
         },
         "mode": "lines",
         "name": "Pakistan",
         "showlegend": true,
         "type": "scattergl",
         "x": {
          "bdata": "qAepB6oHqwesB60HrgevB7AHsQeyB7MHtAe1B7YHtwe4B7kHuge7B7wHvQe+B78HwAfBB8IHwwfEB8UHxgfHB8gHyQfKB8sHzAfNB84HzwfQB9EH0gfTB9QH1QfWB9cH2AfZB9oH2wfcB90H3gffB+AH4Qc=",
          "dtype": "i2"
         },
         "xaxis": "x",
         "y": {
          "bdata": "EnmuAk/mvgKeMtAC5VTiAudB9QJX8ggDXW0dA+24MgPczEgDgJ5fA2wtdwPReY8DY52oAw7SwgMOY94DbYv7AxZUGgRZvDoEyuZcBKv4gATHA6cECxbPBLUQ+QRvniQFCktRBRa7fgUS36wFu7jbBSMVCwZxvToGsZNqBhhZmgZWJcoG3Zn6BgqXLAdHr2AHKjKXBxfHzwdhiwkIbT5DCJr9ewgidLMIhPLpCP0EIAl5g1YJiAuOCWPJxglpjAAK2ic7CulOdgqBzbEKMI7tCkOwKQvHcGYLSSWkC5QD4wsUGyMMbkBkDA==",
          "dtype": "i4"
         },
         "yaxis": "y"
        },
        {
         "hovertemplate": "Country Name=Panama<br>Year=%{x}<br>Count=%{y}<extra></extra>",
         "legendgroup": "Panama",
         "line": {
          "color": "#00cc96",
          "dash": "solid"
         },
         "marker": {
          "symbol": "circle"
         },
         "mode": "lines",
         "name": "Panama",
         "showlegend": true,
         "type": "scattergl",
         "x": {
          "bdata": "qAepB6oHqwesB60HrgevB7AHsQeyB7MHtAe1B7YHtwe4B7kHuge7B7wHvQe+B78HwAfBB8IHwwfEB8UHxgfHB8gHyQfKB8sHzAfNB84HzwfQB9EH0gfTB9QH1QfWB9cH2AfZB9oH2wfcB90H3gffB+AH4Qc=",
          "dtype": "i2"
         },
         "xaxis": "x",
         "y": {
          "bdata": "xUkRAAnPEQARWRIAaecSAKt5EwB1DxQAcqgUAKFEFQAt5BUAgYcWALUuFwDV2RcAdIgYANw5GQDu7BkA8qAaAJRVGwDoChwACMEcACh4HQB3MB4A8+keAJ2kHwCEYCAA1R0hAMHcIQBUnSIAuF8jACckJADi6iQAI7QlAO5/JgBSTicAzB8oANT0KADUzSkAA6sqABmMKwA8cCwAPFYtADg9LgDwJC8AhA0wAFj3MADs4jEAqdAyALLAMwDrsjQALKc1AE+dNgA/lTcAc444AACJOQAthjoAg4c7AOeNPADWmT0AE6o+AA==",
          "dtype": "i4"
         },
         "yaxis": "y"
        },
        {
         "hovertemplate": "Country Name=Peru<br>Year=%{x}<br>Count=%{y}<extra></extra>",
         "legendgroup": "Peru",
         "line": {
          "color": "#ab63fa",
          "dash": "solid"
         },
         "marker": {
          "symbol": "circle"
         },
         "mode": "lines",
         "name": "Peru",
         "showlegend": true,
         "type": "scattergl",
         "x": {
          "bdata": "qAepB6oHqwesB60HrgevB7AHsQeyB7MHtAe1B7YHtwe4B7kHuge7B7wHvQe+B78HwAfBB8IHwwfEB8UHxgfHB8gHyQfKB8sHzAfNB84HzwfQB9EH0gfTB9QH1QfWB9cH2AfZB9oH2wfcB90H3gffB+AH4Qc=",
          "dtype": "i2"
         },
         "xaxis": "x",
         "y": {
          "bdata": "B/SaABxnnwAaBqQAHMyoAE2yrQCgs7IA2823AD8CvQD+U8IA9MfHAFJhzQBPINMAiQLZACUF3wBfJOUA6FzrAGyt8QARFfgAwJH+ACwhBQFawQsBcW8SAS8qGQHR8h8BwssmAci1LQHwsDQBU7k7AbPGQgFxzkkBichQAQqqVwEicl4BAy5lAZDxawGYxnIBoLZ5AUqwgAHOgocBVeyNASi/kwG17JgBKIedAcKqoQEVg6UBITSpAajNrAH8U7ABjdOzAU9XtwFa7boBvom+AeQ8wgGjUMYBdyTLAU7y0AHQ5NcBSc3fAQ==",
          "dtype": "i4"
         },
         "yaxis": "y"
        },
        {
         "hovertemplate": "Country Name=Philippines<br>Year=%{x}<br>Count=%{y}<extra></extra>",
         "legendgroup": "Philippines",
         "line": {
          "color": "#FFA15A",
          "dash": "solid"
         },
         "marker": {
          "symbol": "circle"
         },
         "mode": "lines",
         "name": "Philippines",
         "showlegend": true,
         "type": "scattergl",
         "x": {
          "bdata": "qAepB6oHqwesB60HrgevB7AHsQeyB7MHtAe1B7YHtwe4B7kHuge7B7wHvQe+B78HwAfBB8IHwwfEB8UHxgfHB8gHyQfKB8sHzAfNB84HzwfQB9EH0gfTB9QH1QfWB9cH2AfZB9oH2wfcB90H3gffB+AH4Qc=",
          "dtype": "i2"
         },
         "xaxis": "x",
         "y": {
          "bdata": "JtiQAddxngEbbawBkbK6ASAiyQEkptcBdjXmAaDa9AF6rAMCAcwSAspRIgILSDICRKpCAq9wUwJ4jWQCbvh1Aj2vhwJku5kCUy6sAmofvwIvn9ICRrDmAotM+wIQcBADoBMmA+4uPANbwlID3MZpA/kjgQMfupgD+HGwA0I+yAPUIOADcCT4A3tbEAQY0igEFYFBBORcWgSOZ3MEJ6SMBEsPpgQptr8EConZBMNF8wSOlAwF6jslBSMTPQUqOFQFzQ1rBc4gggW80ZkFf0iyBd5YywUAqeQFcrX9BbwfFgY3yS0GENFEBg==",
          "dtype": "i4"
         },
         "yaxis": "y"
        },
        {
         "hovertemplate": "Country Name=Palau<br>Year=%{x}<br>Count=%{y}<extra></extra>",
         "legendgroup": "Palau",
         "line": {
          "color": "#19d3f3",
          "dash": "solid"
         },
         "marker": {
          "symbol": "circle"
         },
         "mode": "lines",
         "name": "Palau",
         "showlegend": true,
         "type": "scattergl",
         "x": {
          "bdata": "qAepB6oHqwesB60HrgevB7AHsQeyB7MHtAe1B7YHtwe4B7kHuge7B7wHvQe+B78HwAfBB8IHwwfEB8UHxgfHB8gHyQfKB8sHzAfNB84HzwfQB9EH0gfTB9QH1QfWB9cH2AfZB9oH2wfcB90H3gffB+AH4Qc=",
          "dtype": "i2"
         },
         "xaxis": "x",
         "y": {
          "bdata": "KyZBJ00oSSkvKvsqqys+LMgsYi0jLhUvNDBUMR8yaDIlMmYxczDFL5Mv9y/kMCsyizPYNAc2KzdCOHU50jpRPPA9oj9NQQxDuUReRupHWEmhSrpLtUxhTZtNRU1UTNZKEEltRyNGUUXoRMZE2kQBRT1FkEU=",
          "dtype": "i2"
         },
         "yaxis": "y"
        },
        {
         "hovertemplate": "Country Name=Papua New Guinea<br>Year=%{x}<br>Count=%{y}<extra></extra>",
         "legendgroup": "Papua New Guinea",
         "line": {
          "color": "#FF6692",
          "dash": "solid"
         },
         "marker": {
          "symbol": "circle"
         },
         "mode": "lines",
         "name": "Papua New Guinea",
         "showlegend": true,
         "type": "scattergl",
         "x": {
          "bdata": "qAepB6oHqwesB60HrgevB7AHsQeyB7MHtAe1B7YHtwe4B7kHuge7B7wHvQe+B78HwAfBB8IHwwfEB8UHxgfHB8gHyQfKB8sHzAfNB84HzwfQB9EH0gfTB9QH1QfWB9cH2AfZB9oH2wfcB90H3gffB+AH4Qc=",
          "dtype": "i2"
         },
         "xaxis": "x",
         "y": {
          "bdata": "82siAOMMIwAAtiMAGmgkAK8kJQC97CUAmsAmANSfJwB5iSgAW3wpAJF3KgD8eisA+4YsAJKcLQAJvS4AaekvAHUhMQDpZDIAyrQzAFQSNQAFfjYAiPg3AKOAOQAEEzsAFKs8AIZFPgCD4T8A039BANwgQwBvxUQAn25GACsbSAB5y0kAO4RLAL1LTQD0JU8AyBZRAPEbUwDCK1UAwThXACI6WQBlKlsAvQ5dABH2XgBF9WAAtxpjAG9sZQDC42cAyXJqAEgFbQCrjG8ASARyAJpwdABb13YA60F5AP+2ewCQN34ADcGAAA==",
          "dtype": "i4"
         },
         "yaxis": "y"
        },
        {
         "hovertemplate": "Country Name=Poland<br>Year=%{x}<br>Count=%{y}<extra></extra>",
         "legendgroup": "Poland",
         "line": {
          "color": "#B6E880",
          "dash": "solid"
         },
         "marker": {
          "symbol": "circle"
         },
         "mode": "lines",
         "name": "Poland",
         "showlegend": true,
         "type": "scattergl",
         "x": {
          "bdata": "qAepB6oHqwesB60HrgevB7AHsQeyB7MHtAe1B7YHtwe4B7kHuge7B7wHvQe+B78HwAfBB8IHwwfEB8UHxgfHB8gHyQfKB8sHzAfNB84HzwfQB9EH0gfTB9QH1QfWB9cH2AfZB9oH2wfcB90H3gffB+AH4Qc=",
          "dtype": "i2"
         },
         "xaxis": "x",
         "y": {
          "bdata": "SjvEAeA2yQGUeM4BwKDUAXom2wHWz98B6GnjAdMV6AH/xuwBzKXwAexq8gGMPPQBomP4AZD9/AEz5gEC3wcHAkw8DAIaUBECYIgVAnHUGQKG0R4C28QjAlHVKAKgCi4CxhwzAt2nNwL3iDsCzcQ+AucnQQI5P0MCPoZFAjGXRwITYkkC4N9KAjwdTAK26UwCclxNAjy/TQI59U0Cr+hNAsXHRwKMnkcCXFlHApr0RgJOnUYCxVtGAlP9RQJwrEUCv8BFArMlRgKqfEQCl8xEAjzMRAKEckQCVwNEAmygQwKnYEMCKnNDAg==",
          "dtype": "i4"
         },
         "yaxis": "y"
        },
        {
         "hovertemplate": "Country Name=Puerto Rico<br>Year=%{x}<br>Count=%{y}<extra></extra>",
         "legendgroup": "Puerto Rico",
         "line": {
          "color": "#FF97FF",
          "dash": "solid"
         },
         "marker": {
          "symbol": "circle"
         },
         "mode": "lines",
         "name": "Puerto Rico",
         "showlegend": true,
         "type": "scattergl",
         "x": {
          "bdata": "qAepB6oHqwesB60HrgevB7AHsQeyB7MHtAe1B7YHtwe4B7kHuge7B7wHvQe+B78HwAfBB8IHwwfEB8UHxgfHB8gHyQfKB8sHzAfNB84HzwfQB9EH0gfTB9QH1QfWB9cH2AfZB9oH2wfcB90H3gffB+AH4Qc=",
          "dtype": "i2"
         },
         "xaxis": "x",
         "y": {
          "bdata": "8PojAOqdJACSYyUAUjcmANL4JgDQlCcA4w0oAKpeKACwnigA9vQoADB5KQDOJSoA6PwqAELtKwCj2SwAUK8tAA5yLgAyIS8ATcAvAFhXMABw6zAAOHoxAI0CMgAihjIAPgczAGiHMwCSBjQAuoQ0AOoBNQDyfTUAaPg1AH5aNgCYtDYACSs3ANWuNwAfMzgAb9U4AEZdOQDtsTkAEfw5AC0lOgAWRToAVVg6AK9hOgC+ZDoAMk86AB4QOgBTuTkA4mI5APoSOQA1yTgADCI4ADh1NwB10zYAGvA1AA7/NACf+jMASbwyAA==",
          "dtype": "i4"
         },
         "yaxis": "y"
        },
        {
         "hovertemplate": "Country Name=Korea, Dem. People’s Rep.<br>Year=%{x}<br>Count=%{y}<extra></extra>",
         "legendgroup": "Korea, Dem. People’s Rep.",
         "line": {
          "color": "#FECB52",
          "dash": "solid"
         },
         "marker": {
          "symbol": "circle"
         },
         "mode": "lines",
         "name": "Korea, Dem. People’s Rep.",
         "showlegend": true,
         "type": "scattergl",
         "x": {
          "bdata": "qAepB6oHqwesB60HrgevB7AHsQeyB7MHtAe1B7YHtwe4B7kHuge7B7wHvQe+B78HwAfBB8IHwwfEB8UHxgfHB8gHyQfKB8sHzAfNB84HzwfQB9EH0gfTB9QH1QfWB9cH2AfZB9oH2wfcB90H3gffB+AH4Qc=",
          "dtype": "i2"
         },
         "xaxis": "x",
         "y": {
          "bdata": "sFGuALsAsgDgJbUAvBq4ADNquwDFdb8Auk3EACbDyQD+q88A48fVAKDi2wCx+eEAWw3oAIfv7QDOaPMANFX4APqa/ACiSwABr6QDAdL+BgGMmgoBno4OAfTJEgFmNRcBuqkbATYLIAE7TyQBMoIoAaO5LAGbFDEBvqU1AX54OgG8ej8Bqn1EAf5ASQGbl00BnmxRASPPVAEx4lcB2tpaAbPeXQE0+2ABvSFkAZo6ZwH7IWoBp79sAVAMbwGrFXEBfvFyATW/dAHklXYBaXx4AWRtegGsZHwB2Fl+AVlGgAFgKoIB4QeEAQ==",
          "dtype": "i4"
         },
         "yaxis": "y"
        },
        {
         "hovertemplate": "Country Name=Portugal<br>Year=%{x}<br>Count=%{y}<extra></extra>",
         "legendgroup": "Portugal",
         "line": {
          "color": "#636efa",
          "dash": "solid"
         },
         "marker": {
          "symbol": "circle"
         },
         "mode": "lines",
         "name": "Portugal",
         "showlegend": true,
         "type": "scattergl",
         "x": {
          "bdata": "qAepB6oHqwesB60HrgevB7AHsQeyB7MHtAe1B7YHtwe4B7kHuge7B7wHvQe+B78HwAfBB8IHwwfEB8UHxgfHB8gHyQfKB8sHzAfNB84HzwfQB9EH0gfTB9QH1QfWB9cH2AfZB9oH2wfcB90H3gffB+AH4Qc=",
          "dtype": "i2"
         },
         "xaxis": "x",
         "y": {
          "bdata": "dCiHACRAiADBPIkA08qJAGXeiQDDTokArkaIABhqhwAq1oYAyaGFAO9zhACs5IMAnrCDAAy7gwC9lIUAXsGKACLCjgA7SJAA6tiRAFFrkwCoBZUA4lGWANs9lwDp8ZcAyIeYAL3ymABeFpkAzwuZABrjmAAIqpgA8lSYACv7lwDu3JcAgwyYAGV1mADA/JgASZCZADFAmgBECJsAZOmbAOoCnQBiH54Ar/2eAMWWnwCV+J8AokSgALCOoAB036AA4RqhADdCoQAsVaEAeBihAJxxoADPkJ8AJrWeADwNngDMjZ0AjCudAA==",
          "dtype": "i4"
         },
         "yaxis": "y"
        },
        {
         "hovertemplate": "Country Name=Paraguay<br>Year=%{x}<br>Count=%{y}<extra></extra>",
         "legendgroup": "Paraguay",
         "line": {
          "color": "#EF553B",
          "dash": "solid"
         },
         "marker": {
          "symbol": "circle"
         },
         "mode": "lines",
         "name": "Paraguay",
         "showlegend": true,
         "type": "scattergl",
         "x": {
          "bdata": "qAepB6oHqwesB60HrgevB7AHsQeyB7MHtAe1B7YHtwe4B7kHuge7B7wHvQe+B78HwAfBB8IHwwfEB8UHxgfHB8gHyQfKB8sHzAfNB84HzwfQB9EH0gfTB9QH1QfWB9cH2AfZB9oH2wfcB90H3gffB+AH4Qc=",
          "dtype": "i2"
         },
         "xaxis": "x",
         "y": {
          "bdata": "bg0dAPTSHQCOnh4AM3AfAO9HIACSJSEA1QkiAG70IgA14yMAVNMkAAvDJQDBsSYAIqEnAF2UKADkjykASZcqACurKwCgyywAovotAGk6LwA5jDAA0PAxAEVnMwD37DQASH42ADIYOACiuTkAFmI7AJEPPQACwD4At3FAAAkjQgBY00MAAYNFAO4yRwCL40gAUJRKANRDTAB/8E0AXZhPAME5UQDc1FIAOmlUANfzVQD1cFcAYN5YAHk6WgBbh1sAEMtcAAQOXgBUVl8AGKZgAAj8YQDEVmMAZrNkAOoPZgAQbGcAdshoAA==",
          "dtype": "i4"
         },
         "yaxis": "y"
        },
        {
         "hovertemplate": "Country Name=Pacific island small states<br>Year=%{x}<br>Count=%{y}<extra></extra>",
         "legendgroup": "Pacific island small states",
         "line": {
          "color": "#00cc96",
          "dash": "solid"
         },
         "marker": {
          "symbol": "circle"
         },
         "mode": "lines",
         "name": "Pacific island small states",
         "showlegend": true,
         "type": "scattergl",
         "x": {
          "bdata": "qAepB6oHqwesB60HrgevB7AHsQeyB7MHtAe1B7YHtwe4B7kHuge7B7wHvQe+B78HwAfBB8IHwwfEB8UHxgfHB8gHyQfKB8sHzAfNB84HzwfQB9EH0gfTB9QH1QfWB9cH2AfZB9oH2wfcB90H3gffB+AH4Qc=",
          "dtype": "i2"
         },
         "xaxis": "x",
         "y": {
          "bdata": "MDMNAMShDQCqFg4A/44OAPcGDwBuew8AuusPAEdYEACqwRAA4ygRAB6PEQAP9BEA7VcSAIi7EgABIBMAIYYTAL7tEwCeVhQAn8IUAAo0FQAWrBUAmCwWAOyzFgDcOxcAvbsXAAAuGABmjxgAq+IYAAovGQAjfxkAfNoZAJVDGgCJtxoAaDEbAGKpGwAdGhwAfoIcAETkHADPQB0AGJodANTxHQDwRx4APpweAEbxHgAMSh8AmqgfAIUOIAAYeyAAjusgAEpcIQB3yiEABjUiACSeIgAlCSMAkHojANjxIwBTcSQARvUkAA==",
          "dtype": "i4"
         },
         "yaxis": "y"
        },
        {
         "hovertemplate": "Country Name=French Polynesia<br>Year=%{x}<br>Count=%{y}<extra></extra>",
         "legendgroup": "French Polynesia",
         "line": {
          "color": "#ab63fa",
          "dash": "solid"
         },
         "marker": {
          "symbol": "circle"
         },
         "mode": "lines",
         "name": "French Polynesia",
         "showlegend": true,
         "type": "scattergl",
         "x": {
          "bdata": "qAepB6oHqwesB60HrgevB7AHsQeyB7MHtAe1B7YHtwe4B7kHuge7B7wHvQe+B78HwAfBB8IHwwfEB8UHxgfHB8gHyQfKB8sHzAfNB84HzwfQB9EH0gfTB9QH1QfWB9cH2AfZB9oH2wfcB90H3gffB+AH4Qc=",
          "dtype": "i2"
         },
         "xaxis": "x",
         "y": {
          "bdata": "/DABAEI7AQDHRgEAP1MBABtgAQD+bAEAzHkBAJuGAQCukwEARKEBAJ+vAQDOvgEAqM4BABPfAQDM7wEAoQACAH0RAgBzIgIAlTMCAAVFAgDVVgIAAWkCAH17AgAbjgIA2aACAIOzAgA5xgIA2NgCACLrAgCO/AIA4QwDAM4bAwCNKQMA0jYDALVEAwDXUwMAcmQDADJ2AwCSiAMAvZoDAC6sAwDDvAMAjMwDAB/bAwD45wMA3PIDAJL7AwBBAgQAfQcEACYMBADXEAQAshUEAMYaBAD4HwQAWSUEAOQqBACPMAQAhzYEAA==",
          "dtype": "i4"
         },
         "yaxis": "y"
        },
        {
         "hovertemplate": "Country Name=Qatar<br>Year=%{x}<br>Count=%{y}<extra></extra>",
         "legendgroup": "Qatar",
         "line": {
          "color": "#FFA15A",
          "dash": "solid"
         },
         "marker": {
          "symbol": "circle"
         },
         "mode": "lines",
         "name": "Qatar",
         "showlegend": true,
         "type": "scattergl",
         "x": {
          "bdata": "qAepB6oHqwesB60HrgevB7AHsQeyB7MHtAe1B7YHtwe4B7kHuge7B7wHvQe+B78HwAfBB8IHwwfEB8UHxgfHB8gHyQfKB8sHzAfNB84HzwfQB9EH0gfTB9QH1QfWB9cH2AfZB9oH2wfcB90H3gffB+AH4Qc=",
          "dtype": "i2"
         },
         "xaxis": "x",
         "y": {
          "bdata": "GLkAAN3IAADG2wAAFPEAAO4HAQChHwEA5jcBAB5RAQAbbAEAE4oBAMqrAQB20gEAxP0BAGorAgAVWAIA4IECAJmmAgAuyAIAz+0CAHMhAwCQaQMAtMgDAOo6BAA6uAQAGDUFAMqoBQCsEQYABHEGANXEBgB6CwcAdkQHALlvBwAjjwcA56YHAKG8BwCi1QcAI/kHABkrCACKaggAebQIAFQKCQBkYgkAZMcJADxnCgC2fgsAiDQNAPeaDwCClxIA+esVAKZAGQBHUxwAnxAfAGqCIQA+pyMAPoYlAE4mJwCmgCgAdJMpAA==",
          "dtype": "i4"
         },
         "yaxis": "y"
        },
        {
         "hovertemplate": "Country Name=Romania<br>Year=%{x}<br>Count=%{y}<extra></extra>",
         "legendgroup": "Romania",
         "line": {
          "color": "#19d3f3",
          "dash": "solid"
         },
         "marker": {
          "symbol": "circle"
         },
         "mode": "lines",
         "name": "Romania",
         "showlegend": true,
         "type": "scattergl",
         "x": {
          "bdata": "qAepB6oHqwesB60HrgevB7AHsQeyB7MHtAe1B7YHtwe4B7kHuge7B7wHvQe+B78HwAfBB8IHwwfEB8UHxgfHB8gHyQfKB8sHzAfNB84HzwfQB9EH0gfTB9QH1QfWB9cH2AfZB9oH2wfcB90H3gffB+AH4Qc=",
          "dtype": "i2"
         },
         "xaxis": "x",
         "y": {
          "bdata": "+d0YAXIhGwFG+xwBGtUeAdauIAEYZiIBWjQlAaIRKgEXHy4BtVAxAR7/NAH/NzgBJTc7AWHtPQE14kABD+pEARLaSAHA+EsB6PNOAfgSUQFdZVMBQQdWAb2OVwF2rVgBxLNZAWM4WwEFzlwBNi5eAf7UXwFyamEBKwhiAUP4XgEs0FsBEFdbAePVWgFuIloBfCNZAXolWAFQb1cBaOVWAdtzVgECtVEBwJRLAbYySQHkU0cBBVBFASBkQwEmpj4BE2I5AX/INgFX8TQBSG0zAbMPMgFN7TABc8kvATlcLgE8oiwBo+EqAQ==",
          "dtype": "i4"
         },
         "yaxis": "y"
        },
        {
         "hovertemplate": "Country Name=Russian Federation<br>Year=%{x}<br>Count=%{y}<extra></extra>",
         "legendgroup": "Russian Federation",
         "line": {
          "color": "#FF6692",
          "dash": "solid"
         },
         "marker": {
          "symbol": "circle"
         },
         "mode": "lines",
         "name": "Russian Federation",
         "showlegend": true,
         "type": "scattergl",
         "x": {
          "bdata": "qAepB6oHqwesB60HrgevB7AHsQeyB7MHtAe1B7YHtwe4B7kHuge7B7wHvQe+B78HwAfBB8IHwwfEB8UHxgfHB8gHyQfKB8sHzAfNB84HzwfQB9EH0gfTB9QH1QfWB9cH2AfZB9oH2wfcB90H3gffB+AH4Qc=",
          "dtype": "i2"
         },
         "xaxis": "x",
         "y": {
          "bdata": "qHslByDqOQcYl04HwHpjB+iceAeo+Y0H4AGZB6AdpAcASa8HAIS6B6DOxQc4RNEHiMXcB0he6AfAAvQHwLr/B/gtDgiguBwIoF4rCPgfOgjQH0kIiFRXCNjJZAigrnEIqB2CCFAZkwgw6KIIIGGyCCjcwAgoC84IoMHWCIDS2who0NwIQDzaCIBt1wiuCNgIKr7UCCsC0QikRs0IOFDGCM3ivAgTa7MIvjGpCEEonwjuSZYIO+uNCDjDhghgCIMIThOCCD67ggiptYMI5GiFCIwViQjfvY0IkoOSCGa+lgh8fZoIZNicCA==",
          "dtype": "i4"
         },
         "yaxis": "y"
        },
        {
         "hovertemplate": "Country Name=Rwanda<br>Year=%{x}<br>Count=%{y}<extra></extra>",
         "legendgroup": "Rwanda",
         "line": {
          "color": "#B6E880",
          "dash": "solid"
         },
         "marker": {
          "symbol": "circle"
         },
         "mode": "lines",
         "name": "Rwanda",
         "showlegend": true,
         "type": "scattergl",
         "x": {
          "bdata": "qAepB6oHqwesB60HrgevB7AHsQeyB7MHtAe1B7YHtwe4B7kHuge7B7wHvQe+B78HwAfBB8IHwwfEB8UHxgfHB8gHyQfKB8sHzAfNB84HzwfQB9EH0gfTB9QH1QfWB9cH2AfZB9oH2wfcB90H3gffB+AH4Qc=",
          "dtype": "i2"
         },
         "xaxis": "x",
         "y": {
          "bdata": "HsssADXALQCIlS4Ai2IvAGdIMADLXjEAT68yAN8yNABz3DUAZZc3AC5VOQDPEjsAGNc8AKeoPgCakUAAoplCAP3BRAAXCUcASHBJAIH4SwAgok4AZFFRAEr/UwBk1lYA+xFaAEvLXQDnUmIAT3RnAD8obAC5CW8AMjhvAJ8XbACkRGYAzZNfAIWUWgDPDlkAs8BbAL31YQByPmoAsnVyAPEOeQD0mH0ANJaAAGmSggBMdIQAF+SGAIn9iQCdgY0ANlWRAPJFlQAqMJkAUxCdAK75oACX+KQAcx+pAG96rQBSDbIAidC2AA==",
          "dtype": "i4"
         },
         "yaxis": "y"
        },
        {
         "hovertemplate": "Country Name=Saudi Arabia<br>Year=%{x}<br>Count=%{y}<extra></extra>",
         "legendgroup": "Saudi Arabia",
         "line": {
          "color": "#FF97FF",
          "dash": "solid"
         },
         "marker": {
          "symbol": "circle"
         },
         "mode": "lines",
         "name": "Saudi Arabia",
         "showlegend": true,
         "type": "scattergl",
         "x": {
          "bdata": "qAepB6oHqwesB60HrgevB7AHsQeyB7MHtAe1B7YHtwe4B7kHuge7B7wHvQe+B78HwAfBB8IHwwfEB8UHxgfHB8gHyQfKB8sHzAfNB84HzwfQB9EH0gfTB9QH1QfWB9cH2AfZB9oH2wfcB90H3gffB+AH4Qc=",
          "dtype": "i2"
         },
         "xaxis": "x",
         "y": {
          "bdata": "C1s+AOVfQAAikkIAtepEALJeRwBz6EkAPYdMAH9FTwA0NlIAoHJVAGUOWQCSFl0AioxhAHNqZgDEpGsAZTZxAC4QdwBRPX0AvfCDAAdviwBU4ZMAX1idADWtpwCIi7IAEn+9ABEuyAB1e9IAZ2zcAILz5QB5DO8AObX3AFbu/wCDtgcB4gsPAUbuFQHDZxwB9W4iASYhKAGI3i0B3yQ0ASNOOwHShkMBAblMAUmpVgEK+mAB92drAYbQdQFVSYABHQeLAZ9YlgEVa6IBpVSvAXPfvAGmkMoBgsHXASP54wHMCO8Biw35AQ==",
          "dtype": "i4"
         },
         "yaxis": "y"
        },
        {
         "hovertemplate": "Country Name=Sudan<br>Year=%{x}<br>Count=%{y}<extra></extra>",
         "legendgroup": "Sudan",
         "line": {
          "color": "#FECB52",
          "dash": "solid"
         },
         "marker": {
          "symbol": "circle"
         },
         "mode": "lines",
         "name": "Sudan",
         "showlegend": true,
         "type": "scattergl",
         "x": {
          "bdata": "qAepB6oHqwesB60HrgevB7AHsQeyB7MHtAe1B7YHtwe4B7kHuge7B7wHvQe+B78HwAfBB8IHwwfEB8UHxgfHB8gHyQfKB8sHzAfNB84HzwfQB9EH0gfTB9QH1QfWB9cH2AfZB9oH2wfcB90H3gffB+AH4Qc=",
          "dtype": "i2"
         },
         "xaxis": "x",
         "y": {
          "bdata": "qx5zAIqNdgAZInoA7N19ALrCgQAx0oUA9g6KADl7jgCgF5MAauSXAOTinAAgEqIAnnWnADYYrQDeB7MAB065AGfuvwCB5MYAFSfOAH+o1QDMXd0AMEzlAI117QBkyPUAJy7+AEubBgEz9Q4By0kXAWjlHwGnMCkBhm0zATHHPgH0DksBWr9XAeAdZAEbqG8BLyZ6AR3JgwEh94wB2EmWAQcvoAEKzqoBCgC2ASeIwQExCM0BjEDYAf8e4wGtyO0B5Xf4Aex/AwJ1HQ8CsWQbAvdFKAKmrjUCN35DAqacUQIQBmACVMNuAg==",
          "dtype": "i4"
         },
         "yaxis": "y"
        },
        {
         "hovertemplate": "Country Name=Senegal<br>Year=%{x}<br>Count=%{y}<extra></extra>",
         "legendgroup": "Senegal",
         "line": {
          "color": "#636efa",
          "dash": "solid"
         },
         "marker": {
          "symbol": "circle"
         },
         "mode": "lines",
         "name": "Senegal",
         "showlegend": true,
         "type": "scattergl",
         "x": {
          "bdata": "qAepB6oHqwesB60HrgevB7AHsQeyB7MHtAe1B7YHtwe4B7kHuge7B7wHvQe+B78HwAfBB8IHwwfEB8UHxgfHB8gHyQfKB8sHzAfNB84HzwfQB9EH0gfTB9QH1QfWB9cH2AfZB9oH2wfcB90H3gffB+AH4Qc=",
          "dtype": "i2"
         },
         "xaxis": "x",
         "y": {
          "bdata": "Xe4wAC5IMgC2rTMANiA1AE+hNgA8MjgAR9I5APyAOwAXQD0AyhE/AOH2QADU8kIAjQNFAPUdRwADM0kANjlLAGIrTQBKEE8AOflQAFr+UgA9MVUAnJdXAOssWgBk61wAMMlfAJ++YgBHyWUAaupoACMibABdcW8Ao9dyAOhWdgBQ63kAyId9AAwbgQD0mYQA3f+HAH1TiwC+oo4A0gGSAGaAlQCII5kAs+qcAJvZoADj8qQAxDipAPytrQCoVLIAXS23AOw3vAAEdMEAUeHGAId/zACUTdIAC0rYABtz3gB4yOQA9UfrAA==",
          "dtype": "i4"
         },
         "yaxis": "y"
        },
        {
         "hovertemplate": "Country Name=Singapore<br>Year=%{x}<br>Count=%{y}<extra></extra>",
         "legendgroup": "Singapore",
         "line": {
          "color": "#EF553B",
          "dash": "solid"
         },
         "marker": {
          "symbol": "circle"
         },
         "mode": "lines",
         "name": "Singapore",
         "showlegend": true,
         "type": "scattergl",
         "x": {
          "bdata": "qAepB6oHqwesB60HrgevB7AHsQeyB7MHtAe1B7YHtwe4B7kHuge7B7wHvQe+B78HwAfBB8IHwwfEB8UHxgfHB8gHyQfKB8sHzAfNB84HzwfQB9EH0gfTB9QH1QfWB9cH2AfZB9oH2wfcB90H3gffB+AH4Qc=",
          "dtype": "i2"
         },
         "xaxis": "x",
         "y": {
          "bdata": "QB8ZAAD6GQC4tBoAuGMbAMAZHAC0yhwAQIQdAAAtHgBgsx4AhCofAIunHwCEPSAA0NcgAGh2IQAoBiIASIYiADT+IgA0eyMAwOkjAIxeJAB51SQA46UmAMJhKADl6CgAvbApAFW/KQA9tSkABVcqAJxtKwDVuCwA3H4uAGvWLwDqSzEAP48yAKgrNACaxzUAsAI4AEbsOQCt7DsAw2c8AO91PQAcJD8ATrg/AIrJPgAIlD8AIhdBANUoQwA3BEYA5NdJALUaTAD8dk0AyBhPALUPUQB6YlIAHHZTABp1VABzj1UA3aJVAA==",
          "dtype": "i4"
         },
         "yaxis": "y"
        },
        {
         "hovertemplate": "Country Name=Solomon Islands<br>Year=%{x}<br>Count=%{y}<extra></extra>",
         "legendgroup": "Solomon Islands",
         "line": {
          "color": "#00cc96",
          "dash": "solid"
         },
         "marker": {
          "symbol": "circle"
         },
         "mode": "lines",
         "name": "Solomon Islands",
         "showlegend": true,
         "type": "scattergl",
         "x": {
          "bdata": "qAepB6oHqwesB60HrgevB7AHsQeyB7MHtAe1B7YHtwe4B7kHuge7B7wHvQe+B78HwAfBB8IHwwfEB8UHxgfHB8gHyQfKB8sHzAfNB84HzwfQB9EH0gfTB9QH1QfWB9cH2AfZB9oH2wfcB90H3gffB+AH4Qc=",
          "dtype": "i2"
         },
         "xaxis": "x",
         "y": {
          "bdata": "WcwBACLaAQBw6AEARvcBAJcGAgBwFgIAvyYCAKU3AgB5SQIAzlwCAPpxAgASiQIACKICAGm8AgC31wIAevMCAJcPAwASLAMA/0gDAHhmAwCShAMAXaMDAK/CAwBf4gMAHwIEAMQhBAA1QQQAlmAEADyABACooAQAOsIEAAzlBAALCQUAMC4FAGFUBQBxewUAc6MFAF/MBQAl9gUAsiAGAPRLBgAIeAYA6KQGACnSBgAr/wYAnisHADZXBwBkggcAQK4HAG3cBwD1DQgAUUMIACB8CADHtwgAR/UIAO4zCQCtcwkAhrQJAA==",
          "dtype": "i4"
         },
         "yaxis": "y"
        },
        {
         "hovertemplate": "Country Name=Sierra Leone<br>Year=%{x}<br>Count=%{y}<extra></extra>",
         "legendgroup": "Sierra Leone",
         "line": {
          "color": "#ab63fa",
          "dash": "solid"
         },
         "marker": {
          "symbol": "circle"
         },
         "mode": "lines",
         "name": "Sierra Leone",
         "showlegend": true,
         "type": "scattergl",
         "x": {
          "bdata": "qAepB6oHqwesB60HrgevB7AHsQeyB7MHtAe1B7YHtwe4B7kHuge7B7wHvQe+B78HwAfBB8IHwwfEB8UHxgfHB8gHyQfKB8sHzAfNB84HzwfQB9EH0gfTB9QH1QfWB9cH2AfZB9oH2wfcB90H3gffB+AH4Qc=",
          "dtype": "i2"
         },
         "xaxis": "x",
         "y": {
          "bdata": "RF0jAOvkIwAhcyQA6QclAGujJQC7RSYAGu8mAMWfJwA0WCgA5BgpADviKQCEtCoA2I8rAEB0LACYYS0A4lcuAIBXLwDMYDAAh3MxAGCPMgBPtDMAqts0AMoENgAHPDcAdpI4AH8QOgCNwzsAAJ49ANpsPwDs6kAAEupBAPRaQgBMV0IA/Q1CAA/DQQBVrEEAWs5BAMUmQgAr20IAKhdEAHv0RQCYikgAhsVLAK5cTwCH6lIAOCVWAHXyWAABZVsAY5ddAN62XwAS5WEAqCVkAAVtZgBsvGgAuBJrAEpvbQBG1G8Ar0NyAA==",
          "dtype": "i4"
         },
         "yaxis": "y"
        },
        {
         "hovertemplate": "Country Name=El Salvador<br>Year=%{x}<br>Count=%{y}<extra></extra>",
         "legendgroup": "El Salvador",
         "line": {
          "color": "#FFA15A",
          "dash": "solid"
         },
         "marker": {
          "symbol": "circle"
         },
         "mode": "lines",
         "name": "El Salvador",
         "showlegend": true,
         "type": "scattergl",
         "x": {
          "bdata": "qAepB6oHqwesB60HrgevB7AHsQeyB7MHtAe1B7YHtwe4B7kHuge7B7wHvQe+B78HwAfBB8IHwwfEB8UHxgfHB8gHyQfKB8sHzAfNB84HzwfQB9EH0gfTB9QH1QfWB9cH2AfZB9oH2wfcB90H3gffB+AH4Qc=",
          "dtype": "i2"
         },
         "xaxis": "x",
         "y": {
          "bdata": "9DUqAIhvKwD4uSwA2BEuALtyLwAh2TAAAEMyAPevMwAYIDUABpQ2AOwLOADLhjkArQI7AG59PABk9D0ARGU/AM7PQAAaM0IAs4tDAJnVRAAeDkYA/DNHAOlISABHUUkAe1NKAGdUSwBgVEwAEVNNANpTTgDaWk8AP2pQAPaDUQCDpVIALcdTAD/eVAC44lUAUtJWAGyuVwCFd1gAbi9ZAMDXWQBecFoAmPlaAF12WwB16lsAG1lcAKfDXADSKl0ANJBdAHb1XQDDW14ACMReAOMuXwDWnF8AWA5gAISDYACv/GAAmnlhAA==",
          "dtype": "i4"
         },
         "yaxis": "y"
        },
        {
         "hovertemplate": "Country Name=San Marino<br>Year=%{x}<br>Count=%{y}<extra></extra>",
         "legendgroup": "San Marino",
         "line": {
          "color": "#19d3f3",
          "dash": "solid"
         },
         "marker": {
          "symbol": "circle"
         },
         "mode": "lines",
         "name": "San Marino",
         "showlegend": true,
         "type": "scattergl",
         "x": {
          "bdata": "qAepB6oHqwesB60HrgevB7AHsQeyB7MHtAe1B7YHtwe4B7kHuge7B7wHvQe+B78HwAfBB8IHwwfEB8UHxgfHB8gHyQfKB8sHzAfNB84HzwfQB9EH0gfTB9QH1QfWB9cH2AfZB9oH2wfcB90H3gffB+AH4Qc=",
          "dtype": "i2"
         },
         "xaxis": "x",
         "y": {
          "bdata": "SDwAAN09AAB/PwAAJ0EAAMtCAABpRAAA/kUAAINHAADsSAAAIUoAABVLAAC9SwAAJkwAAG5MAADQTAAAd00AAHNOAACtTwAAGFEAAIdSAADTUwAABVUAABVWAAAbVwAAFVgAAA5ZAAAGWgAA/1oAAP9bAAAJXQAAPV4AAIxfAAD2YAAAeWIAAO5jAABIZQAAjGYAAMJnAADYaAAACWoAAEZrAACkbAAAD24AAJJvAAAMcQAAjHIAAAR0AABvdQAA4nYAAGB4AAD9eQAArXsAAGl9AAApfwAAtIAAAPiBAADgggAAh4MAAA==",
          "dtype": "i4"
         },
         "yaxis": "y"
        },
        {
         "hovertemplate": "Country Name=Somalia<br>Year=%{x}<br>Count=%{y}<extra></extra>",
         "legendgroup": "Somalia",
         "line": {
          "color": "#FF6692",
          "dash": "solid"
         },
         "marker": {
          "symbol": "circle"
         },
         "mode": "lines",
         "name": "Somalia",
         "showlegend": true,
         "type": "scattergl",
         "x": {
          "bdata": "qAepB6oHqwesB60HrgevB7AHsQeyB7MHtAe1B7YHtwe4B7kHuge7B7wHvQe+B78HwAfBB8IHwwfEB8UHxgfHB8gHyQfKB8sHzAfNB84HzwfQB9EH0gfTB9QH1QfWB9cH2AfZB9oH2wfcB90H3gffB+AH4Qc=",
          "dtype": "i2"
         },
         "xaxis": "x",
         "y": {
          "bdata": "hA0qAKbwKgBq2ysAnc4sAEbLLQAr0i4A4PcvAMFAMQBmjDIAcq0zAFiPNADv+zQA7hg1AC+ZNQBebzcAZDU7AL1KQQBdRkkAKQRSAJPqWQCu118ACVpjAKzUZADc/WQAu+5kADNzZQBsy2YAwbVoADLkagBK2GwABD9uAC7+bgCYUW8AmaFvADZ/cAA1UHIAfjp1AH8YeQA4qH0AgYSCAD5hhwClLYwAnvqQAHTFlQBDk5oAD2ifAIE+pAC5EakAROitADzMsgBrxrcA7ti8APYFwgAaVscA2NPMAFGH0gCNdNgAv5zeAA==",
          "dtype": "i4"
         },
         "yaxis": "y"
        },
        {
         "hovertemplate": "Country Name=South Sudan<br>Year=%{x}<br>Count=%{y}<extra></extra>",
         "legendgroup": "South Sudan",
         "line": {
          "color": "#B6E880",
          "dash": "solid"
         },
         "marker": {
          "symbol": "circle"
         },
         "mode": "lines",
         "name": "South Sudan",
         "showlegend": true,
         "type": "scattergl",
         "x": {
          "bdata": "qAepB6oHqwesB60HrgevB7AHsQeyB7MHtAe1B7YHtwe4B7kHuge7B7wHvQe+B78HwAfBB8IHwwfEB8UHxgfHB8gHyQfKB8sHzAfNB84HzwfQB9EH0gfTB9QH1QfWB9cH2AfZB9oH2wfcB90H3gffB+AH4Qc=",
          "dtype": "i2"
         },
         "xaxis": "x",
         "y": {
          "bdata": "ZGArAPUuLACDBy0AJuotACvXLgDezi8Ab9EwADXfMQCG+DIAGB40AHRQNQBckDYAgN43AH47OQAIqDoA8iQ8AD+sPQCqPT8Am+VAAAK1QgBMtEQAWeZGAMo7SQA/lEsAIsRNAIupTwAkTVEAIbNSAOKyUwCbGVQAj89TAIu0UgBx9FAAoyBPAEX+TQCDGE4AJq5PAEeTUgD2ZFYAOotaAGKYXgCxYmIA4g1mAHzUaQAnEW4APP1yAE6oeAAD4X4Aq1CFAPN/iwAMFpEAKgGWAG9SmgBcAZ4AAw6hAAqCowCASqUAJ3ymAA==",
          "dtype": "i4"
         },
         "yaxis": "y"
        },
        {
         "hovertemplate": "Country Name=Sao Tome and Principe<br>Year=%{x}<br>Count=%{y}<extra></extra>",
         "legendgroup": "Sao Tome and Principe",
         "line": {
          "color": "#FF97FF",
          "dash": "solid"
         },
         "marker": {
          "symbol": "circle"
         },
         "mode": "lines",
         "name": "Sao Tome and Principe",
         "showlegend": true,
         "type": "scattergl",
         "x": {
          "bdata": "qAepB6oHqwesB60HrgevB7AHsQeyB7MHtAe1B7YHtwe4B7kHuge7B7wHvQe+B78HwAfBB8IHwwfEB8UHxgfHB8gHyQfKB8sHzAfNB84HzwfQB9EH0gfTB9QH1QfWB9cH2AfZB9oH2wfcB90H3gffB+AH4Qc=",
          "dtype": "i2"
         },
         "xaxis": "x",
         "y": {
          "bdata": "LvsAAFr8AADf+wAA5/oAABX7AAB8/QAAhwIBAM8JAQBxEgEAOxsBAEQjAQA7KgEAbjABAGg2AQAAPQEAwkQBAOlNAQAuWAEA22IBABVtAQAydgEA6n0BAJGEAQDKigEArZEBANyZAQClowEArq4BAIW6AQBgxgEAqdEBAGTcAQCg5gEAVvABAJP5AQBeAgIArgoCAJgSAgB4GgIAtyICALYrAgBzNQIA9z8CAI9LAgCJWAIAIGcCAJF3AgCciQIAcJwCAASvAgCTwAIAzNACAPTfAgBX7gIAj/wCAAgLAwDbGQMA8SgDAA==",
          "dtype": "i4"
         },
         "yaxis": "y"
        },
        {
         "hovertemplate": "Country Name=Suriname<br>Year=%{x}<br>Count=%{y}<extra></extra>",
         "legendgroup": "Suriname",
         "line": {
          "color": "#FECB52",
          "dash": "solid"
         },
         "marker": {
          "symbol": "circle"
         },
         "mode": "lines",
         "name": "Suriname",
         "showlegend": true,
         "type": "scattergl",
         "x": {
          "bdata": "qAepB6oHqwesB60HrgevB7AHsQeyB7MHtAe1B7YHtwe4B7kHuge7B7wHvQe+B78HwAfBB8IHwwfEB8UHxgfHB8gHyQfKB8sHzAfNB84HzwfQB9EH0gfTB9QH1QfWB9cH2AfZB9oH2wfcB90H3gffB+AH4Qc=",
          "dtype": "i2"
         },
         "xaxis": "x",
         "y": {
          "bdata": "f2QEAOyDBAAXowQAi8IEAA7jBADoBAUA7igFAAxOBQDGcAUAN4wFADudBQBUogUAI50FAHORBQDDhAUAOnsFAEF2BQAbdQUA03YFAKJ5BQBffAUAz34FANiBBQAkhwUAvZAFAP6fBQB8tQUAbdAFABHvBQAdDwYAsC4GAE1NBgAvawYA/ocGAKGjBgD7vQYA1dYGABHuBgA3BAcA6RkHAKUvBwCjRQcAu1sHAAZyBwBviAcACJ8HAM+1BwDNzAcAA+QHAGf7BwDrEggAiyoIAD1CCADbWQgAOXEIACeICACYnggAgLQIAA==",
          "dtype": "i4"
         },
         "yaxis": "y"
        },
        {
         "hovertemplate": "Country Name=Slovak Republic<br>Year=%{x}<br>Count=%{y}<extra></extra>",
         "legendgroup": "Slovak Republic",
         "line": {
          "color": "#636efa",
          "dash": "solid"
         },
         "marker": {
          "symbol": "circle"
         },
         "mode": "lines",
         "name": "Slovak Republic",
         "showlegend": true,
         "type": "scattergl",
         "x": {
          "bdata": "qAepB6oHqwesB60HrgevB7AHsQeyB7MHtAe1B7YHtwe4B7kHuge7B7wHvQe+B78HwAfBB8IHwwfEB8UHxgfHB8gHyQfKB8sHzAfNB84HzwfQB9EH0gfTB9QH1QfWB9cH2AfZB9oH2wfcB90H3gffB+AH4Qc=",
          "dtype": "i2"
         },
         "xaxis": "x",
         "y": {
          "bdata": "/xI+ALP1PwBsq0AAoVZBAK0HQgAnskIAElFDAFfkQwBLa0QAz/JEAG8/RQCJikUAjiNGAKXSRgDXjkcAIVBIAAMVSQA13EkADZ5KAN1cSwBn/EsAKYpMAHsiTQCDsk0AuTtOACjDTgBuQE8AuLFPACQeUAAmgVAA89tQAP7rUAC48lAA+UFRABuUUQBP0VEAsf1RAHskUgC0QFIANFZSALA5UgAzE1IAkAtSAL79UQB4+VEAh/tRAH78UQCeAlIAoRRSAKYwUgBERFIAcF9SAFuDUgARmlIAma5SALnCUgAO3lIAAP9SAA==",
          "dtype": "i4"
         },
         "yaxis": "y"
        },
        {
         "hovertemplate": "Country Name=Slovenia<br>Year=%{x}<br>Count=%{y}<extra></extra>",
         "legendgroup": "Slovenia",
         "line": {
          "color": "#EF553B",
          "dash": "solid"
         },
         "marker": {
          "symbol": "circle"
         },
         "mode": "lines",
         "name": "Slovenia",
         "showlegend": true,
         "type": "scattergl",
         "x": {
          "bdata": "qAepB6oHqwesB60HrgevB7AHsQeyB7MHtAe1B7YHtwe4B7kHuge7B7wHvQe+B78HwAfBB8IHwwfEB8UHxgfHB8gHyQfKB8sHzAfNB84HzwfQB9EH0gfTB9QH1QfWB9cH2AfZB9oH2wfcB90H3gffB+AH4Qc=",
          "dtype": "i2"
         },
         "xaxis": "x",
         "y": {
          "bdata": "UC4YABNTGABBeBgAS6wYAHLnGAAIKhkAEXsZALjHGQBiAhoA0iYaANtRGgBfhhoAqbwaACn1GgAEGhsALV4bAFnGGwDJHBwAlGscAOe5HAADAx0AYxcdAD4mHQARVR0AensdAImgHQCM/x0AkFweALxxHgA/dh4AUX0eAEWCHgDSdh4AQmQeAENbHgDwXB4AFFgeAKRNHgC9PB4ARUIeAD1ZHgB8ZR4AIm8eANVzHgDUeB4AWoYeAFSfHgBKyx4AxNceAHUfHwBHQh8A61IfAMdjHwCxbh8AnHYfAKt8HwCSgh8A1IcfAA==",
          "dtype": "i4"
         },
         "yaxis": "y"
        },
        {
         "hovertemplate": "Country Name=Sweden<br>Year=%{x}<br>Count=%{y}<extra></extra>",
         "legendgroup": "Sweden",
         "line": {
          "color": "#00cc96",
          "dash": "solid"
         },
         "marker": {
          "symbol": "circle"
         },
         "mode": "lines",
         "name": "Sweden",
         "showlegend": true,
         "type": "scattergl",
         "x": {
          "bdata": "qAepB6oHqwesB60HrgevB7AHsQeyB7MHtAe1B7YHtwe4B7kHuge7B7wHvQe+B78HwAfBB8IHwwfEB8UHxgfHB8gHyQfKB8sHzAfNB84HzwfQB9EH0gfTB9QH1QfWB9cH2AfZB9oH2wfcB90H3gffB+AH4Qc=",
          "dtype": "i2"
         },
         "xaxis": "x",
         "y": {
          "bdata": "8DRyAP6+cgB0YXMAaAh0ACrndABdAnYANSN3ABsOeABRu3gASJV5ADG5egAeknsAvO97AHgmfADTgnwAtQF9AE52fQCU6H0Aj0Z+AC6NfgADz34A9/V+AI8IfwBJF38A3TR/ALJqfwCltn8A7COAAAm7gACkl4EA85iCAJ99gwCjQ4QA4QiFAMn7hQA7sIYAJueGAO76hgAeDocAEimHAK1ghwDYvYcAHi+IABWxiAD7OokAxMeJALmOigC8losANa6MAFPijQBOGY8A/S6QAA5BkQB7fZIAbvOTABKGlQANapcA4neZAA==",
          "dtype": "i4"
         },
         "yaxis": "y"
        },
        {
         "hovertemplate": "Country Name=Eswatini<br>Year=%{x}<br>Count=%{y}<extra></extra>",
         "legendgroup": "Eswatini",
         "line": {
          "color": "#ab63fa",
          "dash": "solid"
         },
         "marker": {
          "symbol": "circle"
         },
         "mode": "lines",
         "name": "Eswatini",
         "showlegend": true,
         "type": "scattergl",
         "x": {
          "bdata": "qAepB6oHqwesB60HrgevB7AHsQeyB7MHtAe1B7YHtwe4B7kHuge7B7wHvQe+B78HwAfBB8IHwwfEB8UHxgfHB8gHyQfKB8sHzAfNB84HzwfQB9EH0gfTB9QH1QfWB9cH2AfZB9oH2wfcB90H3gffB+AH4Qc=",
          "dtype": "i2"
         },
         "xaxis": "x",
         "y": {
          "bdata": "xyIFADE9BQDMVwUArHMFAEKSBQCftAUAUtsFAAUGBgDqMwYAu2MGAJWUBgBJxgYAT/kGAB8uBwCNZQcAM6AHAA/eBwAkHwgApGMIAPurCABS+AgAfEgJADOcCQBT8wkAp00KAMiqCgCLCgsAWGwLAIjOCwArLwwAlIwMANLlDACxOg0AmosNAGTZDQB5JA4AZG0OAGKzDgDO8w4APCsPAHtXDwBpdw8As4wPAFKbDwDuqA8As7kPADzPDwDc6A8AWQUQALsiEACFPxAAoFsQAPh3EAB3lRAAbbUQAKzYEACA/xAAkSkRAA==",
          "dtype": "i4"
         },
         "yaxis": "y"
        },
        {
         "hovertemplate": "Country Name=Seychelles<br>Year=%{x}<br>Count=%{y}<extra></extra>",
         "legendgroup": "Seychelles",
         "line": {
          "color": "#FFA15A",
          "dash": "solid"
         },
         "marker": {
          "symbol": "circle"
         },
         "mode": "lines",
         "name": "Seychelles",
         "showlegend": true,
         "type": "scattergl",
         "x": {
          "bdata": "qAepB6oHqwesB60HrgevB7AHsQeyB7MHtAe1B7YHtwe4B7kHuge7B7wHvQe+B78HwAfBB8IHwwfEB8UHxgfHB8gHyQfKB8sHzAfNB84HzwfQB9EH0gfTB9QH1QfWB9cH2AfZB9oH2wfcB90H3gffB+AH4Qc=",
          "dtype": "i2"
         },
         "xaxis": "x",
         "y": {
          "bdata": "5KIAAImnAAAKrAAAeLAAAPK0AACMuQAAO74AAPfCAAC+xwAAjcwAAGDRAACn1QAA3doAADzeAABR4gAAnOcAAFjsAABa8QAAxvIAAN70AAAd9wAAI/oAAJ37AABP+wAAzfwAANz+AAB0AAEAkwsBAJMMAQAvDgEAgw8BACcTAQBrFAEAPRoBAN0hAQAoJgEAgSoBAAcuAQD+MwEAGjoBAOs8AQAyPQEAC0cBAF1DAQArQgEAqkMBAHhKAQApTAEArFMBAAJVAQCqXgEAkVUBAO9YAQBdXwEA32QBAOtsAQDVcQEAY3YBAA==",
          "dtype": "i4"
         },
         "yaxis": "y"
        },
        {
         "hovertemplate": "Country Name=Syrian Arab Republic<br>Year=%{x}<br>Count=%{y}<extra></extra>",
         "legendgroup": "Syrian Arab Republic",
         "line": {
          "color": "#19d3f3",
          "dash": "solid"
         },
         "marker": {
          "symbol": "circle"
         },
         "mode": "lines",
         "name": "Syrian Arab Republic",
         "showlegend": true,
         "type": "scattergl",
         "x": {
          "bdata": "qAepB6oHqwesB60HrgevB7AHsQeyB7MHtAe1B7YHtwe4B7kHuge7B7wHvQe+B78HwAfBB8IHwwfEB8UHxgfHB8gHyQfKB8sHzAfNB84HzwfQB9EH0gfTB9QH1QfWB9cH2AfZB9oH2wfcB90H3gffB+AH4Qc=",
          "dtype": "i2"
         },
         "xaxis": "x",
         "y": {
          "bdata": "SMlFAOgMSACeZEoAltJMANBZTwDR/FEAXrxUAKaYVwD0kloAqKxdAM3mYABpQ2QADcNnAJtjawDpIW8AYvxyAObvdgDp/noAIjR/ABqegwDWRYgA8y+NANNVkgCfp5cAOQ+dADh8ogBw6acAVFqtAJ/RsgA8VbgA2+m9ACmMwwBPOskAkPzOAAze1AAU5doAXiHhAJSO5wDnB+4AoVr0AOBo+gBh1v8A2LAEAS68CQHxBxABWCsYATrSIgFuUS8B5k47AXGTQwFh90UBVrNBAa3tNwES1SoBGJQdAWCeEgFtUwoB4m8EAQ==",
          "dtype": "i4"
         },
         "yaxis": "y"
        },
        {
         "hovertemplate": "Country Name=Turks and Caicos Islands<br>Year=%{x}<br>Count=%{y}<extra></extra>",
         "legendgroup": "Turks and Caicos Islands",
         "line": {
          "color": "#FF6692",
          "dash": "solid"
         },
         "marker": {
          "symbol": "circle"
         },
         "mode": "lines",
         "name": "Turks and Caicos Islands",
         "showlegend": true,
         "type": "scattergl",
         "x": {
          "bdata": "qAepB6oHqwesB60HrgevB7AHsQeyB7MHtAe1B7YHtwe4B7kHuge7B7wHvQe+B78HwAfBB8IHwwfEB8UHxgfHB8gHyQfKB8sHzAfNB84HzwfQB9EH0gfTB9QH1QfWB9cH2AfZB9oH2wfcB90H3gffB+AH4Qc=",
          "dtype": "i2"
         },
         "xaxis": "x",
         "y": {
          "bdata": "wBYAAPIWAAD8FgAA7hYAANgWAAC/FgAAnxYAAIQWAABwFgAAjRYAANEWAABTFwAADRgAAO0YAADOGQAAqxoAAGcbAAAeHAAA2RwAAL0dAADQHgAAKyAAAM4hAACQIwAAVCUAAPImAAB1KAAA5CkAAFUrAAAcLQAATy8AAAsyAABANQAAvjgAAC88AABYPwAAHkIAAJ9EAAA4RwAAeUoAAMROAABFVAAAwFoAALNhAABMaAAAFG4AAM9yAACxdgAA4nkAAL58AACUfwAAYYIAABKFAACrhwAAKYoAAI2MAADPjgAA+5AAAA==",
          "dtype": "i4"
         },
         "yaxis": "y"
        },
        {
         "hovertemplate": "Country Name=Chad<br>Year=%{x}<br>Count=%{y}<extra></extra>",
         "legendgroup": "Chad",
         "line": {
          "color": "#B6E880",
          "dash": "solid"
         },
         "marker": {
          "symbol": "circle"
         },
         "mode": "lines",
         "name": "Chad",
         "showlegend": true,
         "type": "scattergl",
         "x": {
          "bdata": "qAepB6oHqwesB60HrgevB7AHsQeyB7MHtAe1B7YHtwe4B7kHuge7B7wHvQe+B78HwAfBB8IHwwfEB8UHxgfHB8gHyQfKB8sHzAfNB84HzwfQB9EH0gfTB9QH1QfWB9cH2AfZB9oH2wfcB90H3gffB+AH4Qc=",
          "dtype": "i2"
         },
         "xaxis": "x",
         "y": {
          "bdata": "Cc0tAJCyLgBUoC8A1JMwALuJMQASgDIAnXQzAElpNABiZTUADnM2ANSYNwBt2zgAXDc6ADGhOwCxCD0A9GI+AE+tPwAQ7kAAiy5CAFl8QwB+4kQA8WJGAFL+RwBBvEkAdqVLAOm/TQAzEVAA75dSAHpKVQBgGlgA9P1aABfzXQAM/2AAUihkAH14ZwBh92oAH6RuAIV+cgDAj3YAION6AEZ/fwCjaoQAYZ+JANwIjwBvipQA+Q+aACSQnwDoEaUA5KWqANNksAAIYLYAHZ28AG4UwwBIuskAR33QAP9Q1wCCMd4ARSPlAA==",
          "dtype": "i4"
         },
         "yaxis": "y"
        },
        {
         "hovertemplate": "Country Name=Togo<br>Year=%{x}<br>Count=%{y}<extra></extra>",
         "legendgroup": "Togo",
         "line": {
          "color": "#FF97FF",
          "dash": "solid"
         },
         "marker": {
          "symbol": "circle"
         },
         "mode": "lines",
         "name": "Togo",
         "showlegend": true,
         "type": "scattergl",
         "x": {
          "bdata": "qAepB6oHqwesB60HrgevB7AHsQeyB7MHtAe1B7YHtwe4B7kHuge7B7wHvQe+B78HwAfBB8IHwwfEB8UHxgfHB8gHyQfKB8sHzAfNB84HzwfQB9EH0gfTB9QH1QfWB9cH2AfZB9oH2wfcB90H3gffB+AH4Qc=",
          "dtype": "i2"
         },
         "xaxis": "x",
         "y": {
          "bdata": "4R0YAFZgGADTmxgAFOYYAHlcGQBWEhoAzREbANJPHAC0sB0A2wwfAMJHIAC+WSEAnksiAHElIwCO9SMAzsckAKeaJQC5bSYApE8nAAhTKABHhCkAk+kqACR9LAAdMC4A7uwvAAKjMQDiUDMAe/k0AHyWNgBnITgAaJc5ANDxOgCxNTwAfXo9ACjgPgDzfEAAhVtCAD9zRAB+r0YAoPFIAPIjSwCnP00A50xPAM9WUQB2blMAeKBVAEDvVwBnVloAXNNcAFNhXwCv/GEAZ6VkAC9cZwDhHmoAzepsABa+bwDAl3IAK3h1AA==",
          "dtype": "i4"
         },
         "yaxis": "y"
        },
        {
         "hovertemplate": "Country Name=Thailand<br>Year=%{x}<br>Count=%{y}<extra></extra>",
         "legendgroup": "Thailand",
         "line": {
          "color": "#FECB52",
          "dash": "solid"
         },
         "marker": {
          "symbol": "circle"
         },
         "mode": "lines",
         "name": "Thailand",
         "showlegend": true,
         "type": "scattergl",
         "x": {
          "bdata": "qAepB6oHqwesB60HrgevB7AHsQeyB7MHtAe1B7YHtwe4B7kHuge7B7wHvQe+B78HwAfBB8IHwwfEB8UHxgfHB8gHyQfKB8sHzAfNB84HzwfQB9EH0gfTB9QH1QfWB9cH2AfZB9oH2wfcB90H3gffB+AH4Qc=",
          "dtype": "i2"
         },
         "xaxis": "x",
         "y": {
          "bdata": "VwyiAbuqrgFqvbsBEULJAXI11wFEk+UBilL0AW9sAwLx3xIClK0iAjjQMgIORkMCq/xTAl7JZALkdXUCKNmFAnfilQKQlKUC2PK0AtoIxAKI4NICgmbhAtyV7wLkl/0CVKULAxXeGQN+aSgDGSY3AwCURQMJBFMDagJfA1FMaQNNIHID7Sl6A4VdggMKZosDioOVA/ZxoAPPtqsDy5m2A8KUwAP8h8kD353RA+rz2APjv98D/SvmAzg47AOz2/EDqC73A5dO/AOUUAEErj8GBDUYCwR1zQ8EykoUBA+AGARDaxwEAg8gBA==",
          "dtype": "i4"
         },
         "yaxis": "y"
        },
        {
         "hovertemplate": "Country Name=Tajikistan<br>Year=%{x}<br>Count=%{y}<extra></extra>",
         "legendgroup": "Tajikistan",
         "line": {
          "color": "#636efa",
          "dash": "solid"
         },
         "marker": {
          "symbol": "circle"
         },
         "mode": "lines",
         "name": "Tajikistan",
         "showlegend": true,
         "type": "scattergl",
         "x": {
          "bdata": "qAepB6oHqwesB60HrgevB7AHsQeyB7MHtAe1B7YHtwe4B7kHuge7B7wHvQe+B78HwAfBB8IHwwfEB8UHxgfHB8gHyQfKB8sHzAfNB84HzwfQB9EH0gfTB9QH1QfWB9cH2AfZB9oH2wfcB90H3gffB+AH4Qc=",
          "dtype": "i2"
         },
         "xaxis": "x",
         "y": {
          "bdata": "idgfAB7yIACeICIAqF8jAK2oJACo9iUAr0gnAG2fKADQ+SkAxlYrALu1LAB9Fi4AcnkvANXfMABnSzIA3b0zAKQ3NQDTuTYA40c4ABPmOQCmlzsAVVo9AActPwA6FUEA+hlDAN49RQDdhUcA4ulJANFPTACylE4A5p9QADZoUgAe9lMA41hVAD+oVgDK9lcA20hZAOWcWgB8+FsA7WBdAJXaXgCxaWAA8xBiAOvQYwD1qGUAyZhnAFuhaQCQxGsAygNuAJFgcADi23IAZnR1ABMpeAB5+3oAoe19AIz/gAAbMoQAjICHAA==",
          "dtype": "i4"
         },
         "yaxis": "y"
        },
        {
         "hovertemplate": "Country Name=Turkmenistan<br>Year=%{x}<br>Count=%{y}<extra></extra>",
         "legendgroup": "Turkmenistan",
         "line": {
          "color": "#EF553B",
          "dash": "solid"
         },
         "marker": {
          "symbol": "circle"
         },
         "mode": "lines",
         "name": "Turkmenistan",
         "showlegend": true,
         "type": "scattergl",
         "x": {
          "bdata": "qAepB6oHqwesB60HrgevB7AHsQeyB7MHtAe1B7YHtwe4B7kHuge7B7wHvQe+B78HwAfBB8IHwwfEB8UHxgfHB8gHyQfKB8sHzAfNB84HzwfQB9EH0gfTB9QH1QfWB9cH2AfZB9oH2wfcB90H3gffB+AH4Qc=",
          "dtype": "i2"
         },
         "xaxis": "x",
         "y": {
          "bdata": "unYYAPpNGQDQLBoAHREbAGj4GwD34BwAjckdAHSyHgDunB8AQosgAOd+IQAVeCIAL3YjAMh4JAAofyUAtIgmAAmWJwBCpygAL7spADvQKgCI5SsAw/osADoRLgA5LC8ADVAwAPJ/MQAqujIA2f0zAAdQNQBMtzYAfzY4AIHROQDDgTsAJTM9AJ7KPgDhNEAAcmtBACx0QgAnWEMA1yVEACXpRABzpEUA1VdGAH8KRwCpxEcA1oxIAH1lSQD9T0oAV1BLAFJqTADtn00ARfNOALxhUABn4lEA2GhTAGfrVACkZlYA5dpXAA==",
          "dtype": "i4"
         },
         "yaxis": "y"
        },
        {
         "hovertemplate": "Country Name=Timor-Leste<br>Year=%{x}<br>Count=%{y}<extra></extra>",
         "legendgroup": "Timor-Leste",
         "line": {
          "color": "#00cc96",
          "dash": "solid"
         },
         "marker": {
          "symbol": "circle"
         },
         "mode": "lines",
         "name": "Timor-Leste",
         "showlegend": true,
         "type": "scattergl",
         "x": {
          "bdata": "qAepB6oHqwesB60HrgevB7AHsQeyB7MHtAe1B7YHtwe4B7kHuge7B7wHvQe+B78HwAfBB8IHwwfEB8UHxgfHB8gHyQfKB8sHzAfNB84HzwfQB9EH0gfTB9QH1QfWB9cH2AfZB9oH2wfcB90H3gffB+AH4Qc=",
          "dtype": "i2"
         },
         "xaxis": "x",
         "y": {
          "bdata": "pD0HACZeBwAzgAcAp6MHAFLIBwAG7gcArxMIAB05CADZXwgACooIAK24CAAj7ggAgCgJAG1fCQCrhwkA65kJADOSCQAodQkABk8JAPYwCQBhJwkAwjYJAHZbCQDzjwkANMsJAJ0GCgAIQAoAh3kKAHG1CgCV9woAFkILAOeWCwBe8wsAzE8MALGhDAAu4gwAQg0NAKomDQDiOA0AsFINAI5+DQBewA0ARhQOAKRzDgB11A4APy8PAHCCDwBo0A8AxxoQAGVkEACTrxAAP/wQAMJJEQAPmREAO+sRAA5BEgDYmhIAffgSAA==",
          "dtype": "i4"
         },
         "yaxis": "y"
        },
        {
         "hovertemplate": "Country Name=Tonga<br>Year=%{x}<br>Count=%{y}<extra></extra>",
         "legendgroup": "Tonga",
         "line": {
          "color": "#ab63fa",
          "dash": "solid"
         },
         "marker": {
          "symbol": "circle"
         },
         "mode": "lines",
         "name": "Tonga",
         "showlegend": true,
         "type": "scattergl",
         "x": {
          "bdata": "qAepB6oHqwesB60HrgevB7AHsQeyB7MHtAe1B7YHtwe4B7kHuge7B7wHvQe+B78HwAfBB8IHwwfEB8UHxgfHB8gHyQfKB8sHzAfNB84HzwfQB9EH0gfTB9QH1QfWB9cH2AfZB9oH2wfcB90H3gffB+AH4Qc=",
          "dtype": "i2"
         },
         "xaxis": "x",
         "y": {
          "bdata": "ifAAAOP4AAC7AgEAdQ0BAD0YAQBpIgEA4ysBALU0AQC3PAEAp0MBAH9JAQD7TQEAM1EBALJTAQAeVgEA/lgBAJJcAQChYAEAx2QBAGxoAQArawEA4WwBAMltAQAhbgEAXG4BAMhuAQCIbwEAcXABAH9xAQCDcgEAXXMBAA50AQCndAEARXUBAPt1AQDodgEAEXgBAGt5AQAIewEAynwBALV+AQC3gAEAzoIBAAWFAQB6hwEAKYoBAEqNAQC1kAEA05MBANKVAQAylgEAipQBAFGRAQCIjQEApIoBAK2JAQANiwEAbo4BAA==",
          "dtype": "i4"
         },
         "yaxis": "y"
        },
        {
         "hovertemplate": "Country Name=Trinidad and Tobago<br>Year=%{x}<br>Count=%{y}<extra></extra>",
         "legendgroup": "Trinidad and Tobago",
         "line": {
          "color": "#FFA15A",
          "dash": "solid"
         },
         "marker": {
          "symbol": "circle"
         },
         "mode": "lines",
         "name": "Trinidad and Tobago",
         "showlegend": true,
         "type": "scattergl",
         "x": {
          "bdata": "qAepB6oHqwesB60HrgevB7AHsQeyB7MHtAe1B7YHtwe4B7kHuge7B7wHvQe+B78HwAfBB8IHwwfEB8UHxgfHB8gHyQfKB8sHzAfNB84HzwfQB9EH0gfTB9QH1QfWB9cH2AfZB9oH2wfcB90H3gffB+AH4Qc=",
          "dtype": "i2"
         },
         "xaxis": "x",
         "y": {
          "bdata": "a/AMADIyDQBRaw0AKJwNANXFDQB56Q0AsQYOADMeDgDrMw4A4kwOANBsDgBdlQ4AyMUOAPr7DgCNNA8A+GwPAFOkDwBs2w8AdhMQAGBOEABIjRAAn9AQABQXEQCXXREAAqARAG3bEQCVDhIALToSALlfEgC5gRIA/KESAC/BEgDL3hIA4PkSAPAQEwA4IxMATTATAEg5EwB/QBMAPUkTANFVEwBQZxMAHX0TAOeVEwCLrxMAdsgTACHgEwAj9xMAiw4UAOInFAATRBQAcmMUADGFFADkpxQApskUANjoFAAcBRUAiB4VAA==",
          "dtype": "i4"
         },
         "yaxis": "y"
        },
        {
         "hovertemplate": "Country Name=Tunisia<br>Year=%{x}<br>Count=%{y}<extra></extra>",
         "legendgroup": "Tunisia",
         "line": {
          "color": "#19d3f3",
          "dash": "solid"
         },
         "marker": {
          "symbol": "circle"
         },
         "mode": "lines",
         "name": "Tunisia",
         "showlegend": true,
         "type": "scattergl",
         "x": {
          "bdata": "qAepB6oHqwesB60HrgevB7AHsQeyB7MHtAe1B7YHtwe4B7kHuge7B7wHvQe+B78HwAfBB8IHwwfEB8UHxgfHB8gHyQfKB8sHzAfNB84HzwfQB9EH0gfTB9QH1QfWB9cH2AfZB9oH2wfcB90H3gffB+AH4Qc=",
          "dtype": "i2"
         },
         "xaxis": "x",
         "y": {
          "bdata": "PME/AD6rQABJskEApNVCADoSRABlZUUA6NBGAJ9VSACj7kkALpVLAIFETQDn+04ASr1QAD+KUgBfZVQAUlFWAG5LWADdVFoAd3hcAMTEXgCXQmEAv/ZjADHaZgDz2mkAJuBsADrXbwCitnIAAIF1AIw+eAAy/XoAQMV9AFGZgADlb4MAHDeGAOzWiAAWPosAjGiNALNbjwDhG5EAFLGSAD4jlABvcZUAk5+WAL3AlwCF7ZgAkzeaAH6omwDWPJ0AYemeAP6boADsR6IAeOijABqDpQD3IKcAoc+oAK2XqgAKfKwA43WuAA==",
          "dtype": "i4"
         },
         "yaxis": "y"
        },
        {
         "hovertemplate": "Country Name=Turkey<br>Year=%{x}<br>Count=%{y}<extra></extra>",
         "legendgroup": "Turkey",
         "line": {
          "color": "#FF6692",
          "dash": "solid"
         },
         "marker": {
          "symbol": "circle"
         },
         "mode": "lines",
         "name": "Turkey",
         "showlegend": true,
         "type": "scattergl",
         "x": {
          "bdata": "qAepB6oHqwesB60HrgevB7AHsQeyB7MHtAe1B7YHtwe4B7kHuge7B7wHvQe+B78HwAfBB8IHwwfEB8UHxgfHB8gHyQfKB8sHzAfNB84HzwfQB9EH0gfTB9QH1QfWB9cH2AfZB9oH2wfcB90H3gffB+AH4Qc=",
          "dtype": "i2"
         },
         "xaxis": "x",
         "y": {
          "bdata": "2TGjAd58rQE79LcB5ZzCAaV9zQFCnNgBg/jjASiT7wEQdPsB3qQHAo8rFAKXDSEC/UYuAlDIOwLre0kCylJXAn8+ZQJJQ3MCuHqBAnkJkAIjBZ8C/neuAsNKvgLASM4C6yneAnG57QKd5vwC/LwLAwVHGgPnmSgD4Mc2Aw7NRANUqVID7HdgAyxcbgO4bnwDMrqKA1g2mQMM0acDJW62AwL4xAPzftMDFwriA7px8ANygf4D7R8MBEolGQQYvCUErIAyBDdHQARMn08EF6pgBFgdcwT0k4YEI3eaBIFDrgSc+8EERITVBA==",
          "dtype": "i4"
         },
         "yaxis": "y"
        },
        {
         "hovertemplate": "Country Name=Tuvalu<br>Year=%{x}<br>Count=%{y}<extra></extra>",
         "legendgroup": "Tuvalu",
         "line": {
          "color": "#B6E880",
          "dash": "solid"
         },
         "marker": {
          "symbol": "circle"
         },
         "mode": "lines",
         "name": "Tuvalu",
         "showlegend": true,
         "type": "scattergl",
         "x": {
          "bdata": "qAepB6oHqwesB60HrgevB7AHsQeyB7MHtAe1B7YHtwe4B7kHuge7B7wHvQe+B78HwAfBB8IHwwfEB8UHxgfHB8gHyQfKB8sHzAfNB84HzwfQB9EH0gfTB9QH1QfWB9cH2AfZB9oH2wfcB90H3gffB+AH4Qc=",
          "dtype": "i2"
         },
         "xaxis": "x",
         "y": {
          "bdata": "yxTXFNwU3xTsFAoVPhWHFd0VJhZnFoYWnha+FhEXrBezGPoZZhu+HNUdkx4UH2kfsx8bIJAgJSG9IUsi0SJCI5gj6iMkJFIkayRrJHQkgiSyJAwlfCX+JY0mECeIJ+0nSii4KCIpiSnzKWkq3CpbK9kraiw=",
          "dtype": "i2"
         },
         "yaxis": "y"
        },
        {
         "hovertemplate": "Country Name=Tanzania<br>Year=%{x}<br>Count=%{y}<extra></extra>",
         "legendgroup": "Tanzania",
         "line": {
          "color": "#FF97FF",
          "dash": "solid"
         },
         "marker": {
          "symbol": "circle"
         },
         "mode": "lines",
         "name": "Tanzania",
         "showlegend": true,
         "type": "scattergl",
         "x": {
          "bdata": "qAepB6oHqwesB60HrgevB7AHsQeyB7MHtAe1B7YHtwe4B7kHuge7B7wHvQe+B78HwAfBB8IHwwfEB8UHxgfHB8gHyQfKB8sHzAfNB84HzwfQB9EH0gfTB9QH1QfWB9cH2AfZB9oH2wfcB90H3gffB+AH4Qc=",
          "dtype": "i2"
         },
         "xaxis": "x",
         "y": {
          "bdata": "OGKZAMngnQA6iaIAg1ynAMFbrACQiLEAIOK2AB1rvAASLcIARDTIAPmIzgDvMNUAtCjcAPdj4wAI0eoArWPyAA8Y+gD+8wEBtQAKAZ5LEgET3xoBKMIjATr0LAHjbjYBEChAAQQbSgHeNlQBQINeARgwaQFafnQBhZSAAZKXjQEtZZsBY4apAT9XtwHvaMQB7ovQARn32wHkH+cB/7DyASwo/wHArwwChCobAnZ4KgK3XjoCkLRKAvd2WwLGv2wC+KN+AipBkQKdrKQCeuu4AsH2zQLax+MCjlP6AgmQEQOmfSkD4hpCAw==",
          "dtype": "i4"
         },
         "yaxis": "y"
        },
        {
         "hovertemplate": "Country Name=Uganda<br>Year=%{x}<br>Count=%{y}<extra></extra>",
         "legendgroup": "Uganda",
         "line": {
          "color": "#FECB52",
          "dash": "solid"
         },
         "marker": {
          "symbol": "circle"
         },
         "mode": "lines",
         "name": "Uganda",
         "showlegend": true,
         "type": "scattergl",
         "x": {
          "bdata": "qAepB6oHqwesB60HrgevB7AHsQeyB7MHtAe1B7YHtwe4B7kHuge7B7wHvQe+B78HwAfBB8IHwwfEB8UHxgfHB8gHyQfKB8sHzAfNB84HzwfQB9EH0gfTB9QH1QfWB9cH2AfZB9oH2wfcB90H3gffB+AH4Qc=",
          "dtype": "i2"
         },
         "xaxis": "x",
         "y": {
          "bdata": "90FnAIqQagC0Gm4AAttxAMDIdQCS23kADxd+ACt4ggDB54YAsUeLAKCEjwC0lJMApIOXANdumwAtgJ8A+9ajAJ6AqACneK0AEriyAOkwuADe2r0A+rHDAGfAyQBJHNAAO+PWAHso3gBe9OUAUjvuAJzj9gCiyP8AmM4IAfvyEQGKOhsBNJokAYUGLgHgejcBde9AAWZvSgFcIVQB2jleAXzfaAFoJXQBmQWAAYhujAGxQpkB6W6mAVP3swEC7cEB+FnQAZhL3wGH0O4BN9H+AcBUDwKOqiACFDwzAi1GRwIS+VwC4RZ0Ag==",
          "dtype": "i4"
         },
         "yaxis": "y"
        },
        {
         "hovertemplate": "Country Name=Ukraine<br>Year=%{x}<br>Count=%{y}<extra></extra>",
         "legendgroup": "Ukraine",
         "line": {
          "color": "#636efa",
          "dash": "solid"
         },
         "marker": {
          "symbol": "circle"
         },
         "mode": "lines",
         "name": "Ukraine",
         "showlegend": true,
         "type": "scattergl",
         "x": {
          "bdata": "qAepB6oHqwesB60HrgevB7AHsQeyB7MHtAe1B7YHtwe4B7kHuge7B7wHvQe+B78HwAfBB8IHwwfEB8UHxgfHB8gHyQfKB8sHzAfNB84HzwfQB9EH0gfTB9QH1QfWB9cH2AfZB9oH2wfcB90H3gffB+AH4Qc=",
          "dtype": "i2"
         },
         "xaxis": "x",
         "y": {
          "bdata": "zAKLAslGkwImm5sCYMqjAiSMqwKkrrIC8xi5AnzevgIiMMQCY1bJAtmEzgICzdMCXRzZApJX3gISVOMC0fPnAhku7ALXD/ACcqrzAhUY9wIya/oCyE/+AoDMAAOgiwMD0HEGA4juCAOorQsDSKsOA+glEgNI/hUDIM8XA9Z2GQP6vxsDCjEcA5FAGAPrAxIDJRILAzkBBAPDIv0ChvT1Aihd7gJZ2+YCBIPfAlaR2QLQDdQCfsTOAqbsyQImrcUCGNjBArS3vgJs7rsCdGu5AtSytwLAHbYCi8uyAu3+sAJlt64CnxGsAg==",
          "dtype": "i4"
         },
         "yaxis": "y"
        },
        {
         "hovertemplate": "Country Name=Uruguay<br>Year=%{x}<br>Count=%{y}<extra></extra>",
         "legendgroup": "Uruguay",
         "line": {
          "color": "#EF553B",
          "dash": "solid"
         },
         "marker": {
          "symbol": "circle"
         },
         "mode": "lines",
         "name": "Uruguay",
         "showlegend": true,
         "type": "scattergl",
         "x": {
          "bdata": "qAepB6oHqwesB60HrgevB7AHsQeyB7MHtAe1B7YHtwe4B7kHuge7B7wHvQe+B78HwAfBB8IHwwfEB8UHxgfHB8gHyQfKB8sHzAfNB84HzwfQB9EH0gfTB9QH1QfWB9cH2AfZB9oH2wfcB90H3gffB+AH4Qc=",
          "dtype": "i2"
         },
         "xaxis": "x",
         "y": {
          "bdata": "k7wmAKE9JwBquycAdjUoAKyrKACIHSkAO4wpAIb2KQDnVioAIqYqAMHfKgDpACsAVQ0rAOUPKwCfFysAYC8rABxbKwD+lysAUOErAEgvLAA9fCwAVccsAHwSLQBsXS0AdqgtAL/zLQB5Pi4AbYguACHTLgDTIC8A4XIvAAzJLwAgIjAAEX0wAH/YMADZMjEAFY0xABTmMQCtNzIA7HkyALinMgAhvjIAWMAyABS3MgCErjIAy68yANm9MgCl1jIAvfcyAKwcMwArQjMA5mczAB6PMwD/tzMA8uIzACkQNACEPzQAZnA0AA==",
          "dtype": "i4"
         },
         "yaxis": "y"
        },
        {
         "hovertemplate": "Country Name=United States<br>Year=%{x}<br>Count=%{y}<extra></extra>",
         "legendgroup": "United States",
         "line": {
          "color": "#00cc96",
          "dash": "solid"
         },
         "marker": {
          "symbol": "circle"
         },
         "mode": "lines",
         "name": "United States",
         "showlegend": true,
         "type": "scattergl",
         "x": {
          "bdata": "qAepB6oHqwesB60HrgevB7AHsQeyB7MHtAe1B7YHtwe4B7kHuge7B7wHvQe+B78HwAfBB8IHwwfEB8UHxgfHB8gHyQfKB8sHzAfNB84HzwfQB9EH0gfTB9QH1QfWB9cH2AfZB9oH2wfcB90H3gffB+AH4Qc=",
          "dtype": "i2"
         },
         "xaxis": "x",
         "y": {
          "bdata": "GNLECvjm8goQWB4LkJpHC2j+bwsY1JQLgES3C8Aa2AvQh/YLCJsUDGDYOAzIp2AMQMKCDIh5oQwwJ78MiHzfDDjz/gyYlCANqGBEDRgRag2oLYsNkF+tDYDpzg0AYu8NaGcODqBuLg6II1AOaAlxDjjCkg64KLYO2PHgDggvFA/QF0oPmAx+D/D7rg9wFN8PUKAOEGhqQBCwMnEQANChEOt00RD7R/wQ6c8kER2yShGy2nMRtzmdEYjqyBFnbPQRDhsgEkn2SBIF8W8SaVWSEipXtRJ/qNYS9TD6EhElHhNurUET8VlhEw==",
          "dtype": "i4"
         },
         "yaxis": "y"
        },
        {
         "hovertemplate": "Country Name=Uzbekistan<br>Year=%{x}<br>Count=%{y}<extra></extra>",
         "legendgroup": "Uzbekistan",
         "line": {
          "color": "#ab63fa",
          "dash": "solid"
         },
         "marker": {
          "symbol": "circle"
         },
         "mode": "lines",
         "name": "Uzbekistan",
         "showlegend": true,
         "type": "scattergl",
         "x": {
          "bdata": "qAepB6oHqwesB60HrgevB7AHsQeyB7MHtAe1B7YHtwe4B7kHuge7B7wHvQe+B78HwAfBB8IHwwfEB8UHxgfHB8gHyQfKB8sHzAfNB84HzwfQB9EH0gfTB9QH1QfWB9cH2AfZB9oH2wfcB90H3gffB+AH4Qc=",
          "dtype": "i2"
         },
         "xaxis": "x",
         "y": {
          "bdata": "3BmCADB8hgAUEIsAqt+PAAD4lAAGX5oA/B2gACUppgDQV6wA/3KyAL1UuADr6r0ANETDAD2DyACt280AxnLTANFT2QCjct8ASMHlALoo7ACFmPIAoAz5AKKL/wBAHAYBwMgMAeSXEwF6hhoBoY4hAa+wKAEn7S8BMPU4AcCzPwEoSUcB8M5OAShyVQHoq1sBqGJiATghaQE4/W4BYvdyAaAieAFi7XwBKp6BAaIhhgGeqIoB2EaPAbotlAEg+ZkBkJugAWiypwHg07MBCK+/AaRSxgGAec0BRFPVAVSV3QHc9eUB+DXuAQ==",
          "dtype": "i4"
         },
         "yaxis": "y"
        },
        {
         "hovertemplate": "Country Name=St. Vincent and the Grenadines<br>Year=%{x}<br>Count=%{y}<extra></extra>",
         "legendgroup": "St. Vincent and the Grenadines",
         "line": {
          "color": "#FFA15A",
          "dash": "solid"
         },
         "marker": {
          "symbol": "circle"
         },
         "mode": "lines",
         "name": "St. Vincent and the Grenadines",
         "showlegend": true,
         "type": "scattergl",
         "x": {
          "bdata": "qAepB6oHqwesB60HrgevB7AHsQeyB7MHtAe1B7YHtwe4B7kHuge7B7wHvQe+B78HwAfBB8IHwwfEB8UHxgfHB8gHyQfKB8sHzAfNB84HzwfQB9EH0gfTB9QH1QfWB9cH2AfZB9oH2wfcB90H3gffB+AH4Qc=",
          "dtype": "i2"
         },
         "xaxis": "x",
         "y": {
          "bdata": "UTwBAPlAAQAlRQEA5kgBAHdMAQD7TwEAd1MBAOFWAQBWWgEA4F0BAI1hAQBjZQEAYWkBAINtAQCWcQEArnUBALR5AQClfQEAiYEBAEGFAQDWiAEAPYwBAHCPAQB4kgEAY5UBADqYAQABmwEAsp0BACSgAQA/ogEA3KMBAAClAQCupQEAAaYBABWmAQADpgEAyKUBAHelAQAZpQEA7qQBAAilAQB4pQEAQaYBACanAQDgpwEARqgBADuoAQDmpwEAaacBAP+mAQDfpgEAHKcBAJOnAQBOqAEAPakBAFyqAQCTqwEAA60BAA==",
          "dtype": "i4"
         },
         "yaxis": "y"
        },
        {
         "hovertemplate": "Country Name=Venezuela, RB<br>Year=%{x}<br>Count=%{y}<extra></extra>",
         "legendgroup": "Venezuela, RB",
         "line": {
          "color": "#19d3f3",
          "dash": "solid"
         },
         "marker": {
          "symbol": "circle"
         },
         "mode": "lines",
         "name": "Venezuela, RB",
         "showlegend": true,
         "type": "scattergl",
         "x": {
          "bdata": "qAepB6oHqwesB60HrgevB7AHsQeyB7MHtAe1B7YHtwe4B7kHuge7B7wHvQe+B78HwAfBB8IHwwfEB8UHxgfHB8gHyQfKB8sHzAfNB84HzwfQB9EH0gfTB9QH1QfWB9cH2AfZB9oH2wfcB90H3gffB+AH4Qc=",
          "dtype": "i2"
         },
         "xaxis": "x",
         "y": {
          "bdata": "ETx8AN3FgAB5Z4UA2yGKAAj2jgB25JMAwO6YAMETngDTTaMARpWoACnlrQCZOrMAnpi4AFYHvgA7ksMAhUHJAHAYzwBbFNUANzDbAEdk4QATq+cAPgHuAKVo9AD+5voAn4QBAWBGCAHhLQ8BmjUWAV9SHQEHdSQBGZIrAT2lMgFzrzkBRbFAAfWsRwFMpE4B8pNVAe95XAH0WmMBwT1qAb4lcQFIE3gBeAB/AQjjhQEyrYwBv1OTAZKzmQH6w58BeLClASG4qwGE9bEBMc24AREJwAETdsYBznPKASUDywGjascBSXbAAQ==",
          "dtype": "i4"
         },
         "yaxis": "y"
        },
        {
         "hovertemplate": "Country Name=British Virgin Islands<br>Year=%{x}<br>Count=%{y}<extra></extra>",
         "legendgroup": "British Virgin Islands",
         "line": {
          "color": "#FF6692",
          "dash": "solid"
         },
         "marker": {
          "symbol": "circle"
         },
         "mode": "lines",
         "name": "British Virgin Islands",
         "showlegend": true,
         "type": "scattergl",
         "x": {
          "bdata": "qAepB6oHqwesB60HrgevB7AHsQeyB7MHtAe1B7YHtwe4B7kHuge7B7wHvQe+B78HwAfBB8IHwwfEB8UHxgfHB8gHyQfKB8sHzAfNB84HzwfQB9EH0gfTB9QH1QfWB9cH2AfZB9oH2wfcB90H3gffB+AH4Qc=",
          "dtype": "i2"
         },
         "xaxis": "x",
         "y": {
          "bdata": "cB/nH3YgHCHGIX4iQSMGJM0kmiVjJiEn4CeYKEIpyylFKrAqJSvSK9YsMi7ZL9AxCjSENjk5LzwaP95BUURWRgZIYkmCSnFLLkzRTG1NOk5XT8NQiVKoVD5XQ1rXXddh8WWfaZJsn27qb69wPXHgcatyiXM=",
          "dtype": "i2"
         },
         "yaxis": "y"
        },
        {
         "hovertemplate": "Country Name=Virgin Islands (U.S.)<br>Year=%{x}<br>Count=%{y}<extra></extra>",
         "legendgroup": "Virgin Islands (U.S.)",
         "line": {
          "color": "#B6E880",
          "dash": "solid"
         },
         "marker": {
          "symbol": "circle"
         },
         "mode": "lines",
         "name": "Virgin Islands (U.S.)",
         "showlegend": true,
         "type": "scattergl",
         "x": {
          "bdata": "qAepB6oHqwesB60HrgevB7AHsQeyB7MHtAe1B7YHtwe4B7kHuge7B7wHvQe+B78HwAfBB8IHwwfEB8UHxgfHB8gHyQfKB8sHzAfNB84HzwfQB9EH0gfTB9QH1QfWB9cH2AfZB9oH2wfcB90H3gffB+AH4Qc=",
          "dtype": "i2"
         },
         "xaxis": "x",
         "y": {
          "bdata": "9H4AAPyFAAC4iAAAeJsAAGCfAADsqQAAeLQAAMy/AACU2QAAjOsAAPT3AAAZFQEAHyoBAJlIAQBVXwEAFHEBAKZ3AQATbAEAuXYBALd3AQA0hQEADYYBAOSGAQD8hwEA+IgBAJiJAQDqiQEAJYoBAFiKAQCxigEAG5YBAGeZAQDwnAEAUqABADajAQAqpQEAP6YBAEWnAQD5pwEAN6gBAGKoAQAFqAEA3qcBANqnAQCzpwEApqcBAFOnAQAzpwEAb6cBAHWnAQBGpwEABKcBAJ+mAQAMpgEAbKUBAL6kAQD2owEABKMBAA==",
          "dtype": "i4"
         },
         "yaxis": "y"
        },
        {
         "hovertemplate": "Country Name=Vietnam<br>Year=%{x}<br>Count=%{y}<extra></extra>",
         "legendgroup": "Vietnam",
         "line": {
          "color": "#FF97FF",
          "dash": "solid"
         },
         "marker": {
          "symbol": "circle"
         },
         "mode": "lines",
         "name": "Vietnam",
         "showlegend": true,
         "type": "scattergl",
         "x": {
          "bdata": "qAepB6oHqwesB60HrgevB7AHsQeyB7MHtAe1B7YHtwe4B7kHuge7B7wHvQe+B78HwAfBB8IHwwfEB8UHxgfHB8gHyQfKB8sHzAfNB84HzwfQB9EH0gfTB9QH1QfWB9cH2AfZB9oH2wfcB90H3gffB+AH4Qc=",
          "dtype": "i2"
         },
         "xaxis": "x",
         "y": {
          "bdata": "V4HyAT60AQIPOhECARAhAt83MQKHrkEC4HNSAvR2YwKBkHQCSo6FAvlNlgLDxaYCvwO3AgUdxwJZMtcCbWHnAsKp9wJqFAgD59QYA/ArKgN2RjwD8zVPA+LqYgMgRncDKxeMA9E1oQNgh7YD1APMA7eo4QPaefcDfm0NBBqGIwSZmDkEFDdPBBLUYwT9CncEh7eIBJ71mAR+86cE3/21BAxWwwRjCNAExx3cBNjS5wQlcPMEVS//BEQpCwVHZhcFVfgjBRzsMAWjRz4FiRJMBfdGWgXAyWgFI3R3BdQjhgVE0JQFIm6jBQ==",
          "dtype": "i4"
         },
         "yaxis": "y"
        },
        {
         "hovertemplate": "Country Name=Vanuatu<br>Year=%{x}<br>Count=%{y}<extra></extra>",
         "legendgroup": "Vanuatu",
         "line": {
          "color": "#FECB52",
          "dash": "solid"
         },
         "marker": {
          "symbol": "circle"
         },
         "mode": "lines",
         "name": "Vanuatu",
         "showlegend": true,
         "type": "scattergl",
         "x": {
          "bdata": "qAepB6oHqwesB60HrgevB7AHsQeyB7MHtAe1B7YHtwe4B7kHuge7B7wHvQe+B78HwAfBB8IHwwfEB8UHxgfHB8gHyQfKB8sHzAfNB84HzwfQB9EH0gfTB9QH1QfWB9cH2AfZB9oH2wfcB90H3gffB+AH4Qc=",
          "dtype": "i2"
         },
         "xaxis": "x",
         "y": {
          "bdata": "yfgAAKkAAQDSCAEAOhEBALMZAQAeIgEAayoBAKMyAQAROwEA70MBAIFNAQDKVwEAuWIBADNuAQAGegEAE4YBAF6SAQDYngEAXasBAKW3AQCNwwEADc8BADPaAQAx5QEASfABAMD7AQCDBwIAjxMCADMgAgDKLQIAjTwCALxMAgAiXgIAAHACACGBAgDekAIAyp4CAEmrAgBDtwIAEcQCAIzSAgAj4wIAgPUCAC8JAwBfHQMAgjEDAGJFAwBQWQMAwG0DAGeDAwCzmgMA3bMDAJvOAwB76gMA0AYEABojBAA6PwQARlsEAA==",
          "dtype": "i4"
         },
         "yaxis": "y"
        },
        {
         "hovertemplate": "Country Name=Samoa<br>Year=%{x}<br>Count=%{y}<extra></extra>",
         "legendgroup": "Samoa",
         "line": {
          "color": "#636efa",
          "dash": "solid"
         },
         "marker": {
          "symbol": "circle"
         },
         "mode": "lines",
         "name": "Samoa",
         "showlegend": true,
         "type": "scattergl",
         "x": {
          "bdata": "qAepB6oHqwesB60HrgevB7AHsQeyB7MHtAe1B7YHtwe4B7kHuge7B7wHvQe+B78HwAfBB8IHwwfEB8UHxgfHB8gHyQfKB8sHzAfNB84HzwfQB9EH0gfTB9QH1QfWB9cH2AfZB9oH2wfcB90H3gffB+AH4Qc=",
          "dtype": "i2"
         },
         "xaxis": "x",
         "y": {
          "bdata": "VagBAOm1AQBAxAEAB9MBAM7hAQBO8AEAcf4BACEMAgAPGQIA1CQCAC0vAgAFOAIAYD8CAIBFAgC2SgIAP08CAC9TAgCIVgIAg1kCAHNcAgCFXwIA92ICALxmAgCQagIAEG4CAPZwAgAgcwIAxXQCAGB2AgCUeAIA83sCAJ2AAgByhgIAz4wCAPaSAgBGmAIAnZwCACSgAgAnowIAKaYCAHapAgAgrQIAF7ECAEy1AgCeuQIAD74CAIzCAgAexwIA38sCAOzQAgBd1gIATdwCAKDiAgD96AIA3e4CAOnzAgDn9wIAGPsCAA==",
          "dtype": "i4"
         },
         "yaxis": "y"
        },
        {
         "hovertemplate": "Country Name=Kosovo<br>Year=%{x}<br>Count=%{y}<extra></extra>",
         "legendgroup": "Kosovo",
         "line": {
          "color": "#EF553B",
          "dash": "solid"
         },
         "marker": {
          "symbol": "circle"
         },
         "mode": "lines",
         "name": "Kosovo",
         "showlegend": true,
         "type": "scattergl",
         "x": {
          "bdata": "qAepB6oHqwesB60HrgevB7AHsQeyB7MHtAe1B7YHtwe4B7kHuge7B7wHvQe+B78HwAfBB8IHwwfEB8UHxgfHB8gHyQfKB8sHzAfNB84HzwfQB9EH0gfTB9QH1QfWB9cH2AfZB9oH2wfcB90H3gffB+AH4Qc=",
          "dtype": "i2"
         },
         "xaxis": "x",
         "y": {
          "bdata": "OHMOAHC9DgDQKg8AMJgPAJAFEADwchAAUOAQAJhREQD4vhEAWCwSALiZEgAYBxMAMIATAGD1EwB4bhQAqOMUAMBcFQDw0RUAIEcWADjAFgBoNRcAgK4XALAjGACwoBgAmCEZAFCqGQAIMxoAqL8aABhUGwC44BsAcGkcABD2HADgeh0AyPsdAMh4HgDI9R4A+GofAHDUHwCw/x0A0OIaAKDwGQAi9RkApvkZACr+GQCuAhoANAcaAPA8GgAccxoAt6kaAMLgGgBAGBsAGFQbAJCLGwBk1RsAaMwbAEh+GwCIthsALO8bAA==",
          "dtype": "i4"
         },
         "yaxis": "y"
        },
        {
         "hovertemplate": "Country Name=Yemen, Rep.<br>Year=%{x}<br>Count=%{y}<extra></extra>",
         "legendgroup": "Yemen, Rep.",
         "line": {
          "color": "#00cc96",
          "dash": "solid"
         },
         "marker": {
          "symbol": "circle"
         },
         "mode": "lines",
         "name": "Yemen, Rep.",
         "showlegend": true,
         "type": "scattergl",
         "x": {
          "bdata": "qAepB6oHqwesB60HrgevB7AHsQeyB7MHtAe1B7YHtwe4B7kHuge7B7wHvQe+B78HwAfBB8IHwwfEB8UHxgfHB8gHyQfKB8sHzAfNB84HzwfQB9EH0gfTB9QH1QfWB9cH2AfZB9oH2wfcB90H3gffB+AH4Qc=",
          "dtype": "i2"
         },
         "xaxis": "x",
         "y": {
          "bdata": "GxtRAIxKUgCHhVMAHspUAH0VVgAHZlcAt79YAKIlWgC8lFsAiwhdAOiAXgC9+18ALoNhANAxYwBvKmUAt4ZnAIVSagCziW0AjiFxAL4HdQAKL3kA5pt9AKVVggD6VYcAnJSMAE8PkgB1sJcAe4CdAG69owC5u6oAKa6yACy3uwArqsUAHArQAA0q2gAjj+MA2grsAPTE8wAGA/sAPTICATCkCQGlaREBq20ZASiwIQGCKCoBkdAyAR6rOwHTvkQBMgxOAeySVwGnUGEBZEZrAVpudQHltn8B/QiKAWFTlAHSjZ4BxbmoAQ==",
          "dtype": "i4"
         },
         "yaxis": "y"
        },
        {
         "hovertemplate": "Country Name=South Africa<br>Year=%{x}<br>Count=%{y}<extra></extra>",
         "legendgroup": "South Africa",
         "line": {
          "color": "#ab63fa",
          "dash": "solid"
         },
         "marker": {
          "symbol": "circle"
         },
         "mode": "lines",
         "name": "South Africa",
         "showlegend": true,
         "type": "scattergl",
         "x": {
          "bdata": "qAepB6oHqwesB60HrgevB7AHsQeyB7MHtAe1B7YHtwe4B7kHuge7B7wHvQe+B78HwAfBB8IHwwfEB8UHxgfHB8gHyQfKB8sHzAfNB84HzwfQB9EH0gfTB9QH1QfWB9cH2AfZB9oH2wfcB90H3gffB+AH4Qc=",
          "dtype": "i2"
         },
         "xaxis": "x",
         "y": {
          "bdata": "QOwEATVnCwGdIhIBeR0ZAbNVIAEJyicBengvAVBiNwFBjT8BCwFIARDCUAE32FkBZD9jAYvibAFcpHYBs3KAAVg9igEREZQBlRueAXicqAHhvbMBb5a/ATAPzAFe7dgBOd3lAdqj8gGRG/8Bf1cLAu2YFwLCPyQC/YcxAqaLPwLfGE4CVsNcAlv1agJuQngC84uEAsXvjwLUiZoCb42kAhwnrgLKXLcCATXAAtzgyALanNECmZnaAvPj4wIPgu0CD5P3AtM3AgNEgg0DTIUZA9UuJgOUOzMDR05AA/8gTQOGmVkDA8JlAw==",
          "dtype": "i4"
         },
         "yaxis": "y"
        },
        {
         "hovertemplate": "Country Name=Zambia<br>Year=%{x}<br>Count=%{y}<extra></extra>",
         "legendgroup": "Zambia",
         "line": {
          "color": "#FFA15A",
          "dash": "solid"
         },
         "marker": {
          "symbol": "circle"
         },
         "mode": "lines",
         "name": "Zambia",
         "showlegend": true,
         "type": "scattergl",
         "x": {
          "bdata": "qAepB6oHqwesB60HrgevB7AHsQeyB7MHtAe1B7YHtwe4B7kHuge7B7wHvQe+B78HwAfBB8IHwwfEB8UHxgfHB8gHyQfKB8sHzAfNB84HzwfQB9EH0gfTB9QH1QfWB9cH2AfZB9oH2wfcB90H3gffB+AH4Qc=",
          "dtype": "i2"
         },
         "xaxis": "x",
         "y": {
          "bdata": "ONsuAKlIMADqwDEAaEUzAC3YNAAgezYAoy44AHHzOQAYzDsArLs9AHvEPwD450EA/iVEABp9RgDk6kgAs21LAPcDTgB8rlAAZnBTAEtOVgCxSlkAxmVcAAicXwD852IA5EFmAI2jaQDZDW0AJYBwAMPwcwCtU3cA7aF6AIDVfQAT9YAAZhaEAGxXhwCfzYoAVYOOAKlykgDsjJYAkbuaAEjvngBhJqMAMmqnAKfDqwCyP7AAd+m0AMrAuQCux74Akg3EAKOlyQBgnM8AGfrVAGG43ACowuMASfvqAMFM8gDzr/kAuCoBAQ==",
          "dtype": "i4"
         },
         "yaxis": "y"
        },
        {
         "hovertemplate": "Country Name=Zimbabwe<br>Year=%{x}<br>Count=%{y}<extra></extra>",
         "legendgroup": "Zimbabwe",
         "line": {
          "color": "#19d3f3",
          "dash": "solid"
         },
         "marker": {
          "symbol": "circle"
         },
         "mode": "lines",
         "name": "Zimbabwe",
         "showlegend": true,
         "type": "scattergl",
         "x": {
          "bdata": "qAepB6oHqwesB60HrgevB7AHsQeyB7MHtAe1B7YHtwe4B7kHuge7B7wHvQe+B78HwAfBB8IHwwfEB8UHxgfHB8gHyQfKB8sHzAfNB84HzwfQB9EH0gfTB9QH1QfWB9cH2AfZB9oH2wfcB90H3gffB+AH4Qc=",
          "dtype": "i2"
         },
         "xaxis": "x",
         "y": {
          "bdata": "qaA5AAqWOwAhoj0AJsM/AC32QQCJOUQA94tGADPvSABSaEsAKf5NAFe1UAB2klMAt5NWAN6vWQDS2VwAcwlgAKk4YwD7bWYAAL1pANdAbQDwC3EAxx51AOFueQAb9X0ASaaCALF1hwAVYowAo1+RACVJlgB875oApS+fAKP6ogAWVKYAHkOpADDXqwAaHa4A4RqwAHrQsQAAP7MAf2a0AAVMtQDK8bUAcmi2AJDVtgDIaLcAm0a4AGN6uQCyArsAneW8AHglvwB7wMEAbMDEAPseyADUtcsA+VDPAGXL0gA2FtYASTzZAA==",
          "dtype": "i4"
         },
         "yaxis": "y"
        },
        {
         "hovertemplate": "Country Name=West Bank and Gaza<br>Year=%{x}<br>Count=%{y}<extra></extra>",
         "legendgroup": "West Bank and Gaza",
         "line": {
          "color": "#FF6692",
          "dash": "solid"
         },
         "marker": {
          "symbol": "circle"
         },
         "mode": "lines",
         "name": "West Bank and Gaza",
         "showlegend": true,
         "type": "scattergl",
         "x": {
          "bdata": "xgfHB8gHyQfKB8sHzAfNB84HzwfQB9EH0gfTB9QH1QfWB9cH2AfZB9oH2wfcB90H3gffB+AH4Qc=",
          "dtype": "i2"
         },
         "xaxis": "x",
         "y": {
          "bdata": "iC8eAG2RHwCHAyEAlIYiAFobJACqwiUAXX0nAFZMKQD4XSoAr3YrAKmWLAAYvi0ALe0uABkkMAASYzEATKoyAP75MwBgUjUAKc82AItKOACxxTkA6j87AN66PACkND4AVq4/AAwoQQDwokIAlflDAA==",
          "dtype": "i4"
         },
         "yaxis": "y"
        },
        {
         "hovertemplate": "Country Name=Serbia<br>Year=%{x}<br>Count=%{y}<extra></extra>",
         "legendgroup": "Serbia",
         "line": {
          "color": "#B6E880",
          "dash": "solid"
         },
         "marker": {
          "symbol": "circle"
         },
         "mode": "lines",
         "name": "Serbia",
         "showlegend": true,
         "type": "scattergl",
         "x": {
          "bdata": "xgfHB8gHyQfKB8sHzAfNB84HzwfQB9EH0gfTB9QH1QfWB9cH2AfZB9oH2wfcB90H3gffB+AH4Qc=",
          "dtype": "i2"
         },
         "xaxis": "x",
         "y": {
          "bdata": "0MBzAHTmcwDYrHQAa3t1AG8FdgCNWnQAAj10ANXpcwCBeXMAsQ5zALqwcgBJfnIASmNyAA8lcgD14HEAgYlxAHEXcQBLonAAzidwAOe0bwAsQm8AM2JuAGXZbQDkUG0A0M1sAFdEbACSs2sAOiFrAA==",
          "dtype": "i4"
         },
         "yaxis": "y"
        },
        {
         "hovertemplate": "Country Name=Sint Maarten (Dutch part)<br>Year=%{x}<br>Count=%{y}<extra></extra>",
         "legendgroup": "Sint Maarten (Dutch part)",
         "line": {
          "color": "#FF97FF",
          "dash": "solid"
         },
         "marker": {
          "symbol": "circle"
         },
         "mode": "lines",
         "name": "Sint Maarten (Dutch part)",
         "showlegend": true,
         "type": "scattergl",
         "x": {
          "bdata": "zgfPB9AH0QfSB9MH1AfVB9YH1wfYB9kH2gfbB9wH3QfeB98H4AfhBw==",
          "dtype": "i2"
         },
         "xaxis": "x",
         "y": {
          "bdata": "CHoAAGx5AAA3dwAAiHcAADl4AADwegAA6H4AAPOAAAChggAAE4QAAKyEAAC+hQAACIUAAJuCAABQhwAA/44AADWTAACplwAAIZwAAH6eAAA=",
          "dtype": "i4"
         },
         "yaxis": "y"
        }
       ],
       "layout": {
        "legend": {
         "title": {
          "text": "Country Name"
         },
         "tracegroupgap": 0
        },
        "margin": {
         "t": 60
        },
        "template": {
         "data": {
          "bar": [
           {
            "error_x": {
             "color": "#2a3f5f"
            },
            "error_y": {
             "color": "#2a3f5f"
            },
            "marker": {
             "line": {
              "color": "#E5ECF6",
              "width": 0.5
             },
             "pattern": {
              "fillmode": "overlay",
              "size": 10,
              "solidity": 0.2
             }
            },
            "type": "bar"
           }
          ],
          "barpolar": [
           {
            "marker": {
             "line": {
              "color": "#E5ECF6",
              "width": 0.5
             },
             "pattern": {
              "fillmode": "overlay",
              "size": 10,
              "solidity": 0.2
             }
            },
            "type": "barpolar"
           }
          ],
          "carpet": [
           {
            "aaxis": {
             "endlinecolor": "#2a3f5f",
             "gridcolor": "white",
             "linecolor": "white",
             "minorgridcolor": "white",
             "startlinecolor": "#2a3f5f"
            },
            "baxis": {
             "endlinecolor": "#2a3f5f",
             "gridcolor": "white",
             "linecolor": "white",
             "minorgridcolor": "white",
             "startlinecolor": "#2a3f5f"
            },
            "type": "carpet"
           }
          ],
          "choropleth": [
           {
            "colorbar": {
             "outlinewidth": 0,
             "ticks": ""
            },
            "type": "choropleth"
           }
          ],
          "contour": [
           {
            "colorbar": {
             "outlinewidth": 0,
             "ticks": ""
            },
            "colorscale": [
             [
              0,
              "#0d0887"
             ],
             [
              0.1111111111111111,
              "#46039f"
             ],
             [
              0.2222222222222222,
              "#7201a8"
             ],
             [
              0.3333333333333333,
              "#9c179e"
             ],
             [
              0.4444444444444444,
              "#bd3786"
             ],
             [
              0.5555555555555556,
              "#d8576b"
             ],
             [
              0.6666666666666666,
              "#ed7953"
             ],
             [
              0.7777777777777778,
              "#fb9f3a"
             ],
             [
              0.8888888888888888,
              "#fdca26"
             ],
             [
              1,
              "#f0f921"
             ]
            ],
            "type": "contour"
           }
          ],
          "contourcarpet": [
           {
            "colorbar": {
             "outlinewidth": 0,
             "ticks": ""
            },
            "type": "contourcarpet"
           }
          ],
          "heatmap": [
           {
            "colorbar": {
             "outlinewidth": 0,
             "ticks": ""
            },
            "colorscale": [
             [
              0,
              "#0d0887"
             ],
             [
              0.1111111111111111,
              "#46039f"
             ],
             [
              0.2222222222222222,
              "#7201a8"
             ],
             [
              0.3333333333333333,
              "#9c179e"
             ],
             [
              0.4444444444444444,
              "#bd3786"
             ],
             [
              0.5555555555555556,
              "#d8576b"
             ],
             [
              0.6666666666666666,
              "#ed7953"
             ],
             [
              0.7777777777777778,
              "#fb9f3a"
             ],
             [
              0.8888888888888888,
              "#fdca26"
             ],
             [
              1,
              "#f0f921"
             ]
            ],
            "type": "heatmap"
           }
          ],
          "histogram": [
           {
            "marker": {
             "pattern": {
              "fillmode": "overlay",
              "size": 10,
              "solidity": 0.2
             }
            },
            "type": "histogram"
           }
          ],
          "histogram2d": [
           {
            "colorbar": {
             "outlinewidth": 0,
             "ticks": ""
            },
            "colorscale": [
             [
              0,
              "#0d0887"
             ],
             [
              0.1111111111111111,
              "#46039f"
             ],
             [
              0.2222222222222222,
              "#7201a8"
             ],
             [
              0.3333333333333333,
              "#9c179e"
             ],
             [
              0.4444444444444444,
              "#bd3786"
             ],
             [
              0.5555555555555556,
              "#d8576b"
             ],
             [
              0.6666666666666666,
              "#ed7953"
             ],
             [
              0.7777777777777778,
              "#fb9f3a"
             ],
             [
              0.8888888888888888,
              "#fdca26"
             ],
             [
              1,
              "#f0f921"
             ]
            ],
            "type": "histogram2d"
           }
          ],
          "histogram2dcontour": [
           {
            "colorbar": {
             "outlinewidth": 0,
             "ticks": ""
            },
            "colorscale": [
             [
              0,
              "#0d0887"
             ],
             [
              0.1111111111111111,
              "#46039f"
             ],
             [
              0.2222222222222222,
              "#7201a8"
             ],
             [
              0.3333333333333333,
              "#9c179e"
             ],
             [
              0.4444444444444444,
              "#bd3786"
             ],
             [
              0.5555555555555556,
              "#d8576b"
             ],
             [
              0.6666666666666666,
              "#ed7953"
             ],
             [
              0.7777777777777778,
              "#fb9f3a"
             ],
             [
              0.8888888888888888,
              "#fdca26"
             ],
             [
              1,
              "#f0f921"
             ]
            ],
            "type": "histogram2dcontour"
           }
          ],
          "mesh3d": [
           {
            "colorbar": {
             "outlinewidth": 0,
             "ticks": ""
            },
            "type": "mesh3d"
           }
          ],
          "parcoords": [
           {
            "line": {
             "colorbar": {
              "outlinewidth": 0,
              "ticks": ""
             }
            },
            "type": "parcoords"
           }
          ],
          "pie": [
           {
            "automargin": true,
            "type": "pie"
           }
          ],
          "scatter": [
           {
            "fillpattern": {
             "fillmode": "overlay",
             "size": 10,
             "solidity": 0.2
            },
            "type": "scatter"
           }
          ],
          "scatter3d": [
           {
            "line": {
             "colorbar": {
              "outlinewidth": 0,
              "ticks": ""
             }
            },
            "marker": {
             "colorbar": {
              "outlinewidth": 0,
              "ticks": ""
             }
            },
            "type": "scatter3d"
           }
          ],
          "scattercarpet": [
           {
            "marker": {
             "colorbar": {
              "outlinewidth": 0,
              "ticks": ""
             }
            },
            "type": "scattercarpet"
           }
          ],
          "scattergeo": [
           {
            "marker": {
             "colorbar": {
              "outlinewidth": 0,
              "ticks": ""
             }
            },
            "type": "scattergeo"
           }
          ],
          "scattergl": [
           {
            "marker": {
             "colorbar": {
              "outlinewidth": 0,
              "ticks": ""
             }
            },
            "type": "scattergl"
           }
          ],
          "scattermap": [
           {
            "marker": {
             "colorbar": {
              "outlinewidth": 0,
              "ticks": ""
             }
            },
            "type": "scattermap"
           }
          ],
          "scattermapbox": [
           {
            "marker": {
             "colorbar": {
              "outlinewidth": 0,
              "ticks": ""
             }
            },
            "type": "scattermapbox"
           }
          ],
          "scatterpolar": [
           {
            "marker": {
             "colorbar": {
              "outlinewidth": 0,
              "ticks": ""
             }
            },
            "type": "scatterpolar"
           }
          ],
          "scatterpolargl": [
           {
            "marker": {
             "colorbar": {
              "outlinewidth": 0,
              "ticks": ""
             }
            },
            "type": "scatterpolargl"
           }
          ],
          "scatterternary": [
           {
            "marker": {
             "colorbar": {
              "outlinewidth": 0,
              "ticks": ""
             }
            },
            "type": "scatterternary"
           }
          ],
          "surface": [
           {
            "colorbar": {
             "outlinewidth": 0,
             "ticks": ""
            },
            "colorscale": [
             [
              0,
              "#0d0887"
             ],
             [
              0.1111111111111111,
              "#46039f"
             ],
             [
              0.2222222222222222,
              "#7201a8"
             ],
             [
              0.3333333333333333,
              "#9c179e"
             ],
             [
              0.4444444444444444,
              "#bd3786"
             ],
             [
              0.5555555555555556,
              "#d8576b"
             ],
             [
              0.6666666666666666,
              "#ed7953"
             ],
             [
              0.7777777777777778,
              "#fb9f3a"
             ],
             [
              0.8888888888888888,
              "#fdca26"
             ],
             [
              1,
              "#f0f921"
             ]
            ],
            "type": "surface"
           }
          ],
          "table": [
           {
            "cells": {
             "fill": {
              "color": "#EBF0F8"
             },
             "line": {
              "color": "white"
             }
            },
            "header": {
             "fill": {
              "color": "#C8D4E3"
             },
             "line": {
              "color": "white"
             }
            },
            "type": "table"
           }
          ]
         },
         "layout": {
          "annotationdefaults": {
           "arrowcolor": "#2a3f5f",
           "arrowhead": 0,
           "arrowwidth": 1
          },
          "autotypenumbers": "strict",
          "coloraxis": {
           "colorbar": {
            "outlinewidth": 0,
            "ticks": ""
           }
          },
          "colorscale": {
           "diverging": [
            [
             0,
             "#8e0152"
            ],
            [
             0.1,
             "#c51b7d"
            ],
            [
             0.2,
             "#de77ae"
            ],
            [
             0.3,
             "#f1b6da"
            ],
            [
             0.4,
             "#fde0ef"
            ],
            [
             0.5,
             "#f7f7f7"
            ],
            [
             0.6,
             "#e6f5d0"
            ],
            [
             0.7,
             "#b8e186"
            ],
            [
             0.8,
             "#7fbc41"
            ],
            [
             0.9,
             "#4d9221"
            ],
            [
             1,
             "#276419"
            ]
           ],
           "sequential": [
            [
             0,
             "#0d0887"
            ],
            [
             0.1111111111111111,
             "#46039f"
            ],
            [
             0.2222222222222222,
             "#7201a8"
            ],
            [
             0.3333333333333333,
             "#9c179e"
            ],
            [
             0.4444444444444444,
             "#bd3786"
            ],
            [
             0.5555555555555556,
             "#d8576b"
            ],
            [
             0.6666666666666666,
             "#ed7953"
            ],
            [
             0.7777777777777778,
             "#fb9f3a"
            ],
            [
             0.8888888888888888,
             "#fdca26"
            ],
            [
             1,
             "#f0f921"
            ]
           ],
           "sequentialminus": [
            [
             0,
             "#0d0887"
            ],
            [
             0.1111111111111111,
             "#46039f"
            ],
            [
             0.2222222222222222,
             "#7201a8"
            ],
            [
             0.3333333333333333,
             "#9c179e"
            ],
            [
             0.4444444444444444,
             "#bd3786"
            ],
            [
             0.5555555555555556,
             "#d8576b"
            ],
            [
             0.6666666666666666,
             "#ed7953"
            ],
            [
             0.7777777777777778,
             "#fb9f3a"
            ],
            [
             0.8888888888888888,
             "#fdca26"
            ],
            [
             1,
             "#f0f921"
            ]
           ]
          },
          "colorway": [
           "#636efa",
           "#EF553B",
           "#00cc96",
           "#ab63fa",
           "#FFA15A",
           "#19d3f3",
           "#FF6692",
           "#B6E880",
           "#FF97FF",
           "#FECB52"
          ],
          "font": {
           "color": "#2a3f5f"
          },
          "geo": {
           "bgcolor": "white",
           "lakecolor": "white",
           "landcolor": "#E5ECF6",
           "showlakes": true,
           "showland": true,
           "subunitcolor": "white"
          },
          "hoverlabel": {
           "align": "left"
          },
          "hovermode": "closest",
          "mapbox": {
           "style": "light"
          },
          "paper_bgcolor": "white",
          "plot_bgcolor": "#E5ECF6",
          "polar": {
           "angularaxis": {
            "gridcolor": "white",
            "linecolor": "white",
            "ticks": ""
           },
           "bgcolor": "#E5ECF6",
           "radialaxis": {
            "gridcolor": "white",
            "linecolor": "white",
            "ticks": ""
           }
          },
          "scene": {
           "xaxis": {
            "backgroundcolor": "#E5ECF6",
            "gridcolor": "white",
            "gridwidth": 2,
            "linecolor": "white",
            "showbackground": true,
            "ticks": "",
            "zerolinecolor": "white"
           },
           "yaxis": {
            "backgroundcolor": "#E5ECF6",
            "gridcolor": "white",
            "gridwidth": 2,
            "linecolor": "white",
            "showbackground": true,
            "ticks": "",
            "zerolinecolor": "white"
           },
           "zaxis": {
            "backgroundcolor": "#E5ECF6",
            "gridcolor": "white",
            "gridwidth": 2,
            "linecolor": "white",
            "showbackground": true,
            "ticks": "",
            "zerolinecolor": "white"
           }
          },
          "shapedefaults": {
           "line": {
            "color": "#2a3f5f"
           }
          },
          "ternary": {
           "aaxis": {
            "gridcolor": "white",
            "linecolor": "white",
            "ticks": ""
           },
           "baxis": {
            "gridcolor": "white",
            "linecolor": "white",
            "ticks": ""
           },
           "bgcolor": "#E5ECF6",
           "caxis": {
            "gridcolor": "white",
            "linecolor": "white",
            "ticks": ""
           }
          },
          "title": {
           "x": 0.05
          },
          "xaxis": {
           "automargin": true,
           "gridcolor": "white",
           "linecolor": "white",
           "ticks": "",
           "title": {
            "standoff": 15
           },
           "zerolinecolor": "white",
           "zerolinewidth": 2
          },
          "yaxis": {
           "automargin": true,
           "gridcolor": "white",
           "linecolor": "white",
           "ticks": "",
           "title": {
            "standoff": 15
           },
           "zerolinecolor": "white",
           "zerolinewidth": 2
          }
         }
        },
        "xaxis": {
         "anchor": "y",
         "domain": [
          0,
          1
         ],
         "title": {
          "text": "Year"
         }
        },
        "yaxis": {
         "anchor": "x",
         "domain": [
          0,
          1
         ],
         "title": {
          "text": "Count"
         }
        }
       }
      },
      "image/png": "[encoded data removed]"
     },
     "metadata": {},
     "output_type": "display_data"
    },
    {
     "name": "stdout",
     "output_type": "stream",
     "text": [
      "Alle Länder: 0.23 s\n"
     ]
    },
    {
     "data": {
      "application/vnd.plotly.v1+json": {
       "config": {
        "plotlyServerURL": "https://plot.ly"
       },
       "data": [
        {
         "hovertemplate": "Country Name=Canada<br>Year=%{x}<br>Count=%{y}<extra></extra>",
         "legendgroup": "Canada",
         "line": {
          "color": "#636efa",
          "dash": "solid"
         },
         "marker": {
          "symbol": "circle"
         },
         "mode": "lines",
         "name": "Canada",
         "orientation": "v",
         "showlegend": true,
         "type": "scatter",
         "x": {
          "bdata": "qAepB6oHqwesB60HrgevB7AHsQeyB7MHtAe1B7YHtwe4B7kHuge7B7wHvQe+B78HwAfBB8IHwwfEB8UHxgfHB8gHyQfKB8sHzAfNB84HzwfQB9EH0gfTB9QH1QfWB9cH2AfZB9oH2wfcB90H3gffB+AH4Qc=",
          "dtype": "i2"
         },
         "xaxis": "x",
         "y": {
          "bdata": "EUURARjLFgHwBhwBIF4hAUjgJgEwQywBgOgxAWB2NwFAhzwBoNxAAeBgRQEwHU8B3wZTAYEyVwGhBVwBayNhAdDQZQETB2oBQ6ZtAUhJcQFTFHYBy7h6AQ5BfwGzD4MBjbuGAcRRigE2Qo4BCYuTAUPPmAHtNaABgoimASzRqwFA6bAB3LG1AdeDugEnHr8B6tDDARxUyAGlIcwBBuPPASI61AFmV9kBT4TeAXzZ4gEvYOcBKQDsASb/8AHB2PUBjk/7Ad8iAQKZ3wYCAPoLAm6yEQLKUhcCe7scAnzIIAKv/CYCbI8tAg==",
          "dtype": "i4"
         },
         "yaxis": "y"
        },
        {
         "hovertemplate": "Country Name=Germany<br>Year=%{x}<br>Count=%{y}<extra></extra>",
         "legendgroup": "Germany",
         "line": {
          "color": "#EF553B",
          "dash": "solid"
         },
         "marker": {
          "symbol": "circle"
         },
         "mode": "lines",
         "name": "Germany",
         "orientation": "v",
         "showlegend": true,
         "type": "scatter",
         "x": {
          "bdata": "qAepB6oHqwesB60HrgevB7AHsQeyB7MHtAe1B7YHtwe4B7kHuge7B7wHvQe+B78HwAfBB8IHwwfEB8UHxgfHB8gHyQfKB8sHzAfNB84HzwfQB9EH0gfTB9QH1QfWB9cH2AfZB9oH2wfcB90H3gffB+AH4Qc=",
          "dtype": "i2"
         },
         "xaxis": "x",
         "y": {
          "bdata": "NBFXBGCnXwQ4i2kE8Qx0BEFEfQQvHYcE99OQBCgvlgTqapsEss6kBMnEqASK9aoExLCwBFp6tASJ8rQEknawBLZTqwTGn6gELJanBA4dqATAlqoE42isBLZFqwSaJKgEfQekBIlgoQR066EEML6jBGtkqAQzprEERQ28BEjqxATWO84EC1nWBIym2gTjTt4Ez+vhBFPA4wTb8OMEE8DkBLRy5gRlj+gEr6zqBCBf6wQkGesELmLqBAP36AQESecEkebkBOO64QQi0d8EJ+bIBF8zywTljc4E5LHTBFNw3gR9iugE6j7tBA==",
          "dtype": "i4"
         },
         "yaxis": "y"
        },
        {
         "hovertemplate": "Country Name=France<br>Year=%{x}<br>Count=%{y}<extra></extra>",
         "legendgroup": "France",
         "line": {
          "color": "#00cc96",
          "dash": "solid"
         },
         "marker": {
          "symbol": "circle"
         },
         "mode": "lines",
         "name": "France",
         "orientation": "v",
         "showlegend": true,
         "type": "scatter",
         "x": {
          "bdata": "qAepB6oHqwesB60HrgevB7AHsQeyB7MHtAe1B7YHtwe4B7kHuge7B7wHvQe+B78HwAfBB8IHwwfEB8UHxgfHB8gHyQfKB8sHzAfNB84HzwfQB9EH0gfTB9QH1QfWB9cH2AfZB9oH2wfcB90H3gffB+AH4Qc=",
          "dtype": "i2"
         },
         "xaxis": "x",
         "y": {
          "bdata": "5WPHAl/V0AJt+NoC00/lAgMz7wKsKfgClvr/AvLGBgNU4AwDbMUSA+rPGAOOHx8DMo8lA7biKwOpwDEDfu02A/ZUOwN2HD8DC4hCA/73RQO3skkDmMxNAxU0UgPa2lYDAqVbA2h7YAP7YmUDh15qA+FRbwP0GHQDMZt4A0+LfQOR/4ED0OWFA9hCiQOLiYwDjMKPA7P9kgOwXpYDThubA3RzoQN2PagD0xKvAxbItQP/zLwDVwrEAwXJygNhz9ADyEjWA+BZ2wOzPeADPA3lA6Hj6QNfD+8DROfzA1Yi+AP4MvwD+Ef8Aw==",
          "dtype": "i4"
         },
         "yaxis": "y"
        },
        {
         "hovertemplate": "Country Name=United Kingdom<br>Year=%{x}<br>Count=%{y}<extra></extra>",
         "legendgroup": "United Kingdom",
         "line": {
          "color": "#ab63fa",
          "dash": "solid"
         },
         "marker": {
          "symbol": "circle"
         },
         "mode": "lines",
         "name": "United Kingdom",
         "orientation": "v",
         "showlegend": true,
         "type": "scatter",
         "x": {
          "bdata": "qAepB6oHqwesB60HrgevB7AHsQeyB7MHtAe1B7YHtwe4B7kHuge7B7wHvQe+B78HwAfBB8IHwwfEB8UHxgfHB8gHyQfKB8sHzAfNB84HzwfQB9EH0gfTB9QH1QfWB9cH2AfZB9oH2wfcB90H3gffB+AH4Qc=",
          "dtype": "i2"
         },
         "xaxis": "x",
         "y": {
          "bdata": "gI8fAwCqJQPQhywDUKIyA4D5NwMSST0DtN5BA3BfRgO0dkoDVvlNA5JaUQOf6FQDMc5XA991WQNWAFoDCPBZAwC6WQPUcVkDmH1ZA6dCWgNoSVsDBZZbAylHWwMwklsDuO5cA3zjXgO042ADArtiA0eoZAPn62YDYodpAwE8bANym24DVrdwAxH2cgPWTHUDpo53A5rYeQNlcXwDYmx/A+KgggM5GIYD7+uJA1kmjgPBV5MDNqaZA+RyoAPftKcDkxmvA65CtgMdvb0DJkHFA0z9ywPihNIDKOvZA53J4QOt6OgDa/rvAw==",
          "dtype": "i4"
         },
         "yaxis": "y"
        },
        {
         "hovertemplate": "Country Name=Italy<br>Year=%{x}<br>Count=%{y}<extra></extra>",
         "legendgroup": "Italy",
         "line": {
          "color": "#FFA15A",
          "dash": "solid"
         },
         "marker": {
          "symbol": "circle"
         },
         "mode": "lines",
         "name": "Italy",
         "orientation": "v",
         "showlegend": true,
         "type": "scatter",
         "x": {
          "bdata": "qAepB6oHqwesB60HrgevB7AHsQeyB7MHtAe1B7YHtwe4B7kHuge7B7wHvQe+B78HwAfBB8IHwwfEB8UHxgfHB8gHyQfKB8sHzAfNB84HzwfQB9EH0gfTB9QH1QfWB9cH2AfZB9oH2wfcB90H3gffB+AH4Qc=",
          "dtype": "i2"
         },
         "xaxis": "x",
         "y": {
          "bdata": "lPz9Ap4fAwPaWwgDIAsOA9aAFAPeKxsDWGAhA5QyJwMmUCwDnuwwA5pBNQOSGDkDIcs9A65wQwPU7EgDafZNA3QxUgPTz1UDB9xYAzVXWwPbHF0DqyVeAzzJXgNqGV8DzkpfA6+KXwO7ll8DS61fAygYYAMlvmADiHdhA/kQYgOfp2IDTS9jA4hcYwMPYGMDeZ5jAwQUZAP4U2QDXXlkAxzeZAMUW2UDv6ZmA7OHagNPNXADTIt0A+s0dwOmsnsD65+BA0W5hQNpgIgD+Q6KAwWBjAPcGJcDlJGfA9asngMqGp0DhbebAw==",
          "dtype": "i4"
         },
         "yaxis": "y"
        },
        {
         "hovertemplate": "Country Name=Japan<br>Year=%{x}<br>Count=%{y}<extra></extra>",
         "legendgroup": "Japan",
         "line": {
          "color": "#19d3f3",
          "dash": "solid"
         },
         "marker": {
          "symbol": "circle"
         },
         "mode": "lines",
         "name": "Japan",
         "orientation": "v",
         "showlegend": true,
         "type": "scatter",
         "x": {
          "bdata": "qAepB6oHqwesB60HrgevB7AHsQeyB7MHtAe1B7YHtwe4B7kHuge7B7wHvQe+B78HwAfBB8IHwwfEB8UHxgfHB8gHyQfKB8sHzAfNB84HzwfQB9EH0gfTB9QH1QfWB9cH2AfZB9oH2wfcB90H3gffB+AH4Qc=",
          "dtype": "i2"
         },
         "xaxis": "x",
         "y": {
          "bdata": "XHKDBRi3qAXAR7YF4DvFBdC01AW41eQFsKzyBQjxAAaIEQYGoEcmBqgtOAbozkwGII9jBpgncQZQ8JAGoBGsBri/uAZYackGUDTZBjAJ6Aaw8/UGgCoDB2hjDwd4vxsHUFQnB1CPMgcg0j0H+PVGBwjtTgfgmVYHaAZdB2jiYgeIlWcHwERsB+jAcgcYDHoHSOZ+Byh6gwcAtogHWDyMB3h4jwfII5QHCKiYB3DSnAdoep0HSKmdB7DlngfoI6EHGBaiB5jXoQdwMaIHqJOeB8h2mwcIqJgH4BOWB4gElAdPyJEHBZmOBw==",
          "dtype": "i4"
         },
         "yaxis": "y"
        },
        {
         "hovertemplate": "Country Name=United States<br>Year=%{x}<br>Count=%{y}<extra></extra>",
         "legendgroup": "United States",
         "line": {
          "color": "#FF6692",
          "dash": "solid"
         },
         "marker": {
          "symbol": "circle"
         },
         "mode": "lines",
         "name": "United States",
         "orientation": "v",
         "showlegend": true,
         "type": "scatter",
         "x": {
          "bdata": "qAepB6oHqwesB60HrgevB7AHsQeyB7MHtAe1B7YHtwe4B7kHuge7B7wHvQe+B78HwAfBB8IHwwfEB8UHxgfHB8gHyQfKB8sHzAfNB84HzwfQB9EH0gfTB9QH1QfWB9cH2AfZB9oH2wfcB90H3gffB+AH4Qc=",
          "dtype": "i2"
         },
         "xaxis": "x",
         "y": {
          "bdata": "GNLECvjm8goQWB4LkJpHC2j+bwsY1JQLgES3C8Aa2AvQh/YLCJsUDGDYOAzIp2AMQMKCDIh5oQwwJ78MiHzfDDjz/gyYlCANqGBEDRgRag2oLYsNkF+tDYDpzg0AYu8NaGcODqBuLg6II1AOaAlxDjjCkg64KLYO2PHgDggvFA/QF0oPmAx+D/D7rg9wFN8PUKAOEGhqQBCwMnEQANChEOt00RD7R/wQ6c8kER2yShGy2nMRtzmdEYjqyBFnbPQRDhsgEkn2SBIF8W8SaVWSEipXtRJ/qNYS9TD6EhElHhNurUET8VlhEw==",
          "dtype": "i4"
         },
         "yaxis": "y"
        }
       ],
       "layout": {
        "legend": {
         "title": {
          "text": "Country Name"
         },
         "tracegroupgap": 0
        },
        "margin": {
         "t": 60
        },
        "template": {
         "data": {
          "bar": [
           {
            "error_x": {
             "color": "#2a3f5f"
            },
            "error_y": {
             "color": "#2a3f5f"
            },
            "marker": {
             "line": {
              "color": "#E5ECF6",
              "width": 0.5
             },
             "pattern": {
              "fillmode": "overlay",
              "size": 10,
              "solidity": 0.2
             }
            },
            "type": "bar"
           }
          ],
          "barpolar": [
           {
            "marker": {
             "line": {
              "color": "#E5ECF6",
              "width": 0.5
             },
             "pattern": {
              "fillmode": "overlay",
              "size": 10,
              "solidity": 0.2
             }
            },
            "type": "barpolar"
           }
          ],
          "carpet": [
           {
            "aaxis": {
             "endlinecolor": "#2a3f5f",
             "gridcolor": "white",
             "linecolor": "white",
             "minorgridcolor": "white",
             "startlinecolor": "#2a3f5f"
            },
            "baxis": {
             "endlinecolor": "#2a3f5f",
             "gridcolor": "white",
             "linecolor": "white",
             "minorgridcolor": "white",
             "startlinecolor": "#2a3f5f"
            },
            "type": "carpet"
           }
          ],
          "choropleth": [
           {
            "colorbar": {
             "outlinewidth": 0,
             "ticks": ""
            },
            "type": "choropleth"
           }
          ],
          "contour": [
           {
            "colorbar": {
             "outlinewidth": 0,
             "ticks": ""
            },
            "colorscale": [
             [
              0,
              "#0d0887"
             ],
             [
              0.1111111111111111,
              "#46039f"
             ],
             [
              0.2222222222222222,
              "#7201a8"
             ],
             [
              0.3333333333333333,
              "#9c179e"
             ],
             [
              0.4444444444444444,
              "#bd3786"
             ],
             [
              0.5555555555555556,
              "#d8576b"
             ],
             [
              0.6666666666666666,
              "#ed7953"
             ],
             [
              0.7777777777777778,
              "#fb9f3a"
             ],
             [
              0.8888888888888888,
              "#fdca26"
             ],
             [
              1,
              "#f0f921"
             ]
            ],
            "type": "contour"
           }
          ],
          "contourcarpet": [
           {
            "colorbar": {
             "outlinewidth": 0,
             "ticks": ""
            },
            "type": "contourcarpet"
           }
          ],
          "heatmap": [
           {
            "colorbar": {
             "outlinewidth": 0,
             "ticks": ""
            },
            "colorscale": [
             [
              0,
              "#0d0887"
             ],
             [
              0.1111111111111111,
              "#46039f"
             ],
             [
              0.2222222222222222,
              "#7201a8"
             ],
             [
              0.3333333333333333,
              "#9c179e"
             ],
             [
              0.4444444444444444,
              "#bd3786"
             ],
             [
              0.5555555555555556,
              "#d8576b"
             ],
             [
              0.6666666666666666,
              "#ed7953"
             ],
             [
              0.7777777777777778,
              "#fb9f3a"
             ],
             [
              0.8888888888888888,
              "#fdca26"
             ],
             [
              1,
              "#f0f921"
             ]
            ],
            "type": "heatmap"
           }
          ],
          "histogram": [
           {
            "marker": {
             "pattern": {
              "fillmode": "overlay",
              "size": 10,
              "solidity": 0.2
             }
            },
            "type": "histogram"
           }
          ],
          "histogram2d": [
           {
            "colorbar": {
             "outlinewidth": 0,
             "ticks": ""
            },
            "colorscale": [
             [
              0,
              "#0d0887"
             ],
             [
              0.1111111111111111,
              "#46039f"
             ],
             [
              0.2222222222222222,
              "#7201a8"
             ],
             [
              0.3333333333333333,
              "#9c179e"
             ],
             [
              0.4444444444444444,
              "#bd3786"
             ],
             [
              0.5555555555555556,
              "#d8576b"
             ],
             [
              0.6666666666666666,
              "#ed7953"
             ],
             [
              0.7777777777777778,
              "#fb9f3a"
             ],
             [
              0.8888888888888888,
              "#fdca26"
             ],
             [
              1,
              "#f0f921"
             ]
            ],
            "type": "histogram2d"
           }
          ],
          "histogram2dcontour": [
           {
            "colorbar": {
             "outlinewidth": 0,
             "ticks": ""
            },
            "colorscale": [
             [
              0,
              "#0d0887"
             ],
             [
              0.1111111111111111,
              "#46039f"
             ],
             [
              0.2222222222222222,
              "#7201a8"
             ],
             [
              0.3333333333333333,
              "#9c179e"
             ],
             [
              0.4444444444444444,
              "#bd3786"
             ],
             [
              0.5555555555555556,
              "#d8576b"
             ],
             [
              0.6666666666666666,
              "#ed7953"
             ],
             [
              0.7777777777777778,
              "#fb9f3a"
             ],
             [
              0.8888888888888888,
              "#fdca26"
             ],
             [
              1,
              "#f0f921"
             ]
            ],
            "type": "histogram2dcontour"
           }
          ],
          "mesh3d": [
           {
            "colorbar": {
             "outlinewidth": 0,
             "ticks": ""
            },
            "type": "mesh3d"
           }
          ],
          "parcoords": [
           {
            "line": {
             "colorbar": {
              "outlinewidth": 0,
              "ticks": ""
             }
            },
            "type": "parcoords"
           }
          ],
          "pie": [
           {
            "automargin": true,
            "type": "pie"
           }
          ],
          "scatter": [
           {
            "fillpattern": {
             "fillmode": "overlay",
             "size": 10,
             "solidity": 0.2
            },
            "type": "scatter"
           }
          ],
          "scatter3d": [
           {
            "line": {
             "colorbar": {
              "outlinewidth": 0,
              "ticks": ""
             }
            },
            "marker": {
             "colorbar": {
              "outlinewidth": 0,
              "ticks": ""
             }
            },
            "type": "scatter3d"
           }
          ],
          "scattercarpet": [
           {
            "marker": {
             "colorbar": {
              "outlinewidth": 0,
              "ticks": ""
             }
            },
            "type": "scattercarpet"
           }
          ],
          "scattergeo": [
           {
            "marker": {
             "colorbar": {
              "outlinewidth": 0,
              "ticks": ""
             }
            },
            "type": "scattergeo"
           }
          ],
          "scattergl": [
           {
            "marker": {
             "colorbar": {
              "outlinewidth": 0,
              "ticks": ""
             }
            },
            "type": "scattergl"
           }
          ],
          "scattermap": [
           {
            "marker": {
             "colorbar": {
              "outlinewidth": 0,
              "ticks": ""
             }
            },
            "type": "scattermap"
           }
          ],
          "scattermapbox": [
           {
            "marker": {
             "colorbar": {
              "outlinewidth": 0,
              "ticks": ""
             }
            },
            "type": "scattermapbox"
           }
          ],
          "scatterpolar": [
           {
            "marker": {
             "colorbar": {
              "outlinewidth": 0,
              "ticks": ""
             }
            },
            "type": "scatterpolar"
           }
          ],
          "scatterpolargl": [
           {
            "marker": {
             "colorbar": {
              "outlinewidth": 0,
              "ticks": ""
             }
            },
            "type": "scatterpolargl"
           }
          ],
          "scatterternary": [
           {
            "marker": {
             "colorbar": {
              "outlinewidth": 0,
              "ticks": ""
             }
            },
            "type": "scatterternary"
           }
          ],
          "surface": [
           {
            "colorbar": {
             "outlinewidth": 0,
             "ticks": ""
            },
            "colorscale": [
             [
              0,
              "#0d0887"
             ],
             [
              0.1111111111111111,
              "#46039f"
             ],
             [
              0.2222222222222222,
              "#7201a8"
             ],
             [
              0.3333333333333333,
              "#9c179e"
             ],
             [
              0.4444444444444444,
              "#bd3786"
             ],
             [
              0.5555555555555556,
              "#d8576b"
             ],
             [
              0.6666666666666666,
              "#ed7953"
             ],
             [
              0.7777777777777778,
              "#fb9f3a"
             ],
             [
              0.8888888888888888,
              "#fdca26"
             ],
             [
              1,
              "#f0f921"
             ]
            ],
            "type": "surface"
           }
          ],
          "table": [
           {
            "cells": {
             "fill": {
              "color": "#EBF0F8"
             },
             "line": {
              "color": "white"
             }
            },
            "header": {
             "fill": {
              "color": "#C8D4E3"
             },
             "line": {
              "color": "white"
             }
            },
            "type": "table"
           }
          ]
         },
         "layout": {
          "annotationdefaults": {
           "arrowcolor": "#2a3f5f",
           "arrowhead": 0,
           "arrowwidth": 1
          },
          "autotypenumbers": "strict",
          "coloraxis": {
           "colorbar": {
            "outlinewidth": 0,
            "ticks": ""
           }
          },
          "colorscale": {
           "diverging": [
            [
             0,
             "#8e0152"
            ],
            [
             0.1,
             "#c51b7d"
            ],
            [
             0.2,
             "#de77ae"
            ],
            [
             0.3,
             "#f1b6da"
            ],
            [
             0.4,
             "#fde0ef"
            ],
            [
             0.5,
             "#f7f7f7"
            ],
            [
             0.6,
             "#e6f5d0"
            ],
            [
             0.7,
             "#b8e186"
            ],
            [
             0.8,
             "#7fbc41"
            ],
            [
             0.9,
             "#4d9221"
            ],
            [
             1,
             "#276419"
            ]
           ],
           "sequential": [
            [
             0,
             "#0d0887"
            ],
            [
             0.1111111111111111,
             "#46039f"
            ],
            [
             0.2222222222222222,
             "#7201a8"
            ],
            [
             0.3333333333333333,
             "#9c179e"
            ],
            [
             0.4444444444444444,
             "#bd3786"
            ],
            [
             0.5555555555555556,
             "#d8576b"
            ],
            [
             0.6666666666666666,
             "#ed7953"
            ],
            [
             0.7777777777777778,
             "#fb9f3a"
            ],
            [
             0.8888888888888888,
             "#fdca26"
            ],
            [
             1,
             "#f0f921"
            ]
           ],
           "sequentialminus": [
            [
             0,
             "#0d0887"
            ],
            [
             0.1111111111111111,
             "#46039f"
            ],
            [
             0.2222222222222222,
             "#7201a8"
            ],
            [
             0.3333333333333333,
             "#9c179e"
            ],
            [
             0.4444444444444444,
             "#bd3786"
            ],
            [
             0.5555555555555556,
             "#d8576b"
            ],
            [
             0.6666666666666666,
             "#ed7953"
            ],
            [
             0.7777777777777778,
             "#fb9f3a"
            ],
            [
             0.8888888888888888,
             "#fdca26"
            ],
            [
             1,
             "#f0f921"
            ]
           ]
          },
          "colorway": [
           "#636efa",
           "#EF553B",
           "#00cc96",
           "#ab63fa",
           "#FFA15A",
           "#19d3f3",
           "#FF6692",
           "#B6E880",
           "#FF97FF",
           "#FECB52"
          ],
          "font": {
           "color": "#2a3f5f"
          },
          "geo": {
           "bgcolor": "white",
           "lakecolor": "white",
           "landcolor": "#E5ECF6",
           "showlakes": true,
           "showland": true,
           "subunitcolor": "white"
          },
          "hoverlabel": {
           "align": "left"
          },
          "hovermode": "closest",
          "mapbox": {
           "style": "light"
          },
          "paper_bgcolor": "white",
          "plot_bgcolor": "#E5ECF6",
          "polar": {
           "angularaxis": {
            "gridcolor": "white",
            "linecolor": "white",
            "ticks": ""
           },
           "bgcolor": "#E5ECF6",
           "radialaxis": {
            "gridcolor": "white",
            "linecolor": "white",
            "ticks": ""
           }
          },
          "scene": {
           "xaxis": {
            "backgroundcolor": "#E5ECF6",
            "gridcolor": "white",
            "gridwidth": 2,
            "linecolor": "white",
            "showbackground": true,
            "ticks": "",
            "zerolinecolor": "white"
           },
           "yaxis": {
            "backgroundcolor": "#E5ECF6",
            "gridcolor": "white",
            "gridwidth": 2,
            "linecolor": "white",
            "showbackground": true,
            "ticks": "",
            "zerolinecolor": "white"
           },
           "zaxis": {
            "backgroundcolor": "#E5ECF6",
            "gridcolor": "white",
            "gridwidth": 2,
            "linecolor": "white",
            "showbackground": true,
            "ticks": "",
            "zerolinecolor": "white"
           }
          },
          "shapedefaults": {
           "line": {
            "color": "#2a3f5f"
           }
          },
          "ternary": {
           "aaxis": {
            "gridcolor": "white",
            "linecolor": "white",
            "ticks": ""
           },
           "baxis": {
            "gridcolor": "white",
            "linecolor": "white",
            "ticks": ""
           },
           "bgcolor": "#E5ECF6",
           "caxis": {
            "gridcolor": "white",
            "linecolor": "white",
            "ticks": ""
           }
          },
          "title": {
           "x": 0.05
          },
          "xaxis": {
           "automargin": true,
           "gridcolor": "white",
           "linecolor": "white",
           "ticks": "",
           "title": {
            "standoff": 15
           },
           "zerolinecolor": "white",
           "zerolinewidth": 2
          },
          "yaxis": {
           "automargin": true,
           "gridcolor": "white",
           "linecolor": "white",
           "ticks": "",
           "title": {
            "standoff": 15
           },
           "zerolinecolor": "white",
           "zerolinewidth": 2
          }
         }
        },
        "xaxis": {
         "anchor": "y",
         "domain": [
          0,
          1
         ],
         "title": {
          "text": "Year"
         }
        },
        "yaxis": {
         "anchor": "x",
         "domain": [
          0,
          1
         ],
         "title": {
          "text": "Count"
         }
        }
       }
      },
      "image/png": "[encoded data removed]"
     },
     "metadata": {},
     "output_type": "display_data"
    },
    {
     "name": "stdout",
     "output_type": "stream",
     "text": [
      "G7-Staaten: 0.02 s\n"
     ]
    },
    {
     "data": {
      "application/vnd.plotly.v1+json": {
       "config": {
        "plotlyServerURL": "https://plot.ly"
       },
       "data": [
        {
         "hovertemplate": "Year=%{x}<br>Count=%{y}<extra></extra>",
         "legendgroup": "",
         "line": {
          "color": "#636efa",
          "dash": "solid"
         },
         "marker": {
          "symbol": "circle"
         },
         "mode": "lines",
         "name": "",
         "orientation": "v",
         "showlegend": false,
         "type": "scatter",
         "x": {
          "bdata": "qAepB6oHqwesB60HrgevB7AHsQeyB7MHtAe1B7YHtwe4B7kHuge7B7wHvQe+B78HwAfBB8IHwwfEB8UHxgfHB8gHyQfKB8sHzAfNB84HzwfQB9EH0gfTB9QH1QfWB9cH2AfZB9oH2wfcB90H3gffB+AH4Qc=",
          "dtype": "i2"
         },
         "xaxis": "x",
         "y": {
          "bdata": "38/aGjWVZRvGjPUbiEyKHAc7Ix18BMAdDFxgHsCuBB/gQa4fMM9eICCGFyFy+tghGLCiItZ4cyMol0kkscsjJYd2ASbI9+ImHj3JJ5qutSiMLKkpoeijKpAWpSveYKssAvO0LUhiwC7MK80vNlvbMALD6jEWX/syZikNNPm/HzWI7DI2VA9HNye9XDicSnQ5O7SNOr6FqDu9FcQ8rILfPT0Q+j4VMxNARbIqQUh/QEKgr1RDRyNnRNPod0UAWIZGRcSQRwcHlUjSopFJWeSFSgZQcksxKVhM2Fk5TdNWF06VafJOE1DKTw==",
          "dtype": "i4"
         },
         "yaxis": "y"
        }
       ],
       "layout": {
        "legend": {
         "tracegroupgap": 0
        },
        "margin": {
         "t": 60
        },
        "template": {
         "data": {
          "bar": [
           {
            "error_x": {
             "color": "#2a3f5f"
            },
            "error_y": {
             "color": "#2a3f5f"
            },
            "marker": {
             "line": {
              "color": "#E5ECF6",
              "width": 0.5
             },
             "pattern": {
              "fillmode": "overlay",
              "size": 10,
              "solidity": 0.2
             }
            },
            "type": "bar"
           }
          ],
          "barpolar": [
           {
            "marker": {
             "line": {
              "color": "#E5ECF6",
              "width": 0.5
             },
             "pattern": {
              "fillmode": "overlay",
              "size": 10,
              "solidity": 0.2
             }
            },
            "type": "barpolar"
           }
          ],
          "carpet": [
           {
            "aaxis": {
             "endlinecolor": "#2a3f5f",
             "gridcolor": "white",
             "linecolor": "white",
             "minorgridcolor": "white",
             "startlinecolor": "#2a3f5f"
            },
            "baxis": {
             "endlinecolor": "#2a3f5f",
             "gridcolor": "white",
             "linecolor": "white",
             "minorgridcolor": "white",
             "startlinecolor": "#2a3f5f"
            },
            "type": "carpet"
           }
          ],
          "choropleth": [
           {
            "colorbar": {
             "outlinewidth": 0,
             "ticks": ""
            },
            "type": "choropleth"
           }
          ],
          "contour": [
           {
            "colorbar": {
             "outlinewidth": 0,
             "ticks": ""
            },
            "colorscale": [
             [
              0,
              "#0d0887"
             ],
             [
              0.1111111111111111,
              "#46039f"
             ],
             [
              0.2222222222222222,
              "#7201a8"
             ],
             [
              0.3333333333333333,
              "#9c179e"
             ],
             [
              0.4444444444444444,
              "#bd3786"
             ],
             [
              0.5555555555555556,
              "#d8576b"
             ],
             [
              0.6666666666666666,
              "#ed7953"
             ],
             [
              0.7777777777777778,
              "#fb9f3a"
             ],
             [
              0.8888888888888888,
              "#fdca26"
             ],
             [
              1,
              "#f0f921"
             ]
            ],
            "type": "contour"
           }
          ],
          "contourcarpet": [
           {
            "colorbar": {
             "outlinewidth": 0,
             "ticks": ""
            },
            "type": "contourcarpet"
           }
          ],
          "heatmap": [
           {
            "colorbar": {
             "outlinewidth": 0,
             "ticks": ""
            },
            "colorscale": [
             [
              0,
              "#0d0887"
             ],
             [
              0.1111111111111111,
              "#46039f"
             ],
             [
              0.2222222222222222,
              "#7201a8"
             ],
             [
              0.3333333333333333,
              "#9c179e"
             ],
             [
              0.4444444444444444,
              "#bd3786"
             ],
             [
              0.5555555555555556,
              "#d8576b"
             ],
             [
              0.6666666666666666,
              "#ed7953"
             ],
             [
              0.7777777777777778,
              "#fb9f3a"
             ],
             [
              0.8888888888888888,
              "#fdca26"
             ],
             [
              1,
              "#f0f921"
             ]
            ],
            "type": "heatmap"
           }
          ],
          "histogram": [
           {
            "marker": {
             "pattern": {
              "fillmode": "overlay",
              "size": 10,
              "solidity": 0.2
             }
            },
            "type": "histogram"
           }
          ],
          "histogram2d": [
           {
            "colorbar": {
             "outlinewidth": 0,
             "ticks": ""
            },
            "colorscale": [
             [
              0,
              "#0d0887"
             ],
             [
              0.1111111111111111,
              "#46039f"
             ],
             [
              0.2222222222222222,
              "#7201a8"
             ],
             [
              0.3333333333333333,
              "#9c179e"
             ],
             [
              0.4444444444444444,
              "#bd3786"
             ],
             [
              0.5555555555555556,
              "#d8576b"
             ],
             [
              0.6666666666666666,
              "#ed7953"
             ],
             [
              0.7777777777777778,
              "#fb9f3a"
             ],
             [
              0.8888888888888888,
              "#fdca26"
             ],
             [
              1,
              "#f0f921"
             ]
            ],
            "type": "histogram2d"
           }
          ],
          "histogram2dcontour": [
           {
            "colorbar": {
             "outlinewidth": 0,
             "ticks": ""
            },
            "colorscale": [
             [
              0,
              "#0d0887"
             ],
             [
              0.1111111111111111,
              "#46039f"
             ],
             [
              0.2222222222222222,
              "#7201a8"
             ],
             [
              0.3333333333333333,
              "#9c179e"
             ],
             [
              0.4444444444444444,
              "#bd3786"
             ],
             [
              0.5555555555555556,
              "#d8576b"
             ],
             [
              0.6666666666666666,
              "#ed7953"
             ],
             [
              0.7777777777777778,
              "#fb9f3a"
             ],
             [
              0.8888888888888888,
              "#fdca26"
             ],
             [
              1,
              "#f0f921"
             ]
            ],
            "type": "histogram2dcontour"
           }
          ],
          "mesh3d": [
           {
            "colorbar": {
             "outlinewidth": 0,
             "ticks": ""
            },
            "type": "mesh3d"
           }
          ],
          "parcoords": [
           {
            "line": {
             "colorbar": {
              "outlinewidth": 0,
              "ticks": ""
             }
            },
            "type": "parcoords"
           }
          ],
          "pie": [
           {
            "automargin": true,
            "type": "pie"
           }
          ],
          "scatter": [
           {
            "fillpattern": {
             "fillmode": "overlay",
             "size": 10,
             "solidity": 0.2
            },
            "type": "scatter"
           }
          ],
          "scatter3d": [
           {
            "line": {
             "colorbar": {
              "outlinewidth": 0,
              "ticks": ""
             }
            },
            "marker": {
             "colorbar": {
              "outlinewidth": 0,
              "ticks": ""
             }
            },
            "type": "scatter3d"
           }
          ],
          "scattercarpet": [
           {
            "marker": {
             "colorbar": {
              "outlinewidth": 0,
              "ticks": ""
             }
            },
            "type": "scattercarpet"
           }
          ],
          "scattergeo": [
           {
            "marker": {
             "colorbar": {
              "outlinewidth": 0,
              "ticks": ""
             }
            },
            "type": "scattergeo"
           }
          ],
          "scattergl": [
           {
            "marker": {
             "colorbar": {
              "outlinewidth": 0,
              "ticks": ""
             }
            },
            "type": "scattergl"
           }
          ],
          "scattermap": [
           {
            "marker": {
             "colorbar": {
              "outlinewidth": 0,
              "ticks": ""
             }
            },
            "type": "scattermap"
           }
          ],
          "scattermapbox": [
           {
            "marker": {
             "colorbar": {
              "outlinewidth": 0,
              "ticks": ""
             }
            },
            "type": "scattermapbox"
           }
          ],
          "scatterpolar": [
           {
            "marker": {
             "colorbar": {
              "outlinewidth": 0,
              "ticks": ""
             }
            },
            "type": "scatterpolar"
           }
          ],
          "scatterpolargl": [
           {
            "marker": {
             "colorbar": {
              "outlinewidth": 0,
              "ticks": ""
             }
            },
            "type": "scatterpolargl"
           }
          ],
          "scatterternary": [
           {
            "marker": {
             "colorbar": {
              "outlinewidth": 0,
              "ticks": ""
             }
            },
            "type": "scatterternary"
           }
          ],
          "surface": [
           {
            "colorbar": {
             "outlinewidth": 0,
             "ticks": ""
            },
            "colorscale": [
             [
              0,
              "#0d0887"
             ],
             [
              0.1111111111111111,
              "#46039f"
             ],
             [
              0.2222222222222222,
              "#7201a8"
             ],
             [
              0.3333333333333333,
              "#9c179e"
             ],
             [
              0.4444444444444444,
              "#bd3786"
             ],
             [
              0.5555555555555556,
              "#d8576b"
             ],
             [
              0.6666666666666666,
              "#ed7953"
             ],
             [
              0.7777777777777778,
              "#fb9f3a"
             ],
             [
              0.8888888888888888,
              "#fdca26"
             ],
             [
              1,
              "#f0f921"
             ]
            ],
            "type": "surface"
           }
          ],
          "table": [
           {
            "cells": {
             "fill": {
              "color": "#EBF0F8"
             },
             "line": {
              "color": "white"
             }
            },
            "header": {
             "fill": {
              "color": "#C8D4E3"
             },
             "line": {
              "color": "white"
             }
            },
            "type": "table"
           }
          ]
         },
         "layout": {
          "annotationdefaults": {
           "arrowcolor": "#2a3f5f",
           "arrowhead": 0,
           "arrowwidth": 1
          },
          "autotypenumbers": "strict",
          "coloraxis": {
           "colorbar": {
            "outlinewidth": 0,
            "ticks": ""
           }
          },
          "colorscale": {
           "diverging": [
            [
             0,
             "#8e0152"
            ],
            [
             0.1,
             "#c51b7d"
            ],
            [
             0.2,
             "#de77ae"
            ],
            [
             0.3,
             "#f1b6da"
            ],
            [
             0.4,
             "#fde0ef"
            ],
            [
             0.5,
             "#f7f7f7"
            ],
            [
             0.6,
             "#e6f5d0"
            ],
            [
             0.7,
             "#b8e186"
            ],
            [
             0.8,
             "#7fbc41"
            ],
            [
             0.9,
             "#4d9221"
            ],
            [
             1,
             "#276419"
            ]
           ],
           "sequential": [
            [
             0,
             "#0d0887"
            ],
            [
             0.1111111111111111,
             "#46039f"
            ],
            [
             0.2222222222222222,
             "#7201a8"
            ],
            [
             0.3333333333333333,
             "#9c179e"
            ],
            [
             0.4444444444444444,
             "#bd3786"
            ],
            [
             0.5555555555555556,
             "#d8576b"
            ],
            [
             0.6666666666666666,
             "#ed7953"
            ],
            [
             0.7777777777777778,
             "#fb9f3a"
            ],
            [
             0.8888888888888888,
             "#fdca26"
            ],
            [
             1,
             "#f0f921"
            ]
           ],
           "sequentialminus": [
            [
             0,
             "#0d0887"
            ],
            [
             0.1111111111111111,
             "#46039f"
            ],
            [
             0.2222222222222222,
             "#7201a8"
            ],
            [
             0.3333333333333333,
             "#9c179e"
            ],
            [
             0.4444444444444444,
             "#bd3786"
            ],
            [
             0.5555555555555556,
             "#d8576b"
            ],
            [
             0.6666666666666666,
             "#ed7953"
            ],
            [
             0.7777777777777778,
             "#fb9f3a"
            ],
            [
             0.8888888888888888,
             "#fdca26"
            ],
            [
             1,
             "#f0f921"
            ]
           ]
          },
          "colorway": [
           "#636efa",
           "#EF553B",
           "#00cc96",
           "#ab63fa",
           "#FFA15A",
           "#19d3f3",
           "#FF6692",
           "#B6E880",
           "#FF97FF",
           "#FECB52"
          ],
          "font": {
           "color": "#2a3f5f"
          },
          "geo": {
           "bgcolor": "white",
           "lakecolor": "white",
           "landcolor": "#E5ECF6",
           "showlakes": true,
           "showland": true,
           "subunitcolor": "white"
          },
          "hoverlabel": {
           "align": "left"
          },
          "hovermode": "closest",
          "mapbox": {
           "style": "light"
          },
          "paper_bgcolor": "white",
          "plot_bgcolor": "#E5ECF6",
          "polar": {
           "angularaxis": {
            "gridcolor": "white",
            "linecolor": "white",
            "ticks": ""
           },
           "bgcolor": "#E5ECF6",
           "radialaxis": {
            "gridcolor": "white",
            "linecolor": "white",
            "ticks": ""
           }
          },
          "scene": {
           "xaxis": {
            "backgroundcolor": "#E5ECF6",
            "gridcolor": "white",
            "gridwidth": 2,
            "linecolor": "white",
            "showbackground": true,
            "ticks": "",
            "zerolinecolor": "white"
           },
           "yaxis": {
            "backgroundcolor": "#E5ECF6",
            "gridcolor": "white",
            "gridwidth": 2,
            "linecolor": "white",
            "showbackground": true,
            "ticks": "",
            "zerolinecolor": "white"
           },
           "zaxis": {
            "backgroundcolor": "#E5ECF6",
            "gridcolor": "white",
            "gridwidth": 2,
            "linecolor": "white",
            "showbackground": true,
            "ticks": "",
            "zerolinecolor": "white"
           }
          },
          "shapedefaults": {
           "line": {
            "color": "#2a3f5f"
           }
          },
          "ternary": {
           "aaxis": {
            "gridcolor": "white",
            "linecolor": "white",
            "ticks": ""
           },
           "baxis": {
            "gridcolor": "white",
            "linecolor": "white",
            "ticks": ""
           },
           "bgcolor": "#E5ECF6",
           "caxis": {
            "gridcolor": "white",
            "linecolor": "white",
            "ticks": ""
           }
          },
          "title": {
           "x": 0.05
          },
          "xaxis": {
           "automargin": true,
           "gridcolor": "white",
           "linecolor": "white",
           "ticks": "",
           "title": {
            "standoff": 15
           },
           "zerolinecolor": "white",
           "zerolinewidth": 2
          },
          "yaxis": {
           "automargin": true,
           "gridcolor": "white",
           "linecolor": "white",
           "ticks": "",
           "title": {
            "standoff": 15
           },
           "zerolinecolor": "white",
           "zerolinewidth": 2
          }
         }
        },
        "xaxis": {
         "anchor": "y",
         "domain": [
          0,
          1
         ],
         "title": {
          "text": "Year"
         }
        },
        "yaxis": {
         "anchor": "x",
         "domain": [
          0,
          1
         ],
         "title": {
          "text": "Count"
         }
        }
       }
      },
      "image/png": "[encoded data removed]"
     },
     "metadata": {},
     "output_type": "display_data"
    },
    {
     "name": "stdout",
     "output_type": "stream",
     "text": [
      "Nur Indien: 0.02 s\n"
     ]
    }
   ],
   "source": [
    "import pandas as pd\n",
    "import plotly.express as px\n",
    "import time\n",
    "\n",
    "df = pd.read_csv(path+\"/population_total_long.csv\")\n",
    "\n",
    "# A – Alle Länder\n",
    "start = time.time()\n",
    "fig = px.line(df, x=\"Year\", y=\"Count\", color=\"Country Name\")\n",
    "fig.show()\n",
    "print(\"Alle Länder:\", round(time.time() - start, 2), \"s\")\n",
    "\n",
    "# B – G7-Staaten\n",
    "g7 = [\"Germany\", \"France\", \"Italy\", \"Japan\", \"United Kingdom\", \"United States\", \"Canada\"]\n",
    "df_g7 = df[df[\"Country Name\"].isin(g7)]\n",
    "start = time.time()\n",
    "fig = px.line(df_g7, x=\"Year\", y=\"Count\", color=\"Country Name\")\n",
    "fig.show()\n",
    "print(\"G7-Staaten:\", round(time.time() - start, 2), \"s\")\n",
    "\n",
    "# C – Nur Indien\n",
    "df_india = df[df[\"Country Name\"] == \"India\"]\n",
    "start = time.time()\n",
    "fig = px.line(df_india, x=\"Year\", y=\"Count\")\n",
    "fig.show()\n",
    "print(\"Nur Indien:\", round(time.time() - start, 2), \"s\")\n"
   ]
  },
  {
   "cell_type": "code",
   "execution_count": 11,
   "id": "d29f4fb5",
   "metadata": {},
   "outputs": [
    {
     "data": {
      "application/vnd.jupyter.widget-view+json": {
       "model_id": "0ef949ee7e944c8da298d1851d425c49",
       "version_major": 2,
       "version_minor": 0
      },
      "text/plain": [
       "HBox(children=(Dropdown(description='Land:', options=('Afghanistan', 'Albania', 'Algeria', 'American Samoa', '…"
      ]
     },
     "metadata": {},
     "output_type": "display_data"
    },
    {
     "data": {
      "application/vnd.jupyter.widget-view+json": {
       "model_id": "637d72cdffb740a7ae0ea7d796065769",
       "version_major": 2,
       "version_minor": 0
      },
      "text/plain": [
       "Output()"
      ]
     },
     "metadata": {},
     "output_type": "display_data"
    },
    {
     "data": {
      "application/vnd.jupyter.widget-view+json": {
       "model_id": "6b6c5098639c48d1876980a14ed666fa",
       "version_major": 2,
       "version_minor": 0
      },
      "text/plain": [
       "Button(button_style='info', description='Visualisieren', style=ButtonStyle())"
      ]
     },
     "metadata": {},
     "output_type": "display_data"
    },
    {
     "data": {
      "application/vnd.jupyter.widget-view+json": {
       "model_id": "865257c6e4254219aa2e7f7f337fbcdf",
       "version_major": 2,
       "version_minor": 0
      },
      "text/plain": [
       "Output()"
      ]
     },
     "metadata": {},
     "output_type": "display_data"
    }
   ],
   "source": [
    "import pandas as pd\n",
    "import plotly.express as px\n",
    "import ipywidgets as widgets\n",
    "from IPython.display import display, clear_output\n",
    "import time\n",
    "\n",
    "# Daten laden\n",
    "df = pd.read_csv(path+\"/population_total_long.csv\")\n",
    "df = df[df[\"Year\"].between(1960, 2018)]\n",
    "all_countries = sorted(df[\"Country Name\"].unique())\n",
    "\n",
    "# Startauswahl: alle Länder\n",
    "selected_countries = all_countries.copy()\n",
    "\n",
    "# Dropdown zur Auswahl einzelner Länder\n",
    "dropdown = widgets.Dropdown(\n",
    "    options=all_countries,\n",
    "    description=\"Land:\"\n",
    ")\n",
    "\n",
    "# Buttons\n",
    "add_button = widgets.Button(description=\"Hinzufügen\", button_style='success')\n",
    "remove_button = widgets.Button(description=\"Entfernen\", button_style='warning')\n",
    "clear_button = widgets.Button(description=\"Zurücksetzen\", button_style='danger')\n",
    "plot_button = widgets.Button(description=\"Visualisieren\", button_style='info')\n",
    "\n",
    "# Outputbereiche\n",
    "checkbox_output = widgets.Output()\n",
    "plot_output = widgets.Output()\n",
    "\n",
    "# Checkbox-Liste aktualisieren\n",
    "def update_checkboxes():\n",
    "    checkbox_output.clear_output()\n",
    "    with checkbox_output:\n",
    "        global checkbox_list\n",
    "        checkbox_list = widgets.SelectMultiple(\n",
    "            options=selected_countries,\n",
    "            value=tuple(selected_countries),\n",
    "            description=\"Auswahl:\",\n",
    "            layout=widgets.Layout(width='50%', height='200px'),\n",
    "            style={'description_width': 'initial'}\n",
    "        )\n",
    "        display(checkbox_list)\n",
    "\n",
    "# Funktion: Land hinzufügen\n",
    "def add_country(b):\n",
    "    country = dropdown.value\n",
    "    if country not in selected_countries:\n",
    "        selected_countries.append(country)\n",
    "    update_checkboxes()\n",
    "\n",
    "# Funktion: Land/Länder entfernen\n",
    "def remove_selected(b):\n",
    "    for country in checkbox_list.value:\n",
    "        if country in selected_countries:\n",
    "            selected_countries.remove(country)\n",
    "    update_checkboxes()\n",
    "\n",
    "# Funktion: Alle löschen\n",
    "def clear_selection(b):\n",
    "    selected_countries.clear()\n",
    "    update_checkboxes()\n",
    "\n",
    "# Funktion: Plot anzeigen\n",
    "def plot_selected(b):\n",
    "    plot_output.clear_output()\n",
    "    with plot_output:\n",
    "        if not checkbox_list.value:\n",
    "            print(\"Bitte mindestens ein Land auswählen.\")\n",
    "            return\n",
    "        start = time.time()\n",
    "        data = df[df[\"Country Name\"].isin(checkbox_list.value)]\n",
    "        fig = px.line(data, x=\"Year\", y=\"Count\", color=\"Country Name\",\n",
    "                      title=f\"Bevölkerungsvergleich: {', '.join(checkbox_list.value)}\")\n",
    "        fig.show()\n",
    "        print(f\"Renderzeit: {round(time.time() - start, 2)} s\")\n",
    "\n",
    "# Buttons verknüpfen\n",
    "add_button.on_click(add_country)\n",
    "remove_button.on_click(remove_selected)\n",
    "clear_button.on_click(clear_selection)\n",
    "plot_button.on_click(plot_selected)\n",
    "\n",
    "# Initial anzeigen\n",
    "update_checkboxes()\n",
    "display(widgets.HBox([dropdown, add_button, remove_button, clear_button]))\n",
    "display(checkbox_output)\n",
    "display(plot_button)\n",
    "display(plot_output)\n"
   ]
  },
  {
   "cell_type": "code",
   "execution_count": null,
   "id": "538807ec",
   "metadata": {},
   "outputs": [],
   "source": []
  }
 ],
 "metadata": {
  "kernelspec": {
   "display_name": "Python 3 (ipykernel)",
   "language": "python",
   "name": "python3"
  },
  "language_info": {
   "codemirror_mode": {
    "name": "ipython",
    "version": 3
   },
   "file_extension": ".py",
   "mimetype": "text/x-python",
   "name": "python",
   "nbconvert_exporter": "python",
   "pygments_lexer": "ipython3",
   "version": "3.11.11"
  }
 },
 "nbformat": 4,
 "nbformat_minor": 5
}
